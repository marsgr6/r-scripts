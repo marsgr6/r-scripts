{
 "cells": [
  {
   "cell_type": "code",
   "execution_count": 1,
   "metadata": {
    "cell_id": "f3f813ceb24c4cda929fe88835c8e408",
    "deepnote_cell_type": "code",
    "deepnote_to_be_reexecuted": false,
    "execution_millis": 1608,
    "execution_start": 1683766454819,
    "source_hash": null,
    "tags": []
   },
   "outputs": [
    {
     "data": {
      "application/vnd.jupyter.widget-view+json": {
       "model_id": "54029a6fdc9a4182b90c38d2503824ee",
       "version_major": 2,
       "version_minor": 0
      },
      "text/plain": [
       "interactive(children=(Dropdown(description='N_h', options=(2, 10, 20, 30, 40, 50, 100, 500), value=2), Dropdow…"
      ]
     },
     "metadata": {},
     "output_type": "display_data"
    }
   ],
   "source": [
    "import numpy as np\n",
    "import matplotlib.pyplot as plt\n",
    "import seaborn as sns\n",
    "from sklearn.metrics import mean_squared_error\n",
    "import ipywidgets as widgets\n",
    "import ipywidgets\n",
    "import warnings\n",
    "warnings.filterwarnings('ignore')\n",
    "\n",
    "# Import linear regression model\n",
    "from sklearn.linear_model import LinearRegression\n",
    "# Min max scaler\n",
    "from sklearn.preprocessing import MinMaxScaler\n",
    "\n",
    "\n",
    "def mlp(r_i, r_d, N_i, N_h, N_o, training_steps=5000, lr=0.7, batch_size=1):\n",
    "\n",
    "    # Initialize randomly the weights\n",
    "    # Hidden layer\n",
    "    w_h = np.random.rand(N_h+1,N_i) - 0.5\n",
    "    # Output layer\n",
    "    w_o=np.random.rand(N_o,N_h+1) - 0.5\n",
    "\n",
    "    mse = []\n",
    "\n",
    "    for ti in range(training_steps):\n",
    "        # Select training pattern randomly\n",
    "        #i = np.floor(4*np.random.rand()).astype('int')\n",
    "        for bi in range(batch_size):\n",
    "            # Feed-forward the input to hidden layer\n",
    "            i = np.floor(np.shape(r_i)[1]*np.random.rand()).astype('int')\n",
    "            r_h = 1 / (1 + np.exp(-w_h*r_i[:,i]))\n",
    "            r_h[-1] = 1  # Bias from hidden to output layer\n",
    "            #r_h = np.concatenate((r_h, np.ones((1,1))), axis=0)\n",
    "            # Feed-forward the input to the output layer\n",
    "            r_o = 1 / (1 + np.exp(-w_o*r_h))\n",
    "            # Calculate the network error\n",
    "            d_o = np.multiply(np.multiply(r_o, 1-r_o), r_d[:,i] - r_o)\n",
    "            # Calculate the responsability of the hidden network in the error\n",
    "            d_h = np.multiply(np.multiply(r_h, (1-r_h)), (w_o.T*d_o))\n",
    "            # Update weights\n",
    "            w_o = w_o + lr*(r_h*d_o.T).T\n",
    "            w_h = w_h + lr*(r_i[:,i]*d_h.T).T\n",
    "            \n",
    "        # Test all patterns\n",
    "        #r_o_test = 1 / (1 + np.exp(-w_o*(1/(1+np.exp(-w_h*r_i)))))\n",
    "        rht = 1 / (1 + np.exp(-w_h*r_i))\n",
    "        rht[-1] = 1\n",
    "        r_o_test = 1 / (1 + np.exp(-w_o*rht))\n",
    "        mse += [mean_squared_error(np.array(r_d), np.array(r_o_test))]\n",
    "        \n",
    "    return mse, r_o_test, w_h, w_o\n",
    "\n",
    "def mlp_predict(r_i, w_h, w_o):\n",
    "    # Test all patterns\n",
    "    #r_o_test = 1 / (1 + np.exp(-w_o*(1/(1+np.exp(-w_h*r_i)))))\n",
    "    rht = 1 / (1 + np.exp(-w_h*r_i))\n",
    "    rht[-1] = 1\n",
    "    r_o_test = 1 / (1 + np.exp(-w_o*rht))\n",
    "    return r_o_test\n",
    "\n",
    "x = np.array([63, 64, 66, 69, 69, 71, 71, 72, 73, 75])\n",
    "\n",
    "y = np.array([127, 121, 142, 157, 162, 156, 169, 165, 181, 208])\n",
    "\n",
    "@ipywidgets.interact\n",
    "def plot(N_h = [2, 10, 20, 30, 40, 50, 100, 500],\n",
    "         epochs=[1000, 5000, 10000],\n",
    "         cut=['(0,1)', '(0.05,0.95)', '(0.1,0.9)']\n",
    "        ):\n",
    "    feature_ranges = {'(0,1)': (0,1), '(0.05,0.95)': (0.05,0.95), \n",
    "                      '(0.1,0.9)': (0.1,0.9)}\n",
    "    xs = (x - x.min()) / (x.max() - x.min())  # min max scale the x vector\n",
    "    # The ones are the bias \n",
    "    X_train = np.concatenate((xs.reshape(-1,1), np.ones((len(x),1))), axis=1)  # This is the input scaled\n",
    "    x_in = np.matrix(X_train.transpose())  # X train\n",
    "    scaler = MinMaxScaler(feature_range=feature_ranges[cut])  # min max scale y\n",
    "    scaler.fit(y.reshape(-1, 1))  # fit scaler\n",
    "    x_out = np.matrix(scaler.transform(y.reshape(-1, 1)).T)  # shape need for calling mlp\n",
    "    \n",
    "    # The output layer size is 1\n",
    "    N_i = 2; N_o = 1 \n",
    "\n",
    "    # Fit the model\n",
    "    result = mlp(x_in, x_out, N_i, N_h, N_o, training_steps=epochs, lr=0.8, batch_size=10)\n",
    "    \n",
    "    # Build a decision curve between 50 and 100 for X\n",
    "    x_test = np.linspace(50, 100)\n",
    "    x_test_scaled = (x_test - x.min()) / (x.max() - x.min())  # scale input for decision curve\n",
    "    x_i_test = np.concatenate((x_test_scaled.reshape(-1,1), np.ones((len(x_test_scaled),1))), axis=1)\n",
    "    y_test = mlp_predict(x_i_test.transpose(), result[2], result[3])  # call your model\n",
    "    \n",
    "    # trasform output to original scale\n",
    "    a, b = y.min(), y.max()  \n",
    "    y_orig_scale = np.array(y_test).flatten()*(b-a) + a\n",
    "    \n",
    "    y_mlp = np.array(result[1]).flatten()  # this is y_output for X_train\n",
    "    y_mlp = y_mlp*(b-a) + a  # transform to original scale\n",
    "    \n",
    "    # Instance model\n",
    "    lin_reg = LinearRegression()\n",
    "    # Fit model (train)\n",
    "    lin_reg.fit(x.reshape(-1,1),y)  # our lineal model (base model)\n",
    "    y_lin_reg = lin_reg.coef_*x + lin_reg.intercept_\n",
    "    y_lr_test = lin_reg.coef_*x_test + lin_reg.intercept_  # test unseen data\n",
    "\n",
    "    plt.figure(figsize=(12,6))\n",
    "    plt.subplot(1,2,1)\n",
    "    plt.scatter(x, y)\n",
    "    plt.plot(x_test, y_orig_scale, '--g', label='MLP')\n",
    "    plt.plot(x_test, y_lr_test, ':r', label='Curve fit')\n",
    "    plt.xlim(x.min()-0.1, x.max()+0.1)\n",
    "    plt.legend()\n",
    "    plt.subplot(1,2,2)\n",
    "    plt.scatter(x, y)\n",
    "    plt.plot(x_test, y_orig_scale, '--g', label='MLP')\n",
    "    plt.plot(x_test, y_lr_test, ':r', label='Curve fit')\n",
    "    plt.legend()\n",
    "    print(\"MSE (linreg):\", mean_squared_error(y, y_lin_reg))\n",
    "    print(\"MSE (MLP):\", mean_squared_error(y, y_mlp))"
   ]
  },
  {
   "cell_type": "code",
   "execution_count": 15,
   "metadata": {},
   "outputs": [
    {
     "data": {
      "application/vnd.jupyter.widget-view+json": {
       "model_id": "1669fe0c32a34b4f9a75e68b0f69b33b",
       "version_major": 2,
       "version_minor": 0
      },
      "text/plain": [
       "interactive(children=(Dropdown(description='N_h', options=(10, 50, 100, 500, 1000), value=10), Checkbox(value=…"
      ]
     },
     "metadata": {},
     "output_type": "display_data"
    }
   ],
   "source": [
    "from sklearn.neural_network import MLPRegressor\n",
    "\n",
    "@ipywidgets.interact\n",
    "def plot(N_h = [10, 50, 100, 500, 1000],\n",
    "         zoom=False,\n",
    "        ):\n",
    "    mlpreg = MLPRegressor(activation='relu',max_iter=10000,hidden_layer_sizes=(N_h,))\n",
    "    x_scaled = (x - x.min()) / (x.max() - x.min())\n",
    "    mlpreg.fit(x_scaled.reshape(-1,1),y)\n",
    "    x_test = np.linspace(50, 100)\n",
    "    x_test_scaled = (x_test - x.min()) / (x.max() - x.min())\n",
    "    y_mlp = mlpreg.predict(x_test_scaled.reshape(-1, 1))\n",
    "    plt.scatter(x, y, label='Data')\n",
    "    plt.plot(x_test, y_mlp, '--r', label='MLP')\n",
    "    # Instance model\n",
    "    lin_reg = LinearRegression()\n",
    "    # Fit model (train)\n",
    "    lin_reg.fit(x.reshape(-1,1),y)  # our lineal model (base model)\n",
    "    y_lr_test = lin_reg.coef_*x_test + lin_reg.intercept_\n",
    "    plt.plot(x_test, y_lr_test, ':g', label='LR')\n",
    "    l=plt.legend()\n",
    "    if zoom:\n",
    "        plt.xlim(x.min(), x.max())"
   ]
  },
  {
   "cell_type": "markdown",
   "metadata": {},
   "source": [
    "### Step by step implementation\n",
    "\n",
    "Find a function $f$, such that it maps an input $X$ to an output $y$:\n",
    "\n",
    "$$y=f(X)$$\n",
    "\n",
    "Where $y \\in \\mathbb{R}$ is a continuous variable.\n",
    "\n",
    "$f:=MLP\\_predict(X_{in}, W_l)$, $f:= \\sum_i a_i x_i + b$\n",
    "\n",
    "- Summary of the process:\n",
    "  - Min max scale input (**x_in**)  and output (**x_out**):\n",
    "```Python\n",
    "xs = (x - x.min()) / (x.max() - x.min())  # min max scale the x vector\n",
    "X_train = np.concatenate((xs.reshape(-1,1), np.ones((len(x),1))), axis=1)  # This is the input scaled\n",
    "x_in = np.matrix(X_train.transpose())  # X train\n",
    "scaler = MinMaxScaler(feature_range=feature_ranges[cut])  # min max scale y\n",
    "scaler.fit(y.reshape(-1, 1))  # fit scaler\n",
    "x_out = np.matrix(scaler.transform(y.reshape(-1, 1)).T)  # shape need for calling mlp\n",
    "```\n",
    "\n",
    "  - Min max scaler\n",
    "\n",
    "<img src=\"https://i.stack.imgur.com/EuitP.png\" alt=\"minmax\" style=\"width:20%\">\n",
    "\n",
    "- Neural network architecture:\n",
    "\n",
    "  - For our particular problem, a simple regression, $y=f(X)$, where $X$ is univariate.\n",
    "    - The input layer is composed of a single vector $X_1$\n",
    "  - The 1 vector corresponds to the bias. \n",
    "  - The output is of size 1, just one neuron (for the regression problem). \n",
    "    - Note that the activiation function in our MLP is logistic. So we scale the output between 0 and 1.\n",
    "  \n",
    "<img src=\"https://raw.githubusercontent.com/marsgr6/r-scripts/master/imgs/mlp_reg.jpeg\" alt=\"minmax\" style=\"width:40%\">\n",
    "\n",
    "- Output and test of the model\n",
    "  - Check in the code that the model is tested outside the limits of the training set. \n",
    "  - This the decision curve of the model.\n",
    "    - Not good outside the limits (answer why). \n",
    "    - Test the number of hidden neurons and identify an overfitted model.\n",
    "  - The model is compared with a base linear model. "
   ]
  },
  {
   "cell_type": "code",
   "execution_count": 9,
   "metadata": {
    "cell_id": "48d68cce33734738abad1ed034ccc913",
    "deepnote_cell_type": "code",
    "deepnote_to_be_reexecuted": false,
    "execution_millis": 3182,
    "execution_start": 1683766456474,
    "source_hash": null,
    "tags": []
   },
   "outputs": [
    {
     "data": {
      "text/plain": [
       "<matplotlib.legend.Legend at 0x7fede6bbdf70>"
      ]
     },
     "execution_count": 9,
     "metadata": {},
     "output_type": "execute_result"
    },
    {
     "data": {
      "image/png": "[encoded data removed]",
      "text/plain": [
       "<Figure size 640x480 with 1 Axes>"
      ]
     },
     "metadata": {},
     "output_type": "display_data"
    }
   ],
   "source": [
    "import pandas as pd\n",
    "x = [63, 64, 66, 69, 69, 71, 71, 72, 73, 75]\n",
    "x = np.array(x)\n",
    "\n",
    "y = [127, 121, 142, 157, 162, 156, 169, 165, 181, 208]\n",
    "y = np.array(y)\n",
    "\n",
    "data = pd.DataFrame({'xi': x, 'yi': y})\n",
    "\n",
    "data.plot.scatter('xi', 'yi', label=\"Data\")\n",
    "\n",
    "# Instance model\n",
    "lin_reg = LinearRegression()\n",
    "# Fit model (train)\n",
    "lin_reg.fit(x.reshape(-1,1),y)\n",
    "\n",
    "y_lin_reg = lin_reg.coef_*x + lin_reg.intercept_\n",
    "plt.plot(x, y_lin_reg, 'g', label='Curve fit')\n",
    "plt.legend()"
   ]
  },
  {
   "cell_type": "code",
   "execution_count": 26,
   "metadata": {},
   "outputs": [
    {
     "data": {
      "text/plain": [
       "array([[63.,  1.],\n",
       "       [64.,  1.],\n",
       "       [66.,  1.],\n",
       "       [69.,  1.],\n",
       "       [69.,  1.],\n",
       "       [71.,  1.],\n",
       "       [71.,  1.],\n",
       "       [72.,  1.],\n",
       "       [73.,  1.],\n",
       "       [75.,  1.]])"
      ]
     },
     "execution_count": 26,
     "metadata": {},
     "output_type": "execute_result"
    }
   ],
   "source": [
    "X_train = np.concatenate((x.reshape(-1,1), np.ones((len(x),1))), axis=1)  # The ones are the bias \n",
    "X_train"
   ]
  },
  {
   "cell_type": "code",
   "execution_count": 39,
   "metadata": {
    "cell_id": "cd98dfd4a20748cab694ce855349ef27",
    "deepnote_cell_type": "code",
    "deepnote_to_be_reexecuted": false,
    "execution_millis": 3,
    "execution_start": 1683766462948,
    "source_hash": null,
    "tags": []
   },
   "outputs": [
    {
     "data": {
      "text/plain": [
       "(array([[0.        , 1.        ],\n",
       "        [0.08333333, 1.        ],\n",
       "        [0.25      , 1.        ],\n",
       "        [0.5       , 1.        ],\n",
       "        [0.5       , 1.        ],\n",
       "        [0.66666667, 1.        ],\n",
       "        [0.66666667, 1.        ],\n",
       "        [0.75      , 1.        ],\n",
       "        [0.83333333, 1.        ],\n",
       "        [1.        , 1.        ]]),\n",
       " matrix([[0.06896552, 0.        , 0.24137931, 0.4137931 , 0.47126437,\n",
       "          0.40229885, 0.55172414, 0.50574713, 0.68965517, 1.        ]]))"
      ]
     },
     "execution_count": 39,
     "metadata": {},
     "output_type": "execute_result"
    }
   ],
   "source": [
    "xs = (x - x.min()) / (x.max() - x.min())\n",
    "X_train = np.concatenate((xs.reshape(-1,1), np.ones((len(x),1))), axis=1)  # This is the input scaled\n",
    "r_i = np.matrix(X_train.transpose())  # X\n",
    "r_d = np.matrix(y.transpose())  # y\n",
    "scaler = MinMaxScaler()\n",
    "scaler.fit(y.reshape(-1, 1))\n",
    "r_d = np.matrix(scaler.transform(y.reshape(-1, 1)).T)\n",
    "X_train, r_d"
   ]
  },
  {
   "cell_type": "markdown",
   "metadata": {
    "cell_id": "7c3dd45d5771421191936283545b4389",
    "deepnote_cell_type": "markdown",
    "tags": []
   },
   "source": [
    "### Scale the data\n",
    "\n",
    "- Min max scaler\n",
    "\n",
    "<img src=\"https://i.stack.imgur.com/EuitP.png\" alt=\"minmax\" style=\"width:30%\">"
   ]
  },
  {
   "cell_type": "code",
   "execution_count": 67,
   "metadata": {
    "cell_id": "6422d461f12a4aa4b098f54901fa9afc",
    "deepnote_cell_type": "code",
    "deepnote_to_be_reexecuted": false,
    "execution_millis": 9270,
    "execution_start": 1683766462950,
    "source_hash": null,
    "tags": []
   },
   "outputs": [
    {
     "data": {
      "text/plain": [
       "[<matplotlib.lines.Line2D at 0x7fedd6622820>]"
      ]
     },
     "execution_count": 67,
     "metadata": {},
     "output_type": "execute_result"
    },
    {
     "data": {
      "image/png": "[encoded data removed]",
      "text/plain": [
       "<Figure size 800x400 with 2 Axes>"
      ]
     },
     "metadata": {},
     "output_type": "display_data"
    }
   ],
   "source": [
    "N_i = 2; N_h = 10; N_o = 1 \n",
    "\n",
    "result = mlp(r_i, r_d, N_i, N_h, N_o, training_steps=10000, lr=0.8, batch_size=10)\n",
    "plt.figure(figsize=(8,4))\n",
    "plt.subplot(1,2,1)\n",
    "plt.plot(result[0])\n",
    "plt.subplot(1,2,2)\n",
    "plt.plot(xs, np.array(result[1]).flatten())"
   ]
  },
  {
   "cell_type": "code",
   "execution_count": 68,
   "metadata": {
    "cell_id": "96f7f9e0ff194c18b233e31cc22cd91e",
    "deepnote_cell_type": "code",
    "deepnote_to_be_reexecuted": false,
    "execution_millis": 1,
    "execution_start": 1683766902644,
    "source_hash": null,
    "tags": []
   },
   "outputs": [],
   "source": [
    "def mlp_predict(r_i, w_h, w_o):\n",
    "    # Test all patterns\n",
    "    #r_o_test = 1 / (1 + np.exp(-w_o*(1/(1+np.exp(-w_h*r_i)))))\n",
    "    rht = 1 / (1 + np.exp(-w_h*r_i))\n",
    "    rht[-1] = 1\n",
    "    r_o_test = 1 / (1 + np.exp(-w_o*rht))\n",
    "    return r_o_test"
   ]
  },
  {
   "cell_type": "code",
   "execution_count": 77,
   "metadata": {},
   "outputs": [],
   "source": [
    "x_test = np.linspace(50, 100)\n",
    "x_test_scaled = (x_test - x.min()) / (x.max() - x.min())\n",
    "r_i_test = np.concatenate((x_test_scaled.reshape(-1,1), np.ones((len(x_test_scaled),1))), axis=1)\n",
    "y_test = mlp_predict(r_i_test.transpose(), result[2], result[3])"
   ]
  },
  {
   "cell_type": "code",
   "execution_count": 82,
   "metadata": {},
   "outputs": [],
   "source": [
    "a, b = y.min(), y.max()\n",
    "y_orig_scale = np.array(y_test).flatten()*(b-a) + a"
   ]
  },
  {
   "cell_type": "code",
   "execution_count": 94,
   "metadata": {},
   "outputs": [
    {
     "data": {
      "text/plain": [
       "array([125.93755274, 129.55376466, 139.68826183, 154.23767472,\n",
       "       154.23767472, 163.4323402 , 163.4323402 , 169.79942307,\n",
       "       178.50674123, 198.65157859])"
      ]
     },
     "execution_count": 94,
     "metadata": {},
     "output_type": "execute_result"
    }
   ],
   "source": [
    "y_mlp = np.array(result[1]).flatten()\n",
    "y_mlp = y_mlp*(b-a) + a"
   ]
  },
  {
   "cell_type": "code",
   "execution_count": 101,
   "metadata": {},
   "outputs": [
    {
     "name": "stdout",
     "output_type": "stream",
     "text": [
      "MSE (linreg): 59.738595220854634\n",
      "MSE (MLP): 35.04062525627255\n"
     ]
    },
    {
     "data": {
      "image/png": "[encoded data removed]",
      "text/plain": [
       "<Figure size 640x480 with 1 Axes>"
      ]
     },
     "metadata": {},
     "output_type": "display_data"
    }
   ],
   "source": [
    "data.plot.scatter('xi', 'yi')\n",
    "plt.plot(x_test, y_orig_scale, '--g', label='MLP')\n",
    "plt.plot(x, y_lin_reg, ':r', label='Curve fit')\n",
    "plt.xlim(x.min()-0.1, x.max()+0.1)\n",
    "plt.legend()\n",
    "print(\"MSE (linreg):\", mean_squared_error(y, y_lin_reg))\n",
    "print(\"MSE (MLP):\", mean_squared_error(y, y_mlp))"
   ]
  },
  {
   "cell_type": "markdown",
   "metadata": {
    "cell_id": "78ffaf93f6f343f9a73028050ef2a8c4",
    "deepnote_cell_type": "markdown",
    "tags": []
   },
   "source": [
    "Research: \n",
    "- Wich metrics are used to evaluate a regression model: https://machinelearningmastery.com/regression-metrics-for-machine-learning/\n",
    "- https://medium.com/mini-distill/effect-of-batch-size-on-training-dynamics-21c14f7a716e"
   ]
  },
  {
   "cell_type": "markdown",
   "metadata": {
    "cell_id": "c1323eb9156c4374b2282574f746a0a2",
    "deepnote_cell_type": "markdown"
   },
   "source": [
    "Sources: \n",
    "  - https://www.kaggle.com/code/androbomb/simple-nn-with-python-multi-layer-perceptron\n",
    "  - https://web.cs.dal.ca/~tt/fundamentals/programs/Octave/Chapter6/\n",
    "  - https://www.mathworks.com/academia/books/fundamentals-of-computational-neuroscience-trappenberg.html"
   ]
  },
  {
   "cell_type": "markdown",
   "metadata": {
    "created_in_deepnote_cell": true,
    "deepnote_cell_type": "markdown"
   },
   "source": [
    "<a style='text-decoration:none;line-height:16px;display:flex;color:#5B5B62;padding:10px;justify-content:end;' href='https://deepnote.com?utm_source=created-in-deepnote-cell&projectId=cce3455d-da08-4c10-a6fe-39f2a30c6a51' target=\"_blank\">\n",
    "<img alt='Created in deepnote.com' style='display:inline;max-height:16px;margin:0px;margin-right:7.5px;' src='data:image/svg+xml;base64,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' > </img>\n",
    "Created in <span style='font-weight:600;margin-left:4px;'>Deepnote</span></a>"
   ]
  }
 ],
 "metadata": {
  "deepnote": {},
  "deepnote_execution_queue": [],
  "deepnote_notebook_id": "e674ae77e40d4be888b01e2b80413fe6",
  "kernelspec": {
   "display_name": "Python 3 (ipykernel)",
   "language": "python",
   "name": "python3"
  },
  "language_info": {
   "codemirror_mode": {
    "name": "ipython",
    "version": 3
   },
   "file_extension": ".py",
   "mimetype": "text/x-python",
   "name": "python",
   "nbconvert_exporter": "python",
   "pygments_lexer": "ipython3",
   "version": "3.8.16"
  }
 },
 "nbformat": 4,
 "nbformat_minor": 1
}
