{
 "cells": [
  {
   "cell_type": "code",
   "metadata": {
    "tags": [],
    "cell_id": "00000-1e10b49d-8184-4b0f-98de-ecbe7cdd3387",
    "deepnote_to_be_reexecuted": false,
    "source_hash": "b86b455f",
    "execution_start": 1634609790093,
    "execution_millis": 984,
    "deepnote_cell_type": "code"
   },
   "source": "import numpy as np\nimport matplotlib.pyplot as plt\nfrom scipy.stats import bernoulli\nimport seaborn as sns\nimport networkx as nx\nfrom scipy.stats import uniform\nfrom PIL import Image\n\ndef draw_egde(a, b, hw=0.0, color=\"green\"):\n    # Connect points a and b with an arrow -->\n    plt.arrow(a[0], a[1], b[0] - a[0], b[1] - a[1],\n    head_width=hw, length_includes_head=True, color=color\n    )\n\ndef make_ring(N, K):\n    # N: nodes, K: degree, avg connections per node\n    # N: nodes \n    # K: neighbors, K//2 at left, K//2 at right\n\n    # Make ring connectivity\n    adj_list = []\n    for ni in range(N):\n        adj_list += [[]]\n        for ki in range(1,K//2+1):\n            adj_list[ni] += [ni-ki, ni+ki]\n\n    adj_list = np.array([np.array(ai) for ai in adj_list])\n\n    # Correct borders to create closed condtion\n    pos = np.where(adj_list<0)\n    adj_list[pos] = adj_list[pos] + N\n    pos = np.where(adj_list>=N)\n    adj_list[pos] = adj_list[pos] - N\n\n    return adj_list\n\ndef plot_circular_layout(adj_list, hw=0.0, rewired_arcs=None):\n    t = np.linspace(0, 2*np.pi, N, endpoint=False)  # angle in radians\n    # Convert from polar to cartesian \n    x = np.cos(t)\n    y = np.sin(t)\n\n    plt.figure(figsize=(8,8))\n    plt.plot(x, y, '.', ms=30)\n    #a = plt.xlim(-0.1, 2.1)\n    #a = plt.ylim(-0.1, 2.1)\n    a = plt.axis('off')\n    for i in range(N):\n        plt.text(x[i]-0.015, y[i]-0.015, i, weight='bold', c='w')\n    # a: node of origin, b: destination node. a --> b\n    e = [draw_egde([x[a], y[a]], [x[b], y[b]], hw) for a in adj_list for b in adj_list[a]]\n\n    if rewired_arcs is not None:\n        e = [draw_egde([x[a], y[a]], [x[b], y[b]], hw, 'red') \n            for a in rewired_arcs for b in rewired_arcs[a]]\n\ndef rewire_ring(C, omega):\n    # C: adjacecy list, omega: K_r / K, fraction of random shortcuts\n    # loop over nodes\n    all_nodes = set(range(len(C)))\n    for i, ci in enumerate(C):\n        # loop over neighborhood\n        for j, cj in enumerate(ci):\n            # rewire if U(0,1) < omega\n            if np.random.random() < omega:\n                available_nodes = list(all_nodes - (set([i] + list(ci)) - set([cj])))\n                C[i, j] = np.random.choice(available_nodes)\n\ndef make_random(N, K):\n    # erdos renyi model\n    C = []\n    for i in range(N):\n        C += np.where(np.insert(bernoulli.rvs(K/N, size=(N-1)), i, 0))\n    return np.array(C, dtype='object')",
   "outputs": [],
   "execution_count": null
  },
  {
   "cell_type": "code",
   "source": "P = 1\nN = 10\na = 0.5  # pattern activity\nxi = bernoulli.rvs(p=a, size=(P,N))*2-1\nxi, xi.mean(), xi.var()\n",
   "metadata": {
    "tags": [],
    "cell_id": "00001-71bf3407-69a8-45b4-a3e8-907235b1f824",
    "deepnote_to_be_reexecuted": true,
    "source_hash": "b3eb5305",
    "execution_start": 1634609692089,
    "execution_millis": 8,
    "deepnote_cell_type": "code"
   },
   "outputs": [
    {
     "output_type": "execute_result",
     "execution_count": 2,
     "data": {
      "text/plain": "(array([[ 1,  1,  1,  1, -1, -1,  1, -1,  1,  1]]), 0.4, 0.8399999999999999)"
     },
     "metadata": {}
    }
   ],
   "execution_count": null
  },
  {
   "cell_type": "code",
   "source": "a = 0.1  # pattern activity\nxi = bernoulli.rvs(p=a, size=(P,N))\nxi, xi.mean()",
   "metadata": {
    "tags": [],
    "cell_id": "00002-ee3c930d-faec-498f-8977-1ed375f49284",
    "deepnote_to_be_reexecuted": true,
    "source_hash": "186dd08f",
    "execution_start": 1634609692103,
    "execution_millis": 49,
    "deepnote_cell_type": "code"
   },
   "outputs": [
    {
     "output_type": "execute_result",
     "execution_count": 3,
     "data": {
      "text/plain": "(array([[0, 0, 0, 1, 1, 0, 0, 0, 0, 0]]), 0.2)"
     },
     "metadata": {}
    }
   ],
   "execution_count": null
  },
  {
   "cell_type": "code",
   "source": "normalized_xi = (xi - xi.mean()) / xi.std()\nnormalized_xi.mean(), normalized_xi.std()",
   "metadata": {
    "tags": [],
    "cell_id": "00003-08beb690-932a-4f0f-a4c0-ab32cb31bf5f",
    "deepnote_to_be_reexecuted": true,
    "source_hash": "36c22761",
    "execution_start": 1634609692151,
    "execution_millis": 2,
    "deepnote_cell_type": "code"
   },
   "outputs": [
    {
     "output_type": "execute_result",
     "execution_count": 4,
     "data": {
      "text/plain": "(-1.1102230246251566e-17, 0.9999999999999999)"
     },
     "metadata": {}
    }
   ],
   "execution_count": null
  },
  {
   "cell_type": "markdown",
   "source": "### ANN\n\n0. Generate/read/load a set of patterns P\n1. Generate network structure, connectivity C, and W=0.\n2. **Learning stage:** Learn the pattern set (Hebbian learning)\n    - Update Wij += Wij. Commulative.\n3. **Retrieval stage**\n  3.1 Start network in a learned pattern o close to it. \n  - Noise\n  - Fragment\n  3.2 Evolve the network to a final state\n  3.3 Check the quality of retrieval\n\n### * Biased case\n- Normalize the patterns\n- Dynamic **retrieval neural threshold** to keep the **activity** of the network\n  - $\\Theta(h - \\theta)$, $h$ is the normalized neural input, $\\theta$ is the **neural threshold**.",
   "metadata": {
    "tags": [],
    "cell_id": "00005-650d4f67-2ed7-428e-92b1-c47d3baafabf",
    "deepnote_cell_type": "markdown"
   }
  },
  {
   "cell_type": "code",
   "source": "from matplotlib import colors\n\ncmap = colors.ListedColormap(['black', 'white'])\n\nN = 128*128  # size of the pattern gives the size of the neuron\nK = 100  # mean connectivity, number of stored patterns depends on the connection density\nomega = 0\n#C = make_ring(N, K)  # connectivity matrix\nC = make_random(N, K)\n#rewire_ring(C, omega)  # rewire SW\n\nW = np.array([np.zeros(len(ci)) for ci in C], dtype='object')  # start W as 0 matrix\n\n# Generate a set of random patterns of activity a\na = 0.1  # pattern/network activity (unbiased) a \\in (0,1)\nP = 9\nX = bernoulli.rvs(p=a, size=(P,N))\n\nimg = Image.open('../lenna.png')\nimg = img.resize((128,128), Image.ANTIALIAS)\nimggs = img.convert('L')\nth_value = 185\nimgbw = np.asarray(imggs)\nimgbw = (imgbw > th_value)*1\nlenna = imgbw.reshape(1, 128*128)\nX = np.concatenate((X, lenna)) # add pattern image to pattern set X\nplt.matshow(lenna.reshape(128,128), cmap=\"gray\"); plt.axis('off')\nlenna.mean(), X.mean(), np.shape(X)",
   "metadata": {
    "tags": [],
    "cell_id": "00005-bed58095-1537-42d3-90de-24321c31911e",
    "deepnote_to_be_reexecuted": false,
    "source_hash": "15153ed8",
    "execution_start": 1634609800659,
    "execution_millis": 11887,
    "deepnote_cell_type": "code"
   },
   "outputs": [
    {
     "output_type": "execute_result",
     "execution_count": 2,
     "data": {
      "text/plain": "(0.1044921875, 0.10009765625, (10, 16384))"
     },
     "metadata": {}
    },
    {
     "data": {
      "text/plain": "<Figure size 288x288 with 1 Axes>",
      "image/png": "[encoded data removed]"
     },
     "metadata": {
      "needs_background": "light",
      "image/png": {
       "width": 237,
       "height": 237
      }
     },
     "output_type": "display_data"
    }
   ],
   "execution_count": null
  },
  {
   "cell_type": "code",
   "source": "# Learning, update weights\n# for each pattern\n\n# normalized data set\nnormalized_X = np.array([(xi - xi.mean()) / xi.std() for xi in X])\n\nfor xi in normalized_X:\n    # for each node i in the network\n    # update weights with its neighborhood\n    for i in range(N):\n        # xi[C[i]] state of the neighborhood\n        # xi[i] state od node i\n        W[i] += xi[C[i]] * xi[i]",
   "metadata": {
    "tags": [],
    "cell_id": "00006-a6fe0379-a371-450f-b8e3-e6070cef92c9",
    "deepnote_to_be_reexecuted": false,
    "source_hash": "afae5629",
    "execution_start": 1634609816682,
    "execution_millis": 942,
    "deepnote_cell_type": "code"
   },
   "outputs": [],
   "execution_count": null
  },
  {
   "cell_type": "code",
   "source": "def normalize_vector(vector):\n    # normalize neural input h\n    return (vector - vector.mean()) / vector.std()\n\ndef act_threshold(neighbors, th):\n    threshold = th\n    if neighbors.mean() > 0.5:\n        threshold = -th\n    return threshold",
   "metadata": {
    "tags": [],
    "cell_id": "00007-092dda5b-da03-46ca-abfb-6105bbbbba91",
    "deepnote_to_be_reexecuted": false,
    "source_hash": "e966c7a8",
    "execution_start": 1634609820251,
    "execution_millis": 1,
    "deepnote_cell_type": "code"
   },
   "outputs": [],
   "execution_count": null
  },
  {
   "cell_type": "code",
   "source": "M = []\ntime = 100\nth = 1.3333\n\n# Non normalized data set X\nfor xi in X:\n    xit = np.copy(xi)\n    m = [(normalize_vector(xi) * normalize_vector(xit)).mean()]\n    \n    for ti in range(time):\n        xit = np.array([(normalize_vector(xit[C[ni]]) * W[ni]).mean() - act_threshold(xit[C[ni]], th) >= 0 \n                if xit[C[ni]].var() else xit[ni] for ni in range(N)\n            ])\n        m += [(normalize_vector(xi) * normalize_vector(xit)).mean()]\n        if m[-1] == m[-2]:\n            break\n    \n    M += [m[-1]]\nM",
   "metadata": {
    "tags": [],
    "cell_id": "00008-d826095b-1089-439f-98c6-d9ef3d4b6999",
    "deepnote_to_be_reexecuted": false,
    "source_hash": "f2fe53af",
    "execution_start": 1634609829203,
    "execution_millis": 60883,
    "deepnote_cell_type": "code"
   },
   "outputs": [
    {
     "output_type": "execute_result",
     "execution_count": 5,
     "data": {
      "text/plain": "[0.9973063159629009,\n 0.9973978453835552,\n 0.9966294380126637,\n 0.9937500950954479,\n 0.9986494573683067,\n 0.997893643729607,\n 0.9952946421296416,\n 0.9989727209116739,\n 0.9968879899183098,\n 0.9964184623528951]"
     },
     "metadata": {}
    }
   ],
   "execution_count": null
  },
  {
   "cell_type": "code",
   "source": "noise_level = 0.7\n\nnoisy_lenna = lenna.copy()\n\na = 0.1  # pattern activity\n\nfor i in range(np.shape(noisy_lenna)[1]):\n    if np.random.random() < noise_level:\n        noisy_lenna[0, i] = bernoulli.rvs(a)\n\nplt.matshow(noisy_lenna.reshape((128,128)), cmap=cmap)\na = plt.axis('off')\n\nx = X[-1] \nplt.matshow(x.reshape((128,128)), cmap=cmap)\na = plt.axis('off')\n\nnoisy_lenna.reshape((128,128)), np.shape(noisy_lenna)",
   "metadata": {
    "tags": [],
    "cell_id": "00009-08aec967-441c-45c7-bafe-9535ce3767a7",
    "deepnote_to_be_reexecuted": false,
    "source_hash": "52abd34e",
    "execution_start": 1634609902534,
    "execution_millis": 1069,
    "deepnote_cell_type": "code"
   },
   "outputs": [
    {
     "output_type": "execute_result",
     "execution_count": 6,
     "data": {
      "text/plain": "(array([[0, 0, 0, ..., 0, 1, 0],\n        [0, 0, 0, ..., 0, 0, 0],\n        [0, 0, 0, ..., 0, 0, 0],\n        ...,\n        [1, 0, 0, ..., 0, 0, 0],\n        [0, 0, 0, ..., 0, 0, 0],\n        [0, 0, 0, ..., 0, 0, 0]]),\n (1, 16384))"
     },
     "metadata": {}
    },
    {
     "data": {
      "text/plain": "<Figure size 288x288 with 1 Axes>",
      "image/png": "[encoded data removed]"
     },
     "metadata": {
      "needs_background": "light",
      "image/png": {
       "width": 237,
       "height": 237
      }
     },
     "output_type": "display_data"
    },
    {
     "data": {
      "text/plain": "<Figure size 288x288 with 1 Axes>",
      "image/png": "[encoded data removed]"
     },
     "metadata": {
      "needs_background": "light",
      "image/png": {
       "width": 237,
       "height": 237
      }
     },
     "output_type": "display_data"
    }
   ],
   "execution_count": null
  },
  {
   "cell_type": "code",
   "source": "xi = X[-1]\nxit = noisy_lenna.flatten()  # initial state (noisy lenna)\nm = [(normalize_vector(xi) * normalize_vector(xit)).mean()]\n\nfor ti in range(time):\n    xit = np.array([(normalize_vector(xit[C[ni]]) * W[ni]).mean() - act_threshold(xit[C[ni]], th) >= 0 \n            if xit[C[ni]].var() else xit[ni] for ni in range(N)\n        ])\n    m += [(normalize_vector(xi) * normalize_vector(xit)).mean()]\n    if m[-1] == m[-2]:\n        break\nplt.plot(m)  # plot temporal evolution of the overlap m, quality of retrieval\nplt.xlabel('time steps')\nplt.xlabel('quality of retrieval (m)')",
   "metadata": {
    "tags": [],
    "cell_id": "00010-db53df4d-795d-41eb-9d55-e8486d4affc7",
    "deepnote_to_be_reexecuted": false,
    "source_hash": "5a803dd6",
    "execution_start": 1634609907610,
    "execution_millis": 15108,
    "deepnote_cell_type": "code"
   },
   "outputs": [
    {
     "output_type": "execute_result",
     "execution_count": 7,
     "data": {
      "text/plain": "Text(0.5, 0, 'quality of retrieval (m)')"
     },
     "metadata": {}
    },
    {
     "data": {
      "text/plain": "<Figure size 432x288 with 1 Axes>",
      "image/png": "[encoded data removed]"
     },
     "metadata": {
      "needs_background": "light",
      "image/png": {
       "width": 372,
       "height": 262
      }
     },
     "output_type": "display_data"
    }
   ],
   "execution_count": null
  },
  {
   "cell_type": "code",
   "source": "plt.matshow(xit.reshape((128,128)), cmap=cmap)\na = plt.axis('off')\n\nplt.matshow(noisy_lenna.reshape((128,128)), cmap=cmap)\na = plt.axis('off')\n\nm[-1]",
   "metadata": {
    "tags": [],
    "cell_id": "00011-9db41b9c-f83b-4b6e-84d1-3ed6bc67bee0",
    "deepnote_to_be_reexecuted": false,
    "source_hash": "5c817ded",
    "execution_start": 1634609942719,
    "execution_millis": 418,
    "deepnote_cell_type": "code"
   },
   "outputs": [
    {
     "output_type": "execute_result",
     "execution_count": 9,
     "data": {
      "text/plain": "0.9964184623528951"
     },
     "metadata": {}
    },
    {
     "data": {
      "text/plain": "<Figure size 288x288 with 1 Axes>",
      "image/png": "[encoded data removed]"
     },
     "metadata": {
      "needs_background": "light",
      "image/png": {
       "width": 237,
       "height": 237
      }
     },
     "output_type": "display_data"
    },
    {
     "data": {
      "text/plain": "<Figure size 288x288 with 1 Axes>",
      "image/png": "[encoded data removed]"
     },
     "metadata": {
      "needs_background": "light",
      "image/png": {
       "width": 237,
       "height": 237
      }
     },
     "output_type": "display_data"
    }
   ],
   "execution_count": null
  },
  {
   "cell_type": "code",
   "source": "x = X[-1]  # Learned Lenna is in X, last pattern\n\nxt = np.copy(noisy_lenna.flatten())  # init network in noisy lenna\n        \nm = [np.sum(normalize_vector(x)*normalize_vector(xt))/N]  # initial overlap\n\nfig, ax = plt.subplots(nrows=1, ncols=4, figsize=(16,32))\nploti = 0\n\na_net = []\n\nfor ti in range(100):\n    # network update for t=100\n    a_net += [np.mean(xt)]\n    # update each neuron xt[nxi]\n    xt = np.array([(np.mean(normalize_vector(xt[C[nxi]])*W[nxi]) \n                    - act_threshold(xt[C[nxi]], th) >= 0)  # TH(local_field, threshod)\n                   if np.var(xt[C[nxi]])  # if variance is not zero\n                   else xt[nxi]  # state does not change otherwise\n                   for nxi in range(N)])\n    xt = xt.astype('int')\n    m += [np.sum(normalize_vector(x)*normalize_vector(xt))/N]  # test overlap x and xt (net state)\n    if not (ti % 2):\n        print(np.mean(xt))\n        ax[ploti].imshow(xt.reshape((128,128)), cmap=cmap)\n        ploti += 1\n    if m[-1] == m[-2]:\n        break\nplt.show()\nplt.plot(m)\nplt.show()\nplt.plot(a_net)\nm[-1]",
   "metadata": {
    "tags": [],
    "cell_id": "00012-c332bfc9-2585-4fe0-9645-969832a714f6",
    "deepnote_to_be_reexecuted": false,
    "source_hash": "6b77e476",
    "execution_start": 1634610078629,
    "execution_millis": 25348,
    "deepnote_cell_type": "code"
   },
   "outputs": [
    {
     "name": "stdout",
     "text": "0.021484375\n0.07281494140625\n0.10467529296875\n0.10479736328125\n",
     "output_type": "stream"
    },
    {
     "data": {
      "text/plain": "<Figure size 1152x2304 with 4 Axes>",
      "image/png": "[encoded data removed]"
     },
     "metadata": {
      "needs_background": "light",
      "image/png": {
       "width": 938,
       "height": 228
      }
     },
     "output_type": "display_data"
    },
    {
     "data": {
      "text/plain": "<Figure size 432x288 with 1 Axes>",
      "image/png": "[encoded data removed]"
     },
     "metadata": {
      "needs_background": "light",
      "image/png": {
       "width": 372,
       "height": 248
      }
     },
     "output_type": "display_data"
    },
    {
     "output_type": "execute_result",
     "execution_count": 11,
     "data": {
      "text/plain": "0.9964184623528951"
     },
     "metadata": {}
    },
    {
     "data": {
      "text/plain": "<Figure size 432x288 with 1 Axes>",
      "image/png": "[encoded data removed]"
     },
     "metadata": {
      "needs_background": "light",
      "image/png": {
       "width": 378,
       "height": 248
      }
     },
     "output_type": "display_data"
    }
   ],
   "execution_count": null
  },
  {
   "cell_type": "markdown",
   "source": "### Threshold th\n\n$\\theta(a) = \\frac{(1 - 2*a)} {2 \\sqrt {a * (1 - a)}}$",
   "metadata": {
    "tags": [],
    "cell_id": "00013-c8ed667d-8e73-4a6b-8a13-c0d1f0e67194",
    "deepnote_cell_type": "markdown"
   }
  },
  {
   "cell_type": "code",
   "source": " a = 0.1\n (1 - 2*a) / (2 * np.sqrt(a * (1-a)))",
   "metadata": {
    "tags": [],
    "cell_id": "00013-d4bd7f0d-63fd-4a83-a168-5a94c09148a8",
    "deepnote_to_be_reexecuted": false,
    "source_hash": "45769772",
    "execution_start": 1634610414115,
    "execution_millis": 15,
    "deepnote_cell_type": "code"
   },
   "outputs": [
    {
     "output_type": "execute_result",
     "execution_count": 13,
     "data": {
      "text/plain": "1.3333333333333333"
     },
     "metadata": {}
    }
   ],
   "execution_count": null
  },
  {
   "cell_type": "markdown",
   "source": "",
   "metadata": {
    "tags": [],
    "cell_id": "00014-09251de2-f5eb-4b92-a2c2-94b78b10bcf0",
    "deepnote_cell_type": "markdown"
   }
  },
  {
   "cell_type": "markdown",
   "source": "<a style='text-decoration:none;line-height:16px;display:flex;color:#5B5B62;padding:10px;justify-content:end;' href='https://deepnote.com?utm_source=created-in-deepnote-cell&projectId=cce3455d-da08-4c10-a6fe-39f2a30c6a51' target=\"_blank\">\n<img alt='Created in deepnote.com' style='display:inline;max-height:16px;margin:0px;margin-right:7.5px;' src='data:image/svg+xml;base64,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' > </img>\nCreated in <span style='font-weight:600;margin-left:4px;'>Deepnote</span></a>",
   "metadata": {
    "tags": [],
    "created_in_deepnote_cell": true,
    "deepnote_cell_type": "markdown"
   }
  }
 ],
 "nbformat": 4,
 "nbformat_minor": 2,
 "metadata": {
  "orig_nbformat": 2,
  "deepnote": {
   "is_reactive": false
  },
  "deepnote_notebook_id": "b42a4446-1417-4ef8-b7a7-4877f371d7f1",
  "deepnote_execution_queue": []
 }
}