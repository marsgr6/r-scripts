{
 "cells": [
  {
   "cell_type": "markdown",
   "metadata": {
    "slideshow": {
     "slide_type": "slide"
    }
   },
   "source": [
    "### Paso 1: Descargar repositorio\n",
    "\n",
    "Vaya al repositorio de GitHub: https://github.com/marsgr6/EN-online/tree/main\n",
    "  - Descargue el repositorio, (1) code --> (2) Download zip\n",
    "\n",
    "<img src=\"https://raw.githubusercontent.com/marsgr6/r-scripts/master/imgs/colab_01.png\" alt=\"\" width=\"480\"/>"
   ]
  },
  {
   "cell_type": "markdown",
   "metadata": {
    "slideshow": {
     "slide_type": "slide"
    }
   },
   "source": [
    "### Paso 2: Acceda a su Google Drive\n",
    "\n",
    "Use su cuenta de gmail para loguearse en google drive: https://www.google.com/intl/es/drive/\n",
    "  - Descomprima la carpeta en su computador y arrastre a google drive:\n",
    "  \n",
    "<img src=\"https://raw.githubusercontent.com/marsgr6/r-scripts/master/imgs/colab_02.png\" alt=\"\" width=\"480\"/>"
   ]
  },
  {
   "cell_type": "markdown",
   "metadata": {
    "slideshow": {
     "slide_type": "slide"
    }
   },
   "source": [
    "### Paso 3 Navegar por Google Drive\n",
    "\n",
    "Ubique la carpeta dentro de su google drive\n",
    "  - Clic en (1) MyDrive, (2) doble clic en la carpeta EN-online-main\n",
    "\n",
    "<img src=\"https://raw.githubusercontent.com/marsgr6/r-scripts/master/imgs/colab_03.png\" alt=\"\" width=\"480\"/>"
   ]
  },
  {
   "cell_type": "markdown",
   "metadata": {
    "slideshow": {
     "slide_type": "slide"
    }
   },
   "source": [
    "### Paso 4 Conectar más aplicaciones \n",
    "\n",
    "Haga clic derecho sobre cualquiera de los notebooks (ejemplo (1) descriptive_statistics.ipynb)\n",
    "  - Clic en (2) Open with (abrir con), clic en (3) Connect with more apps (conectar más aplicaciones)\n",
    "\n",
    "<img src=\"https://raw.githubusercontent.com/marsgr6/r-scripts/master/imgs/colab_04.png\" alt=\"\" width=\"480\"/>"
   ]
  },
  {
   "cell_type": "markdown",
   "metadata": {
    "slideshow": {
     "slide_type": "slide"
    }
   },
   "source": [
    "### Paso 5 Instalar Colab\n",
    "\n",
    "Busque en el cuadro de texto del Marketplace la aplicación Colaboratory (1)\n",
    "  - Haga clic en (2) Colaboratory, le aparecerá un boton instalar.\n",
    "\n",
    "<img src=\"https://raw.githubusercontent.com/marsgr6/r-scripts/master/imgs/colab_05.png\" alt=\"\" width=\"480\"/>"
   ]
  },
  {
   "cell_type": "markdown",
   "metadata": {
    "slideshow": {
     "slide_type": "slide"
    }
   },
   "source": [
    "### Paso 6 Abrir un notebook en Colab\n",
    "\n",
    "Vuelva a sus arhcivos y haga clic derecho sobre cualquiera de los notebooks (ejemplo (1) descriptive_statistics.ipynb)\n",
    "  - Clic derecho en (1) descriptive_statistics.ipynb, clic en (2) Abrir con, clic en (3) Google Colaboratory\n",
    "  \n",
    "<img src=\"https://raw.githubusercontent.com/marsgr6/r-scripts/master/imgs/colab_06.png\" alt=\"\" width=\"480\"/>"
   ]
  },
  {
   "cell_type": "markdown",
   "metadata": {
    "slideshow": {
     "slide_type": "slide"
    }
   },
   "source": [
    "### Paso 7 Montar Google Drive\n",
    "\n",
    "Una vez abierto el notebook, vamos a montar el google drive y definir la carpeta de trabajo donde se encuetran ubicacos nuestros datos\n",
    "- Vaya a la primera celda de código del notebook ubíquese en el borde superior de la celda y haga clic en (1) + Code\n",
    "\n",
    "<img src=\"https://raw.githubusercontent.com/marsgr6/r-scripts/master/imgs/colab_07.png\" alt=\"\" width=\"480\"/>"
   ]
  },
  {
   "cell_type": "markdown",
   "metadata": {
    "slideshow": {
     "slide_type": "slide"
    }
   },
   "source": [
    "### Paso 8 En la celda agregada copie y pegue el siguiente código:\n",
    "\n",
    "```Python\n",
    "# Montar google drive\n",
    "from google.colab import drive\n",
    "drive.mount('/content/drive')\n",
    "# Definir ruta de trabajo EN-online-main\n",
    "%cd /content/drive/MyDrive/EN-online-main\n",
    "```"
   ]
  },
  {
   "cell_type": "markdown",
   "metadata": {
    "slideshow": {
     "slide_type": "slide"
    }
   },
   "source": [
    "### Paso 9 Haga clic en Connect to Google Drive\n",
    "\n",
    "<img src=\"https://raw.githubusercontent.com/marsgr6/r-scripts/master/imgs/colab_08.png\" alt=\"\" width=\"480\"/>"
   ]
  },
  {
   "cell_type": "markdown",
   "metadata": {
    "slideshow": {
     "slide_type": "slide"
    }
   },
   "source": [
    "### Paso 10 Clic en su cuenta de gmail\n",
    "\n",
    "<img src=\"https://raw.githubusercontent.com/marsgr6/r-scripts/master/imgs/colab_09.png\" alt=\"\" width=\"480\"/>"
   ]
  },
  {
   "cell_type": "markdown",
   "metadata": {
    "slideshow": {
     "slide_type": "slide"
    }
   },
   "source": [
    "### Paso 11 Clic en continue\n",
    "\n",
    "<img src=\"https://raw.githubusercontent.com/marsgr6/r-scripts/master/imgs/colab_10.png\" alt=\"\" width=\"480\"/>"
   ]
  },
  {
   "cell_type": "markdown",
   "metadata": {
    "slideshow": {
     "slide_type": "slide"
    }
   },
   "source": [
    "### Paso 12 Clic en continue\n",
    "\n",
    "<img src=\"https://raw.githubusercontent.com/marsgr6/r-scripts/master/imgs/colab_11.png\" alt=\"\" width=\"480\"/>\n",
    "\n",
    "**Ya está listo para ejecutar los notebooks en Google Colaboratoy.**"
   ]
  },
  {
   "cell_type": "markdown",
   "metadata": {
    "slideshow": {
     "slide_type": "slide"
    }
   },
   "source": [
    "### Anexo: Instalar paquetes adicionales \n",
    "\n",
    "Use las siguientes líneas de código en una celda y ejecute:\n",
    "\n",
    "```Python\n",
    "!pip install xlrd\n",
    "!pip install missingno\n",
    "!pip install kmodes\n",
    "!pip install pca\n",
    "```"
   ]
  }
 ],
 "metadata": {
  "celltoolbar": "Slideshow",
  "kernelspec": {
   "display_name": "Python 3",
   "language": "python",
   "name": "python3"
  },
  "language_info": {
   "codemirror_mode": {
    "name": "ipython",
    "version": 3
   },
   "file_extension": ".py",
   "mimetype": "text/x-python",
   "name": "python",
   "nbconvert_exporter": "python",
   "pygments_lexer": "ipython3",
   "version": "3.8.3"
  }
 },
 "nbformat": 4,
 "nbformat_minor": 5
}
