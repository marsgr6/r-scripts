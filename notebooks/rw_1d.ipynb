{
 "cells": [
  {
   "cell_type": "code",
   "execution_count": 1,
   "metadata": {},
   "outputs": [],
   "source": [
    "import numpy as np\n",
    "import matplotlib.pyplot as plt"
   ]
  },
  {
   "cell_type": "code",
   "execution_count": 15,
   "metadata": {},
   "outputs": [
    {
     "data": {
      "text/plain": [
       "[<matplotlib.lines.Line2D at 0x7fef5f6d9c90>]"
      ]
     },
     "execution_count": 15,
     "metadata": {},
     "output_type": "execute_result"
    },
    {
     "data": {
      "image/png": "[encoded data removed]",
      "text/plain": [
       "<Figure size 432x288 with 1 Axes>"
      ]
     },
     "metadata": {
      "needs_background": "light"
     },
     "output_type": "display_data"
    }
   ],
   "source": [
    "def walk_1d(start=0, steps=100, prob_up=0.5, reflecting=-np.inf, absorbing=np.inf):\n",
    "    walk = [start]\n",
    "    while walk[-1] < absorbing:\n",
    "        if np.random.random() < prob_up:\n",
    "            walk += [walk[-1] + 1]  # go up\n",
    "        else:\n",
    "            walk += [walk[-1] - 1]  # go down\n",
    "        if walk[-1] < reflecting:\n",
    "            walk[-1] = 1\n",
    "        if len(walk)-1 == steps: break\n",
    "    return walk\n",
    "\n",
    "walk = walk_1d(reflecting=0, absorbing=4)\n",
    "plt.step(range(len(walk)), walk)"
   ]
  },
  {
   "cell_type": "code",
   "execution_count": 51,
   "metadata": {},
   "outputs": [
    {
     "data": {
      "text/plain": [
       "(4, 182, 16.04416)"
      ]
     },
     "execution_count": 51,
     "metadata": {},
     "output_type": "execute_result"
    }
   ],
   "source": [
    "walks = np.array([len(walk_1d(start=0, steps=np.inf, reflecting=0, absorbing=4))-1 for i in range(100000)])\n",
    "walks.min(), walks.max(), walks.mean()"
   ]
  },
  {
   "cell_type": "code",
   "execution_count": 52,
   "metadata": {},
   "outputs": [
    {
     "data": {
      "text/plain": [
       "(3, 147, 14.96274)"
      ]
     },
     "execution_count": 52,
     "metadata": {},
     "output_type": "execute_result"
    }
   ],
   "source": [
    "walks = np.array([len(walk_1d(start=1, steps=np.inf, reflecting=0, absorbing=4))-1 for i in range(100000)])\n",
    "walks.min(), walks.max(), walks.mean()"
   ]
  },
  {
   "cell_type": "code",
   "execution_count": 53,
   "metadata": {},
   "outputs": [
    {
     "data": {
      "text/plain": [
       "(2, 116, 11.78)"
      ]
     },
     "execution_count": 53,
     "metadata": {},
     "output_type": "execute_result"
    }
   ],
   "source": [
    "walks = np.array([len(walk_1d(start=2, steps=np.inf, reflecting=0, absorbing=4))-1 for i in range(10000)])\n",
    "walks.min(), walks.max(), walks.mean()"
   ]
  },
  {
   "cell_type": "code",
   "execution_count": 54,
   "metadata": {},
   "outputs": [
    {
     "data": {
      "text/plain": [
       "(1, 109, 6.9592)"
      ]
     },
     "execution_count": 54,
     "metadata": {},
     "output_type": "execute_result"
    }
   ],
   "source": [
    "walks = np.array([len(walk_1d(start=3, steps=np.inf, reflecting=0, absorbing=4))-1 for i in range(10000)])\n",
    "walks.min(), walks.max(), walks.mean()"
   ]
  },
  {
   "cell_type": "code",
   "execution_count": 59,
   "metadata": {},
   "outputs": [
    {
     "data": {
      "text/plain": [
       "(2, 15320, 113.5725806451613, 0.992)"
      ]
     },
     "execution_count": 59,
     "metadata": {},
     "output_type": "execute_result"
    }
   ],
   "source": [
    "steps_to_origin = []\n",
    "\n",
    "sims = 1000\n",
    "\n",
    "for i in range(sims):\n",
    "    walk = walk_1d(steps=20000)\n",
    "    origin_positions = np.where(np.array(walk[1:]) == 0)[0]\n",
    "    if len(origin_positions):\n",
    "        steps_to_origin += [origin_positions[0] + 1]\n",
    "\n",
    "steps_to_origin = np.array(steps_to_origin)\n",
    "steps_to_origin.min(), steps_to_origin.max(), steps_to_origin.mean(), len(steps_to_origin) / sims"
   ]
  },
  {
   "cell_type": "code",
   "execution_count": 62,
   "metadata": {},
   "outputs": [
    {
     "data": {
      "text/plain": [
       "(2, 20000, 246.416)"
      ]
     },
     "execution_count": 62,
     "metadata": {},
     "output_type": "execute_result"
    }
   ],
   "source": [
    "steps_to_origin = []\n",
    "\n",
    "sims = 1000\n",
    "\n",
    "for i in range(sims):\n",
    "    walk = walk_1d(steps=20000)\n",
    "    origin_positions = np.where(np.array(walk[1:]) == 0)[0]\n",
    "    if len(origin_positions):\n",
    "        steps_to_origin += [origin_positions[0] + 1]\n",
    "    else:\n",
    "        steps_to_origin += [len(walk)-1]\n",
    "\n",
    "steps_to_origin = np.array(steps_to_origin)\n",
    "steps_to_origin.min(), steps_to_origin.max(), steps_to_origin.mean()"
   ]
  },
  {
   "cell_type": "code",
   "execution_count": 63,
   "metadata": {},
   "outputs": [
    {
     "data": {
      "text/plain": [
       "(array([461, 546, 548, 647, 757, 773, 912]),)"
      ]
     },
     "execution_count": 63,
     "metadata": {},
     "output_type": "execute_result"
    }
   ],
   "source": [
    "np.where(steps_to_origin == 20000)"
   ]
  },
  {
   "cell_type": "code",
   "execution_count": 65,
   "metadata": {},
   "outputs": [],
   "source": [
    "def calculate_probability_of_returning(steps):\n",
    "    steps_to_origin = []\n",
    "\n",
    "    sims = 1000\n",
    "\n",
    "    for i in range(sims):\n",
    "        walk = walk_1d(steps=steps)\n",
    "        origin_positions = np.where(np.array(walk[1:]) == 0)[0]\n",
    "        if len(origin_positions):\n",
    "            steps_to_origin += [origin_positions[0] + 1]\n",
    "\n",
    "    steps_to_origin = np.array(steps_to_origin)\n",
    "    return len(steps_to_origin) / sims\n",
    "\n",
    "steps = [10, 100, 1000, 10000, 100000]\n",
    "\n",
    "probability = [calculate_probability_of_returning(si) for si in steps]"
   ]
  },
  {
   "cell_type": "code",
   "execution_count": 71,
   "metadata": {},
   "outputs": [
    {
     "data": {
      "text/plain": [
       "[<matplotlib.lines.Line2D at 0x7fef5da872d0>]"
      ]
     },
     "execution_count": 71,
     "metadata": {},
     "output_type": "execute_result"
    },
    {
     "data": {
      "image/png": "[encoded data removed]",
      "text/plain": [
       "<Figure size 432x288 with 1 Axes>"
      ]
     },
     "metadata": {
      "needs_background": "light"
     },
     "output_type": "display_data"
    }
   ],
   "source": [
    "plt.semilogx(steps, probability)"
   ]
  }
 ],
 "metadata": {
  "kernelspec": {
   "display_name": "Python 3",
   "language": "python",
   "name": "python3"
  },
  "language_info": {
   "codemirror_mode": {
    "name": "ipython",
    "version": 3
   },
   "file_extension": ".py",
   "mimetype": "text/x-python",
   "name": "python",
   "nbconvert_exporter": "python",
   "pygments_lexer": "ipython3",
   "version": "3.7.6"
  }
 },
 "nbformat": 4,
 "nbformat_minor": 4
}
