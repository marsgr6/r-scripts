{
 "cells": [
  {
   "cell_type": "code",
   "execution_count": 1,
   "metadata": {},
   "outputs": [],
   "source": [
    "import numpy as np\n",
    "import matplotlib.pyplot as plt"
   ]
  },
  {
   "cell_type": "code",
   "execution_count": 2,
   "metadata": {},
   "outputs": [
    {
     "data": {
      "text/plain": [
       "<matplotlib.collections.LineCollection at 0x7f17286fb410>"
      ]
     },
     "execution_count": 2,
     "metadata": {},
     "output_type": "execute_result"
    },
    {
     "data": {
      "image/png": "[encoded data removed]",
      "text/plain": [
       "<Figure size 432x288 with 1 Axes>"
      ]
     },
     "metadata": {
      "needs_background": "light"
     },
     "output_type": "display_data"
    }
   ],
   "source": [
    "def walk_1d(start=0, steps=100, prob_up=0.5, reflecting=-np.inf, absorbing=np.inf):\n",
    "    walk = [start]\n",
    "    while walk[-1] < absorbing:\n",
    "        if np.random.random() < prob_up:\n",
    "            walk += [walk[-1] + 1]  # go up\n",
    "        else:\n",
    "            walk += [walk[-1] - 1]  # go down\n",
    "        if walk[-1] < reflecting:\n",
    "            walk[-1] = 1\n",
    "        if len(walk)-1 == steps: break\n",
    "    return walk\n",
    "\n",
    "walk = walk_1d(reflecting=0, absorbing=4)\n",
    "plt.step(range(len(walk)), walk)\n",
    "plt.hlines(0, 0, len(walk), colors='g')\n",
    "plt.hlines(4, 0, len(walk), colors='r')"
   ]
  },
  {
   "cell_type": "code",
   "execution_count": 3,
   "metadata": {},
   "outputs": [
    {
     "data": {
      "text/plain": [
       "(4, 152, 15.97894)"
      ]
     },
     "execution_count": 3,
     "metadata": {},
     "output_type": "execute_result"
    }
   ],
   "source": [
    "walks = np.array([len(walk_1d(start=0, steps=np.inf, reflecting=0, absorbing=4))-1 for i in range(100000)])\n",
    "walks.min(), walks.max(), walks.mean()"
   ]
  },
  {
   "cell_type": "code",
   "execution_count": 4,
   "metadata": {},
   "outputs": [
    {
     "data": {
      "text/plain": [
       "(3, 143, 15.05542)"
      ]
     },
     "execution_count": 4,
     "metadata": {},
     "output_type": "execute_result"
    }
   ],
   "source": [
    "walks = np.array([len(walk_1d(start=1, steps=np.inf, reflecting=0, absorbing=4))-1 for i in range(100000)])\n",
    "walks.min(), walks.max(), walks.mean()"
   ]
  },
  {
   "cell_type": "code",
   "execution_count": 5,
   "metadata": {},
   "outputs": [
    {
     "data": {
      "text/plain": [
       "(2, 104, 11.9364)"
      ]
     },
     "execution_count": 5,
     "metadata": {},
     "output_type": "execute_result"
    }
   ],
   "source": [
    "walks = np.array([len(walk_1d(start=2, steps=np.inf, reflecting=0, absorbing=4))-1 for i in range(10000)])\n",
    "walks.min(), walks.max(), walks.mean()"
   ]
  },
  {
   "cell_type": "code",
   "execution_count": 6,
   "metadata": {},
   "outputs": [
    {
     "data": {
      "text/plain": [
       "(1, 113, 7.111)"
      ]
     },
     "execution_count": 6,
     "metadata": {},
     "output_type": "execute_result"
    }
   ],
   "source": [
    "walks = np.array([len(walk_1d(start=3, steps=np.inf, reflecting=0, absorbing=4))-1 for i in range(10000)])\n",
    "walks.min(), walks.max(), walks.mean()"
   ]
  },
  {
   "cell_type": "code",
   "execution_count": 7,
   "metadata": {},
   "outputs": [
    {
     "data": {
      "text/plain": [
       "(2, 19768, 130.73293172690762, 0.996)"
      ]
     },
     "execution_count": 7,
     "metadata": {},
     "output_type": "execute_result"
    }
   ],
   "source": [
    "steps_to_origin = []\n",
    "\n",
    "sims = 1000\n",
    "\n",
    "for i in range(sims):\n",
    "    walk = walk_1d(steps=20000)\n",
    "    origin_positions = np.where(np.array(walk[1:]) == 0)[0]\n",
    "    if len(origin_positions):\n",
    "        steps_to_origin += [origin_positions[0] + 1]\n",
    "\n",
    "steps_to_origin = np.array(steps_to_origin)\n",
    "steps_to_origin.min(), steps_to_origin.max(), steps_to_origin.mean(), len(steps_to_origin) / sims"
   ]
  },
  {
   "cell_type": "code",
   "execution_count": 8,
   "metadata": {},
   "outputs": [
    {
     "data": {
      "text/plain": [
       "(2, 20000, 207.54)"
      ]
     },
     "execution_count": 8,
     "metadata": {},
     "output_type": "execute_result"
    }
   ],
   "source": [
    "steps_to_origin = []\n",
    "\n",
    "sims = 1000\n",
    "\n",
    "for i in range(sims):\n",
    "    walk = walk_1d(steps=20000)\n",
    "    origin_positions = np.where(np.array(walk[1:]) == 0)[0]\n",
    "    if len(origin_positions):\n",
    "        steps_to_origin += [origin_positions[0] + 1]\n",
    "    else:\n",
    "        steps_to_origin += [len(walk)-1]\n",
    "\n",
    "steps_to_origin = np.array(steps_to_origin)\n",
    "steps_to_origin.min(), steps_to_origin.max(), steps_to_origin.mean()"
   ]
  },
  {
   "cell_type": "code",
   "execution_count": 9,
   "metadata": {},
   "outputs": [
    {
     "data": {
      "text/plain": [
       "(array([  8, 111, 327, 388, 749]),)"
      ]
     },
     "execution_count": 9,
     "metadata": {},
     "output_type": "execute_result"
    }
   ],
   "source": [
    "np.where(steps_to_origin == 20000)"
   ]
  },
  {
   "cell_type": "code",
   "execution_count": 10,
   "metadata": {},
   "outputs": [],
   "source": [
    "def calculate_probability_of_returning(steps):\n",
    "    steps_to_origin = []\n",
    "\n",
    "    sims = 1000\n",
    "\n",
    "    for i in range(sims):\n",
    "        walk = walk_1d(steps=steps)\n",
    "        origin_positions = np.where(np.array(walk[1:]) == 0)[0]\n",
    "        if len(origin_positions):\n",
    "            steps_to_origin += [origin_positions[0] + 1]\n",
    "\n",
    "    steps_to_origin = np.array(steps_to_origin)\n",
    "    return len(steps_to_origin) / sims\n",
    "\n",
    "steps = np.array([10, 100, 1000, 10000, 100000])\n",
    "\n",
    "probability = [calculate_probability_of_returning(si) for si in steps]"
   ]
  },
  {
   "cell_type": "code",
   "execution_count": 11,
   "metadata": {},
   "outputs": [
    {
     "data": {
      "text/plain": [
       "<matplotlib.collections.LineCollection at 0x7f172866b650>"
      ]
     },
     "execution_count": 11,
     "metadata": {},
     "output_type": "execute_result"
    },
    {
     "data": {
      "image/png": "[encoded data removed]",
      "text/plain": [
       "<Figure size 432x288 with 1 Axes>"
      ]
     },
     "metadata": {
      "needs_background": "light"
     },
     "output_type": "display_data"
    }
   ],
   "source": [
    "plt.semilogx(steps, probability, '--o')\n",
    "plt.hlines(1, steps.min(), steps.max(), colors='k')"
   ]
  }
 ],
 "metadata": {
  "kernelspec": {
   "display_name": "Python 3",
   "language": "python",
   "name": "python3"
  },
  "language_info": {
   "codemirror_mode": {
    "name": "ipython",
    "version": 3
   },
   "file_extension": ".py",
   "mimetype": "text/x-python",
   "name": "python",
   "nbconvert_exporter": "python",
   "pygments_lexer": "ipython3",
   "version": "3.7.6"
  }
 },
 "nbformat": 4,
 "nbformat_minor": 4
}
