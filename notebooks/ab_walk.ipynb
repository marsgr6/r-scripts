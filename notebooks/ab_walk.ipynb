{
 "cells": [
  {
   "cell_type": "markdown",
   "id": "ffcd561c",
   "metadata": {},
   "source": [
    "### 1D Random Walk \n",
    "\n",
    "- Implement a 1D random walk (a particle move in a 1D space)\n",
    "  - In one dimension the particle move **up or down** randomly with equal probability.\n",
    "  - The walks occurs for a given **number of steps**. \n",
    "\n",
    "![](https://raw.githubusercontent.com/marsgr6/r-scripts/master/imgs/rwbarriers.png)\n",
    "\n",
    "- There is a **reflecting barrier (green)**. If the particle collides with the reflecting barrier, the next step is up. \n",
    "\n",
    "- There is an **absorbing barrier (red)**. If the particle collides with the abasorbing barrier the walk ends. \n",
    "  - The particle disappears (dies). \n",
    "\n",
    "- **Enumerate:**\n",
    "  - The input (independent) variables of the system. This is how you set up your system. \n",
    "  - The output (dependent) variables of the system. This is what you observe according the system setup. \n",
    "\n",
    "- **What type of system are you modeling/observing?**\n",
    "  - What is a system?\n",
    "  - What is a model?\n",
    "  - What is a simulation?"
   ]
  },
  {
   "cell_type": "code",
   "execution_count": 2,
   "id": "691c7421",
   "metadata": {},
   "outputs": [],
   "source": [
    "import numpy as np\n",
    "import matplotlib.pyplot as plt\n",
    "from scipy import stats"
   ]
  },
  {
   "cell_type": "markdown",
   "id": "00d4cdc6",
   "metadata": {},
   "source": [
    "![](https://upload.wikimedia.org/wikipedia/commons/thumb/9/96/Uniform_Distribution_PDF_SVG.svg/320px-Uniform_Distribution_PDF_SVG.svg.png)"
   ]
  },
  {
   "cell_type": "code",
   "execution_count": 3,
   "id": "6b78192e",
   "metadata": {},
   "outputs": [
    {
     "name": "stdout",
     "output_type": "stream",
     "text": [
      "DescribeResult(nobs=100000, minmax=(1.7566729357820776e-06, 0.9999942472751908), mean=0.4987423615043839, variance=0.08321161331561351, skewness=0.002848316276163389, kurtosis=-1.1949981419990496)\n"
     ]
    },
    {
     "data": {
      "text/plain": [
       "(array([1.0124076 , 0.99070744, 1.00330753, 1.00510755, 1.00400754,\n",
       "        0.9982075 , 1.01390761, 0.99010744, 0.98830742, 0.99400746]),\n",
       " array([1.75667294e-06, 1.00001006e-01, 2.00000255e-01, 2.99999504e-01,\n",
       "        3.99998753e-01, 4.99998002e-01, 5.99997251e-01, 6.99996500e-01,\n",
       "        7.99995749e-01, 8.99994998e-01, 9.99994247e-01]),\n",
       " <BarContainer object of 10 artists>)"
      ]
     },
     "execution_count": 3,
     "metadata": {},
     "output_type": "execute_result"
    },
    {
     "data": {
      "image/png": "[encoded data removed]",
      "text/plain": [
       "<Figure size 432x288 with 1 Axes>"
      ]
     },
     "metadata": {
      "needs_background": "light"
     },
     "output_type": "display_data"
    }
   ],
   "source": [
    "np.random.seed(10)\n",
    "rv = np.random.random(100000)\n",
    "print(stats.describe(rv))\n",
    "plt.hist(rv, density=True)"
   ]
  },
  {
   "cell_type": "code",
   "execution_count": 4,
   "id": "ffbbdd0a",
   "metadata": {},
   "outputs": [
    {
     "data": {
      "text/plain": [
       "[<matplotlib.lines.Line2D at 0x7f72b5ad9820>]"
      ]
     },
     "execution_count": 4,
     "metadata": {},
     "output_type": "execute_result"
    },
    {
     "data": {
      "image/png": "[encoded data removed]",
      "text/plain": [
       "<Figure size 432x288 with 1 Axes>"
      ]
     },
     "metadata": {
      "needs_background": "light"
     },
     "output_type": "display_data"
    }
   ],
   "source": [
    "def make_walk(start, absorbing, reflecting):\n",
    "    walk = [start]\n",
    "    while True:\n",
    "        if walk[-1] == reflecting:\n",
    "            walk += [1]\n",
    "        if walk[-1] == absorbing:\n",
    "            break\n",
    "        walk += [walk[-1] + int(np.random.random()*2)*2-1]\n",
    "    return walk\n",
    "\n",
    "start = 0\n",
    "absorbing = 2\n",
    "reflecting = 0\n",
    "\n",
    "walk = make_walk(start, absorbing, reflecting)\n",
    "plt.step(range(len(walk)), walk, where='post')"
   ]
  },
  {
   "cell_type": "code",
   "execution_count": 5,
   "id": "fa0ae3d5",
   "metadata": {},
   "outputs": [
    {
     "data": {
      "text/plain": [
       "DescribeResult(nobs=1000, minmax=(2, 20), mean=3.998, variance=8.020016016016015, skewness=2.040012221900846, kurtosis=5.075294040371505)"
      ]
     },
     "execution_count": 5,
     "metadata": {},
     "output_type": "execute_result"
    }
   ],
   "source": [
    "repetitions = 1000\n",
    "walks = [len(make_walk(start, absorbing, reflecting))-1 for i in range(repetitions)]\n",
    "stats.describe(walks)"
   ]
  },
  {
   "cell_type": "code",
   "execution_count": 6,
   "id": "4aa870c7",
   "metadata": {},
   "outputs": [
    {
     "data": {
      "text/plain": [
       "<BarContainer object of 10 artists>"
      ]
     },
     "execution_count": 6,
     "metadata": {},
     "output_type": "execute_result"
    },
    {
     "data": {
      "image/png": "[encoded data removed]",
      "text/plain": [
       "<Figure size 432x288 with 1 Axes>"
      ]
     },
     "metadata": {
      "needs_background": "light"
     },
     "output_type": "display_data"
    }
   ],
   "source": [
    "s, f = np.unique(walks, return_counts=True)\n",
    "plt.bar(s, f/f.sum())"
   ]
  },
  {
   "cell_type": "code",
   "execution_count": 7,
   "id": "2ca19459",
   "metadata": {},
   "outputs": [
    {
     "data": {
      "text/plain": [
       "[<matplotlib.lines.Line2D at 0x7f72b5a35ca0>]"
      ]
     },
     "execution_count": 7,
     "metadata": {},
     "output_type": "execute_result"
    },
    {
     "data": {
      "image/png": "[encoded data removed]",
      "text/plain": [
       "<Figure size 432x288 with 1 Axes>"
      ]
     },
     "metadata": {
      "needs_background": "light"
     },
     "output_type": "display_data"
    }
   ],
   "source": [
    "plt.plot(walks, range(repetitions), '.')"
   ]
  },
  {
   "cell_type": "code",
   "execution_count": 8,
   "id": "0d08e401",
   "metadata": {},
   "outputs": [
    {
     "data": {
      "text/plain": [
       "[1.0, 4.07, 9.21, 15.918, 26.334, 35.996, 47.264, 62.858, 78.764, 99.368]"
      ]
     },
     "execution_count": 8,
     "metadata": {},
     "output_type": "execute_result"
    }
   ],
   "source": [
    "repetitions = 1000\n",
    "absorbing = [1, 2, 3, 4, 5, 6, 7, 8, 9, 10]\n",
    "w_mean = []\n",
    "for ai in absorbing:\n",
    "    walks = [len(make_walk(start, ai, reflecting))-1 for i in range(repetitions)]\n",
    "    w_mean += [np.mean(walks)]\n",
    "w_mean"
   ]
  },
  {
   "cell_type": "code",
   "execution_count": 9,
   "id": "537e63bb",
   "metadata": {},
   "outputs": [
    {
     "data": {
      "text/plain": [
       "[<matplotlib.lines.Line2D at 0x7f72b599e3d0>]"
      ]
     },
     "execution_count": 9,
     "metadata": {},
     "output_type": "execute_result"
    },
    {
     "data": {
      "image/png": "[encoded data removed]",
      "text/plain": [
       "<Figure size 576x432 with 1 Axes>"
      ]
     },
     "metadata": {
      "needs_background": "light"
     },
     "output_type": "display_data"
    }
   ],
   "source": [
    "plt.figure(figsize=(8,6))\n",
    "plt.plot(absorbing, w_mean, ':o', label=\"Simulation\")\n",
    "plt.plot(absorbing, np.power(absorbing, 2), ':P', label=\"Theory\")"
   ]
  },
  {
   "cell_type": "code",
   "execution_count": null,
   "id": "023569cf",
   "metadata": {},
   "outputs": [],
   "source": []
  }
 ],
 "metadata": {
  "kernelspec": {
   "display_name": "Python 3",
   "language": "python",
   "name": "python3"
  },
  "language_info": {
   "codemirror_mode": {
    "name": "ipython",
    "version": 3
   },
   "file_extension": ".py",
   "mimetype": "text/x-python",
   "name": "python",
   "nbconvert_exporter": "python",
   "pygments_lexer": "ipython3",
   "version": "3.8.8"
  }
 },
 "nbformat": 4,
 "nbformat_minor": 5
}
