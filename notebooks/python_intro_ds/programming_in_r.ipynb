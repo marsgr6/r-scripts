{
 "cells": [
  {
   "cell_type": "code",
   "execution_count": 6,
   "metadata": {},
   "outputs": [
    {
     "name": "stdout",
     "output_type": "stream",
     "text": [
      "[1] \"logical\"\n",
      "[1] \"numeric\"\n",
      "[1] \"integer\"\n",
      "[1] \"complex\"\n",
      "[1] \"character\"\n",
      "[1] \"red\"    \"green\"  \"yellow\"\n",
      "[1] \"character\"\n",
      "[[1]]\n",
      "[1] 2 5 3\n",
      "\n",
      "[[2]]\n",
      "[1] 21.3\n",
      "\n",
      "[[3]]\n",
      "function (x)  .Primitive(\"sin\")\n",
      "\n",
      "     [,1] [,2] [,3]\n",
      "[1,] \"a\"  \"a\"  \"b\" \n",
      "[2,] \"c\"  \"b\"  \"a\" \n",
      ", , 1\n",
      "\n",
      "     [,1]     [,2]     [,3]    \n",
      "[1,] \"green\"  \"yellow\" \"green\" \n",
      "[2,] \"yellow\" \"green\"  \"yellow\"\n",
      "[3,] \"green\"  \"yellow\" \"green\" \n",
      "\n",
      ", , 2\n",
      "\n",
      "     [,1]     [,2]     [,3]    \n",
      "[1,] \"yellow\" \"green\"  \"yellow\"\n",
      "[2,] \"green\"  \"yellow\" \"green\" \n",
      "[3,] \"yellow\" \"green\"  \"yellow\"\n",
      "\n",
      "[1] green  green  yellow red    red    red    green \n",
      "Levels: green red yellow\n",
      "[1] 3\n",
      "  gender height weight Age\n",
      "1   Male  152.0     81  42\n",
      "2   Male  171.5     93  38\n",
      "3 Female  165.0     78  26\n"
     ]
    }
   ],
   "source": [
    "# Programming in R\n",
    "# See: http://dbarneche.github.io/2014-12-11-ufsc/lessons/\n",
    "\n",
    "# Data types\n",
    "# http://dbarneche.github.io/2014-12-11-ufsc/lessons/01-intro_r/index.html\n",
    "\n",
    "# Logical: TRUE, FALSE\n",
    "v <- TRUE \n",
    "print(class(v))\n",
    "\n",
    "# Numeric: 12.3, 5, 999\n",
    "v <- 23.5\n",
    "print(class(v))\n",
    "\n",
    "# Integers are numeric objects and are treated \n",
    "#as double precision real numbers. \n",
    "#To explicitly create integers use L at the end \n",
    "v <- 23L\n",
    "print(class(v))\n",
    "\n",
    "# Complex 3 + 2i\n",
    "v <- 2+5i\n",
    "print(class(v))\n",
    "\n",
    "# Character 'a' , '\"good\", \"TRUE\", '23.4'\n",
    "v <- \"TRUE\"\n",
    "print(class(v))\n",
    "\n",
    "# Vectors\n",
    "# Create a vector.\n",
    "apple <- c('red','green',\"yellow\")\n",
    "print(apple)\n",
    "\n",
    "# Get the class of the vector.\n",
    "print(class(apple))\n",
    "\n",
    "# Lists\n",
    "# Create a list.\n",
    "list1 <- list(c(2,5,3),21.3,sin)\n",
    "\n",
    "# Print the list.\n",
    "print(list1)\n",
    "\n",
    "# Matrices\n",
    "# Create a matrix.\n",
    "M = matrix( c('a','a','b','c','b','a'), nrow = 2, ncol = 3, byrow = TRUE)\n",
    "print(M)\n",
    "\n",
    "# Arrays\n",
    "# While matrices are confined to two dimensions, \n",
    "# arrays can be of any number of dimensions. \n",
    "# The array function takes a dim attribute which \n",
    "# creates the required number of dimension. \n",
    "# The example below creates an array with two elements \n",
    "# which are 3x3 matrices each.\n",
    "a <- array(c('green','yellow'),dim = c(3,3,2))\n",
    "print(a)\n",
    "\n",
    "# Factors are r-objects which are created using a vector. \n",
    "# It stores the vector along with the distinct values \n",
    "# of the elements in the vector as labels. \n",
    "# The labels are always character irrespective of whether \n",
    "# it is numeric or character or Boolean etc. in the input vector. \n",
    "# One of the most important uses of factors is in statistical modeling; \n",
    "# since categorical variables enter into statistical models differently \n",
    "# than continuous variables, storing data as factors insures that \n",
    "# the modeling functions will treat such data correctly.\n",
    "\n",
    "# Create a vector.\n",
    "apple_colors <- c('green','green','yellow','red','red','red','green')\n",
    "\n",
    "# Create a factor object.\n",
    "factor_apple <- factor(apple_colors)\n",
    "\n",
    "# Print the factor.\n",
    "print(factor_apple)\n",
    "print(nlevels(factor_apple))\n",
    "\n",
    "# Data frames are tabular data objects. \n",
    "# Unlike a matrix in data frame each column \n",
    "# can contain different modes of data. \n",
    "# The first column can be numeric while \n",
    "# the second column can be character and \n",
    "# third column can be logical. \n",
    "# It is a list of vectors of equal length.\n",
    "\n",
    "# Create the data frame.\n",
    "BMI <- data.frame(\n",
    "   gender = c(\"Male\", \"Male\",\"Female\"), \n",
    "   height = c(152, 171.5, 165), \n",
    "   weight = c(81,93, 78),\n",
    "   Age = c(42,38,26)\n",
    ")\n",
    "print(BMI)"
   ]
  },
  {
   "cell_type": "code",
   "execution_count": 12,
   "metadata": {},
   "outputs": [
    {
     "name": "stdout",
     "output_type": "stream",
     "text": [
      "var.1 is  0 1 2 3 \n",
      "var.2 is  learn R \n",
      "var.3 is  1 1 \n",
      "The class of var_x is  character \n",
      "  Now the class of var_x is  numeric \n",
      "   Next the class of var_x becomes  integer \n",
      " [1] \"a\"            \"apple\"        \"apple_colors\" \"BMI\"          \"factor_apple\"\n",
      " [6] \"list1\"        \"M\"            \"v\"            \"var_x\"        \"var.1\"       \n",
      "[11] \"var.2\"        \"var.3\"       \n"
     ]
    },
    {
     "ename": "ERROR",
     "evalue": "Error in print(var.3): object 'var.3' not found\n",
     "output_type": "error",
     "traceback": [
      "Error in print(var.3): object 'var.3' not found\nTraceback:\n",
      "1. print(var.3)"
     ]
    }
   ],
   "source": [
    "# Variables \n",
    "# var_name2.    valid   Has letters, numbers, dot and underscore\n",
    "# var_name%     invalid Has the character '%'. Only dot(.) and underscore allowed.\n",
    "# 2var_name     invalid Starts with a number\n",
    "# .var_name, var.name   valid   Can start with a dot(.) \n",
    "#                               but the dot(.)should not be followed by a number.\n",
    "# .2var_name    invalid The starting dot is followed by a number making it invalid.\n",
    "# _var_name     invalid Starts with _ which is not valid\n",
    "\n",
    "# Variable Assignment\n",
    "# Assignment using equal operator.\n",
    "var.1 = c(0,1,2,3)           \n",
    "\n",
    "# Assignment using leftward operator.\n",
    "var.2 <- c(\"learn\",\"R\")   \n",
    "\n",
    "# Assignment using rightward operator.   \n",
    "c(TRUE,1) -> var.3 \n",
    "\n",
    "cat (\"var.1 is \", var.1 ,\"\\n\")\n",
    "cat (\"var.2 is \", var.2 ,\"\\n\")\n",
    "cat (\"var.3 is \", var.3 ,\"\\n\")\n",
    "\n",
    "#Data Type of a Variable\n",
    "var_x <- \"Hello\"\n",
    "cat(\"The class of var_x is \",class(var_x),\"\\n\")\n",
    "\n",
    "var_x <- 34.5\n",
    "cat(\"  Now the class of var_x is \",class(var_x),\"\\n\")\n",
    "\n",
    "var_x <- 27L\n",
    "cat(\"   Next the class of var_x becomes \",class(var_x),\"\\n\")\n",
    "\n",
    "# Finding Variables\n",
    "print(ls())\n",
    "\n",
    "#Deleting Variables\n",
    "rm(var.3)\n",
    "print(var.3)"
   ]
  },
  {
   "cell_type": "code",
   "execution_count": 24,
   "metadata": {},
   "outputs": [
    {
     "name": "stdout",
     "output_type": "stream",
     "text": [
      "[1] 10.0  8.5 10.0\n",
      "[1] -6.0  2.5  2.0\n",
      "[1] 16.0 16.5 24.0\n",
      "[1] 0.250000 1.833333 1.500000\n",
      "[1] 2.0 2.5 2.0\n",
      "[1] 0 1 1\n",
      "[1]  256.000  166.375 1296.000\n",
      "\n",
      "Relational Operators\n",
      "[1] FALSE  TRUE FALSE FALSE\n",
      "[1]  TRUE FALSE  TRUE FALSE\n",
      "[1] FALSE FALSE FALSE  TRUE\n",
      "[1]  TRUE FALSE  TRUE  TRUE\n",
      "[1] FALSE  TRUE FALSE  TRUE\n",
      "[1]  TRUE  TRUE  TRUE FALSE\n",
      "\n",
      "Logical Operators\n",
      "[1]  TRUE  TRUE FALSE  TRUE\n",
      "[1]  TRUE FALSE  TRUE  TRUE\n",
      "[1] FALSE  TRUE FALSE FALSE\n",
      "[1] TRUE\n",
      "[1] FALSE\n",
      "\n",
      "Miscellaneous Operators\n",
      "[1] 2 3 4 5 6 7 8\n",
      "[1] TRUE\n",
      "[1] FALSE\n",
      "     [,1] [,2]\n",
      "[1,]   65   82\n",
      "[2,]   82  117\n"
     ]
    }
   ],
   "source": [
    "# Operators\n",
    "\n",
    "v <- c( 2,5.5,6)\n",
    "t <- c(8, 3, 4)\n",
    "print(v+t) # Adds two vectors\n",
    "print(v-t) # Subtracts second vector from the first\n",
    "print(v*t) # Multiplies both vectors\n",
    "print(v/t) # Divide the first vector with the second\n",
    "print(v%%t) # Give the remainder of the first vector with the second\n",
    "print(v%/%t) # The result of division of first vector with second (quotient)\n",
    "print(v^t) # The first vector raised to the exponent of second vector\n",
    "\n",
    "# Relational Operators\n",
    "cat(\"\\nRelational Operators\\n\")\n",
    "v <- c(2,5.5,6,9)\n",
    "t <- c(8,2.5,14,9)\n",
    "print(v > t) # Checks if each element of the first vector is greater than \n",
    "           # the corresponding element of the second vector.\n",
    "print(v < t) # Checks if ...less...\n",
    "print(v == t) # Checks if ...equal...\n",
    "print(v<=t) # Checks if ...less than or equal...\n",
    "print(v>=t) # Checks if ...greater than or equal...\n",
    "print(v!=t) # Checks if ...unequal...\n",
    "\n",
    "\n",
    "# Logical Operators: applicable only to vectors of type logical, \n",
    "# numeric or complex. \n",
    "# All numbers greater than 1 are considered as logical value TRUE.\n",
    "cat(\"\\nLogical Operators\\n\")\n",
    "\n",
    "v <- c(3,1,TRUE,2+3i)\n",
    "t <- c(4,1,FALSE,2+3i)\n",
    "\n",
    "print(v&t) # Element-wise Logical AND operator.\n",
    "\n",
    "v <- c(3,0,TRUE,2+2i)\n",
    "t <- c(4,0,FALSE,2+3i)\n",
    "print(v|t) # Element-wise Logical OR operator. \n",
    "\n",
    "v <- c(3,0,TRUE,2+2i) \n",
    "print(!v) # Logical NOT operator. \n",
    "\n",
    "# Interpret the results above, and\n",
    "# see https://medium.com/i-math/intro-to-truth-tables-boolean-algebra-73b331dd9b94\n",
    "\n",
    "# The logical operator && and || considers only the first element of \n",
    "# the vectors and give a vector of single element as output.\n",
    "v <- c(3,0,TRUE,2+2i)\n",
    "t <- c(1,3,TRUE,2+3i)\n",
    "print(v&&t)\n",
    "\n",
    "v <- c(0,0,TRUE,2+2i)\n",
    "t <- c(0,3,TRUE,2+3i)\n",
    "print(v||t)\n",
    "\n",
    "# Miscellaneous Operators\n",
    "cat(\"\\nMiscellaneous Operators\\n\")\n",
    "\n",
    "# Colon operator: creates the series of numbers in sequence for a vector\n",
    "v <- 2:8\n",
    "print(v) \n",
    "\n",
    "# The operator %in% is used to identify if an element belongs to a vector\n",
    "v1 <- 8\n",
    "v2 <- 12\n",
    "t <- 1:10\n",
    "print(v1 %in% t) \n",
    "print(v2 %in% t) \n",
    "\n",
    "# The operator %*% is used to multiply a matrix with its transpose\n",
    "M = matrix( c(2,6,5,1,10,4), nrow = 2,ncol = 3,byrow = TRUE)\n",
    "t = M %*% t(M)\n",
    "print(t)"
   ]
  },
  {
   "cell_type": "code",
   "execution_count": 25,
   "metadata": {},
   "outputs": [
    {
     "name": "stdout",
     "output_type": "stream",
     "text": [
      "[1] \"X is an Integer\"\n",
      "[1] \"Truth is not found\"\n"
     ]
    }
   ],
   "source": [
    "# Control Structures\n",
    "# See: http://dbarneche.github.io/2014-12-11-ufsc/lessons/30-control-flow/index.html\n",
    "\n",
    "# Decision making\n",
    "# If statements operate on length-one logical vectors\n",
    "\n",
    "# if statement\n",
    "# if(boolean_expression) {\n",
    "#    // statement(s) will execute if the boolean expression is true.\n",
    "# }\n",
    "\n",
    "x <- 30L\n",
    "if(is.integer(x)) {\n",
    "   print(\"X is an Integer\")\n",
    "}\n",
    "\n",
    "# if...else statement\n",
    "# \n",
    "# if(boolean_expression) {\n",
    "#    // statement(s) will execute if the boolean expression is true.\n",
    "# } else {\n",
    "#    // statement(s) will execute if the boolean expression is false.\n",
    "# }\n",
    "\n",
    "x <- c(\"what\",\"is\",\"truth\")\n",
    "\n",
    "if(\"Truth\" %in% x) {\n",
    "   print(\"Truth is found\")\n",
    "} else {\n",
    "   print(\"Truth is not found\")\n",
    "}\n",
    "\n",
    "# Why Truth was not found?\n",
    "\n",
    "# See switch: https://www.programiz.com/r-programming/switch-function"
   ]
  },
  {
   "cell_type": "code",
   "execution_count": 31,
   "metadata": {},
   "outputs": [
    {
     "name": "stdout",
     "output_type": "stream",
     "text": [
      "[1] \"Hello\" \"loop\"  \"2\"    \n",
      "[1] \"Hello\" \"loop\"  \"3\"    \n",
      "[1] \"Hello\" \"loop\"  \"4\"    \n",
      "[1] \"Hello\" \"loop\"  \"5\"    \n"
     ]
    }
   ],
   "source": [
    "# See: http://dbarneche.github.io/2014-12-11-ufsc/lessons/30-control-flow/index.html\n",
    "#      http://dbarneche.github.io/2014-12-11-ufsc/lessons/40-repeating/index.html\n",
    "\n",
    "# Loops\n",
    "# Repeat loop\n",
    "\n",
    "# repeat { \n",
    "#    commands \n",
    "#    if(condition) {\n",
    "#       break\n",
    "#    }\n",
    "# }\n",
    "\n",
    "v <- c(\"Hello\",\"loop\")\n",
    "cnt <- 2\n",
    "\n",
    "repeat {\n",
    "   print(c(v,cnt))\n",
    "   cnt <- cnt+1\n",
    "   \n",
    "   if(cnt > 5) {\n",
    "      break\n",
    "   }\n",
    "}"
   ]
  },
  {
   "cell_type": "code",
   "execution_count": 32,
   "metadata": {},
   "outputs": [
    {
     "name": "stdout",
     "output_type": "stream",
     "text": [
      "[1] \"Hello\"      \"while loop\" \"2\"         \n",
      "[1] \"Hello\"      \"while loop\" \"3\"         \n",
      "[1] \"Hello\"      \"while loop\" \"4\"         \n",
      "[1] \"Hello\"      \"while loop\" \"5\"         \n",
      "[1] \"Hello\"      \"while loop\" \"6\"         \n"
     ]
    }
   ],
   "source": [
    "# Loops\n",
    "# while loop\n",
    "\n",
    "# while (test_expression) {\n",
    "#    statement\n",
    "# }\n",
    "\n",
    "v <- c(\"Hello\",\"while loop\")\n",
    "cnt <- 2\n",
    "\n",
    "while (cnt < 7) {\n",
    "   print(c(v,cnt))\n",
    "   cnt = cnt + 1\n",
    "}"
   ]
  },
  {
   "cell_type": "code",
   "execution_count": 36,
   "metadata": {},
   "outputs": [
    {
     "name": "stdout",
     "output_type": "stream",
     "text": [
      "[1] \"A\"\n",
      "[1] \"B\"\n",
      "[1] \"C\"\n",
      "[1] \"D\"\n",
      "\n",
      "Another for loop example\n",
      "[1] \"2\"\n",
      "[1] \"8\"\n",
      "[1] \"c\"\n",
      "[1] \"TRUE\"\n"
     ]
    }
   ],
   "source": [
    "# Loops\n",
    "# for loop\n",
    "\n",
    "# for (value in vector) {\n",
    "#    statements\n",
    "# }\n",
    "\n",
    "v <- LETTERS[1:4]\n",
    "for (i in v) {\n",
    "   print(i)\n",
    "}\n",
    "\n",
    "cat(\"\\nAnother for loop example\\n\")\n",
    "v<-c(2,8,'c',TRUE)\n",
    "for (i in v) {\n",
    "   print(i)\n",
    "}"
   ]
  },
  {
   "cell_type": "code",
   "execution_count": 45,
   "metadata": {},
   "outputs": [
    {
     "name": "stdout",
     "output_type": "stream",
     "text": [
      "[1] \"A\"\n",
      "[1] \"B\"\n",
      "[1] \"C\"\n",
      "[1] \"D\"\n",
      "[1] \"E\"\n",
      "[1] \"F\"\n",
      "[1] \"G\"\n",
      "[1] \"H\"\n",
      "[1] \"I\"\n"
     ]
    }
   ],
   "source": [
    "# Loop Control Statements\n",
    "\n",
    "# break\n",
    "# When the break statement is encountered inside a loop, \n",
    "# the loop is immediately terminated and program control \n",
    "# resumes at the next statement following the loop.\n",
    "\n",
    "v <- LETTERS\n",
    "for ( i in v) {\n",
    "   \n",
    "   if (i == \"J\") {\n",
    "      break\n",
    "   }\n",
    "   print(i)\n",
    "}"
   ]
  },
  {
   "cell_type": "code",
   "execution_count": 44,
   "metadata": {},
   "outputs": [
    {
     "name": "stdout",
     "output_type": "stream",
     "text": [
      "[1] \"A\"\n",
      "[1] \"B\"\n",
      "[1] \"C\"\n",
      "[1] \"E\"\n",
      "[1] \"F\"\n"
     ]
    }
   ],
   "source": [
    "# Loop Control Statements\n",
    "\n",
    "# next\n",
    "# On encountering next, the R parser skips further \n",
    "# evaluation and starts next iteration of the loop.\n",
    "\n",
    "v <- LETTERS[1:6]\n",
    "for ( i in v) {\n",
    "   \n",
    "   if (i == \"D\") {\n",
    "      next\n",
    "   }\n",
    "   print(i)\n",
    "}"
   ]
  },
  {
   "cell_type": "code",
   "execution_count": 38,
   "metadata": {},
   "outputs": [
    {
     "name": "stdout",
     "output_type": "stream",
     "text": [
      "[1] 1\n",
      "[1] 4\n",
      "[1] 9\n",
      "[1] 16\n",
      "[1] 25\n",
      "[1] 36\n"
     ]
    }
   ],
   "source": [
    "# Functions\n",
    "# See: http://dbarneche.github.io/2014-12-11-ufsc/lessons/10-functions/index.html\n",
    "\n",
    "# A function is a set of statements organized together \n",
    "# to perform a specific task. \n",
    "# R has a large number of in-built functions and the \n",
    "# user can create their own functions.\n",
    "\n",
    "# In R, a function is an object so the R interpreter \n",
    "#     is able to pass control to the function, \n",
    "#         along with arguments that may be necessary \n",
    "#         for the function to accomplish the actions.\n",
    "\n",
    "# The function in turn performs its task and returns control \n",
    "#    to the interpreter as well as any result \n",
    "#    which may be stored in other objects.\n",
    "\n",
    "# An R function is created by using the keyword function. \n",
    "# The basic syntax of an R function definition is as follows\n",
    "\n",
    "# function_name <- function(arg_1, arg_2, ...) {\n",
    "#   Function body \n",
    "# }\n",
    "\n",
    "# Create a function to print squares of numbers in sequence.\n",
    "print.squares <- function(a) {\n",
    "   for(i in 1:a) {\n",
    "      b <- i^2\n",
    "      print(b)\n",
    "   }\n",
    "}\n",
    "\n",
    "# Call the function print.squares supplying 6 as an argument.\n",
    "print.squares(6)"
   ]
  },
  {
   "cell_type": "code",
   "execution_count": 40,
   "metadata": {},
   "outputs": [
    {
     "name": "stdout",
     "output_type": "stream",
     "text": [
      "[1] 1\n",
      "[1] 4\n",
      "[1] 9\n",
      "[1] 16\n",
      "[1] 25\n"
     ]
    }
   ],
   "source": [
    "# Functions\n",
    "\n",
    "# Create a function without an argument.\n",
    "print.squares <- function() {\n",
    "   for(i in 1:5) {\n",
    "      b <- i^2\n",
    "      print(b)\n",
    "   }\n",
    "}\n",
    "\n",
    "# Call the function without supplying an argument.\n",
    "print.squares()"
   ]
  },
  {
   "cell_type": "code",
   "execution_count": 1,
   "metadata": {},
   "outputs": [
    {
     "name": "stdout",
     "output_type": "stream",
     "text": [
      "[1] 26\n",
      "[1] 26\n"
     ]
    }
   ],
   "source": [
    "# Create a function with arguments\n",
    "new.function <- function(a,b,d) {\n",
    "   result <- a * b + d\n",
    "   print(result)\n",
    "}\n",
    "\n",
    "# Call the function by position of arguments.\n",
    "new.function(5,3,11)\n",
    "\n",
    "# Call the function by names of the arguments.\n",
    "new.function(a = 5, d=11, b = 3)"
   ]
  },
  {
   "cell_type": "code",
   "execution_count": 43,
   "metadata": {},
   "outputs": [
    {
     "name": "stdout",
     "output_type": "stream",
     "text": [
      "[1] 18\n",
      "[1] 45\n"
     ]
    }
   ],
   "source": [
    "# Create a function with arguments.\n",
    "new.function <- function(a = 3, b = 6) {\n",
    "   result <- a * b\n",
    "   print(result)\n",
    "}\n",
    "\n",
    "# Call the function without giving any argument.\n",
    "new.function()\n",
    "\n",
    "# Call the function with giving new values of the argument.\n",
    "new.function(9,5)"
   ]
  },
  {
   "cell_type": "code",
   "execution_count": 51,
   "metadata": {},
   "outputs": [
    {
     "name": "stdout",
     "output_type": "stream",
     "text": [
      "[1] 10.0  8.5 10.0\n",
      "[1] 3\n",
      "[1] NA\n"
     ]
    }
   ],
   "source": [
    "my.sum <- function(a, b) {\n",
    "    if (is.numeric(a) & is.numeric(b))\n",
    "    {\n",
    "        result <- a+b\n",
    "    } \n",
    "    else { result <- NA}\n",
    "    return(result)\n",
    "}\n",
    "\n",
    "v <- c(2,5.5,6)\n",
    "t <- c(8, 3, 4)\n",
    "s <- my.sum(v,t)\n",
    "print(s)\n",
    "s <- my.sum(1,2)\n",
    "print(s)\n",
    "s <- my.sum(1, 'c')\n",
    "print(s)"
   ]
  },
  {
   "cell_type": "code",
   "execution_count": 52,
   "metadata": {
    "collapsed": true
   },
   "outputs": [],
   "source": [
    "# Scripts in R\n",
    "\n",
    "# Save the following code in a file called operaciones.r\n",
    "\n",
    "o.suma <- function(a, b) {\n",
    "    if (is.numeric(a) & is.numeric(b))\n",
    "    {\n",
    "        result <- a+b\n",
    "    } \n",
    "    else { result <- NA}\n",
    "    return(result)\n",
    "}\n",
    "\n",
    "o.square <- function(a) {\n",
    "   for(i in 1:a) {\n",
    "      b <- i^2\n",
    "      print(b)\n",
    "   }\n",
    "}\n",
    "\n",
    "o.sum.prom <- function(lista) {\n",
    "    suma <- 0\n",
    "    for (e in lista) {\n",
    "        suma <- suma + e\n",
    "    }\n",
    "    promedio <- suma/length(lista)\n",
    "    resultado <- list(\"suma\" = suma, \"promedio\" = promedio)\n",
    "    return(resultado)\n",
    "}"
   ]
  },
  {
   "cell_type": "code",
   "execution_count": 5,
   "metadata": {},
   "outputs": [
    {
     "data": {
      "text/html": [
       "9"
      ],
      "text/latex": [
       "9"
      ],
      "text/markdown": [
       "9"
      ],
      "text/plain": [
       "[1] 9"
      ]
     },
     "metadata": {},
     "output_type": "display_data"
    },
    {
     "name": "stdout",
     "output_type": "stream",
     "text": [
      "[1] 1\n",
      "[1] 4\n",
      "$suma\n",
      "[1] 16\n",
      "\n",
      "$promedio\n",
      "[1] 4\n",
      "\n",
      "Calling script\n",
      "[1] 1\n",
      "[1] 4\n",
      "$suma\n",
      "[1] 16\n",
      "\n",
      "$promedio\n",
      "[1] 4\n",
      "\n"
     ]
    }
   ],
   "source": [
    "# Be careful about the working directory, use ?setwd\n",
    "# Call the file in R as follows:\n",
    "source(\"operaciones.r\")\n",
    "o.suma(4,5)\n",
    "o.square(2)\n",
    "lista<-c(1,5,2,8)\n",
    "r<-o.sum.prom(lista)\n",
    "print(r)\n",
    "\n",
    "# You can also call the file from other scripts\n",
    "# Write the file \"call_op.r\n",
    "# with the content above\n",
    "# Call the script\n",
    "\n",
    "cat(\"Calling script\\n\")\n",
    "source(\"call_op.r\")\n",
    "\n",
    "# Be careful on whats returning and printing each function\n",
    "# To see more on functions:\n",
    "# http://adv-r.had.co.nz/Functions.html\n",
    "# http://adv-r.had.co.nz/Functional-programming.html\n",
    "# Advanced R by Hadley Wickham\n",
    "# http://adv-r.had.co.nz/"
   ]
  },
  {
   "cell_type": "code",
   "execution_count": null,
   "metadata": {
    "collapsed": true
   },
   "outputs": [],
   "source": [
    "# Try the following code in a script scplot.r and call it\n",
    "# See: http://www.statmethods.net/graphs/scatterplot.html\n",
    "\n",
    "# Data: http://daedalus.umkc.edu/StatisticalMethods/datasets/GreekDramaLength.csv\n",
    "# Source: http://dh.obdurodon.org/R-script.xhtml\n",
    "# stuff<-read.csv(file.choose(),header=TRUE)\n",
    "# or full path to filename in place of file.choose() function\n",
    "stuff<-read.csv(\"GreekDramaLength.csv\")\n",
    "stuff$Year <- stuff$Year * -1 # rep(-1, 31) # years are BC, so make them negative\n",
    "attach(stuff)\n",
    "library(car)\n",
    "# svg(\"GreekDramaLength.svg\",bg=\"transparent\",width=5,height=5)\n",
    "scatterplot(Word.Count~Year)\n",
    "# dev.off() # file will be saved in working directory (no screen display)"
   ]
  },
  {
   "cell_type": "code",
   "execution_count": 56,
   "metadata": {},
   "outputs": [
    {
     "data": {
      "image/png": "[encoded data removed]",
      "text/plain": [
       "plot without title"
      ]
     },
     "metadata": {},
     "output_type": "display_data"
    }
   ],
   "source": [
    "source(\"scplot.r\")\n",
    "# Try the examples on the slides of the course\n",
    "# Try to start some exploratory data analysis \n",
    "# using any data you are interested in, or go to\n",
    "# https://archive.ics.uci.edu/ml/datasets.html or\n",
    "# https://vincentarelbundock.github.io/Rdatasets/datasets.html\n",
    "# Search the internet for code and try to reuse."
   ]
  },
  {
   "cell_type": "code",
   "execution_count": null,
   "metadata": {
    "collapsed": true
   },
   "outputs": [],
   "source": []
  }
 ],
 "metadata": {
  "kernelspec": {
   "display_name": "R",
   "language": "R",
   "name": "ir"
  },
  "language_info": {
   "codemirror_mode": "r",
   "file_extension": ".r",
   "mimetype": "text/x-r-source",
   "name": "R",
   "pygments_lexer": "r",
   "version": "3.3.2"
  }
 },
 "nbformat": 4,
 "nbformat_minor": 2
}
