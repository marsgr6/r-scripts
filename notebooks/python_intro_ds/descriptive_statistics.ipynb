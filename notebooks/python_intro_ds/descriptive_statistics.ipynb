{
 "cells": [
  {
   "cell_type": "code",
   "execution_count": 1,
   "metadata": {},
   "outputs": [
    {
     "data": {
      "text/html": [
       "<ol class=list-inline>\n",
       "\t<li>7.6</li>\n",
       "\t<li>8.3</li>\n",
       "\t<li>9.3</li>\n",
       "\t<li>9.4</li>\n",
       "\t<li>9.4</li>\n",
       "\t<li>9.7</li>\n",
       "\t<li>10.4</li>\n",
       "\t<li>11.5</li>\n",
       "\t<li>11.9</li>\n",
       "\t<li>15.2</li>\n",
       "\t<li>16.2</li>\n",
       "\t<li>20.4</li>\n",
       "</ol>\n"
      ],
      "text/latex": [
       "\\begin{enumerate*}\n",
       "\\item 7.6\n",
       "\\item 8.3\n",
       "\\item 9.3\n",
       "\\item 9.4\n",
       "\\item 9.4\n",
       "\\item 9.7\n",
       "\\item 10.4\n",
       "\\item 11.5\n",
       "\\item 11.9\n",
       "\\item 15.2\n",
       "\\item 16.2\n",
       "\\item 20.4\n",
       "\\end{enumerate*}\n"
      ],
      "text/markdown": [
       "1. 7.6\n",
       "2. 8.3\n",
       "3. 9.3\n",
       "4. 9.4\n",
       "5. 9.4\n",
       "6. 9.7\n",
       "7. 10.4\n",
       "8. 11.5\n",
       "9. 11.9\n",
       "10. 15.2\n",
       "11. 16.2\n",
       "12. 20.4\n",
       "\n",
       "\n"
      ],
      "text/plain": [
       " [1]  7.6  8.3  9.3  9.4  9.4  9.7 10.4 11.5 11.9 15.2 16.2 20.4"
      ]
     },
     "metadata": {},
     "output_type": "display_data"
    },
    {
     "name": "stdout",
     "output_type": "stream",
     "text": [
      "\n",
      "  The decimal point is at the |\n",
      "\n",
      "   7 | 6\n",
      "   8 | 3\n",
      "   9 | 3447\n",
      "  10 | 4\n",
      "  11 | 59\n",
      "  12 | \n",
      "  13 | \n",
      "  14 | \n",
      "  15 | 2\n",
      "  16 | 2\n",
      "  17 | \n",
      "  18 | \n",
      "  19 | \n",
      "  20 | 4\n",
      "\n"
     ]
    },
    {
     "data": {
      "text/plain": [
       "datos\n",
       " 7.6  8.3  9.3  9.4  9.7 10.4 11.5 11.9 15.2 16.2 20.4 \n",
       "   1    1    1    2    1    1    1    1    1    1    1 "
      ]
     },
     "metadata": {},
     "output_type": "display_data"
    }
   ],
   "source": [
    "# Puede ejecutar código R online en:\n",
    "# https://www.tutorialspoint.com/execute_r_online.php\n",
    "\n",
    "datos <- c(15.2, 9.3, 7.6, 11.9, 10.4, 9.7, 20.4, 9.4, 11.5, 16.2, 9.4, 8.3)\n",
    "sort(datos)\n",
    "stem(datos, scale = 3)\n",
    "table(datos)"
   ]
  },
  {
   "cell_type": "code",
   "execution_count": 2,
   "metadata": {},
   "outputs": [
    {
     "data": {
      "text/plain": [
       "   Min. 1st Qu.  Median    Mean 3rd Qu.    Max. \n",
       "  7.600   9.375  10.050  11.610  12.730  20.400 "
      ]
     },
     "metadata": {},
     "output_type": "display_data"
    }
   ],
   "source": [
    "summary(datos)"
   ]
  },
  {
   "cell_type": "code",
   "execution_count": 3,
   "metadata": {},
   "outputs": [
    {
     "data": {
      "text/html": [
       "<ol class=list-inline>\n",
       "\t<li>7.6</li>\n",
       "\t<li>8.3</li>\n",
       "\t<li>9.3</li>\n",
       "\t<li>9.4</li>\n",
       "\t<li>9.4</li>\n",
       "\t<li>9.7</li>\n",
       "\t<li>10.4</li>\n",
       "\t<li>11.5</li>\n",
       "\t<li>11.9</li>\n",
       "\t<li>15.2</li>\n",
       "\t<li>16.2</li>\n",
       "\t<li>20.4</li>\n",
       "</ol>\n"
      ],
      "text/latex": [
       "\\begin{enumerate*}\n",
       "\\item 7.6\n",
       "\\item 8.3\n",
       "\\item 9.3\n",
       "\\item 9.4\n",
       "\\item 9.4\n",
       "\\item 9.7\n",
       "\\item 10.4\n",
       "\\item 11.5\n",
       "\\item 11.9\n",
       "\\item 15.2\n",
       "\\item 16.2\n",
       "\\item 20.4\n",
       "\\end{enumerate*}\n"
      ],
      "text/markdown": [
       "1. 7.6\n",
       "2. 8.3\n",
       "3. 9.3\n",
       "4. 9.4\n",
       "5. 9.4\n",
       "6. 9.7\n",
       "7. 10.4\n",
       "8. 11.5\n",
       "9. 11.9\n",
       "10. 15.2\n",
       "11. 16.2\n",
       "12. 20.4\n",
       "\n",
       "\n"
      ],
      "text/plain": [
       " [1]  7.6  8.3  9.3  9.4  9.4  9.7 10.4 11.5 11.9 15.2 16.2 20.4"
      ]
     },
     "metadata": {},
     "output_type": "display_data"
    },
    {
     "data": {
      "text/html": [
       "<dl class=dl-horizontal>\n",
       "\t<dt>0%</dt>\n",
       "\t\t<dd>7.6</dd>\n",
       "\t<dt>25%</dt>\n",
       "\t\t<dd>9.375</dd>\n",
       "\t<dt>50%</dt>\n",
       "\t\t<dd>10.05</dd>\n",
       "\t<dt>75%</dt>\n",
       "\t\t<dd>12.725</dd>\n",
       "\t<dt>100%</dt>\n",
       "\t\t<dd>20.4</dd>\n",
       "</dl>\n"
      ],
      "text/latex": [
       "\\begin{description*}\n",
       "\\item[0\\textbackslash{}\\%] 7.6\n",
       "\\item[25\\textbackslash{}\\%] 9.375\n",
       "\\item[50\\textbackslash{}\\%] 10.05\n",
       "\\item[75\\textbackslash{}\\%] 12.725\n",
       "\\item[100\\textbackslash{}\\%] 20.4\n",
       "\\end{description*}\n"
      ],
      "text/markdown": [
       "0%\n",
       ":   7.625%\n",
       ":   9.37550%\n",
       ":   10.0575%\n",
       ":   12.725100%\n",
       ":   20.4\n",
       "\n"
      ],
      "text/plain": [
       "    0%    25%    50%    75%   100% \n",
       " 7.600  9.375 10.050 12.725 20.400 "
      ]
     },
     "metadata": {},
     "output_type": "display_data"
    }
   ],
   "source": [
    "sort(datos)\n",
    "quantile(datos)"
   ]
  },
  {
   "cell_type": "code",
   "execution_count": 4,
   "metadata": {},
   "outputs": [
    {
     "name": "stdout",
     "output_type": "stream",
     "text": [
      "La media es: 11.60833\n",
      "La varianza es: 14.41538\n",
      "La desviación es: 3.796759\n",
      "Coeficiente de variación: 0.3270718"
     ]
    }
   ],
   "source": [
    "cat(\"La media es:\", mean(datos))\n",
    "cat(\"\\nLa varianza es:\", var(datos))\n",
    "cat(\"\\nLa desviación es:\", sd(datos))\n",
    "cat(\"\\nCoeficiente de variación:\", sd(datos)/mean(datos))"
   ]
  },
  {
   "cell_type": "code",
   "execution_count": 5,
   "metadata": {},
   "outputs": [
    {
     "name": "stdout",
     "output_type": "stream",
     "text": [
      "La media es: 7.216667\n",
      "La varianza es: 11.00879\n",
      "La desviación es: 3.317949\n",
      "Coeficiente de variación: 0.5261098"
     ]
    }
   ],
   "source": [
    "datos1 <- c(7.5,8.2,3.1,5.6,8.2,9.3,6.5,7.0,9.3,1.2,14.5,6.2)\n",
    "\n",
    "cat(\"La media es:\", mean(datos1))\n",
    "cat(\"\\nLa varianza es:\", var(datos1))\n",
    "cat(\"\\nLa desviación es:\", sd(datos1))\n",
    "cat(\"\\nCoeficiente de variación:\", sd(datos)/mean(datos1))"
   ]
  },
  {
   "cell_type": "code",
   "execution_count": 6,
   "metadata": {},
   "outputs": [
    {
     "data": {
      "image/png": "[encoded data removed]",
      "text/plain": [
       "plot without title"
      ]
     },
     "metadata": {},
     "output_type": "display_data"
    }
   ],
   "source": [
    "# Ver: https://es.wikipedia.org/wiki/Diagrama_de_caja\n",
    "boxplot(datos)"
   ]
  },
  {
   "cell_type": "code",
   "execution_count": 7,
   "metadata": {},
   "outputs": [
    {
     "data": {
      "image/png": "[encoded data removed]",
      "text/plain": [
       "Plot with title “Histogram of datos”"
      ]
     },
     "metadata": {},
     "output_type": "display_data"
    }
   ],
   "source": [
    "hist(datos)"
   ]
  },
  {
   "cell_type": "code",
   "execution_count": 8,
   "metadata": {},
   "outputs": [
    {
     "data": {
      "text/plain": [
       "    color.ojos\n",
       "sexo 1 2 3 4\n",
       "   1 3 5 2 0\n",
       "   2 1 2 1 1"
      ]
     },
     "metadata": {},
     "output_type": "display_data"
    },
    {
     "data": {
      "text/plain": [
       "    color.ojos\n",
       "sexo          1          2          3          4\n",
       "   1 0.20000000 0.33333333 0.13333333 0.00000000\n",
       "   2 0.06666667 0.13333333 0.06666667 0.06666667"
      ]
     },
     "metadata": {},
     "output_type": "display_data"
    },
    {
     "data": {
      "text/plain": [
       "    color.ojos\n",
       "sexo   1   2   3   4\n",
       "   1 0.3 0.5 0.2 0.0\n",
       "   2 0.2 0.4 0.2 0.2"
      ]
     },
     "metadata": {},
     "output_type": "display_data"
    },
    {
     "data": {
      "text/plain": [
       "    color.ojos\n",
       "sexo         1         2         3         4\n",
       "   1 0.7500000 0.7142857 0.6666667 0.0000000\n",
       "   2 0.2500000 0.2857143 0.3333333 1.0000000"
      ]
     },
     "metadata": {},
     "output_type": "display_data"
    }
   ],
   "source": [
    "# Tablas de contingencia\n",
    "peso <- c(56, 67, 65, 78, 49, 87, 55, 63, 70, 72, 79, 52, 60, 78, 90)\n",
    "sexo <- c(1,1,1,2,1,2,1,1,1,2,1,1,1,2,2)\n",
    "color.ojos <- c(1,2,1,2,2,2,3,3,1,4,2,2,2,3,1)\n",
    "\n",
    "table(sexo, color.ojos)\n",
    "prop.table(table(sexo, color.ojos)) # porcentajes por celda\n",
    "prop.table(table(sexo, color.ojos),1) # porcentajes por fila\n",
    "prop.table(table(sexo, color.ojos),2) # porcentaje por columna"
   ]
  },
  {
   "cell_type": "code",
   "execution_count": 9,
   "metadata": {},
   "outputs": [
    {
     "data": {
      "text/plain": [
       "color.ojos\n",
       "1 2 3 4 \n",
       "4 7 3 1 "
      ]
     },
     "metadata": {},
     "output_type": "display_data"
    }
   ],
   "source": [
    "table(color.ojos)"
   ]
  },
  {
   "cell_type": "code",
   "execution_count": 10,
   "metadata": {},
   "outputs": [
    {
     "data": {
      "image/png": "[encoded data removed]",
      "text/plain": [
       "plot without title"
      ]
     },
     "metadata": {},
     "output_type": "display_data"
    }
   ],
   "source": [
    "barplot(table(color.ojos))"
   ]
  },
  {
   "cell_type": "code",
   "execution_count": 11,
   "metadata": {},
   "outputs": [
    {
     "data": {
      "image/png": "[encoded data removed]",
      "text/plain": [
       "plot without title"
      ]
     },
     "metadata": {},
     "output_type": "display_data"
    }
   ],
   "source": [
    "pie(table(color.ojos))"
   ]
  }
 ],
 "metadata": {
  "kernelspec": {
   "display_name": "R",
   "language": "R",
   "name": "ir"
  },
  "language_info": {
   "codemirror_mode": "r",
   "file_extension": ".r",
   "mimetype": "text/x-r-source",
   "name": "R",
   "pygments_lexer": "r",
   "version": "3.5.2"
  }
 },
 "nbformat": 4,
 "nbformat_minor": 2
}
