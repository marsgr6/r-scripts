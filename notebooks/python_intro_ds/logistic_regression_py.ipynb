{
 "cells": [
  {
   "cell_type": "markdown",
   "metadata": {},
   "source": [
    "## Logistic regression\n",
    "\n",
    "Logistic Regression is a Machine Learning classification algorithm that is used to predict the probability of a categorical dependent variable. In logistic regression, the dependent variable is a binary variable that contains data coded as 1 (yes, success, etc.) or 0 (no, failure, etc.). In other words, the logistic regression model predicts P(Y=1) as a function of X.\n",
    "\n",
    "### Sources:\n",
    "- https://towardsdatascience.com/building-a-logistic-regression-in-python-step-by-step-becd4d56c9c8\n",
    "- http://www.data-mania.com/blog/logistic-regression-example-in-python/\n",
    "- https://onlinecourses.science.psu.edu/stat504/node/149\n",
    "- https://codesachin.wordpress.com/2015/08/16/logistic-regression-for-dummies/\n",
    "\n",
    "### Data: https://drive.google.com/open?id=0B-dmEvN59Z2ZQWhFekd3ZnRVajA\n"
   ]
  },
  {
   "cell_type": "code",
   "execution_count": 1,
   "metadata": {},
   "outputs": [
    {
     "data": {
      "text/html": [
       "<div>\n",
       "<style scoped>\n",
       "    .dataframe tbody tr th:only-of-type {\n",
       "        vertical-align: middle;\n",
       "    }\n",
       "\n",
       "    .dataframe tbody tr th {\n",
       "        vertical-align: top;\n",
       "    }\n",
       "\n",
       "    .dataframe thead th {\n",
       "        text-align: right;\n",
       "    }\n",
       "</style>\n",
       "<table border=\"1\" class=\"dataframe\">\n",
       "  <thead>\n",
       "    <tr style=\"text-align: right;\">\n",
       "      <th></th>\n",
       "      <th>PRECIPITATION.mm.</th>\n",
       "      <th>X</th>\n",
       "      <th>Y</th>\n",
       "      <th>PL2</th>\n",
       "    </tr>\n",
       "  </thead>\n",
       "  <tbody>\n",
       "    <tr>\n",
       "      <th>0</th>\n",
       "      <td>9.3</td>\n",
       "      <td>-1.097987</td>\n",
       "      <td>1.562858</td>\n",
       "      <td>UH</td>\n",
       "    </tr>\n",
       "    <tr>\n",
       "      <th>1</th>\n",
       "      <td>0.1</td>\n",
       "      <td>-2.602452</td>\n",
       "      <td>-0.948759</td>\n",
       "      <td>UH</td>\n",
       "    </tr>\n",
       "    <tr>\n",
       "      <th>2</th>\n",
       "      <td>0.0</td>\n",
       "      <td>-3.238200</td>\n",
       "      <td>0.107988</td>\n",
       "      <td>UH</td>\n",
       "    </tr>\n",
       "    <tr>\n",
       "      <th>3</th>\n",
       "      <td>0.0</td>\n",
       "      <td>1.807980</td>\n",
       "      <td>1.812404</td>\n",
       "      <td>UH</td>\n",
       "    </tr>\n",
       "    <tr>\n",
       "      <th>4</th>\n",
       "      <td>0.0</td>\n",
       "      <td>1.482232</td>\n",
       "      <td>1.473462</td>\n",
       "      <td>UH</td>\n",
       "    </tr>\n",
       "  </tbody>\n",
       "</table>\n",
       "</div>"
      ],
      "text/plain": [
       "   PRECIPITATION.mm.         X         Y PL2\n",
       "0                9.3 -1.097987  1.562858  UH\n",
       "1                0.1 -2.602452 -0.948759  UH\n",
       "2                0.0 -3.238200  0.107988  UH\n",
       "3                0.0  1.807980  1.812404  UH\n",
       "4                0.0  1.482232  1.473462  UH"
      ]
     },
     "execution_count": 1,
     "metadata": {},
     "output_type": "execute_result"
    }
   ],
   "source": [
    "import pandas as pd\n",
    "\n",
    "data = pd.read_csv(\"binClassData.csv\")\n",
    "data.head()"
   ]
  },
  {
   "cell_type": "code",
   "execution_count": 2,
   "metadata": {},
   "outputs": [
    {
     "data": {
      "text/html": [
       "<div>\n",
       "<style scoped>\n",
       "    .dataframe tbody tr th:only-of-type {\n",
       "        vertical-align: middle;\n",
       "    }\n",
       "\n",
       "    .dataframe tbody tr th {\n",
       "        vertical-align: top;\n",
       "    }\n",
       "\n",
       "    .dataframe thead th {\n",
       "        text-align: right;\n",
       "    }\n",
       "</style>\n",
       "<table border=\"1\" class=\"dataframe\">\n",
       "  <thead>\n",
       "    <tr style=\"text-align: right;\">\n",
       "      <th></th>\n",
       "      <th>PRECIPITATION.mm.</th>\n",
       "      <th>X</th>\n",
       "      <th>Y</th>\n",
       "    </tr>\n",
       "  </thead>\n",
       "  <tbody>\n",
       "    <tr>\n",
       "      <th>count</th>\n",
       "      <td>1587.000000</td>\n",
       "      <td>1587.000000</td>\n",
       "      <td>1587.000000</td>\n",
       "    </tr>\n",
       "    <tr>\n",
       "      <th>mean</th>\n",
       "      <td>3.111483</td>\n",
       "      <td>-0.508142</td>\n",
       "      <td>0.981576</td>\n",
       "    </tr>\n",
       "    <tr>\n",
       "      <th>std</th>\n",
       "      <td>6.195972</td>\n",
       "      <td>1.397499</td>\n",
       "      <td>0.879884</td>\n",
       "    </tr>\n",
       "    <tr>\n",
       "      <th>min</th>\n",
       "      <td>0.000000</td>\n",
       "      <td>-6.233477</td>\n",
       "      <td>-4.155201</td>\n",
       "    </tr>\n",
       "    <tr>\n",
       "      <th>25%</th>\n",
       "      <td>0.000000</td>\n",
       "      <td>-1.372969</td>\n",
       "      <td>0.568808</td>\n",
       "    </tr>\n",
       "    <tr>\n",
       "      <th>50%</th>\n",
       "      <td>0.100000</td>\n",
       "      <td>-0.609217</td>\n",
       "      <td>1.164141</td>\n",
       "    </tr>\n",
       "    <tr>\n",
       "      <th>75%</th>\n",
       "      <td>3.111483</td>\n",
       "      <td>0.611006</td>\n",
       "      <td>1.554612</td>\n",
       "    </tr>\n",
       "    <tr>\n",
       "      <th>max</th>\n",
       "      <td>40.300000</td>\n",
       "      <td>2.847243</td>\n",
       "      <td>3.894491</td>\n",
       "    </tr>\n",
       "  </tbody>\n",
       "</table>\n",
       "</div>"
      ],
      "text/plain": [
       "       PRECIPITATION.mm.            X            Y\n",
       "count        1587.000000  1587.000000  1587.000000\n",
       "mean            3.111483    -0.508142     0.981576\n",
       "std             6.195972     1.397499     0.879884\n",
       "min             0.000000    -6.233477    -4.155201\n",
       "25%             0.000000    -1.372969     0.568808\n",
       "50%             0.100000    -0.609217     1.164141\n",
       "75%             3.111483     0.611006     1.554612\n",
       "max            40.300000     2.847243     3.894491"
      ]
     },
     "execution_count": 2,
     "metadata": {},
     "output_type": "execute_result"
    }
   ],
   "source": [
    "data.describe()"
   ]
  },
  {
   "cell_type": "code",
   "execution_count": 3,
   "metadata": {},
   "outputs": [
    {
     "data": {
      "text/plain": [
       "count     1587\n",
       "unique       2\n",
       "top         UH\n",
       "freq      1180\n",
       "Name: PL2, dtype: object"
      ]
     },
     "execution_count": 3,
     "metadata": {},
     "output_type": "execute_result"
    }
   ],
   "source": [
    "data['PL2'].describe()"
   ]
  },
  {
   "cell_type": "code",
   "execution_count": 4,
   "metadata": {},
   "outputs": [
    {
     "data": {
      "text/plain": [
       "<seaborn.axisgrid.PairGrid at 0x7f8a58a2a908>"
      ]
     },
     "execution_count": 4,
     "metadata": {},
     "output_type": "execute_result"
    }
   ],
   "source": [
    "import seaborn as sns\n",
    "sns.countplot(data['PL2'])\n",
    "sns.pairplot(data, hue=\"PL2\", diag_kind=\"kde\")"
   ]
  },
  {
   "cell_type": "code",
   "execution_count": 5,
   "metadata": {},
   "outputs": [
    {
     "data": {
      "text/html": [
       "<div>\n",
       "<style scoped>\n",
       "    .dataframe tbody tr th:only-of-type {\n",
       "        vertical-align: middle;\n",
       "    }\n",
       "\n",
       "    .dataframe tbody tr th {\n",
       "        vertical-align: top;\n",
       "    }\n",
       "\n",
       "    .dataframe thead th {\n",
       "        text-align: right;\n",
       "    }\n",
       "</style>\n",
       "<table border=\"1\" class=\"dataframe\">\n",
       "  <thead>\n",
       "    <tr style=\"text-align: right;\">\n",
       "      <th></th>\n",
       "      <th>PRECIPITATION.mm.</th>\n",
       "      <th>X</th>\n",
       "      <th>Y</th>\n",
       "      <th>PL2</th>\n",
       "      <th>Class</th>\n",
       "    </tr>\n",
       "  </thead>\n",
       "  <tbody>\n",
       "    <tr>\n",
       "      <th>0</th>\n",
       "      <td>9.3</td>\n",
       "      <td>-1.097987</td>\n",
       "      <td>1.562858</td>\n",
       "      <td>UH</td>\n",
       "      <td>1</td>\n",
       "    </tr>\n",
       "    <tr>\n",
       "      <th>1</th>\n",
       "      <td>0.1</td>\n",
       "      <td>-2.602452</td>\n",
       "      <td>-0.948759</td>\n",
       "      <td>UH</td>\n",
       "      <td>1</td>\n",
       "    </tr>\n",
       "    <tr>\n",
       "      <th>2</th>\n",
       "      <td>0.0</td>\n",
       "      <td>-3.238200</td>\n",
       "      <td>0.107988</td>\n",
       "      <td>UH</td>\n",
       "      <td>1</td>\n",
       "    </tr>\n",
       "    <tr>\n",
       "      <th>3</th>\n",
       "      <td>0.0</td>\n",
       "      <td>1.807980</td>\n",
       "      <td>1.812404</td>\n",
       "      <td>UH</td>\n",
       "      <td>1</td>\n",
       "    </tr>\n",
       "    <tr>\n",
       "      <th>4</th>\n",
       "      <td>0.0</td>\n",
       "      <td>1.482232</td>\n",
       "      <td>1.473462</td>\n",
       "      <td>UH</td>\n",
       "      <td>1</td>\n",
       "    </tr>\n",
       "  </tbody>\n",
       "</table>\n",
       "</div>"
      ],
      "text/plain": [
       "   PRECIPITATION.mm.         X         Y PL2  Class\n",
       "0                9.3 -1.097987  1.562858  UH      1\n",
       "1                0.1 -2.602452 -0.948759  UH      1\n",
       "2                0.0 -3.238200  0.107988  UH      1\n",
       "3                0.0  1.807980  1.812404  UH      1\n",
       "4                0.0  1.482232  1.473462  UH      1"
      ]
     },
     "execution_count": 5,
     "metadata": {},
     "output_type": "execute_result"
    }
   ],
   "source": [
    "import numpy as np\n",
    "data['Class'] = np.where(data['PL2']==\"UH\", 1, 0)\n",
    "data.head()"
   ]
  },
  {
   "cell_type": "code",
   "execution_count": 6,
   "metadata": {},
   "outputs": [],
   "source": [
    "# Vamos a implementar un modelo de aprendizaje automático\n",
    "# para clasificar los datos en saludable y no saludable \n",
    "# a partir de los resultados de un análisis de regresión logística.\n",
    "\n",
    "# Importamos de la librería sklearn la función \n",
    "# train_test_split para construir nuestros conjuntos\n",
    "# de entrenamiento y prueba\n",
    "\n",
    "from sklearn.model_selection import train_test_split\n",
    "\n",
    "# Separamos nuestros datos en atributos\n",
    "X = data[data.columns[0:3]]\n",
    "\n",
    "# Y clase (valor continuo PM2.5)\n",
    "y = data[data.columns[4]]\n",
    "\n",
    "# random_state: semilla del generador de números aleatorios\n",
    "# test_size: los datos se han separado en\n",
    "#   entrenamiento: 80%\n",
    "#   test: 20%\n",
    "X_train, X_test, y_train, y_test = train_test_split(X, y, test_size=0.2, \n",
    "                                                    random_state=42)"
   ]
  },
  {
   "cell_type": "code",
   "execution_count": 7,
   "metadata": {},
   "outputs": [
    {
     "data": {
      "text/plain": [
       "LogisticRegression(C=1.0, class_weight=None, dual=False, fit_intercept=True,\n",
       "          intercept_scaling=1, max_iter=100, multi_class='ovr', n_jobs=1,\n",
       "          penalty='l2', random_state=None, solver='liblinear', tol=0.0001,\n",
       "          verbose=0, warm_start=False)"
      ]
     },
     "execution_count": 7,
     "metadata": {},
     "output_type": "execute_result"
    }
   ],
   "source": [
    "# Importamos el regresor LogisticRegression\n",
    "\n",
    "from sklearn.linear_model import LogisticRegression\n",
    "\n",
    "LogReg = LogisticRegression()\n",
    "LogReg.fit(X_train, y_train)"
   ]
  },
  {
   "cell_type": "code",
   "execution_count": 8,
   "metadata": {},
   "outputs": [
    {
     "data": {
      "text/plain": [
       "array([[ 27,  60],\n",
       "       [  8, 223]])"
      ]
     },
     "execution_count": 8,
     "metadata": {},
     "output_type": "execute_result"
    }
   ],
   "source": [
    "from sklearn import metrics \n",
    "from sklearn.metrics import classification_report\n",
    "\n",
    "# Vamos a predecir la clase para el conjunto de test\n",
    "y_pred = LogReg.predict(X_test)\n",
    "\n",
    "# Matriz de confusión\n",
    "from sklearn.metrics import confusion_matrix\n",
    "cm = confusion_matrix(y_test, y_pred)\n",
    "cm"
   ]
  },
  {
   "cell_type": "code",
   "execution_count": 9,
   "metadata": {},
   "outputs": [
    {
     "name": "stdout",
     "output_type": "stream",
     "text": [
      "             precision    recall  f1-score   support\n",
      "\n",
      "          0       0.77      0.31      0.44        87\n",
      "          1       0.79      0.97      0.87       231\n",
      "\n",
      "avg / total       0.78      0.79      0.75       318\n",
      "\n"
     ]
    }
   ],
   "source": [
    "# Reporte de la clasificación\n",
    "print(classification_report(y_test, y_pred))"
   ]
  },
  {
   "cell_type": "code",
   "execution_count": 10,
   "metadata": {},
   "outputs": [
    {
     "data": {
      "text/plain": [
       "<seaborn.axisgrid.FacetGrid at 0x7f8a42edb780>"
      ]
     },
     "execution_count": 10,
     "metadata": {},
     "output_type": "execute_result"
    },
    {
     "data": {
      "image/png": "[encoded data removed]",
      "text/plain": [
       "<matplotlib.figure.Figure at 0x7f8a42edb860>"
      ]
     },
     "metadata": {},
     "output_type": "display_data"
    }
   ],
   "source": [
    "# Probabilidad de predicción\n",
    "y_prob = LogReg.predict_proba(X_test)\n",
    "col = np.where(y_pred==1, \"green\", \"red\")\n",
    "pdata = pd.DataFrame()\n",
    "pdata['X'] = X_test['X']\n",
    "pdata['Pred_prob'] = y_prob[:,1]\n",
    "pdata['Pred'] = y_pred\n",
    "pdata['Class'] = y_test\n",
    "\n",
    "sns.lmplot(x='X', y='Pred_prob', data=pdata, hue='Class', fit_reg=False)"
   ]
  },
  {
   "cell_type": "code",
   "execution_count": 11,
   "metadata": {},
   "outputs": [
    {
     "name": "stdout",
     "output_type": "stream",
     "text": [
      "[[  5  82]\n",
      " [  0 231]]\n",
      "             precision    recall  f1-score   support\n",
      "\n",
      "          0       1.00      0.06      0.11        87\n",
      "          1       0.74      1.00      0.85       231\n",
      "\n",
      "avg / total       0.81      0.74      0.65       318\n",
      "\n"
     ]
    }
   ],
   "source": [
    "# Usaremos un umbral de clasificación dado el desbalance \n",
    "# de clases P(0) = 0.26, P(1) = 1180/1587 = 0.74\n",
    "\n",
    "threshold = 1-1180/1587\n",
    "y_threshold = np.where(y_prob[:,1]>threshold, 1, 0)\n",
    "\n",
    "cm = confusion_matrix(y_test, y_threshold)\n",
    "print(cm)\n",
    "print(classification_report(y_test, y_threshold))"
   ]
  }
 ],
 "metadata": {
  "kernelspec": {
   "display_name": "Python 3",
   "language": "python",
   "name": "python3"
  },
  "language_info": {
   "codemirror_mode": {
    "name": "ipython",
    "version": 3
   },
   "file_extension": ".py",
   "mimetype": "text/x-python",
   "name": "python",
   "nbconvert_exporter": "python",
   "pygments_lexer": "ipython3",
   "version": "3.6.4"
  }
 },
 "nbformat": 4,
 "nbformat_minor": 2
}
