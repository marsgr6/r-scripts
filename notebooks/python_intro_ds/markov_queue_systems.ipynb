{
 "cells": [
  {
   "cell_type": "markdown",
   "metadata": {},
   "source": [
    "# Markov chains\n",
    "\n",
    "A salesman lives in town ‘a’ and is responsible for towns ‘a’, ‘b’,\n",
    "and ‘c’. Each week he is required to visit a different town. When\n",
    "he is in his home town, it makes no difference which town he\n",
    "visits next so he flips a coin and if it is heads he goes to ‘b’ and if\n",
    "tails he goes to ‘c’. However, after spending a week away from\n",
    "home he has a slight preference for going home so when he is in\n",
    "either towns ‘b’ or ‘c’ he flips two coins. If two heads occur, then\n",
    "he goes to the other town; otherwise he goes to ‘a’. The\n",
    "successive towns that he visits form a Markov chain with state\n",
    "space $E = \\{a, b, c\\}$ where the random variable $X_n$ equals $a$, $b$, or\n",
    "$c$ according to his location during week $n$.\n",
    "\n",
    "![Imgur](https://i.imgur.com/h8iGivu.png)\n",
    "\n",
    "- See: https://drive.google.com/file/d/0B-dmEvN59Z2ZNVh5MDV5YjlxMzQ/view\n",
    "\n",
    "\n",
    "### Start with theoretical solution\n",
    "\n",
    "$$\n",
    "\\boldsymbol{ \\pi P = \\pi}, \\\\\n",
    "\\sum_{i \\in E} \\pi_i = 1\n",
    "$$\n",
    "\n",
    "$$\n",
    "-\\pi_a + 0.75 \\pi_b + 0.75 \\pi_c = 0 \\\\\n",
    "0.5 \\pi_a - \\pi_b + 0.25 \\pi_c = 0 \\\\\n",
    "0.5 \\pi_a + 0.25 \\pi_b - \\pi_c = 0 \\\\\n",
    "$$\n",
    "\n",
    "$$\n",
    "\\pi_a + \\pi_b + \\pi_c = 1\n",
    "$$"
   ]
  },
  {
   "cell_type": "code",
   "execution_count": 1,
   "metadata": {},
   "outputs": [
    {
     "name": "stdout",
     "output_type": "stream",
     "text": [
      "Solution for pa, pb, bc: [[ 0.42857143  0.28571429  0.28571429]]\n"
     ]
    }
   ],
   "source": [
    "import numpy as np\n",
    "import matplotlib.pyplot as plt\n",
    "\n",
    "A = np.matrix('0.5 -1 0.25; 0.5 0.25 -1; 1 1 1')\n",
    "\n",
    "b = np.matrix('0; 0; 1')\n",
    "\n",
    "pi = np.linalg.solve(A, b)\n",
    "print(\"Solution for pa, pb, bc:\", pi.T)"
   ]
  },
  {
   "cell_type": "markdown",
   "metadata": {},
   "source": [
    "### Numerical solution\n",
    "\n",
    "The n-step transition probability from \n",
    "$i$ to $j$ is the probability of being at $j$ exactly $n$ steps after being at $i$. \n",
    "We denote this by $q^{(n)}_{ij}$:\n",
    "$$\n",
    "q^{(n)}_{ij} = P (X_n = j|X_0 = i).\n",
    "$$\n",
    "The $n^{th}$ power of the transition matrix gives the\n",
    "n-step transition probabilities\n",
    "$$\n",
    "q^{(n)}_{ij} \\text{ is the } (i, j) \\text{ entry of }Q^n.\n",
    "$$"
   ]
  },
  {
   "cell_type": "code",
   "execution_count": 2,
   "metadata": {},
   "outputs": [
    {
     "data": {
      "image/png": "[encoded data removed]",
      "text/plain": [
       "<Figure size 432x288 with 1 Axes>"
      ]
     },
     "metadata": {},
     "output_type": "display_data"
    }
   ],
   "source": [
    "Q = np.matrix(\"0 0.5 0.5; 0.75 0 0.25; 0.75 0.25 0\")\n",
    "\n",
    "n = 20\n",
    "\n",
    "cities = {'a': 0, 'b': 1, 'c': 2}\n",
    "\n",
    "start_city, final_city = 'b', 'a'\n",
    "\n",
    "p_final_city = []\n",
    "\n",
    "for i in range(n):\n",
    "    p_final_city += [(Q**i)[cities[start_city], cities[final_city]]]\n",
    "\n",
    "plt.hlines(pi[cities[final_city]], 0, n, 'r')\n",
    "plt.plot(p_final_city, ':ko')\n",
    "plt.show()"
   ]
  },
  {
   "cell_type": "markdown",
   "metadata": {},
   "source": [
    "### MM1 system simulation\n",
    "\n",
    "An operator of a small grain elevator has a single unloading dock.\n",
    "Arrivals of trucks during the busy season form a Poisson process with a mean arrival\n",
    "rate of four per hour. Because of varying loads (and desire of the drivers to talk) the\n",
    "length of time each truck spends in front of the unloading dock is approximated\n",
    "by an exponential random variable with a mean time of 14 minutes. Assuming that\n",
    "the parking spaces are unlimited, the M/M/1 queueing system describes the waiting\n",
    "lines that form. Calculate:\n",
    "   1. The probability of the unloading dock being idle.\n",
    "   2. The probability that there are exactly three trucks waiting.\n",
    "   3. The probability that four or more trucks are in the system.\n",
    "   \n",
    "### Poisson process\n",
    "\n",
    "Let' start simulating a poisson process"
   ]
  },
  {
   "cell_type": "code",
   "execution_count": 3,
   "metadata": {},
   "outputs": [
    {
     "data": {
      "image/png": "[encoded data removed]",
      "text/plain": [
       "<Figure size 432x288 with 1 Axes>"
      ]
     },
     "metadata": {},
     "output_type": "display_data"
    }
   ],
   "source": [
    "from scipy.stats import poisson\n",
    "from scipy.stats import expon\n",
    "\n",
    "t = 1  # We will simulate 1 hour\n",
    "lmbda = 4  # 4 arrivals per hour\n",
    "\n",
    "def arrivals():\n",
    "    a = [0.0]\n",
    "    while a[-1] < t:\n",
    "        a.append(a[-1] + expon.rvs(scale=1/lmbda))\n",
    "        \n",
    "    if a[-1] > t:\n",
    "        a.pop()\n",
    "        \n",
    "    return a\n",
    "\n",
    "rep = 10000\n",
    "arrival_count = [len(arrivals()) - 1 for i in range(rep)]\n",
    "\n",
    "unique, counts = np.unique(arrival_count, return_counts=True)\n",
    "plt.bar(unique, counts / rep)\n",
    "\n",
    "x = np.linspace(0, max(arrival_count), dtype='int')  # variable range\n",
    "px = poisson.pmf(x, lmbda)\n",
    "plt.plot(x, px, '--ro')\n",
    "\n",
    "plt.show()"
   ]
  },
  {
   "cell_type": "markdown",
   "metadata": {},
   "source": [
    "### MM1 Queue waiting times simulation"
   ]
  },
  {
   "cell_type": "code",
   "execution_count": 14,
   "metadata": {},
   "outputs": [
    {
     "name": "stdout",
     "output_type": "stream",
     "text": [
      "C[ 0 ]:  0.13 0.13 0.18 0.31 \n",
      "C[ 1 ]:  0.24 0.31 0.1 0.41 \n",
      "C[ 2 ]:  0.52 0.52 0.13 0.65 \n",
      "C[ 3 ]:  0.56 0.65 0.38 1.02 \n"
     ]
    }
   ],
   "source": [
    "def queue_simulation(lmbda, mu, time, warmup=1000):\n",
    "    C = []\n",
    "    start_time = 0\n",
    "    end_time = 0\n",
    "    arrival_time = 0\n",
    "    while end_time < time:\n",
    "        arrival_time += expon.rvs(scale=1/lmbda)\n",
    "        start_time = max(arrival_time, end_time) \n",
    "        service_time = expon.rvs(scale=1/mu)\n",
    "        end_time = start_time + service_time\n",
    "        if arrival_time > warmup:\n",
    "            C.append((arrival_time, start_time, service_time, end_time))\n",
    "        \n",
    "    return C\n",
    "\n",
    "def print_customers(C):\n",
    "    for i, c in enumerate(C):\n",
    "        print(\"C[\", i, \"]: \", end=\" \")\n",
    "        for e in c:\n",
    "            print(round(e, 2), end=\" \")\n",
    "        print()\n",
    "        \n",
    "print_customers(queue_simulation(4, 60/14, 1, 0))"
   ]
  },
  {
   "cell_type": "code",
   "execution_count": 20,
   "metadata": {},
   "outputs": [
    {
     "name": "stdout",
     "output_type": "stream",
     "text": [
      "W =  3.55957168256 , Wq =  3.32636776176\n"
     ]
    }
   ],
   "source": [
    "lmbda, mu, time, warmup = 4, 60/14, 100000, 3000\n",
    "C = np.array(queue_simulation(lmbda, mu, time, warmup))\n",
    "\n",
    "W = np.mean(C[:,3] - C[:,0])\n",
    "Wq = np.mean(C[:,1] - C[:,0])\n",
    "print(\"W = \", W, \", Wq = \", Wq)"
   ]
  },
  {
   "cell_type": "markdown",
   "metadata": {},
   "source": [
    "- Try to figure out if the values above are correct. That is, validate the simulation."
   ]
  }
 ],
 "metadata": {
  "kernelspec": {
   "display_name": "Python 3",
   "language": "python",
   "name": "python3"
  },
  "language_info": {
   "codemirror_mode": {
    "name": "ipython",
    "version": 3
   },
   "file_extension": ".py",
   "mimetype": "text/x-python",
   "name": "python",
   "nbconvert_exporter": "python",
   "pygments_lexer": "ipython3",
   "version": "3.6.3"
  }
 },
 "nbformat": 4,
 "nbformat_minor": 2
}
