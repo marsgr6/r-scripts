{
 "cells": [
  {
   "cell_type": "code",
   "execution_count": 43,
   "metadata": {},
   "outputs": [],
   "source": [
    "# Asignación\n",
    "# <variable> = <expresion>\n",
    "message = \"What's up, Doc?\"\n",
    "n = 17\n",
    "pi = 3.1415"
   ]
  },
  {
   "cell_type": "code",
   "execution_count": 44,
   "metadata": {},
   "outputs": [
    {
     "name": "stdout",
     "output_type": "stream",
     "text": [
      "<class 'str'>\n",
      "<class 'int'>\n",
      "<class 'float'>\n"
     ]
    }
   ],
   "source": [
    "print(type(message))\n",
    "print(type(n))\n",
    "print(type(pi))"
   ]
  },
  {
   "cell_type": "code",
   "execution_count": 45,
   "metadata": {},
   "outputs": [
    {
     "ename": "SyntaxError",
     "evalue": "invalid syntax (<ipython-input-45-bb20fab2e69e>, line 7)",
     "output_type": "error",
     "traceback": [
      "\u001b[0;36m  File \u001b[0;32m\"<ipython-input-45-bb20fab2e69e>\"\u001b[0;36m, line \u001b[0;32m7\u001b[0m\n\u001b[0;31m    76trombones = 'big parade' # No válido empieza por un número\u001b[0m\n\u001b[0m              ^\u001b[0m\n\u001b[0;31mSyntaxError\u001b[0m\u001b[0;31m:\u001b[0m invalid syntax\n"
     ]
    }
   ],
   "source": [
    "# Variables\n",
    "# Los nombres de variables pueden ser arbitrariamente largos.\n",
    "# Pueden contener tanto letras como números, pero tienen que\n",
    "# comenzar con una letra.\n",
    "# El uso de mayúsculas y minúsculas es importantes. Bruce y\n",
    "# bruce son diferentes variables.\n",
    "76trombones = 'big parade' # No válido empieza por un número\n",
    "more$ = 1000000 # No válido usa el carácter $\n",
    "class = 'Computer Science 101' # no válido, class es una palabra reservada"
   ]
  },
  {
   "cell_type": "code",
   "execution_count": 46,
   "metadata": {},
   "outputs": [
    {
     "name": "stdout",
     "output_type": "stream",
     "text": [
      "52\n",
      "112\n",
      "25\n"
     ]
    }
   ],
   "source": [
    "# Operadores\n",
    "# Los símbolos +, -, /, y el uso de paréntesis para agrupar,\n",
    "# significan en Python lo que significan en matemática.\n",
    "print(20 + 32)\n",
    "print((5 + 9) * (15 - 7))\n",
    "\n",
    "# El asterisco (*) es el sıímbolo de la multiplicación, \n",
    "# y ** es el símbolo de la exponenciación.\n",
    "print(5**2)"
   ]
  },
  {
   "cell_type": "code",
   "execution_count": 47,
   "metadata": {},
   "outputs": [
    {
     "data": {
      "text/plain": [
       "True"
      ]
     },
     "execution_count": 47,
     "metadata": {},
     "output_type": "execute_result"
    }
   ],
   "source": [
    "# Los operadores de comparación devuelven valores\n",
    "# booleanos, verdadero (True) si se cumple la operación de\n",
    "# comparación, y falso (False) en caso contrario.\n",
    "2 < 4"
   ]
  },
  {
   "cell_type": "code",
   "execution_count": 48,
   "metadata": {},
   "outputs": [
    {
     "data": {
      "text/plain": [
       "False"
      ]
     },
     "execution_count": 48,
     "metadata": {},
     "output_type": "execute_result"
    }
   ],
   "source": [
    "2 > 4"
   ]
  },
  {
   "cell_type": "code",
   "execution_count": 49,
   "metadata": {},
   "outputs": [
    {
     "data": {
      "text/plain": [
       "False"
      ]
     },
     "execution_count": 49,
     "metadata": {},
     "output_type": "execute_result"
    }
   ],
   "source": [
    "# Note que el operador de comparación == es diferente al\n",
    "# operador de asignación =\n",
    "2 == 4"
   ]
  },
  {
   "cell_type": "code",
   "execution_count": 50,
   "metadata": {},
   "outputs": [
    {
     "data": {
      "text/plain": [
       "True"
      ]
     },
     "execution_count": 50,
     "metadata": {},
     "output_type": "execute_result"
    }
   ],
   "source": [
    "2 == 1+1"
   ]
  },
  {
   "cell_type": "code",
   "execution_count": 51,
   "metadata": {},
   "outputs": [
    {
     "data": {
      "text/plain": [
       "False"
      ]
     },
     "execution_count": 51,
     "metadata": {},
     "output_type": "execute_result"
    }
   ],
   "source": [
    "# Hay tres operadores lógicos en Python: \n",
    "# “y lógica”, o conjunción (and), \n",
    "# “o lógica” o disyunción (or) \n",
    "# y el “no lógico” o negación (not).\n",
    "True and False"
   ]
  },
  {
   "cell_type": "code",
   "execution_count": 52,
   "metadata": {},
   "outputs": [
    {
     "data": {
      "text/plain": [
       "0"
      ]
     },
     "execution_count": 52,
     "metadata": {},
     "output_type": "execute_result"
    }
   ],
   "source": [
    "1 and 0"
   ]
  },
  {
   "cell_type": "code",
   "execution_count": 53,
   "metadata": {},
   "outputs": [
    {
     "data": {
      "text/plain": [
       "False"
      ]
     },
     "execution_count": 53,
     "metadata": {},
     "output_type": "execute_result"
    }
   ],
   "source": [
    "not True"
   ]
  },
  {
   "cell_type": "code",
   "execution_count": 54,
   "metadata": {},
   "outputs": [
    {
     "data": {
      "text/plain": [
       "True"
      ]
     },
     "execution_count": 54,
     "metadata": {},
     "output_type": "execute_result"
    }
   ],
   "source": [
    "(True and False) or True"
   ]
  },
  {
   "cell_type": "code",
   "execution_count": 55,
   "metadata": {},
   "outputs": [
    {
     "data": {
      "text/plain": [
       "True"
      ]
     },
     "execution_count": 55,
     "metadata": {},
     "output_type": "execute_result"
    }
   ],
   "source": [
    "True and True or False # asociatividad por la izquierda"
   ]
  },
  {
   "cell_type": "code",
   "execution_count": 56,
   "metadata": {},
   "outputs": [
    {
     "data": {
      "text/plain": [
       "True"
      ]
     },
     "execution_count": 56,
     "metadata": {},
     "output_type": "execute_result"
    }
   ],
   "source": [
    "False and True or True"
   ]
  },
  {
   "cell_type": "code",
   "execution_count": 57,
   "metadata": {},
   "outputs": [
    {
     "data": {
      "text/plain": [
       "False"
      ]
     },
     "execution_count": 57,
     "metadata": {},
     "output_type": "execute_result"
    }
   ],
   "source": [
    "False and True or False"
   ]
  },
  {
   "cell_type": "code",
   "execution_count": 58,
   "metadata": {},
   "outputs": [
    {
     "name": "stdout",
     "output_type": "stream",
     "text": [
      "<class 'str'>\n"
     ]
    }
   ],
   "source": [
    "# (Llamando) funciones predefinidas\n",
    "betty = type(\"32\")\n",
    "print(betty)"
   ]
  },
  {
   "cell_type": "code",
   "execution_count": 59,
   "metadata": {},
   "outputs": [
    {
     "name": "stdout",
     "output_type": "stream",
     "text": [
      "94327617291488\n"
     ]
    },
    {
     "data": {
      "text/plain": [
       "94327617291488"
      ]
     },
     "execution_count": 59,
     "metadata": {},
     "output_type": "execute_result"
    }
   ],
   "source": [
    "# Cada valor tiene un id, que es un número único relacionado con\n",
    "# donde se almacena en la memoria del ordenador. El\n",
    "# identificador de una variable es el id del valor al que se refiere.\n",
    "print(id(3))\n",
    "betty = 3\n",
    "id(betty)"
   ]
  },
  {
   "cell_type": "code",
   "execution_count": 60,
   "metadata": {},
   "outputs": [
    {
     "data": {
      "text/plain": [
       "64"
      ]
     },
     "execution_count": 60,
     "metadata": {},
     "output_type": "execute_result"
    }
   ],
   "source": [
    "# Conversión de tipos de datos:\n",
    "int(\"32\") * 2 # Transforma el string \"32\" a entero"
   ]
  },
  {
   "cell_type": "code",
   "execution_count": 61,
   "metadata": {},
   "outputs": [
    {
     "ename": "ValueError",
     "evalue": "invalid literal for int() with base 10: 'Hello'",
     "output_type": "error",
     "traceback": [
      "\u001b[0;31m---------------------------------------------------------------------------\u001b[0m",
      "\u001b[0;31mValueError\u001b[0m                                Traceback (most recent call last)",
      "\u001b[0;32m<ipython-input-61-8194152cc895>\u001b[0m in \u001b[0;36m<module>\u001b[0;34m()\u001b[0m\n\u001b[0;32m----> 1\u001b[0;31m \u001b[0mint\u001b[0m\u001b[0;34m(\u001b[0m\u001b[0;34m\"Hello\"\u001b[0m\u001b[0;34m)\u001b[0m \u001b[0;31m# Error\u001b[0m\u001b[0;34m\u001b[0m\u001b[0m\n\u001b[0m",
      "\u001b[0;31mValueError\u001b[0m: invalid literal for int() with base 10: 'Hello'"
     ]
    }
   ],
   "source": [
    "int(\"Hello\") # Error"
   ]
  },
  {
   "cell_type": "code",
   "execution_count": 62,
   "metadata": {},
   "outputs": [
    {
     "data": {
      "text/plain": [
       "3"
      ]
     },
     "execution_count": 62,
     "metadata": {},
     "output_type": "execute_result"
    }
   ],
   "source": [
    "int(3.99999)"
   ]
  },
  {
   "cell_type": "code",
   "execution_count": 63,
   "metadata": {},
   "outputs": [
    {
     "data": {
      "text/plain": [
       "-2"
      ]
     },
     "execution_count": 63,
     "metadata": {},
     "output_type": "execute_result"
    }
   ],
   "source": [
    "int(-2.3)"
   ]
  },
  {
   "cell_type": "code",
   "execution_count": 64,
   "metadata": {},
   "outputs": [
    {
     "data": {
      "text/plain": [
       "32.0"
      ]
     },
     "execution_count": 64,
     "metadata": {},
     "output_type": "execute_result"
    }
   ],
   "source": [
    "float(32)"
   ]
  },
  {
   "cell_type": "code",
   "execution_count": 65,
   "metadata": {},
   "outputs": [
    {
     "data": {
      "text/plain": [
       "3.14159"
      ]
     },
     "execution_count": 65,
     "metadata": {},
     "output_type": "execute_result"
    }
   ],
   "source": [
    "float(\"3.14159\")"
   ]
  },
  {
   "cell_type": "code",
   "execution_count": 66,
   "metadata": {},
   "outputs": [
    {
     "data": {
      "text/plain": [
       "'3.14149'"
      ]
     },
     "execution_count": 66,
     "metadata": {},
     "output_type": "execute_result"
    }
   ],
   "source": [
    "str(3.14149)"
   ]
  },
  {
   "cell_type": "code",
   "execution_count": 71,
   "metadata": {},
   "outputs": [
    {
     "name": "stdout",
     "output_type": "stream",
     "text": [
      "x es positivo\n"
     ]
    }
   ],
   "source": [
    "# Condicionales\n",
    "# Sentencia if\n",
    "# Importante la indentación (espaciado) en Python indica los bloques de código\n",
    "# Un buen editor nos ayudará en la tarea de indentación\n",
    "x = 4\n",
    "if x > 0:\n",
    "    print(\"x es positivo\")\n",
    "\n",
    "# Indentación\n",
    "# linea tabs\n",
    "#   1     0\n",
    "#   2     0\n",
    "#   3     1"
   ]
  },
  {
   "cell_type": "code",
   "execution_count": null,
   "metadata": {
    "collapsed": true
   },
   "outputs": [],
   "source": [
    "# Al momento de pegar en la consola el código anterior\n",
    "# no debería encontrar error\n",
    "# la siguiente salida de la consola NO es código python\n",
    "# ejemplifica un error de indentación (espaciado)\n",
    "\n",
    "# El siguiente código es correcto\n",
    "# una vez definido el if x > 0:\n",
    "# se indenta (un tab) para la siguiente línea de código\n",
    ">>> if x > 0:\n",
    "...     print(\"x es positivo\")\n",
    "... \n",
    "x es positivo\n",
    "\n",
    "# El siguiente código es incorrecto\n",
    "# no se tomado en cuenta el tab para \n",
    "# el bloque interior del if\n",
    ">>> x = 4\n",
    ">>> if x > 0:\n",
    "... print(\"positivo\")\n",
    "  File \"<stdin>\", line 2\n",
    "    print(\"positivo\")\n",
    "        ^\n",
    "IndentationError: expected an indented block"
   ]
  },
  {
   "cell_type": "code",
   "execution_count": 72,
   "metadata": {},
   "outputs": [
    {
     "name": "stdout",
     "output_type": "stream",
     "text": [
      "x es negativo\n"
     ]
    }
   ],
   "source": [
    "# Analice el siguiente ejemplo y ponga especial cuidado\n",
    "# a la indentación\n",
    "x = -4\n",
    "if x > 0:\n",
    "    print(\"x es positivo\")\n",
    "else:\n",
    "    print(\"x es negativo\")\n",
    "    \n",
    "# Indentación\n",
    "# linea tabs\n",
    "#   1     0\n",
    "#   2     0\n",
    "#   3     1\n",
    "#   4     0\n",
    "#   5     1"
   ]
  },
  {
   "cell_type": "code",
   "execution_count": 73,
   "metadata": {},
   "outputs": [
    {
     "name": "stdout",
     "output_type": "stream",
     "text": [
      "5 y 5 son iguales\n"
     ]
    }
   ],
   "source": [
    "# Analice el siguiente ejemplo y ponga especial cuidado\n",
    "# a la indentación\n",
    "\n",
    "# Cuando hay más de dos posibilidades y necesitamos más de\n",
    "# dos ramas, podemos expresar un cálculo \n",
    "# usando condicionales encadenados:\n",
    "x = 5\n",
    "y = 5\n",
    "if x < y:\n",
    "    print(x, \"es menor que\", y)\n",
    "elif x > y:\n",
    "    print(x, \"es mayor que\", y)\n",
    "else:\n",
    "    print(x, \"y\", y, \"son iguales\")\n",
    "    \n",
    "# Indentación\n",
    "# linea tabs\n",
    "#   1     0\n",
    "#   2     0\n",
    "#   3     0\n",
    "#   4     1\n",
    "#   5     0\n",
    "#   6     1\n",
    "#   7     0\n",
    "#   8     1"
   ]
  },
  {
   "cell_type": "code",
   "execution_count": 79,
   "metadata": {},
   "outputs": [
    {
     "name": "stdout",
     "output_type": "stream",
     "text": [
      "5 y 5 son iguales\n"
     ]
    }
   ],
   "source": [
    "# Analice el siguiente ejemplo y ponga especial cuidado\n",
    "# a la indentación\n",
    "x = 5; y = 5\n",
    "if x == y:\n",
    "    print(x, \"y\", y, \"son iguales\")\n",
    "else:\n",
    "    if x < y:\n",
    "        print(x, \"es menor que\", y)\n",
    "    else:\n",
    "        print(x, \"es mayor que\", y)\n",
    "        \n",
    "# Indentación\n",
    "# linea tabs\n",
    "#   1     0\n",
    "#   2     0\n",
    "#   3     1\n",
    "#   4     0\n",
    "#   5     1\n",
    "#   6     2\n",
    "#   7     1\n",
    "#   8     2"
   ]
  },
  {
   "cell_type": "code",
   "execution_count": 80,
   "metadata": {},
   "outputs": [
    {
     "name": "stdout",
     "output_type": "stream",
     "text": [
      "The count is: 0\n",
      "The count is: 1\n",
      "The count is: 2\n",
      "The count is: 3\n",
      "The count is: 4\n",
      "The count is: 5\n",
      "The count is: 6\n",
      "The count is: 7\n",
      "The count is: 8\n",
      "Good bye!\n"
     ]
    }
   ],
   "source": [
    "# Bucles (iteraciones)\n",
    "# Mientras (while) la condición sea verdadera (count < 9)\n",
    "# se repetirá el bloque interno del while\n",
    "# Note que el bloque interno está definido por\n",
    "#     print('The count is:', count)\n",
    "#     count = count + 1\n",
    "# Note la indentación\n",
    "# print(\"Good bye!\") está fuera del bloque interno del while\n",
    "count = 0\n",
    "while (count < 9):\n",
    "    print('The count is:', count)\n",
    "    count = count + 1\n",
    "print(\"Good bye!\")"
   ]
  },
  {
   "cell_type": "code",
   "execution_count": 81,
   "metadata": {},
   "outputs": [
    {
     "name": "stdout",
     "output_type": "stream",
     "text": [
      "cat 3\n",
      "window 6\n",
      "defenestrate 12\n"
     ]
    }
   ],
   "source": [
    "# La sentencia for en Python itera través de los elementos de\n",
    "# cualquier secuencia (una lista o una cadena), en el orden en\n",
    "# que aparecen en la secuencia.\n",
    "words = ['cat', 'window', 'defenestrate']\n",
    "for w in words:\n",
    "    print(w, len(w))\n",
    "    \n",
    "# De nuevo note que el bloque interno del bucle: print(w, len(w))\n",
    "# está definido por la indentación"
   ]
  },
  {
   "cell_type": "code",
   "execution_count": 82,
   "metadata": {},
   "outputs": [
    {
     "name": "stdout",
     "output_type": "stream",
     "text": [
      "window 6\n",
      "defenestrate 12\n"
     ]
    }
   ],
   "source": [
    "# Podemos iterar también por una sección de la lista\n",
    "words = ['cat', 'window', 'defenestrate']\n",
    "for w in words[1:]:\n",
    "    print(w, len(w))"
   ]
  },
  {
   "cell_type": "code",
   "execution_count": 83,
   "metadata": {},
   "outputs": [
    {
     "name": "stdout",
     "output_type": "stream",
     "text": [
      "0\n",
      "1\n",
      "2\n",
      "3\n",
      "4\n"
     ]
    }
   ],
   "source": [
    "# La función range()\n",
    "# Por defecto asume límite inferior 0\n",
    "# Esto ayuda a la iteración de un objeto indexado (ej. lista)\n",
    "for i in range(5):\n",
    "    print(i)"
   ]
  },
  {
   "cell_type": "code",
   "execution_count": 84,
   "metadata": {},
   "outputs": [
    {
     "name": "stdout",
     "output_type": "stream",
     "text": [
      "2\n",
      "3\n",
      "4\n",
      "5\n",
      "6\n",
      "7\n",
      "8\n",
      "9\n"
     ]
    }
   ],
   "source": [
    "# Note que el límite inferior está incluido\n",
    "# El superior no\n",
    "# Esto ayuda a la iteración de un objeto indexado \n",
    "# Como en el ejemplo abajo para una lista\n",
    "for i in range(2,10):\n",
    "    print(i)"
   ]
  },
  {
   "cell_type": "code",
   "execution_count": 86,
   "metadata": {},
   "outputs": [
    {
     "name": "stdout",
     "output_type": "stream",
     "text": [
      "0 Mary\n",
      "1 had\n",
      "2 a\n",
      "3 little\n",
      "4 lamb\n"
     ]
    }
   ],
   "source": [
    "a = ['Mary', 'had', 'a', 'little', 'lamb']\n",
    "for i in range(len(a)):\n",
    "    print(i, a[i])"
   ]
  },
  {
   "cell_type": "code",
   "execution_count": 90,
   "metadata": {},
   "outputs": [
    {
     "name": "stdout",
     "output_type": "stream",
     "text": [
      "2 es par\n",
      "4 es par\n",
      "6 es par\n",
      "8 es par\n"
     ]
    }
   ],
   "source": [
    "# Uso de las sentencias break, else y continue\n",
    "\n",
    "# Sentencia continue\n",
    "#  La sentencia continue, continúa con la siguiente iteración del\n",
    "#  bucle:\n",
    "for n in range(1,10):\n",
    "    if n % 2: # la condición será 1 para impares\n",
    "        continue # va a la siguiente iteración del bucle sin pasar por el print\n",
    "    print(n, \"es par\")"
   ]
  },
  {
   "cell_type": "code",
   "execution_count": 95,
   "metadata": {},
   "outputs": [
    {
     "name": "stdout",
     "output_type": "stream",
     "text": [
      "Primer 'for'\n",
      "1\n",
      "2\n",
      "3\n",
      "4\n",
      "5\n",
      "6\n",
      "7\n",
      "8\n",
      "9\n",
      "Segundo 'for'\n",
      "1\n",
      "2\n",
      "3\n",
      "4\n",
      "5\n"
     ]
    }
   ],
   "source": [
    "# Sentencia break\n",
    "# La sentencia break rompe la envolvente más inmediata del for o\n",
    "# del while\n",
    "\n",
    "# Comapare la salida de cada for\n",
    "print(\"Primer 'for'\")\n",
    "for n in range(1,10):\n",
    "    print(n)\n",
    "\n",
    "print(\"Segundo 'for'\")\n",
    "for n in range(1,10):\n",
    "    if n > 5:\n",
    "        break\n",
    "    print(n)"
   ]
  },
  {
   "cell_type": "code",
   "execution_count": 97,
   "metadata": {},
   "outputs": [
    {
     "name": "stdout",
     "output_type": "stream",
     "text": [
      "2 es un numero primo\n",
      "3 es un numero primo\n",
      "4 equals 2 * 2\n",
      "5 es un numero primo\n",
      "6 equals 2 * 3\n",
      "7 es un numero primo\n",
      "8 equals 2 * 4\n",
      "9 equals 3 * 3\n"
     ]
    }
   ],
   "source": [
    "# Uso de las sentencias break, else y continue\n",
    "# Analice con cuidado el código\n",
    "\n",
    "for n in range(2, 10):\n",
    "    for x in range(2, n):\n",
    "        if n % x == 0:\n",
    "            print(n, 'equals', x, '*', int(n/x))\n",
    "            break # termina el bucle inmediato\n",
    "    else:\n",
    "        # loop termina sin encontrar un factor\n",
    "        # es decir la iteración del bucle interno anterior\n",
    "        # no entró al if, no ejecutó el break\n",
    "        print(n, 'es un numero primo')\n",
    "\n",
    "# Sí, el código es correcto. \n",
    "# Visto de cerca: la cláusula else pertenece\n",
    "# al bucle for, no la sentencia if.\n",
    "\n",
    "# Puede ir al siguiente enlace\n",
    "# http://www.pythontutor.com/visualize.html#mode=edit\n",
    "# Elija python 3.6 del menú desplegable\n",
    "# Pegue el código y siga la ejecución paso a paso"
   ]
  },
  {
   "cell_type": "code",
   "execution_count": null,
   "metadata": {
    "collapsed": true
   },
   "outputs": [],
   "source": []
  }
 ],
 "metadata": {
  "kernelspec": {
   "display_name": "Python 3",
   "language": "python",
   "name": "python3"
  },
  "language_info": {
   "codemirror_mode": {
    "name": "ipython",
    "version": 3
   },
   "file_extension": ".py",
   "mimetype": "text/x-python",
   "name": "python",
   "nbconvert_exporter": "python",
   "pygments_lexer": "ipython3",
   "version": "3.5.3"
  }
 },
 "nbformat": 4,
 "nbformat_minor": 2
}
