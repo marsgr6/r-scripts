{
 "cells": [
  {
   "cell_type": "code",
   "execution_count": null,
   "metadata": {
    "collapsed": true
   },
   "outputs": [],
   "source": [
    "# En Python, la definición de funciones se realiza mediante la\n",
    "# instrucción def más un nombre de función descriptivo, seguido\n",
    "# de paréntesis de apertura y cierre.\n",
    "# Aplican las mismas reglas que para el nombre de las variables.\n",
    "# Como toda estructura de control en Python, la definición de la\n",
    "# función finaliza con dos puntos (:)\n",
    "# Los parámetros de entrada o argumentos deben ser colocados\n",
    "# dentro de estos paréntesis.\n",
    "# Ver el pseudocódigo abajo\n",
    "def mi_funcion(parametros):\n",
    "    \"docstring_de_la_funcion\"\n",
    "    instrucciones\n",
    "    return [expresion]\n",
    "\n",
    "# Si se usa return sin especificar el valor devuelto\n",
    "# es equivalente a \n",
    "# return None"
   ]
  },
  {
   "cell_type": "code",
   "execution_count": 3,
   "metadata": {},
   "outputs": [
    {
     "name": "stdout",
     "output_type": "stream",
     "text": [
      "Hola, Juan y Pedro\n"
     ]
    }
   ],
   "source": [
    "# Ejemplo:\n",
    "def saludo(p1,p2):\n",
    "    \"\"\"\n",
    "    Imprime un saludo para dos personas.\n",
    "    Espera como entrada dos strings.\n",
    "    \"\"\"\n",
    "    print(\"Hola, \" + p1 + \" y \" + p2) # Note la concatenación de strings\n",
    "    return\n",
    "\n",
    "# Ejecución (llamado) de la función\n",
    "saludo(\"Juan\", \"Pedro\")"
   ]
  },
  {
   "cell_type": "code",
   "execution_count": 4,
   "metadata": {},
   "outputs": [
    {
     "name": "stdout",
     "output_type": "stream",
     "text": [
      "Help on function saludo in module __main__:\n",
      "\n",
      "saludo(p1, p2)\n",
      "    Imprime un saludo para dos personas.\n",
      "    Espera como entrada dos strings.\n",
      "\n"
     ]
    }
   ],
   "source": [
    "help(saludo)"
   ]
  },
  {
   "cell_type": "code",
   "execution_count": 7,
   "metadata": {},
   "outputs": [
    {
     "name": "stdout",
     "output_type": "stream",
     "text": [
      "\n",
      "    Imprime un saludo para dos personas.\n",
      "    Espera como entrada dos strings.\n",
      "    \n"
     ]
    }
   ],
   "source": [
    "print(saludo.__doc__)"
   ]
  },
  {
   "cell_type": "code",
   "execution_count": 8,
   "metadata": {},
   "outputs": [
    {
     "name": "stdout",
     "output_type": "stream",
     "text": [
      "Jose tiene 5 naranjas.\n"
     ]
    }
   ],
   "source": [
    "# Se puede llamar a una función mediante el uso de los siguientes\n",
    "# tipos de argumentos formales:\n",
    "# - argumentos obligatorios,\n",
    "# - argumentos de palabras clave,\n",
    "# - argumentos predeterminados,\n",
    "# - argumentos de longitud variable.\n",
    "def fruta(nom, cant):\n",
    "    \"\"\"\n",
    "    Imprime un nombre y una cantidad.\n",
    "    Espera como entrada un string (nom) y un entero (cant).\n",
    "    \"\"\"\n",
    "    print(nom + ' tiene ' + str(cant) + ' naranjas.')\n",
    "    return\n",
    "\n",
    "fruta('Jose',5)"
   ]
  },
  {
   "cell_type": "code",
   "execution_count": 9,
   "metadata": {},
   "outputs": [
    {
     "ename": "TypeError",
     "evalue": "unsupported operand type(s) for +: 'int' and 'str'",
     "output_type": "error",
     "traceback": [
      "\u001b[0;31m---------------------------------------------------------------------------\u001b[0m",
      "\u001b[0;31mTypeError\u001b[0m                                 Traceback (most recent call last)",
      "\u001b[0;32m<ipython-input-9-792b120d1193>\u001b[0m in \u001b[0;36m<module>\u001b[0;34m()\u001b[0m\n\u001b[0;32m----> 1\u001b[0;31m \u001b[0mfruta\u001b[0m\u001b[0;34m(\u001b[0m\u001b[0;36m5\u001b[0m\u001b[0;34m,\u001b[0m\u001b[0;34m'Jose'\u001b[0m\u001b[0;34m)\u001b[0m\u001b[0;34m\u001b[0m\u001b[0m\n\u001b[0m",
      "\u001b[0;32m<ipython-input-8-b4361ebc1b05>\u001b[0m in \u001b[0;36mfruta\u001b[0;34m(nom, cant)\u001b[0m\n\u001b[1;32m     10\u001b[0m     \u001b[0mEspera\u001b[0m \u001b[0mcomo\u001b[0m \u001b[0mentrada\u001b[0m \u001b[0mun\u001b[0m \u001b[0mstring\u001b[0m \u001b[0;34m(\u001b[0m\u001b[0mnom\u001b[0m\u001b[0;34m)\u001b[0m \u001b[0my\u001b[0m \u001b[0mun\u001b[0m \u001b[0mentero\u001b[0m \u001b[0;34m(\u001b[0m\u001b[0mcant\u001b[0m\u001b[0;34m)\u001b[0m\u001b[0;34m.\u001b[0m\u001b[0;34m\u001b[0m\u001b[0m\n\u001b[1;32m     11\u001b[0m     \"\"\"\n\u001b[0;32m---> 12\u001b[0;31m     \u001b[0mprint\u001b[0m\u001b[0;34m(\u001b[0m\u001b[0mnom\u001b[0m \u001b[0;34m+\u001b[0m \u001b[0;34m' tiene '\u001b[0m \u001b[0;34m+\u001b[0m \u001b[0mstr\u001b[0m\u001b[0;34m(\u001b[0m\u001b[0mcant\u001b[0m\u001b[0;34m)\u001b[0m \u001b[0;34m+\u001b[0m \u001b[0;34m' naranjas.'\u001b[0m\u001b[0;34m)\u001b[0m\u001b[0;34m\u001b[0m\u001b[0m\n\u001b[0m\u001b[1;32m     13\u001b[0m     \u001b[0;32mreturn\u001b[0m\u001b[0;34m\u001b[0m\u001b[0m\n\u001b[1;32m     14\u001b[0m \u001b[0;34m\u001b[0m\u001b[0m\n",
      "\u001b[0;31mTypeError\u001b[0m: unsupported operand type(s) for +: 'int' and 'str'"
     ]
    }
   ],
   "source": [
    "fruta(5,'Jose') # Error no pasamos los argumentos obligatorios en orden"
   ]
  },
  {
   "cell_type": "code",
   "execution_count": 10,
   "metadata": {},
   "outputs": [
    {
     "name": "stdout",
     "output_type": "stream",
     "text": [
      "Jose tiene 5 naranjas.\n"
     ]
    }
   ],
   "source": [
    "fruta(nom='Jose',cant=5) # argumentos de palabras clave"
   ]
  },
  {
   "cell_type": "code",
   "execution_count": 11,
   "metadata": {},
   "outputs": [
    {
     "name": "stdout",
     "output_type": "stream",
     "text": [
      "Jose tiene 5 naranjas.\n"
     ]
    }
   ],
   "source": [
    "fruta(cant=5,nom='Jose') # argumentos de palabras clave, no importa el orden"
   ]
  },
  {
   "cell_type": "code",
   "execution_count": 12,
   "metadata": {},
   "outputs": [
    {
     "name": "stdout",
     "output_type": "stream",
     "text": [
      "Hola, Fulano\n"
     ]
    }
   ],
   "source": [
    "# Función con argumentos predeterminados\n",
    "def saludo(p1='Fulano'):\n",
    "    \"\"\"\n",
    "    Imprime un saludo impersonal,\n",
    "    o para una persona p1.\n",
    "    Espera como entrada un string.\n",
    "    \"\"\"\n",
    "    print(\"Hola, \" + p1)\n",
    "    return\n",
    "\n",
    "saludo()"
   ]
  },
  {
   "cell_type": "code",
   "execution_count": 13,
   "metadata": {},
   "outputs": [
    {
     "name": "stdout",
     "output_type": "stream",
     "text": [
      "Hola, Juan\n"
     ]
    }
   ],
   "source": [
    "saludo(\"Juan\")"
   ]
  },
  {
   "cell_type": "code",
   "execution_count": 15,
   "metadata": {},
   "outputs": [
    {
     "name": "stdout",
     "output_type": "stream",
     "text": [
      "Hola, Fulano\n",
      "Hola, Juan\n",
      "Hola, Juan y Pedro\n"
     ]
    }
   ],
   "source": [
    "# Una versión más compleja de esta función\n",
    "# En python no existe sobrecarga de funciones\n",
    "# podemos usar la siguiente estructura de hacer falta \n",
    "def saludo(p1='Fulano',p2=None):\n",
    "    \"\"\"\n",
    "    Imprime un saludo impersonal,\n",
    "    o para una o dos personas.\n",
    "    Espera como entrada dos strings.\n",
    "    \"\"\"\n",
    "    if p2==None:\n",
    "        print(\"Hola, \" + p1)\n",
    "    else:\n",
    "        print(\"Hola, \" + p1 + \" y \" + p2)\n",
    "    return\n",
    "\n",
    "saludo()\n",
    "saludo(\"Juan\")\n",
    "saludo(\"Juan\", \"Pedro\")"
   ]
  },
  {
   "cell_type": "code",
   "execution_count": null,
   "metadata": {
    "collapsed": true
   },
   "outputs": [],
   "source": [
    "# Argumentos de longitud variable no se nombran en la\n",
    "# definición de la función, a diferencia de los requeridos y\n",
    "# argumentos por defecto\n",
    "# Ver el pseudocódigo abajo\n",
    "def mi_funcion([args_formales,] *args_var_tupla):\n",
    "    \"docstring_de_la_funcion\"\n",
    "    instrucciones\n",
    "    return [expresion]\n",
    "\n",
    "# Un asterisco (*) se coloca antes del nombre de la variable que\n",
    "# contiene los valores de todos los argumentos variables sin\n",
    "# palabra clave. Esta tupla permanece vacía si no se especifican\n",
    "# argumentos adicionales durante la llamada a la función."
   ]
  },
  {
   "cell_type": "code",
   "execution_count": 20,
   "metadata": {},
   "outputs": [
    {
     "name": "stdout",
     "output_type": "stream",
     "text": [
      "Historial de temperatura en Quito\n",
      "25 23 24 25 \n",
      "Historial de temperatura en Quito\n",
      "25 23 24 25 [21, 23] a \n",
      "Historial de temperatura en 1234\n",
      "25 23 24 25 [21, 23] a \n"
     ]
    }
   ],
   "source": [
    "def impInfo(arg1, *tuplavar):\n",
    "    print('Historial de temperatura en', arg1)\n",
    "    for var in tuplavar:\n",
    "        print(var, end=' ')\n",
    "    print() # Salto de línea\n",
    "    return\n",
    "\n",
    "impInfo('Quito', 25, 23, 24, 25)\n",
    "impInfo('Quito', 25, 23, 24, 25, [21, 23], \"a\")\n",
    "impInfo(1234, 25, 23, 24, 25, [21, 23], \"a\")"
   ]
  },
  {
   "cell_type": "code",
   "execution_count": 21,
   "metadata": {},
   "outputs": [
    {
     "name": "stdout",
     "output_type": "stream",
     "text": [
      "Total dentro de la funcion: 10\n",
      "Total (global): 5\n"
     ]
    }
   ],
   "source": [
    "# Variables Globales vs. Locales\n",
    "# - Las variables que se definen dentro del cuerpo de la función\n",
    "#   tienen un alcance local y las que se definen fuera tienen un\n",
    "#   alcance global.\n",
    "# - Esto significa que se puede acceder a las variables locales sólo\n",
    "#   dentro de la función en la que se declaran, mientras que se\n",
    "#   puede acceder a las variables globales en todo el cuerpo\n",
    "#   programa por todas las funciones.\n",
    "# - Cuando se llama a una función, las variables declaradas dentro\n",
    "#   de ella se ponen al alcance.\n",
    "\n",
    "total=5\n",
    "\n",
    "def suma(arg1, arg2):\n",
    "    total = arg1 + arg2\n",
    "    print(\"Total dentro de la funcion:\", total)\n",
    "\n",
    "suma(8, 2)\n",
    "\n",
    "print(\"Total (global):\", total)"
   ]
  },
  {
   "cell_type": "code",
   "execution_count": 22,
   "metadata": {},
   "outputs": [
    {
     "name": "stdout",
     "output_type": "stream",
     "text": [
      "Total dentro de la funcion: 10\n",
      "Total (global): 10\n"
     ]
    }
   ],
   "source": [
    "# Note la diferencia\n",
    "# dentro de la función se está haciendo uso\n",
    "# de la variable total (global)\n",
    "# con la palabra reservada global\n",
    "total=5\n",
    "\n",
    "def suma(arg1, arg2):\n",
    "    global total\n",
    "    total = arg1 + arg2\n",
    "    print(\"Total dentro de la funcion:\", total)\n",
    "\n",
    "suma(8, 2)\n",
    "\n",
    "print(\"Total (global):\", total)"
   ]
  },
  {
   "cell_type": "code",
   "execution_count": null,
   "metadata": {
    "collapsed": true
   },
   "outputs": [],
   "source": [
    "# Modulos en python\n",
    "# Guarde el siguiente código en un archivo fibo.py\n",
    "\n",
    "def fib(n):\n",
    "    \"\"\"write Fibonacci series up to n\"\"\"\n",
    "    a, b = 0, 1\n",
    "    while b < n:\n",
    "        print(b)\n",
    "        a, b = b, a+b\n",
    "        \n",
    "def fib2(n): \n",
    "    \"\"\"return Fibonacci series up to n\"\"\"\n",
    "    result = []\n",
    "    a, b = 0, 1\n",
    "    while b < n:\n",
    "        result.append(b)\n",
    "        a, b = b, a+b\n",
    "    return result\n",
    "\n",
    "def main(argv):\n",
    "    if len(argv)>0:\n",
    "        print(fib2(int(argv[0])))\n",
    "    else:\n",
    "        print(\"Usage:\\n\" \n",
    "            \" python fibo.py <integer>\\n\"\n",
    "            \"Example\\n\"\n",
    "            \" python fibo.py 5\\n\")\n",
    "        \n",
    "if __name__ == \"__main__\":\n",
    "    import sys\n",
    "    main(sys.argv[1:])"
   ]
  },
  {
   "cell_type": "code",
   "execution_count": 24,
   "metadata": {},
   "outputs": [
    {
     "data": {
      "text/plain": [
       "['__builtins__',\n",
       " '__cached__',\n",
       " '__doc__',\n",
       " '__file__',\n",
       " '__loader__',\n",
       " '__name__',\n",
       " '__package__',\n",
       " '__spec__',\n",
       " 'fib',\n",
       " 'fib2',\n",
       " 'main']"
      ]
     },
     "execution_count": 24,
     "metadata": {},
     "output_type": "execute_result"
    }
   ],
   "source": [
    "# El archvio fibo.py debe estar en el directorio de trabajo\n",
    "# Importamos el módulo, no usamos la extensión\n",
    "import fibo \n",
    "dir(fibo)"
   ]
  },
  {
   "cell_type": "code",
   "execution_count": 26,
   "metadata": {},
   "outputs": [
    {
     "name": "stdout",
     "output_type": "stream",
     "text": [
      "Help on function fib in module fibo:\n",
      "\n",
      "fib(n)\n",
      "    write Fibonacci series up to n\n",
      "\n"
     ]
    }
   ],
   "source": [
    "help(fibo.fib)"
   ]
  },
  {
   "cell_type": "code",
   "execution_count": 35,
   "metadata": {},
   "outputs": [
    {
     "name": "stdout",
     "output_type": "stream",
     "text": [
      "Help on function fib2 in module fibo:\n",
      "\n",
      "fib2(n)\n",
      "    return Fibonacci series up to n\n",
      "\n"
     ]
    }
   ],
   "source": [
    "help(fibo.fib2)"
   ]
  },
  {
   "cell_type": "code",
   "execution_count": 36,
   "metadata": {},
   "outputs": [
    {
     "name": "stdout",
     "output_type": "stream",
     "text": [
      "1\n",
      "1\n",
      "2\n",
      "3\n",
      "5\n"
     ]
    }
   ],
   "source": [
    "# Llamemos las funciones del módulo\n",
    "fibo.fib(8)"
   ]
  },
  {
   "cell_type": "code",
   "execution_count": 37,
   "metadata": {},
   "outputs": [
    {
     "data": {
      "text/plain": [
       "[1, 1, 2, 3, 5]"
      ]
     },
     "execution_count": 37,
     "metadata": {},
     "output_type": "execute_result"
    }
   ],
   "source": [
    "fibo.fib2(8)"
   ]
  },
  {
   "cell_type": "code",
   "execution_count": 31,
   "metadata": {},
   "outputs": [
    {
     "data": {
      "text/plain": [
       "<module 'fibo' from '/home/salva/Dropbox/proyUNIANDES/metComp/jupyter/notebooks_final/r/fibo.py'>"
      ]
     },
     "execution_count": 31,
     "metadata": {},
     "output_type": "execute_result"
    }
   ],
   "source": [
    "# Podemos asignar un nombre local al módulo\n",
    "# en este caso f\n",
    "import fibo as f\n",
    "\n",
    "# Cada vez que hagamos un cambio al módulo debemos recargarlo\n",
    "# para probarlo interactivamente\n",
    "# import importlib; importlib.reload(modulename)\n",
    "import importlib; importlib.reload(f)"
   ]
  },
  {
   "cell_type": "code",
   "execution_count": 39,
   "metadata": {},
   "outputs": [
    {
     "name": "stdout",
     "output_type": "stream",
     "text": [
      "1\n",
      "1\n",
      "2\n",
      "3\n",
      "5\n"
     ]
    }
   ],
   "source": [
    "# Veamos como llamar las funciones del módulo\n",
    "# Recuerde que hemos asignado el nombre local f\n",
    "f.fib(8)"
   ]
  },
  {
   "cell_type": "code",
   "execution_count": 40,
   "metadata": {},
   "outputs": [
    {
     "data": {
      "text/plain": [
       "[1, 1, 2, 3, 5]"
      ]
     },
     "execution_count": 40,
     "metadata": {},
     "output_type": "execute_result"
    }
   ],
   "source": [
    "f.fib2(8)"
   ]
  },
  {
   "cell_type": "code",
   "execution_count": null,
   "metadata": {
    "collapsed": true
   },
   "outputs": [],
   "source": []
  }
 ],
 "metadata": {
  "kernelspec": {
   "display_name": "Python 3",
   "language": "python",
   "name": "python3"
  },
  "language_info": {
   "codemirror_mode": {
    "name": "ipython",
    "version": 3
   },
   "file_extension": ".py",
   "mimetype": "text/x-python",
   "name": "python",
   "nbconvert_exporter": "python",
   "pygments_lexer": "ipython3",
   "version": "3.5.3"
  }
 },
 "nbformat": 4,
 "nbformat_minor": 2
}
