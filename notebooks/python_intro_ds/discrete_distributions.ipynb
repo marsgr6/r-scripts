{
 "cells": [
  {
   "cell_type": "markdown",
   "metadata": {},
   "source": [
    "# Probability views \n",
    "\n",
    "![](https://i.imgur.com/gGHg0GV.png)\n",
    "\n",
    "- See: https://drive.google.com/file/d/0B-dmEvN59Z2ZOF9US1RxcVRyQnc/view\n",
    "\n",
    "# Discrete distributions\n",
    "\n",
    " \n",
    "- Definition (Probability Mass Function (PMF))\n",
    "\n",
    "    - For a discrete random variable $X$ with possible values $x_1, x_2, x_3, \\cdots , x_n$, a probability mass function $f(x_i)$ is a function such that:\n",
    "    \n",
    "        1. $f(x_i) \\geq 0$\n",
    "        2. $\\sum^n_{i=1} f(x_i) = 1$\n",
    "        3. $f(x_i) = P(X = x_i)$\n",
    "\n",
    "\n",
    "- Definition (CDF for a discrete random variable)\n",
    "\n",
    "    - For a discrete random variable $X$, $F(x)$ satisfies the following properties:\n",
    "        1. $F(x)=P(X \\leq x) = \\sum_{x_i \\leq x} f(x_i)$\n",
    "        2. $0 \\leq F(x) \\leq 1$\n",
    "        3. If $x \\leq y$, then $F(x) \\leq F(y)$\n",
    "    - The CDF is defined on the real number line.\n",
    "    - The CDF is a non-decreasing function of $X$ (i.e. increases or stays constant as $x \\to \\infty $).\n",
    "\n",
    "\n",
    "- Expected value and variance of a discrete random variable:\n",
    "\n",
    "    - The expected value (also called the expectation or mean) of a discrete r.v. $X$ whose distinct possible values are $x_1, x_2, \\dots$ is defined by\n",
    "    $$\n",
    "    \\mu = E[X] = \\sum_{i=1}^n x_i f(x_i).\n",
    "    $$\n",
    "\n",
    "    - The variance is defined as:\n",
    "    $$\n",
    "    \\sigma^2 = E[(X − \\mu)^2] = \\sum_{i=1}^n (x_i - \\mu)^2 f(x_i)\n",
    "    $$\n",
    "    \n",
    "\n",
    "### Ejemplos de Variables Aleatorias Discretas\n",
    "- V.A. X: Número de veces que se obtiene el número 6 al lanzar un dado N veces.\n",
    "Valores puntuales de toma X: R(X) = {0,1,2,...N}\n",
    "- V.A. X: El precio de cierta acción sube (si sube, X = 1, no sube X = 0). R(X) = {0,1}\n",
    "- V.A. X: Número de días que transcurren desde el día en que se vence una obligación crediticia y el día en que se cumple con dicha obligación.\n",
    "R(X) = {0,1,...,n,...}\n",
    "- V.A. X: Número de créditos que un estudiante de P&E1 seleccionado al azar tiene inscritos este semestre\n",
    "R(X) = {m, m+1,..., M}\n",
    "- V.A. X: Número de hermanos que tiene un estudiante de P&E1 seleccionado al azar.\n",
    "R(X) = {0,1,...,N}\n",
    "\n",
    "### Ejemplo introductorio\n",
    "\n",
    "Una de las variables relevantes en el desempeño de los cajeros automáticos de cierto\n",
    "banco es el número de cajeros de la competencia situados en un radio de 500 metros a\n",
    "la redonda del cajero.\n",
    "\n",
    "De acuerdo con el análisis de información disponible al respecto, se sabe que la variable\n",
    "aleatoria, $X$, que representa el número de cajeros de la competencia para un cajero\n",
    "seleccionado al azar, tiene un rango, $R(X)$, donde $R(X) = \\{0,1,2,3\\}$ y se distribuye como:\n",
    "\n",
    "| x        | Número de observaciones           |\n",
    "| :-------------: |:-------------:|\n",
    "| 0     | 4 | \n",
    "| 1      | 8      |\n",
    "| 2 | 16      |\n",
    "| 3 | 12      |\n",
    "\n",
    "Tenemos que:\n",
    "\n",
    "$$\n",
    "f_X(x)=\\left\\{\n",
    "                \\begin{array}{ll}\n",
    "                  0.1,\\ x = 0 \\\\\n",
    "                  0.2,\\ x = 1 \\\\\n",
    "                  0.4,\\ x = 2 \\\\\n",
    "                  0.3,\\ x = 3 \\\\\n",
    "                  0.0,\\ \\text{otherwise}\n",
    "                \\end{array}\n",
    "              \\right.\n",
    "$$\n",
    "\n",
    "Y \n",
    "\n",
    "$$\n",
    "F(x)=\\left\\{\n",
    "                \\begin{array}{ll}\n",
    "                  0.0,\\ \\text{if } x < 0 \\\\\n",
    "                  0.1,\\ 0 \\leq x < 1 \\\\\n",
    "                  0.3,\\ 1 \\leq x < 2  \\\\\n",
    "                  0.7,\\ 2 \\leq x < 3  \\\\\n",
    "                  1.0,\\ x \\geq 3  \n",
    "                \\end{array}\n",
    "              \\right.\n",
    "$$"
   ]
  },
  {
   "cell_type": "code",
   "execution_count": 2,
   "metadata": {},
   "outputs": [
    {
     "data": {
      "image/png": "[encoded data removed]",
      "text/plain": [
       "<matplotlib.figure.Figure at 0x7f43b7527860>"
      ]
     },
     "metadata": {},
     "output_type": "display_data"
    }
   ],
   "source": [
    "import numpy as np\n",
    "import matplotlib.pyplot as plt\n",
    "from scipy.stats import poisson\n",
    "\n",
    "x = np.arange(0, 4)\n",
    "pmfx = np.array([.1, .2, .4, .3])\n",
    "\n",
    "def plot_pmf(x, pmfx):\n",
    "    fig, ax = plt.subplots(1, 1)\n",
    "    ax.vlines(x, 0, pmfx, colors='r', linestyles='-', lw=1)\n",
    "    ax.plot(x, pmfx, 'ro', label='Pmf')\n",
    "    plt.show()\n",
    "    \n",
    "plot_pmf(x, pmfx)"
   ]
  },
  {
   "cell_type": "code",
   "execution_count": 3,
   "metadata": {},
   "outputs": [
    {
     "data": {
      "image/png": "[encoded data removed]",
      "text/plain": [
       "<matplotlib.figure.Figure at 0x7f43b74ad9e8>"
      ]
     },
     "metadata": {},
     "output_type": "display_data"
    }
   ],
   "source": [
    "x = np.arange(-1, 5)  # Provide range +-1\n",
    "cdfx = np.array([.1, .3, .7, 1.])  # CDF\n",
    "\n",
    "def plot_cdf(rvs_range, cdf_prob):\n",
    "    yn = np.insert(cdf_prob, 0, 0)\n",
    "    fig, ax = plt.subplots()\n",
    "    ax.set_facecolor('white')\n",
    "\n",
    "    # https://matplotlib.org/api/_as_gen/matplotlib.axes.Axes.hlines.html\n",
    "    ax.hlines(y=yn, xmin=rvs_range[:-1], xmax=rvs_range[1:],\n",
    "              color='red', zorder=1)\n",
    "\n",
    "    # https://matplotlib.org/api/_as_gen/matplotlib.axes.Axes.vlines.html\n",
    "    ax.vlines(x=rvs_range[1:-1], ymin=yn[:-1], ymax=yn[1:], color='red',\n",
    "              linestyle='dashed', zorder=1)\n",
    "\n",
    "    ax.scatter(rvs_range[1:-1], cdf_prob, color='red', s=18, zorder=2)\n",
    "    ax.scatter(rvs_range[1:-1], yn[:-1], color='white', s=18, zorder=2,\n",
    "               edgecolor='red')\n",
    "    ax.grid(False)\n",
    "    ax.set_xlim(rvs_range[0], rvs_range[-1])\n",
    "    ax.set_ylim([-0.01, 1.01])\n",
    "    plt.show()\n",
    "    \n",
    "plot_cdf(x, cdfx)"
   ]
  },
  {
   "cell_type": "markdown",
   "metadata": {},
   "source": [
    "### Let's generate a rvs from the pmf above\n",
    "\n",
    "- Calculate $E[X],\\ Var[X]$ and contrast simulation with theoretical value"
   ]
  },
  {
   "cell_type": "code",
   "execution_count": 4,
   "metadata": {},
   "outputs": [
    {
     "data": {
      "image/png": "[encoded data removed]",
      "text/plain": [
       "<matplotlib.figure.Figure at 0x7f43b74a7f98>"
      ]
     },
     "metadata": {},
     "output_type": "display_data"
    },
    {
     "name": "stdout",
     "output_type": "stream",
     "text": [
      "Simulated frequencies [ 0.101   0.2005  0.3953  0.3032]\n",
      "E[X] = 1.9 \n",
      "Var[X] = 0.89\n",
      "Simulated:\n",
      "Mean = 1.9007 \n",
      "Var[X] = 0.89783951\n"
     ]
    }
   ],
   "source": [
    "cdf_atm = np.array([.1, .3, .7, 1.])  # CDF\n",
    "\n",
    "def atm_around(u):\n",
    "    # This is a roulette\n",
    "    return np.where(cdf_atm > u)[0][0]\n",
    "\n",
    "size = 10000\n",
    "\n",
    "atms = [atm_around(np.random.rand()) for i in range(size)]\n",
    "\n",
    "unique, counts = np.unique(atms, return_counts=True)\n",
    "plt.bar(unique, counts / size)\n",
    "plt.show()\n",
    "print(\"Simulated frequencies\", counts / size)\n",
    "\n",
    "x = np.arange(0, 4)\n",
    "px = np.array([.1, .2, .4, .3])\n",
    "ex = sum(x*px)\n",
    "vx = sum((x**2)*px) - ex**2\n",
    "print(\"E[X] =\", ex, \"\\nVar[X] =\", vx)\n",
    "\n",
    "print(\"Simulated:\\nMean =\", np.mean(atms), \"\\nVar[X] =\", np.var(atms))"
   ]
  },
  {
   "cell_type": "markdown",
   "metadata": {},
   "source": [
    "# Bernoulli distribution\n",
    "\n",
    "$$\n",
    "X \\sim Bern(x; p)\n",
    "$$\n",
    "\n",
    "$$\n",
    "g_X(x) = p^x (1-p)^{1-x},\\ x \\in \\{0, 1\\}\n",
    "$$\n",
    "\n",
    "$$\n",
    "E[X] = p,\\ Var[X] = p (1 - p)\n",
    "$$"
   ]
  },
  {
   "cell_type": "code",
   "execution_count": 5,
   "metadata": {},
   "outputs": [
    {
     "name": "stdout",
     "output_type": "stream",
     "text": [
      "[0, 0, 0, 0, 0, 1, 0, 1, 0, 0]\n"
     ]
    }
   ],
   "source": [
    "def bernoulli(p=0.5):\n",
    "    \"\"\"\n",
    "    X ~ Bern(p)\n",
    "    p: prob. de éxito\n",
    "    Devuelve: x=1, con prob. p, \n",
    "              0 con prob. 1 - p\n",
    "    \"\"\"\n",
    "    if np.random.rand() < p:\n",
    "        return 1  # Exito\n",
    "    else:\n",
    "        return 0  # Fracaso\n",
    "    \n",
    "\n",
    "print([bernoulli(0.3) for i in range(10)])"
   ]
  },
  {
   "cell_type": "markdown",
   "metadata": {},
   "source": [
    "# Binomial distribution\n",
    "\n",
    "$$\n",
    "X \\sim Bin(x; n, p)\n",
    "$$\n",
    "\n",
    "$$\n",
    "g_X(x) = {n \\choose x} p^x (1-p)^{n-x},\\ x \\in \\{0, 1, \\dots, n\\}\n",
    "$$\n",
    "\n",
    "$$\n",
    "E[X] = np,\\ Var[X] = n p (1 - p)\n",
    "$$"
   ]
  },
  {
   "cell_type": "code",
   "execution_count": 6,
   "metadata": {},
   "outputs": [
    {
     "data": {
      "image/png": "[encoded data removed]",
      "text/plain": [
       "<matplotlib.figure.Figure at 0x7f43b742b278>"
      ]
     },
     "metadata": {},
     "output_type": "display_data"
    }
   ],
   "source": [
    "def binomial(n=1, p=0.5):\n",
    "    x = 0\n",
    "    for i in range(n):\n",
    "        x = x + bernoulli(p)\n",
    "\n",
    "    return x\n",
    "\n",
    "n, p = 10, 0.5\n",
    "size = 1000  # sequence length\n",
    "\n",
    "RVS = [binomial(n, p) for i in range(size)]\n",
    "\n",
    "unique, counts = np.unique(RVS, return_counts=True)\n",
    "plt.bar(unique, counts / size)\n",
    "\n",
    "# ploting binomial polygon curve\n",
    "from scipy.stats import binom\n",
    "x = np.linspace(0, n, dtype='int')  # variable range\n",
    "px = binom.pmf(x, n, p)\n",
    "plt.plot(x, px, '--ro')\n",
    "plt.legend(['Theoretical pmf'])\n",
    "\n",
    "plt.show()"
   ]
  },
  {
   "cell_type": "markdown",
   "metadata": {},
   "source": [
    "# Geometric distribution\n",
    "\n",
    "$$\n",
    "X \\sim Geom(x; p)\n",
    "$$\n",
    "\n",
    "$$\n",
    "g_X(x) = p (1-p)^{x},\\ x \\in \\{0, 1, 2, \\dots \\}\n",
    "$$\n",
    "\n",
    "$$\n",
    "E[X] = \\frac{q}{p},\\ Var[X] = \\frac{q}{p^2},\\ q = 1 - p\n",
    "$$"
   ]
  },
  {
   "cell_type": "code",
   "execution_count": 7,
   "metadata": {},
   "outputs": [
    {
     "data": {
      "image/png": "[encoded data removed]",
      "text/plain": [
       "<matplotlib.figure.Figure at 0x7f43b740a1d0>"
      ]
     },
     "metadata": {},
     "output_type": "display_data"
    }
   ],
   "source": [
    "def geometric(p=0.5):\n",
    "    x = 0\n",
    "    while not bernoulli(p):\n",
    "        x = x + 1\n",
    "\n",
    "    return x\n",
    "\n",
    "p = 0.5\n",
    "size = 1000  # sequence length\n",
    "\n",
    "RVS = [geometric(p) for i in range(size)]\n",
    "\n",
    "unique, counts = np.unique(RVS, return_counts=True)\n",
    "plt.bar(unique, counts / size)\n",
    "\n",
    "# ploting geometric polygon curve\n",
    "from scipy.stats import geom\n",
    "x = np.linspace(0, max(RVS), dtype='int')  # variable range\n",
    "px = geom.pmf(x+1, p)\n",
    "plt.plot(x, px, '--ro')\n",
    "plt.legend(['Theoretical pmf'])\n",
    "\n",
    "plt.show()"
   ]
  },
  {
   "cell_type": "markdown",
   "metadata": {},
   "source": [
    "# Negative binomial\n",
    "\n",
    "$$\n",
    "X \\sim NBin(x; r, p)\n",
    "$$\n",
    "\n",
    "$$\n",
    "g_X(x) = {x + r - 1 \\choose r - 1} p^r (1-p)^{x},\\ x \\in \\{0, 1, 2, \\dots\\}\n",
    "$$\n",
    "\n",
    "$$\n",
    "E[X] = \\frac{pr}{1 - p},\\ Var[X] = \\frac{pr}{(1-p)^2}\n",
    "$$"
   ]
  },
  {
   "cell_type": "code",
   "execution_count": 8,
   "metadata": {},
   "outputs": [
    {
     "data": {
      "image/png": "[encoded data removed]",
      "text/plain": [
       "<matplotlib.figure.Figure at 0x7f43b7354a58>"
      ]
     },
     "metadata": {},
     "output_type": "display_data"
    }
   ],
   "source": [
    "def nbin(r=1, p=0.5):\n",
    "    x = 0\n",
    "    for k in range(r):\n",
    "        x = x + geometric(p)\n",
    "\n",
    "    return x\n",
    "\n",
    "r, p = 3, 0.5\n",
    "size = 10000  # sequence length\n",
    "\n",
    "RVS = [nbin(r, p) for i in range(size)]\n",
    "\n",
    "unique, counts = np.unique(RVS, return_counts=True)\n",
    "plt.bar(unique, counts / size)\n",
    "\n",
    "# ploting neg binomial polygon curve\n",
    "from scipy.stats import nbinom\n",
    "x = np.linspace(0, max(RVS), dtype='int')  # variable range\n",
    "px = nbinom.pmf(x, r, p)\n",
    "plt.plot(x, px, '--ro')\n",
    "plt.legend(['Theoretical pmf'])\n",
    "\n",
    "plt.show()"
   ]
  },
  {
   "cell_type": "markdown",
   "metadata": {},
   "source": [
    "# Poisson distribution\n",
    "\n",
    "$$\n",
    "X \\sim Poiss(x; \\lambda)\n",
    "$$\n",
    "\n",
    "$$\n",
    "g_X(x) = \\frac{e^{-\\lambda} \\lambda^x}{x!},\\ x \\in \\{0, 1, 2, \\dots\\}\n",
    "$$\n",
    "\n",
    "$$\n",
    "E[X] = \\lambda,\\ Var[X] = \\lambda\n",
    "$$"
   ]
  },
  {
   "cell_type": "code",
   "execution_count": 9,
   "metadata": {},
   "outputs": [
    {
     "data": {
      "image/png": "[encoded data removed]",
      "text/plain": [
       "<matplotlib.figure.Figure at 0x7f43b729fe80>"
      ]
     },
     "metadata": {},
     "output_type": "display_data"
    }
   ],
   "source": [
    "def poiss(lam):\n",
    "    u = np.random.rand()\n",
    "    cp = np.exp(-lam)\n",
    "    k = 0\n",
    "    factorial_k = 1\n",
    "    while cp < u:\n",
    "        k = k + 1\n",
    "        factorial_k = factorial_k * k\n",
    "        cp = cp + np.exp(-lam) * lam**k / factorial_k\n",
    "\n",
    "    return k\n",
    "\n",
    "lam = 4\n",
    "size = 10000  # sequence length\n",
    "\n",
    "RVS = [poiss(lam) for i in range(size)]\n",
    "\n",
    "unique, counts = np.unique(RVS, return_counts=True)\n",
    "plt.bar(unique, counts / size)\n",
    "\n",
    "# ploting poisson polygon curve\n",
    "from scipy.stats import poisson\n",
    "x = np.linspace(0, max(RVS), dtype='int')  # variable range\n",
    "px = poisson.pmf(x, lam)\n",
    "plt.plot(x, px, '--ro')\n",
    "plt.legend(['Theoretical pmf'])\n",
    "\n",
    "plt.show()"
   ]
  },
  {
   "cell_type": "markdown",
   "metadata": {},
   "source": [
    "# Hypergeometric distribution\n",
    "\n",
    "If we have an urn filled with $w$ white and $b$ black balls, \n",
    "then drawing $n$ balls out\n",
    "of the urn with replacement yields a $Bin(n, w/(w + b))$ distribution \n",
    "for the number of white balls obtained in $n$ trials, \n",
    "since the draws are independent Bernoulli trials,\n",
    "each with probability $w/(w+b)$ of success. \n",
    "If we instead sample without replacement,\n",
    "then the number of white balls follows a \n",
    "**Hypergeometric distribution**.\n",
    "\n",
    "**Hypergeometric story.** An urn contains $w = 6$ white balls and $b = 4$ black balls. We\n",
    "sample $n = 5$ without replacement. The number $X$ of white balls in the sample is\n",
    "Hypergeometric; here we observe $X = 3$.\n",
    "\n",
    "![](https://i.imgur.com/jGp0QIZ.png)\n",
    "\n",
    "Consider an urn with $w$ white balls and $b$ black balls. \n",
    "We draw $n$ balls out of the urn at random without replacement, \n",
    "such that all $\\binom{w+b}{n}$ samples are equally likely.\n",
    "Let $X$ be the number of white balls in the sample. \n",
    "Then $X$ is said to have the \\textbf{Hypergeometric distribution} \n",
    "with parameters $w, b$, and $n$; we denote this by \n",
    "$X \\sim \\text{HGeom}(w, b, n),\\\n",
    "P(X=k)=\\frac{\\binom{w}{k}\\binom{b}{n-k}}{\\binom{w+b}{n}}$.\n",
    "\n",
    "- If $X \\sim \\text{HGeom}(K, N, n)$, then the PMF\n",
    "of $X$ is\n",
    "$$\n",
    "P(X=k)=\\frac{\\dbinom{K}{k}\\dbinom{N-K}{n-k}}{\\dbinom{N}{n}}\n",
    "$$\n",
    "for integers $k$ satisfying $0 \\leq k \\leq K$ and\n",
    "$0 \\leq n-k \\leq N-K$, \n",
    "and $P(X=k)=0$ otherwise. That is, support: $k\\in \\{max(0,n+K-N),\\dots,min(n,K)\\}$.\n",
    "- The mean and variance of the hypergeometric distribution are\n",
    "$$\n",
    "\\mu=\\frac{nK}{N}, \\quad \\sigma^2=n\\frac{K}{N}\\frac{(N-K)}{N}\\frac{N-n}{N-1}\n",
    "$$"
   ]
  },
  {
   "cell_type": "code",
   "execution_count": 10,
   "metadata": {},
   "outputs": [
    {
     "data": {
      "image/png": "[encoded data removed]",
      "text/plain": [
       "<matplotlib.figure.Figure at 0x7f43b748bf60>"
      ]
     },
     "metadata": {},
     "output_type": "display_data"
    }
   ],
   "source": [
    "def urna(w, b, n):\n",
    "    \"\"\"\n",
    "    w: number of white balls\n",
    "    b: number of black balls\n",
    "    n: sample size (without replacement)\n",
    "    returns a string containing the sample of size n\n",
    "    \"\"\"\n",
    "    bolas = 'w' * w + 'b' * b\n",
    "    bL = [b for b in bolas]\n",
    "    np.random.shuffle(bL)\n",
    "    return ''.join(bL)[:n]\n",
    "\n",
    "\n",
    "def sim_urna(w, b, n, rep):\n",
    "    \"\"\"\n",
    "    Simulates urna sampling for a given number of\n",
    "    repetitions (rep)\n",
    "    returns a sequence containing the counts for the white balls\n",
    "    \"\"\"\n",
    "    R = []\n",
    "    for i in range(rep):\n",
    "        R.append(urna(w, b, n).count('w'))\n",
    "\n",
    "    return R\n",
    "\n",
    "RVS = sim_urna(6, 4, 5, 10000)\n",
    "\n",
    "# Plots RVS frequencies\n",
    "unique, counts = np.unique(RVS, return_counts=True)\n",
    "plt.bar(unique, counts / size)\n",
    "\n",
    "# Plot pmf\n",
    "from scipy.stats import hypergeom\n",
    "x = np.linspace(min(RVS), max(RVS), dtype='int')  # variable range\n",
    "px = hypergeom.pmf(x, 10, 6, 5)\n",
    "plt.plot(x, px, '--ro')\n",
    "plt.legend(['Theoretical pmf'])\n",
    "\n",
    "plt.show()"
   ]
  },
  {
   "cell_type": "markdown",
   "metadata": {},
   "source": [
    "**Homework 1:** For all the **discrete distributions** above, use the scipy.stats function to generate a random variate vector, and plot the theoretical pmf to compare with the generated frequencies. You can go to the wiki page of each distribution to replicate for the **parameters** given in the examples. Or go to the slides: https://drive.google.com/file/d/0B-dmEvN59Z2ZOF9US1RxcVRyQnc/view, and try the examples and excercises.\n",
    "1. Generate RVS and plot bar graph with relative frequencies\n",
    "2. Plot theoretical PMF and compare with bar diagram\n",
    "3. Calculate theoretical E[X] and Var[X] and compare with sample mean and variance of RVS\n",
    "4. Calculate cumulative frequencies of RVS in point **(1)**\n",
    "5. Plot theoretical CDF and compare with point **(4)**"
   ]
  }
 ],
 "metadata": {
  "kernelspec": {
   "display_name": "Python 3",
   "language": "python",
   "name": "python3"
  },
  "language_info": {
   "codemirror_mode": {
    "name": "ipython",
    "version": 3
   },
   "file_extension": ".py",
   "mimetype": "text/x-python",
   "name": "python",
   "nbconvert_exporter": "python",
   "pygments_lexer": "ipython3",
   "version": "3.6.3"
  }
 },
 "nbformat": 4,
 "nbformat_minor": 2
}
