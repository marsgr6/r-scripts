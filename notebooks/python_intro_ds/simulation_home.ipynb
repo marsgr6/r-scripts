{
 "cells": [
  {
   "cell_type": "markdown",
   "metadata": {},
   "source": [
    "# Simulation with Python and R\n",
    "\n",
    "\"Essentially, all models are wrong, but some are useful\". George Box.\n",
    "\n",
    "| Python |\n",
    "|:-------------|\n",
    "| __[(Pseudo)Random number generation](https://nbviewer.org/github/marsgr6/r-scripts/blob/master/notebooks/python_intro_ds/pseudorandom_number_generator.ipynb)__ |\n",
    "| __[Playing with randomness](https://nbviewer.org/github/marsgr6/r-scripts/blob/master/notebooks/python_intro_ds/randomness.ipynb)__ |\n",
    "| __[Monte Carlo integration and rvs generation](https://nbviewer.org/github/marsgr6/r-scripts/blob/master/notebooks/python_intro_ds/monte_carlo_and_rvs_generation.ipynb)__ |\n",
    "| __[Discrete distributions](https://nbviewer.org/github/marsgr6/r-scripts/blob/master/notebooks/python_intro_ds/discrete_distributions.ipynb)__ |\n",
    "| __[Continuous distributions](https://nbviewer.org/github/marsgr6/r-scripts/blob/master/notebooks/python_intro_ds/continuous_distributions.ipynb)__ |\n",
    "| __[Sampling distributions](https://nbviewer.org/github/marsgr6/r-scripts/blob/master/notebooks/python_intro_ds/sampling_distributions.ipynb)__ |\n",
    "| __[Distribution fitting](https://nbviewer.org/github/marsgr6/r-scripts/blob/master/notebooks/python_intro_ds/distribution_fitting_python.ipynb)__ |\n",
    "| __[Markov chain and queue systems](https://nbviewer.org/github/marsgr6/r-scripts/blob/master/notebooks/python_intro_ds/markov_queue_systems.ipynb)__ |"
   ]
  }
 ],
 "metadata": {
  "kernelspec": {
   "display_name": "Python 3 (ipykernel)",
   "language": "python",
   "name": "python3"
  },
  "language_info": {
   "codemirror_mode": {
    "name": "ipython",
    "version": 3
   },
   "file_extension": ".py",
   "mimetype": "text/x-python",
   "name": "python",
   "nbconvert_exporter": "python",
   "pygments_lexer": "ipython3",
   "version": "3.9.18"
  }
 },
 "nbformat": 4,
 "nbformat_minor": 4
}
