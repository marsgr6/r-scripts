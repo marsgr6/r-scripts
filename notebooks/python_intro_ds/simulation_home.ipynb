{
 "cells": [
  {
   "cell_type": "markdown",
   "metadata": {},
   "source": [
    "# Simulation with Python and R\n",
    "\n",
    "\"Essentially, all models are wrong, but some are useful\". George Box.\n",
    "\n",
    "| Python        | R           | \n",
    "| :------------- |:-------------|\n",
    "| __[(Pseudo)Random number generation](https://anaconda.org/marsgr6/pseudorandom_number_generator/notebook)__    |   |\n",
    "| __[Playing with randomness](https://anaconda.org/marsgr6/randomness/notebook)__    | |\n",
    "| __[Monte Carlo integration and rvs generation](https://anaconda.org/marsgr6/monte_carlo_and_rvs_generation/notebook)__    |  |\n",
    "|__[Discrete distributions](https://anaconda.org/marsgr6/discrete_distributions/notebook)__     |  |\n",
    "| __[Continuous distributions](https://anaconda.org/marsgr6/continuous_distributions/notebook)__    |  |\n",
    "| __[Sampling distributions](https://anaconda.org/marsgr6/sampling_distributions/notebook)__    |  |\n",
    "|__[Distribution fitting](https://anaconda.org/marsgr6/distribution_fitting_python/notebook)__ |__[R notebook](https://anaconda.org/marsgr6/distribution_fitting_r/notebook)__ |\n",
    "| __[Markov chain and queue systems](https://anaconda.org/marsgr6/markov_queue_systems/notebook)__    | __[R notebook](https://anaconda.org/marsgr6/queue_sytesms_r/notebook)__  |"
   ]
  }
 ],
 "metadata": {
  "kernelspec": {
   "display_name": "Python 3",
   "language": "python",
   "name": "python3"
  },
  "language_info": {
   "codemirror_mode": {
    "name": "ipython",
    "version": 3
   },
   "file_extension": ".py",
   "mimetype": "text/x-python",
   "name": "python",
   "nbconvert_exporter": "python",
   "pygments_lexer": "ipython3",
   "version": "3.6.3"
  }
 },
 "nbformat": 4,
 "nbformat_minor": 2
}
