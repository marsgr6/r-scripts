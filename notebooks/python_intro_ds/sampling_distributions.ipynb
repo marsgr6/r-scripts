{
 "cells": [
  {
   "cell_type": "markdown",
   "metadata": {},
   "source": [
    "# Moment generating function (MGF)\n",
    "\n",
    "$$\n",
    "M_X(t) = E[e^{tX}]= \\left\\{\n",
    "                \\begin{array}{ll}\n",
    "                  \\sum_{R(X)} g_X(x)  e^{tx},\\ X \\text{: discrete rvs,} \\\\\n",
    "                  \\int_{R(X)} [f_X(x)  e^{tx}] dx,\\ X \\text{: continuous rvs.}\n",
    "                \\end{array}\n",
    "              \\right.\n",
    "$$\n",
    "\n",
    "Using the MGF, we can get the moments of the random variable $X$, $E[X^n]$, deriving the function $n$ times and evaluating for $t=0$.\n",
    "\n",
    "$$\n",
    "E[X] = M_x'(t=0)\n",
    "$$\n",
    "\n",
    "$$\n",
    "E[X^2] = M_x''(t=0)\n",
    "$$\n",
    "\n",
    "$$\n",
    "E[X^n] = M_x^n(t=0)\n",
    "$$\n",
    "\n",
    "Thus, we can use the MGF to calculate the expected value and variance of $X$.\n",
    "\n",
    "### MGF determines the distribution\n",
    "\n",
    "The MGF of a random variable determines its distribution: if two r.v.s have the same MGF, they must have\n",
    "the same distribution.\n",
    "\n",
    "### Sum of independent random variables\n",
    "\n",
    "If $X$ and $Y$ are independent,\n",
    "then the MGF of $X + Y$ is the product of the individual MGFs:\n",
    "\n",
    "$$\n",
    "M_{X+Y}(t) = M_X(t)M_Y(t).\n",
    "$$\n",
    "\n",
    "This is true because if $X$ and $Y$ are independent, then $E[e^{t(X+Y)}] = E[e^{tX}]E[e^{tY}]$.\n",
    "\n",
    "We can extend this to $n$ variables:\n",
    "\n",
    "$$W = X_1 + X_n + \\cdots + X_n,$$ then\n",
    "\n",
    "$$\n",
    "M_W(t) = E[e^{tW}] = E[e^{t(X_1+X_2+\\cdots + X_n)}] = E[e^{tX_1}]E[e^{tX_2}] \\cdots E[e^{tX_n}]\n",
    "$$\n",
    "\n",
    "$$\n",
    "M_W(t) = M_{X_1}(t) M_{X_2}(t) \\dots M_{X_n}(t) \n",
    "$$\n",
    "\n",
    "### Sum of independent normal random variables\n",
    "\n",
    "If we have a collection of independent normal r.v.s. $X_1 + X_2 + \\cdots + X_n$, with $X_i \\sim N(\\mu_i, \\sigma_i^2)$. Then the distribution of $W = X_1 + X_2 + \\cdots + X_n$, is\n",
    "\n",
    "\n",
    "$$\n",
    "W \\sim N \\left(\\sum \\mu_i, \\sum \\sigma_i^2 \\right).\n",
    "$$\n",
    "\n",
    "\n",
    "**Proof**\n",
    "\n",
    "The moment generating function of a random variable $X \\sim N(\\mu, \\sigma^2)$ is $M_X(t) = e^{t \\mu + 1/2 \\sigma^2 t^2}$.\n",
    "\n",
    "$$\n",
    "M_W(t) = M_{X_1}(t) M_{X_2}(t) \\dots M_{X_n}(t) \n",
    "$$\n",
    "\n",
    "$$\n",
    "M_W(t) = [e^{t \\mu_1 + 1/2 \\sigma_1^2 t^2}] [e^{t \\mu_2 + 1/2 \\sigma_2^2 t^2}] \\cdots [e^{t \\mu_n + 1/2 \\sigma_n^2 t^2}]\n",
    "$$ \n",
    "\n",
    "$$\n",
    "M_W(t) = e^{t(\\mu_1 + \\mu_2 + \\cdots + \\mu_n) + 1/2 t^2 (\\sigma_1^2 + \\sigma_2^2 + \\cdots + \\sigma_n^2) }\n",
    "$$\n",
    "\n",
    "The last expression corresponds to the MGF of a normal distribution, and given that the MGF determines the distribution, we have that \n",
    "$$W \\sim N (\\mu_1 + \\mu_2 + \\cdots + \\mu_n, \\sigma_1^2 + \\sigma_2^2 + \\cdots + \\sigma_n^2).$$\n",
    "\n",
    "In general if $W = \\sum a_i X_i$, we have:\n",
    "\n",
    "$$\n",
    "W \\sim N \\left(\\sum a_i \\mu_i, \\sum a_i^2 \\sigma_i^2 \\right).\n",
    "$$\n",
    "\n",
    "### Central limit theorem\n",
    "\n",
    "If we have a collection of i.i.d. normal r.v.s. $X_1 + X_2 + \\cdots + X_n$, with $X_i \\sim N(\\mu, \\sigma^2)$.\n",
    "\n",
    "Then for a $n$ large enough we have:\n",
    "\n",
    "$$\n",
    "\\sum X_i \\sim N(n \\mu, n \\sigma^2) \\Rightarrow \\frac{\\sum X_i - n \\mu}{\\sigma \\sqrt{n}} \\sim N(0,1)\n",
    "$$\n",
    "\n",
    "$$\n",
    "\\bar{X} = \\frac{\\sum X_i}{n}  \\sim N(\\mu, \\sigma^2 / n) \\Rightarrow \\frac{\\bar{X} - \\mu}{ \\sigma / \\sqrt{n}} \\sim N(0,1)\n",
    "$$"
   ]
  },
  {
   "cell_type": "code",
   "execution_count": 1,
   "metadata": {},
   "outputs": [
    {
     "name": "stderr",
     "output_type": "stream",
     "text": [
      "/home/salva/anaconda3/lib/python3.6/site-packages/matplotlib/axes/_axes.py:6448: UserWarning: The 'normed' kwarg is deprecated, and has been replaced by the 'density' kwarg.\n",
      "  warnings.warn(\"The 'normed' kwarg is deprecated, and has been \"\n"
     ]
    },
    {
     "data": {
      "image/png": "[encoded data removed]",
      "text/plain": [
       "<Figure size 432x288 with 1 Axes>"
      ]
     },
     "metadata": {},
     "output_type": "display_data"
    }
   ],
   "source": [
    "# -*- coding: utf-8 -*-\n",
    "\"\"\"\n",
    "@author: ms.gonzalez\n",
    "\n",
    "Simulación del Teorema del Límite Central\n",
    "\"\"\"\n",
    "# Importación de librerías\n",
    "import numpy as np\n",
    "import matplotlib.pyplot as plt\n",
    "from scipy.stats import uniform\n",
    "from scipy.stats import norm\n",
    "\n",
    "size = 10000\n",
    "n = 30\n",
    "\n",
    "a, b = 0, 1\n",
    "m = (a+b)/2\n",
    "v = (b-a)**2 / (12 * n)\n",
    "\n",
    "U = uniform.rvs(a, b-a, size=(size,n))  # uniform rvs\n",
    "Um = np.mean(U, axis=1)  # mean of sample of size n\n",
    "\n",
    "x = np.linspace(min(Um), max(Um), 100)  # normal rvs support\n",
    "fx = norm.pdf(x, m, np.sqrt(v))  # evaluate normal pdf\n",
    "\n",
    "plt.hist(Um, bins=40, normed=True, facecolor='green', edgecolor='blue')\n",
    "plt.plot(x, fx, '-r', linewidth=3)\n",
    "plt.show()"
   ]
  },
  {
   "cell_type": "code",
   "execution_count": 2,
   "metadata": {},
   "outputs": [
    {
     "name": "stderr",
     "output_type": "stream",
     "text": [
      "/home/salva/anaconda3/lib/python3.6/site-packages/matplotlib/axes/_axes.py:6448: UserWarning: The 'normed' kwarg is deprecated, and has been replaced by the 'density' kwarg.\n",
      "  warnings.warn(\"The 'normed' kwarg is deprecated, and has been \"\n"
     ]
    },
    {
     "data": {
      "image/png": "[encoded data removed]",
      "text/plain": [
       "<Figure size 432x288 with 1 Axes>"
      ]
     },
     "metadata": {},
     "output_type": "display_data"
    }
   ],
   "source": [
    "# chi-cuadrado\n",
    "\n",
    "size = 10000\n",
    "nz = 10\n",
    "Z = norm.rvs(size=(size, nz))\n",
    "Z2 = Z**2\n",
    "\n",
    "sum_Z2 = np.sum(Z2, axis=1)\n",
    "plt.hist(sum_Z2, bins=50, normed=True, facecolor='green', edgecolor='blue')\n",
    "\n",
    "# Let's plot the theoretical pdf\n",
    "from scipy.stats import chi2\n",
    "\n",
    "x = np.linspace(0, max(sum_Z2), 100)\n",
    "fx = chi2.pdf(x, nz)\n",
    "plt.plot(x, fx, '-r', linewidth=3)\n",
    "plt.show()"
   ]
  },
  {
   "cell_type": "code",
   "execution_count": 3,
   "metadata": {},
   "outputs": [
    {
     "name": "stderr",
     "output_type": "stream",
     "text": [
      "/home/salva/anaconda3/lib/python3.6/site-packages/matplotlib/axes/_axes.py:6448: UserWarning: The 'normed' kwarg is deprecated, and has been replaced by the 'density' kwarg.\n",
      "  warnings.warn(\"The 'normed' kwarg is deprecated, and has been \"\n"
     ]
    },
    {
     "data": {
      "image/png": "[encoded data removed]",
      "text/plain": [
       "<Figure size 432x288 with 1 Axes>"
      ]
     },
     "metadata": {},
     "output_type": "display_data"
    }
   ],
   "source": [
    "# t-student\n",
    "\n",
    "size = 10000\n",
    "nz = 30\n",
    "\n",
    "Z1 = norm.rvs(size=size)\n",
    "\n",
    "Z = norm.rvs(size=(size, nz))\n",
    "Z2 = Z**2\n",
    "\n",
    "sum_Z2 = np.sum(Z2, axis=1)\n",
    "\n",
    "T = Z1 / np.sqrt(sum_Z2 / nz)\n",
    "\n",
    "plt.hist(T, bins=50, normed=True, facecolor='green', edgecolor='blue')\n",
    "\n",
    "# Let's plot the theoretical pdf\n",
    "\n",
    "from scipy.stats import t\n",
    "\n",
    "x = np.linspace(min(T), max(T), 100)\n",
    "fx = t.pdf(x, nz)\n",
    "plt.plot(x, fx, '-r', linewidth=3)\n",
    "\n",
    "plt.show()"
   ]
  },
  {
   "cell_type": "code",
   "execution_count": 4,
   "metadata": {},
   "outputs": [
    {
     "name": "stderr",
     "output_type": "stream",
     "text": [
      "/home/salva/anaconda3/lib/python3.6/site-packages/matplotlib/axes/_axes.py:6448: UserWarning: The 'normed' kwarg is deprecated, and has been replaced by the 'density' kwarg.\n",
      "  warnings.warn(\"The 'normed' kwarg is deprecated, and has been \"\n"
     ]
    },
    {
     "data": {
      "image/png": "[encoded data removed]",
      "text/plain": [
       "<Figure size 432x288 with 1 Axes>"
      ]
     },
     "metadata": {},
     "output_type": "display_data"
    }
   ],
   "source": [
    "# F distribution\n",
    "\n",
    "size = 10000\n",
    "n1 = 10\n",
    "Z = norm.rvs(size=(size, n1))\n",
    "Z2 = Z**2\n",
    "\n",
    "chi2_n1 = np.sum(Z2, axis=1)  # chi2 with n1 deg of freedom \n",
    "\n",
    "n2 = 20\n",
    "Z = norm.rvs(size=(size, n2))\n",
    "Z2 = Z**2\n",
    "\n",
    "chi2_n2 = np.sum(Z2, axis=1)  # chi2 with n2 deg of freedom \n",
    "\n",
    "W = (chi2_n1 / n1) / (chi2_n2 / n2)\n",
    "\n",
    "plt.hist(W, bins=50, normed=True, facecolor='green', edgecolor='blue')\n",
    "\n",
    "# Let's plot the theoretical pdf\n",
    "\n",
    "from scipy.stats import f\n",
    "\n",
    "x = np.linspace(min(W), max(W), 100)\n",
    "fx = f.pdf(x, n1, n2)\n",
    "plt.plot(x, fx, '-r', linewidth=3)\n",
    "\n",
    "plt.show()"
   ]
  },
  {
   "cell_type": "markdown",
   "metadata": {},
   "source": [
    "Si $X$ y $Y$ son dos variable aleatorias distribuidas como\n",
    "$$\n",
    "X \\sim \\mathcal{N}\\left(\\mu_X, \\sigma_X^2\\right) \\textrm{ y } \n",
    "Y \\sim \\mathcal{N}\\left(\\mu_Y, \\sigma_Y^2\\right),\n",
    "$$ \n",
    "y se seleccionan dos muestras aleatorias \n",
    "$X_1,X_2,\\dots,X_n$ y $Y_1,Y_2,\\dots,Y_m$, \n",
    "determine la distribución de probabilidad de \n",
    "los siguientes estadísticos (marcados en negrita):\n",
    "\n",
    "---\n",
    "\n",
    "\\begin{equation}\n",
    "    \\boldsymbol{\\frac{\\bar{X} - \\mu_X}{\\sigma_X / \\sqrt n}} \\sim \\mathcal{N}(0,1).\\quad (1)\n",
    "\\end{equation}\n",
    "\n",
    "Sabemos que v.a. $\\bar{X}$ (media muestral)\n",
    "está distribuida como $\\bar{X}\\sim \\mathcal{N}\\left(\\mu_X, \\frac{\\sigma_X^2}{n}\\right)$.\n",
    "Al normalizar para parámetros conocidos de la población,\n",
    "es decir, restar la media $\\mu$ y dividir por la desviación \n",
    "$\\sqrt{\\frac{\\sigma_X^2}{n}}$, tenemos la expresión en la Ec. (1).\n",
    "\n",
    "---\n",
    "\n",
    "\\begin{equation}\n",
    "    \\boldsymbol{(n-1)\\frac{S_X^2}{\\sigma_X^2}} \\sim \\chi^2_{(n-1)}.\\quad (2)\n",
    "\\end{equation}\n",
    "\n",
    "$$\n",
    "\\sum_{i=1}^n(X_i - \\mu)^2  = \\sum_{i=1}^n[(X_i - \\bar{X}) + (\\bar{X} - \\mu)]^2\n",
    "$$\n",
    "$$\n",
    " = \\sum_{i=1}^n(X_i - \\bar{X})^2 + \\sum_{i=1}^n(\\bar{X} - \\mu)^2 + 2(\\bar{X} - \\mu)\\sum_{i=1}^n(X_i - \\bar{X})\n",
    "$$\n",
    "$$\n",
    " = \\sum_{i=1}^n(X_i - \\bar{X})^2 + n(\\bar{X} - \\mu)^2\n",
    "$$\n",
    "\n",
    "Partimos de sumar y restar $\\bar{X}$, es decir hemos suamdo cero,\n",
    "por lo que ambas expresiones de la igualdad son equivalentes.\n",
    "Luego descomponemos la expresión resultante como se muestra en la segunda línea.\n",
    "El término $\\sum_{i=1}^n(X_i - \\bar{X})$ es igual a cero, \n",
    "y la sumatoria en el segundo término es una suma constante,\n",
    "por lo tanto es igual a $n$ veces $(\\bar{X} - \\mu)^2$. \n",
    "Partimos de la expresión obtenida arriba, \n",
    "$$\n",
    "\\sum_{i=1}^n(X_i - \\mu)^2 \n",
    " = \\sum_{i=1}^n(X_i - \\bar{X})^2 + n(\\bar{X} - \\mu)^2.\n",
    "$$\n",
    "dividimos \n",
    "cada término de la igualdad entre $\\sigma^2$ y \n",
    "sustituimos $\\sum_{i=1}^n(X_i - \\bar{X})^2$ por $(n - 1)S^2$.\n",
    "Esto último proviene de despejar de la definición\n",
    "del estimador insesgado de la varianza\n",
    "muestral $S^2 = \\frac{1}{n-1}\\sum_{i=1}^n(X_i - \\bar{X})^2$.\n",
    "\n",
    "El resulado es:\n",
    "\n",
    "$$\n",
    "\\frac{1}{\\sigma^2}\\sum_{i=1}^n(X_i - \\mu)^2 = \n",
    "\\frac{(n - 1)S^2}{\\sigma^2} + \n",
    "\\frac{(\\bar{X} - \\mu)^2}{\\sigma^2/n}.\n",
    "$$\n",
    "\n",
    "Note que el término en rojo está distribuido como\n",
    "$\\frac{1}{\\sigma^2}\\sum_{i=1}^n(X_i - \\mu)^2 \\sim \\chi^2_{(n)}$.\n",
    "El término en verde está distribuido como \n",
    "$\\frac{(\\bar{X} - \\mu)^2}{\\sigma^2/n} \\sim \\chi^2_{(1)}$.\n",
    "Recuerde que $Z_1^2 + Z_2^2 + \\dots + Z_n^2 \\sim \\chi^2_{(n)}$, donde $Z\\sim \\mathcal{N}(0,1)$.\n",
    "Sabemos que $W = \\sum_{i=1}^n W_i = \\chi^2_{(\\sum \\nu_i)}$, con $W_i \\sim \\chi^2_{(\\nu_i)}$, \n",
    "por tanto al despejar $\\frac{(n - 1)S^2}{\\sigma^2}$ resulta la expresión en la Ec. (2).\n",
    "\n",
    "---\n",
    "\n",
    "\\begin{equation}\n",
    "    \\boldsymbol{\\frac{\\bar{X}-\\mu_X}{S_X/\\sqrt{n}}} \\sim t_{(n-1)}.\\quad (3)\n",
    "\\end{equation}\n",
    "\n",
    "Tenemos que \n",
    "$$\n",
    "U=(n-1)\\frac{S_X^2}{\\sigma_X^2} \\sim \\chi^2_{(\\nu=n-1)},\\quad \n",
    "Z=\\frac{\\bar{X} - \\mu_X}{\\sigma_X / \\sqrt n} \\sim \\mathcal{N}(0,1).\n",
    "$$\n",
    "Usando la definición de la variable aleatoria \n",
    "$$T=\\frac{Z}{\\sqrt{U/\\nu}}\\sim t_{\\nu},$$\n",
    "donde $\\nu$ son los grados de libertad de la distribución,\n",
    "comprobamos la expresión de la Ec. (3) a continuación:\n",
    "\n",
    "$$\n",
    "T=\\frac{Z}{\\sqrt{U/\\nu}} \\\\\n",
    "=\\frac{\\frac{\\bar{X} - \\mu_X}{\\sigma_X / \\sqrt n}}{\\sqrt{\\frac{(n-1)\\frac{S_X^2}{\\sigma_X^2}}{n-1}}}\n",
    "=\\frac{\\frac{\\bar{X} - \\mu_X}{\\sigma_X / \\sqrt n}}{\\sqrt{\\frac{S_X^2}{\\sigma_X^2}}}\n",
    "=\\frac{\\frac{\\bar{X} - \\mu_X}{\\sigma_X / \\sqrt n}}{\\frac{S_X}{\\sigma_X}}\n",
    "$$\n",
    "\n",
    "$$\n",
    "=\\frac{\\bar{X} - \\mu_X}{S_X / \\sqrt n} \\sim t_{(n-1)}.\n",
    "$$\n",
    "\n",
    "---\n",
    "\n",
    "\\begin{equation}\n",
    "    \\boldsymbol{\\frac{S_Y^2 \\sigma_X^2}{S_X^2 \\sigma_Y^2}}\n",
    "    \\sim F_{(\\omega=m-1, \\nu=n-1)}.\\quad (4)\n",
    "    \\end{equation}\n",
    "\n",
    "Tenemos que \n",
    "$$\n",
    "U=(m-1)\\frac{S_Y^2}{\\sigma_Y^2} \\sim \\chi^2_{(\\omega=m-1)},\\\n",
    "V=(n-1)\\frac{S_X^2}{\\sigma_X^2} \\sim \\chi^2_{(\\nu=n-1)}.\n",
    "$$\n",
    "De la definición de la v.a. $W = \\frac{U/\\omega}{V/\\nu} \\sim F(\\omega, \\nu)$,\n",
    "comporbamos la expresión de la Ec. (4):\n",
    "\n",
    "$$\n",
    "W = \\frac{U/\\omega}{V/\\nu} \n",
    "$$\n",
    "\n",
    "$$\n",
    "= \\frac{\\frac{(m-1)\\frac{S_Y^2}{\\sigma_Y^2}}{m-1}}\n",
    "{\\frac{(n-1)\\frac{S_X^2}{\\sigma_X^2}}{n-1}} = \n",
    "\\frac{\\frac{S_Y^2}{\\sigma_Y^2}}{\\frac{S_X^2}{\\sigma_X^2}}\n",
    "= \\frac{S_Y^2 \\sigma_X^2}{S_X^2 \\sigma_Y^2} \\sim F_{(\\omega=m-1, \\nu=n-1)}.\n",
    "$$\n",
    "\n",
    "\n",
    "- Ver __[resumen de fórmulas](https://drive.google.com/open?id=13UyYrWb4MtYr2vJpSnvZWyETH1mW360W)__ para construir intevalos de confianza.\n",
    "\n",
    "- Ver __[resumen de fórmulas](https://drive.google.com/open?id=1C6Wq9MOQGWNzBwCK8w-DB5NnsY_Mn4Lv)__ para pruebas de hipótesis.\n",
    "\n",
    "### Simulation of sample proportion of successful trials $\\bar{X}$, $n \\bar{X} \\sim bin(n, p)$"
   ]
  },
  {
   "cell_type": "code",
   "execution_count": 5,
   "metadata": {},
   "outputs": [
    {
     "data": {
      "image/png": "[encoded data removed]",
      "text/plain": [
       "<Figure size 432x288 with 1 Axes>"
      ]
     },
     "metadata": {},
     "output_type": "display_data"
    }
   ],
   "source": [
    "from scipy.stats import binom\n",
    "\n",
    "size = 10000\n",
    "n = 5\n",
    "\n",
    "prob = 0.3\n",
    "\n",
    "X = binom.rvs(1, prob, size=(size, n))  # Sum of bernoulli distributions\n",
    "\n",
    "estX = np.mean(X, axis=1)*n \n",
    "\n",
    "unique, counts = np.unique(estX, return_counts=True)\n",
    "plt.bar(unique, counts / size)\n",
    "plt.plot(unique, binom.pmf(unique, n, prob), '--ro')\n",
    "plt.show()"
   ]
  },
  {
   "cell_type": "markdown",
   "metadata": {},
   "source": [
    "### Sampling distribution of difference between sample means, $\\bar {X}_{1}-\\bar {X}_{2}$￼"
   ]
  },
  {
   "cell_type": "code",
   "execution_count": 6,
   "metadata": {},
   "outputs": [
    {
     "name": "stderr",
     "output_type": "stream",
     "text": [
      "/home/salva/anaconda3/lib/python3.6/site-packages/matplotlib/axes/_axes.py:6448: UserWarning: The 'normed' kwarg is deprecated, and has been replaced by the 'density' kwarg.\n",
      "  warnings.warn(\"The 'normed' kwarg is deprecated, and has been \"\n"
     ]
    },
    {
     "data": {
      "image/png": "[encoded data removed]",
      "text/plain": [
       "<Figure size 432x288 with 1 Axes>"
      ]
     },
     "metadata": {},
     "output_type": "display_data"
    }
   ],
   "source": [
    "m1, m2 = 0, 0\n",
    "v1, v2 = 1, 4\n",
    "n1, n2 = 4, 9\n",
    "\n",
    "size = 10000\n",
    "\n",
    "X1 = norm.rvs(loc=m1, scale=np.sqrt(v1), size=(size, n1))\n",
    "\n",
    "X2 = norm.rvs(loc=m2, scale=np.sqrt(v2), size=(size, n2))\n",
    "\n",
    "mX1 = np.mean(X1, axis=1)\n",
    "mX2 = np.mean(X2, axis=1)\n",
    "\n",
    "dX = mX1 - mX2\n",
    "\n",
    "plt.hist(dX, bins=50, normed=True, facecolor='green', edgecolor='blue')\n",
    "\n",
    "xn = np.linspace(min(dX), max(dX), 100)\n",
    "\n",
    "mn = m1 - m2\n",
    "sn = np.sqrt(v1/n1 + v2/n2)\n",
    "fxn = norm.pdf(xn, mn, sn)\n",
    "plt.plot(xn, fxn, 'r', linewidth=2)\n",
    "plt.show()"
   ]
  },
  {
   "cell_type": "markdown",
   "metadata": {},
   "source": [
    "### Distribution of sample variance"
   ]
  },
  {
   "cell_type": "code",
   "execution_count": 7,
   "metadata": {},
   "outputs": [
    {
     "name": "stderr",
     "output_type": "stream",
     "text": [
      "/home/salva/anaconda3/lib/python3.6/site-packages/matplotlib/axes/_axes.py:6448: UserWarning: The 'normed' kwarg is deprecated, and has been replaced by the 'density' kwarg.\n",
      "  warnings.warn(\"The 'normed' kwarg is deprecated, and has been \"\n"
     ]
    },
    {
     "data": {
      "image/png": "[encoded data removed]",
      "text/plain": [
       "<Figure size 432x288 with 1 Axes>"
      ]
     },
     "metadata": {},
     "output_type": "display_data"
    }
   ],
   "source": [
    "m, v = 0, 1\n",
    "\n",
    "size = 10000 \n",
    "n = 100\n",
    "\n",
    "X = norm.rvs(loc=m, scale=np.sqrt(v), size=(size, n))\n",
    "\n",
    "vX = np.var(X, axis=1)\n",
    "\n",
    "vX = (n-1) * vX / v\n",
    "\n",
    "plt.hist(vX, bins=50, normed=True, facecolor='green', edgecolor='blue')\n",
    "\n",
    "x = np.linspace(min(vX), max(vX), 100)\n",
    "\n",
    "fx = chi2.pdf(x, n-1)\n",
    "plt.plot(x, fx, 'r', linewidth=2)\n",
    "plt.show()"
   ]
  },
  {
   "cell_type": "markdown",
   "metadata": {},
   "source": [
    "### Simulation of confidence intervals"
   ]
  },
  {
   "cell_type": "code",
   "execution_count": 8,
   "metadata": {},
   "outputs": [
    {
     "data": {
      "image/png": "[encoded data removed]",
      "text/plain": [
       "<Figure size 432x288 with 1 Axes>"
      ]
     },
     "metadata": {},
     "output_type": "display_data"
    },
    {
     "name": "stdout",
     "output_type": "stream",
     "text": [
      "The true mean is in the interval 96.0 % of the time.\n"
     ]
    }
   ],
   "source": [
    "size = 50\n",
    "n = 30\n",
    "\n",
    "a, b = 0, 1\n",
    "m = (a+b)/2\n",
    "v = (b-a)**2 / 12\n",
    "\n",
    "U = uniform.rvs(a, b-a, size=(size,n))  # uniform rvs\n",
    "Um = np.mean(U, axis=1)  # mean of sample of size n\n",
    "\n",
    "ICU = Um + norm.ppf(0.975)*np.sqrt(v / n)\n",
    "ICL = Um - norm.ppf(0.975)*np.sqrt(v / n)\n",
    "\n",
    "ci = np.vstack([ICL, ICU]).transpose()\n",
    "cont = np.where(np.logical_and(ci[:,0]<0.5, ci[:,1]>0.5))[0]\n",
    "\n",
    "for pos,limits in enumerate(ci):\n",
    "    if pos in cont:\n",
    "        col = 'k'\n",
    "    else:\n",
    "        col = 'r'\n",
    "    plt.hlines(pos+1, limits[0], limits[1], colors=col)\n",
    "\n",
    "plt.vlines(m, 0, size+1, colors='b')\n",
    "plt.show()\n",
    "\n",
    "# Let's count how many times the interval contains the true mean\n",
    "print(\"The true mean is in the interval\", np.shape(cont)[0]/size*100, \"% of the time.\")"
   ]
  },
  {
   "cell_type": "markdown",
   "metadata": {},
   "source": [
    "### Population mean point estimation: sample mean vs. sample median"
   ]
  },
  {
   "cell_type": "code",
   "execution_count": 9,
   "metadata": {},
   "outputs": [
    {
     "data": {
      "image/png": "[encoded data removed]",
      "text/plain": [
       "<Figure size 432x288 with 1 Axes>"
      ]
     },
     "metadata": {},
     "output_type": "display_data"
    }
   ],
   "source": [
    "import pandas as pd\n",
    "import seaborn as sns\n",
    "\n",
    "size = 10000\n",
    "n = 30\n",
    "\n",
    "U = uniform.rvs(a, b-a, size=(size,n))  # uniform rvs\n",
    "Um = np.mean(U, axis=1)\n",
    "Umed = np.median(U, axis=1)\n",
    "\n",
    "sns.kdeplot(Um, label=\"Mean\")\n",
    "sns.kdeplot(Umed, label=\"Median\")\n",
    "plt.legend()\n",
    "plt.show()"
   ]
  },
  {
   "cell_type": "markdown",
   "metadata": {},
   "source": [
    "- What can you conclude of the point estimators above?\n",
    "    - Are both centered?\n",
    "    - Which one has minimum variance?"
   ]
  },
  {
   "cell_type": "markdown",
   "metadata": {},
   "source": [
    "## Examples:\n",
    "\n",
    "1.A random sample of 16 Americans yielded the following data on the number of pounds of beef consumed per year:\n",
    "\n",
    "    118    115    125    110    112    130    117    112\n",
    "\n",
    "    115    120    113    118    119    122    123    126\n",
    "\n",
    "    - What is the average number of pounds of beef consumed each year per person in the United States? To help answer the question, calculate a 95% confidence interval for the mean. \n",
    "\n",
    "\n",
    "2.Boys of a certain age are known to have a mean weight of $\\mu = 85$ pounds. A complaint is made that the boys living in a municipal children's home are underfed. As one bit of evidence, $n = 25$ boys (of the same age) are weighed and found to have a mean weight of \n",
    "$\\bar{X} = 80.94$ pounds. It is known that the population standard deviation $\\sigma$ is 11.6 pounds (the unrealistic part of this example!). Based on the available data, what should be concluded concerning the complaint?\n",
    "\n",
    "- Sources:\n",
    "    - https://newonlinecourses.science.psu.edu/stat414/node/289/\n",
    "    - https://newonlinecourses.science.psu.edu/stat414/node/290/"
   ]
  }
 ],
 "metadata": {
  "kernelspec": {
   "display_name": "Python 3",
   "language": "python",
   "name": "python3"
  },
  "language_info": {
   "codemirror_mode": {
    "name": "ipython",
    "version": 3
   },
   "file_extension": ".py",
   "mimetype": "text/x-python",
   "name": "python",
   "nbconvert_exporter": "python",
   "pygments_lexer": "ipython3",
   "version": "3.6.3"
  }
 },
 "nbformat": 4,
 "nbformat_minor": 2
}
