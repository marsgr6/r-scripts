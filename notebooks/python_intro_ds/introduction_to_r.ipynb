{
 "cells": [
  {
   "cell_type": "code",
   "execution_count": 1,
   "metadata": {},
   "outputs": [
    {
     "data": {
      "text/html": [
       "10"
      ],
      "text/latex": [
       "10"
      ],
      "text/markdown": [
       "10"
      ],
      "text/plain": [
       "[1] 10"
      ]
     },
     "metadata": {},
     "output_type": "display_data"
    },
    {
     "data": {
      "text/html": [
       "120"
      ],
      "text/latex": [
       "120"
      ],
      "text/markdown": [
       "120"
      ],
      "text/plain": [
       "[1] 120"
      ]
     },
     "metadata": {},
     "output_type": "display_data"
    },
    {
     "data": {
      "text/html": [
       "4"
      ],
      "text/latex": [
       "4"
      ],
      "text/markdown": [
       "4"
      ],
      "text/plain": [
       "[1] 4"
      ]
     },
     "metadata": {},
     "output_type": "display_data"
    },
    {
     "data": {
      "text/html": [
       "10"
      ],
      "text/latex": [
       "10"
      ],
      "text/markdown": [
       "10"
      ],
      "text/plain": [
       "[1] 10"
      ]
     },
     "metadata": {},
     "output_type": "display_data"
    },
    {
     "data": {
      "text/html": [
       "<ol class=list-inline>\n",
       "\t<li>'x'</li>\n",
       "\t<li>'y'</li>\n",
       "\t<li>'z'</li>\n",
       "</ol>\n"
      ],
      "text/latex": [
       "\\begin{enumerate*}\n",
       "\\item 'x'\n",
       "\\item 'y'\n",
       "\\item 'z'\n",
       "\\end{enumerate*}\n"
      ],
      "text/markdown": [
       "1. 'x'\n",
       "2. 'y'\n",
       "3. 'z'\n",
       "\n",
       "\n"
      ],
      "text/plain": [
       "[1] \"x\" \"y\" \"z\""
      ]
     },
     "metadata": {},
     "output_type": "display_data"
    },
    {
     "data": {
      "text/html": [
       "'z'"
      ],
      "text/latex": [
       "'z'"
      ],
      "text/markdown": [
       "'z'"
      ],
      "text/plain": [
       "[1] \"z\""
      ]
     },
     "metadata": {},
     "output_type": "display_data"
    }
   ],
   "source": [
    "# Introducción a R\n",
    "# Ejecute línea a línea en RStudio o en la consola interactiva\n",
    "# Las líneas anteriores son comentarios, el intérprete las omite\n",
    "# Algunos tips\n",
    "# Un comentario inicia con símbolo #\n",
    "# Use la función q() para salir de R\n",
    "# Use tab para autocompletar un comando/función\n",
    "# Use las teclas direccionales Up/Down para moverse \n",
    "# por el historial de comandos \n",
    "# (útil si se desa cambiar/corregir algún parámetro \n",
    "# de un comando ejecutado con anterioridad)\n",
    "# Use las teclas direccionales Left/Right para moverse \n",
    "# en la línea actual y modificar el comando/función\n",
    "\n",
    "# R como una calculadora\n",
    "4+6\n",
    "2*3*4*5\n",
    "sqrt(16)\n",
    "# El operador de asignación es \"<-\"\n",
    "x<-6\n",
    "y<-4\n",
    "z<-x+y\n",
    "z\n",
    "# Lista las variables y funciones creadas por el usuario\n",
    "ls()\n",
    "# rm(var1,var2,...) Elimina varibles existentes\n",
    "rm(x, y)\n",
    "ls()\n",
    "# Para eliminar todas la variables y objetos use la siguiente línea\n",
    "# rm(list=ls(all=TRUE))"
   ]
  },
  {
   "cell_type": "code",
   "execution_count": 6,
   "metadata": {},
   "outputs": [
    {
     "data": {
      "text/html": [
       "3.14159265358979"
      ],
      "text/latex": [
       "3.14159265358979"
      ],
      "text/markdown": [
       "3.14159265358979"
      ],
      "text/plain": [
       "[1] 3.141593"
      ]
     },
     "metadata": {},
     "output_type": "display_data"
    },
    {
     "data": {
      "text/html": [
       "40074.1558891914"
      ],
      "text/latex": [
       "40074.1558891914"
      ],
      "text/markdown": [
       "40074.1558891914"
      ],
      "text/plain": [
       "[1] 40074.16"
      ]
     },
     "metadata": {},
     "output_type": "display_data"
    },
    {
     "data": {
      "text/html": [
       "48"
      ],
      "text/latex": [
       "48"
      ],
      "text/markdown": [
       "48"
      ],
      "text/plain": [
       "[1] 48"
      ]
     },
     "metadata": {},
     "output_type": "display_data"
    },
    {
     "data": {
      "text/html": [
       "48"
      ],
      "text/latex": [
       "48"
      ],
      "text/markdown": [
       "48"
      ],
      "text/plain": [
       "[1] 48"
      ]
     },
     "metadata": {},
     "output_type": "display_data"
    },
    {
     "data": {
      "text/html": [
       "144"
      ],
      "text/latex": [
       "144"
      ],
      "text/markdown": [
       "144"
      ],
      "text/plain": [
       "[1] 144"
      ]
     },
     "metadata": {},
     "output_type": "display_data"
    }
   ],
   "source": [
    "pi # R knows about pi\n",
    "2*pi*6378 # Circumference of earth at equator (radius at equator is 6378 km)\n",
    "\n",
    "# A continuation prompt, by default +, appears following \n",
    "# a carriage return when the\n",
    "# command is not yet complete (if you are using the console).\n",
    "3*4^\n",
    "+ 2\n",
    "\n",
    "# Multiple commands may appear on one line, \n",
    "# with a semicolon (;) as the separator.\n",
    "3*4^2; (3*4)^2"
   ]
  },
  {
   "cell_type": "code",
   "execution_count": 27,
   "metadata": {},
   "outputs": [
    {
     "data": {
      "text/html": [
       "3"
      ],
      "text/latex": [
       "3"
      ],
      "text/markdown": [
       "3"
      ],
      "text/plain": [
       "[1] 3"
      ]
     },
     "metadata": {},
     "output_type": "display_data"
    },
    {
     "data": {
      "text/html": [
       "'double'"
      ],
      "text/latex": [
       "'double'"
      ],
      "text/markdown": [
       "'double'"
      ],
      "text/plain": [
       "[1] \"double\""
      ]
     },
     "metadata": {},
     "output_type": "display_data"
    },
    {
     "name": "stdout",
     "output_type": "stream",
     "text": [
      "[1] 10  5  6\n",
      "[1] 10.0  8.5 10.0\n",
      "[1] -6.0  2.5  2.0\n",
      "[1] 16.0 16.5 24.0\n",
      "[1] 0.250000 1.833333 1.500000\n",
      "[1] 2.0 2.5 2.0\n",
      "[1] 0 1 1\n",
      "[1]  256.000  166.375 1296.000\n"
     ]
    }
   ],
   "source": [
    "# Entrada de datos en el prompt (consola)\n",
    "# Creación de vectores y operaciones\n",
    "# Operador de concatenación c(elemento1, elemento2)\n",
    "v <- c(2,5.5,6)\n",
    "t <- c(8, 3, 4)\n",
    "length(v)\n",
    "typeof(t)\n",
    "print(t+2)\n",
    "print(v+t)\n",
    "print(v-t)\n",
    "# La multiplicacion y división ocurren por defecto elemento a elemento\n",
    "print(v*t)\n",
    "print(v/t)\n",
    "# Modulo de la división\n",
    "print(v%%t)\n",
    "# Cociente de la división\n",
    "print(v%/%t)\n",
    "# Potencia de\n",
    "print(v^t)"
   ]
  },
  {
   "cell_type": "code",
   "execution_count": 28,
   "metadata": {},
   "outputs": [
    {
     "data": {
      "text/html": [
       "<ol class=list-inline>\n",
       "\t<li>1</li>\n",
       "\t<li>2</li>\n",
       "\t<li>3</li>\n",
       "\t<li>4</li>\n",
       "\t<li>5</li>\n",
       "\t<li>6</li>\n",
       "\t<li>7</li>\n",
       "\t<li>8</li>\n",
       "\t<li>9</li>\n",
       "\t<li>10</li>\n",
       "</ol>\n"
      ],
      "text/latex": [
       "\\begin{enumerate*}\n",
       "\\item 1\n",
       "\\item 2\n",
       "\\item 3\n",
       "\\item 4\n",
       "\\item 5\n",
       "\\item 6\n",
       "\\item 7\n",
       "\\item 8\n",
       "\\item 9\n",
       "\\item 10\n",
       "\\end{enumerate*}\n"
      ],
      "text/markdown": [
       "1. 1\n",
       "2. 2\n",
       "3. 3\n",
       "4. 4\n",
       "5. 5\n",
       "6. 6\n",
       "7. 7\n",
       "8. 8\n",
       "9. 9\n",
       "10. 10\n",
       "\n",
       "\n"
      ],
      "text/plain": [
       " [1]  1  2  3  4  5  6  7  8  9 10"
      ]
     },
     "metadata": {},
     "output_type": "display_data"
    },
    {
     "data": {
      "text/html": [
       "<ol class=list-inline>\n",
       "\t<li>1</li>\n",
       "\t<li>2</li>\n",
       "\t<li>3</li>\n",
       "\t<li>4</li>\n",
       "\t<li>5</li>\n",
       "</ol>\n"
      ],
      "text/latex": [
       "\\begin{enumerate*}\n",
       "\\item 1\n",
       "\\item 2\n",
       "\\item 3\n",
       "\\item 4\n",
       "\\item 5\n",
       "\\end{enumerate*}\n"
      ],
      "text/markdown": [
       "1. 1\n",
       "2. 2\n",
       "3. 3\n",
       "4. 4\n",
       "5. 5\n",
       "\n",
       "\n"
      ],
      "text/plain": [
       "[1] 1 2 3 4 5"
      ]
     },
     "metadata": {},
     "output_type": "display_data"
    },
    {
     "data": {
      "text/html": [
       "<ol class=list-inline>\n",
       "\t<li>1</li>\n",
       "\t<li>3</li>\n",
       "\t<li>5</li>\n",
       "\t<li>7</li>\n",
       "\t<li>9</li>\n",
       "</ol>\n"
      ],
      "text/latex": [
       "\\begin{enumerate*}\n",
       "\\item 1\n",
       "\\item 3\n",
       "\\item 5\n",
       "\\item 7\n",
       "\\item 9\n",
       "\\end{enumerate*}\n"
      ],
      "text/markdown": [
       "1. 1\n",
       "2. 3\n",
       "3. 5\n",
       "4. 7\n",
       "5. 9\n",
       "\n",
       "\n"
      ],
      "text/plain": [
       "[1] 1 3 5 7 9"
      ]
     },
     "metadata": {},
     "output_type": "display_data"
    },
    {
     "data": {
      "text/html": [
       "<ol class=list-inline>\n",
       "\t<li>8</li>\n",
       "\t<li>10.4</li>\n",
       "\t<li>12.8</li>\n",
       "\t<li>15.2</li>\n",
       "\t<li>17.6</li>\n",
       "\t<li>20</li>\n",
       "</ol>\n"
      ],
      "text/latex": [
       "\\begin{enumerate*}\n",
       "\\item 8\n",
       "\\item 10.4\n",
       "\\item 12.8\n",
       "\\item 15.2\n",
       "\\item 17.6\n",
       "\\item 20\n",
       "\\end{enumerate*}\n"
      ],
      "text/markdown": [
       "1. 8\n",
       "2. 10.4\n",
       "3. 12.8\n",
       "4. 15.2\n",
       "5. 17.6\n",
       "6. 20\n",
       "\n",
       "\n"
      ],
      "text/plain": [
       "[1]  8.0 10.4 12.8 15.2 17.6 20.0"
      ]
     },
     "metadata": {},
     "output_type": "display_data"
    },
    {
     "data": {
      "text/html": [
       "<ol class=list-inline>\n",
       "\t<li>1</li>\n",
       "\t<li>1</li>\n",
       "\t<li>1</li>\n",
       "\t<li>1</li>\n",
       "\t<li>1</li>\n",
       "\t<li>1</li>\n",
       "\t<li>1</li>\n",
       "\t<li>1</li>\n",
       "\t<li>1</li>\n",
       "\t<li>1</li>\n",
       "</ol>\n"
      ],
      "text/latex": [
       "\\begin{enumerate*}\n",
       "\\item 1\n",
       "\\item 1\n",
       "\\item 1\n",
       "\\item 1\n",
       "\\item 1\n",
       "\\item 1\n",
       "\\item 1\n",
       "\\item 1\n",
       "\\item 1\n",
       "\\item 1\n",
       "\\end{enumerate*}\n"
      ],
      "text/markdown": [
       "1. 1\n",
       "2. 1\n",
       "3. 1\n",
       "4. 1\n",
       "5. 1\n",
       "6. 1\n",
       "7. 1\n",
       "8. 1\n",
       "9. 1\n",
       "10. 1\n",
       "\n",
       "\n"
      ],
      "text/plain": [
       " [1] 1 1 1 1 1 1 1 1 1 1"
      ]
     },
     "metadata": {},
     "output_type": "display_data"
    },
    {
     "data": {
      "text/html": [
       "<ol class=list-inline>\n",
       "\t<li>1</li>\n",
       "\t<li>2</li>\n",
       "\t<li>3</li>\n",
       "\t<li>1</li>\n",
       "\t<li>2</li>\n",
       "\t<li>3</li>\n",
       "\t<li>1</li>\n",
       "\t<li>2</li>\n",
       "\t<li>3</li>\n",
       "\t<li>1</li>\n",
       "\t<li>2</li>\n",
       "\t<li>3</li>\n",
       "\t<li>1</li>\n",
       "\t<li>2</li>\n",
       "\t<li>3</li>\n",
       "</ol>\n"
      ],
      "text/latex": [
       "\\begin{enumerate*}\n",
       "\\item 1\n",
       "\\item 2\n",
       "\\item 3\n",
       "\\item 1\n",
       "\\item 2\n",
       "\\item 3\n",
       "\\item 1\n",
       "\\item 2\n",
       "\\item 3\n",
       "\\item 1\n",
       "\\item 2\n",
       "\\item 3\n",
       "\\item 1\n",
       "\\item 2\n",
       "\\item 3\n",
       "\\end{enumerate*}\n"
      ],
      "text/markdown": [
       "1. 1\n",
       "2. 2\n",
       "3. 3\n",
       "4. 1\n",
       "5. 2\n",
       "6. 3\n",
       "7. 1\n",
       "8. 2\n",
       "9. 3\n",
       "10. 1\n",
       "11. 2\n",
       "12. 3\n",
       "13. 1\n",
       "14. 2\n",
       "15. 3\n",
       "\n",
       "\n"
      ],
      "text/plain": [
       " [1] 1 2 3 1 2 3 1 2 3 1 2 3 1 2 3"
      ]
     },
     "metadata": {},
     "output_type": "display_data"
    }
   ],
   "source": [
    "# Construcción de vectores y repetición\n",
    "x<-1:10\n",
    "x\n",
    "seq(1,5)\n",
    "seq(1,9,by=2)\n",
    "seq(8,20,length=6)\n",
    "rep(1,10)\n",
    "rep(1:3,5)"
   ]
  },
  {
   "cell_type": "code",
   "execution_count": 21,
   "metadata": {
    "collapsed": true
   },
   "outputs": [],
   "source": [
    "# Ejercicios\n",
    "# Define\n",
    "# x<-c(4,2,6)\n",
    "# y<-c(1,0,-1)\n",
    "#\n",
    "# Cuál es el resultado de\n",
    "# (a) length(x)\n",
    "# (b) sum(x)\n",
    "# (c) sum(x^2)\n",
    "# (d) x+y\n",
    "# (e) x*y\n",
    "# (f) x-2\n",
    "# (g) x^2\n",
    "#\n",
    "# Cuál es el resultado de\n",
    "# (a) 7:11\n",
    "# (b) seq(2,9)\n",
    "# (c) seq(4,10,by=2)\n",
    "# (d) seq(3,30,length=10)\n",
    "# (e) seq(6,-4,by=-2)\n",
    "#\n",
    "# Cuál es el resultado de\n",
    "# (a) rep(2,4)\n",
    "# (b) rep(c(1,2),4)\n",
    "# (c) rep(c(1,2),c(4,4))\n",
    "# (d) rep(1:4,4)\n",
    "# (e) rep(1:4,rep(3,4))\n",
    "# \n",
    "# Use la función adecuada para construir las siguientes secuencias\n",
    "# (a) 6,6,6,6,6,6\n",
    "# (b) 5,8,5,8,5,8,5,8\n",
    "# (c) 5,5,5,5,8,8,8,8"
   ]
  },
  {
   "cell_type": "code",
   "execution_count": 34,
   "metadata": {},
   "outputs": [
    {
     "data": {
      "text/html": [
       "<ol class=list-inline>\n",
       "\t<li>7.5</li>\n",
       "\t<li>8.2</li>\n",
       "\t<li>3.1</li>\n",
       "\t<li>5.6</li>\n",
       "\t<li>8.2</li>\n",
       "\t<li>9.3</li>\n",
       "\t<li>6.5</li>\n",
       "\t<li>7</li>\n",
       "\t<li>9.3</li>\n",
       "\t<li>1.2</li>\n",
       "\t<li>14.5</li>\n",
       "\t<li>6.2</li>\n",
       "</ol>\n"
      ],
      "text/latex": [
       "\\begin{enumerate*}\n",
       "\\item 7.5\n",
       "\\item 8.2\n",
       "\\item 3.1\n",
       "\\item 5.6\n",
       "\\item 8.2\n",
       "\\item 9.3\n",
       "\\item 6.5\n",
       "\\item 7\n",
       "\\item 9.3\n",
       "\\item 1.2\n",
       "\\item 14.5\n",
       "\\item 6.2\n",
       "\\end{enumerate*}\n"
      ],
      "text/markdown": [
       "1. 7.5\n",
       "2. 8.2\n",
       "3. 3.1\n",
       "4. 5.6\n",
       "5. 8.2\n",
       "6. 9.3\n",
       "7. 6.5\n",
       "8. 7\n",
       "9. 9.3\n",
       "10. 1.2\n",
       "11. 14.5\n",
       "12. 6.2\n",
       "\n",
       "\n"
      ],
      "text/plain": [
       " [1]  7.5  8.2  3.1  5.6  8.2  9.3  6.5  7.0  9.3  1.2 14.5  6.2"
      ]
     },
     "metadata": {},
     "output_type": "display_data"
    },
    {
     "data": {
      "text/html": [
       "7.21666666666667"
      ],
      "text/latex": [
       "7.21666666666667"
      ],
      "text/markdown": [
       "7.21666666666667"
      ],
      "text/plain": [
       "[1] 7.216667"
      ]
     },
     "metadata": {},
     "output_type": "display_data"
    },
    {
     "data": {
      "text/html": [
       "11.0087878787879"
      ],
      "text/latex": [
       "11.0087878787879"
      ],
      "text/markdown": [
       "11.0087878787879"
      ],
      "text/plain": [
       "[1] 11.00879"
      ]
     },
     "metadata": {},
     "output_type": "display_data"
    },
    {
     "data": {
      "text/plain": [
       "   Min. 1st Qu.  Median    Mean 3rd Qu.    Max. \n",
       "  1.200   6.050   7.250   7.217   8.475  14.500 "
      ]
     },
     "metadata": {},
     "output_type": "display_data"
    },
    {
     "data": {
      "text/html": [
       "<ol class=list-inline>\n",
       "\t<li>7.5</li>\n",
       "\t<li>8.2</li>\n",
       "\t<li>3.1</li>\n",
       "\t<li>5.6</li>\n",
       "\t<li>8.2</li>\n",
       "\t<li>9.3</li>\n",
       "</ol>\n"
      ],
      "text/latex": [
       "\\begin{enumerate*}\n",
       "\\item 7.5\n",
       "\\item 8.2\n",
       "\\item 3.1\n",
       "\\item 5.6\n",
       "\\item 8.2\n",
       "\\item 9.3\n",
       "\\end{enumerate*}\n"
      ],
      "text/markdown": [
       "1. 7.5\n",
       "2. 8.2\n",
       "3. 3.1\n",
       "4. 5.6\n",
       "5. 8.2\n",
       "6. 9.3\n",
       "\n",
       "\n"
      ],
      "text/plain": [
       "[1] 7.5 8.2 3.1 5.6 8.2 9.3"
      ]
     },
     "metadata": {},
     "output_type": "display_data"
    },
    {
     "data": {
      "text/html": [
       "<ol class=list-inline>\n",
       "\t<li>6.5</li>\n",
       "\t<li>7</li>\n",
       "\t<li>9.3</li>\n",
       "\t<li>1.2</li>\n",
       "\t<li>14.5</li>\n",
       "\t<li>6.2</li>\n",
       "</ol>\n"
      ],
      "text/latex": [
       "\\begin{enumerate*}\n",
       "\\item 6.5\n",
       "\\item 7\n",
       "\\item 9.3\n",
       "\\item 1.2\n",
       "\\item 14.5\n",
       "\\item 6.2\n",
       "\\end{enumerate*}\n"
      ],
      "text/markdown": [
       "1. 6.5\n",
       "2. 7\n",
       "3. 9.3\n",
       "4. 1.2\n",
       "5. 14.5\n",
       "6. 6.2\n",
       "\n",
       "\n"
      ],
      "text/plain": [
       "[1]  6.5  7.0  9.3  1.2 14.5  6.2"
      ]
     },
     "metadata": {},
     "output_type": "display_data"
    },
    {
     "data": {
      "text/plain": [
       "   Min. 1st Qu.  Median    Mean 3rd Qu.    Max. \n",
       "  3.100   6.075   7.850   6.983   8.200   9.300 "
      ]
     },
     "metadata": {},
     "output_type": "display_data"
    },
    {
     "data": {
      "text/plain": [
       "   Min. 1st Qu.  Median    Mean 3rd Qu.    Max. \n",
       "  1.200   6.275   6.750   7.450   8.725  14.500 "
      ]
     },
     "metadata": {},
     "output_type": "display_data"
    },
    {
     "data": {
      "text/html": [
       "<ol class=list-inline>\n",
       "\t<li>8.2</li>\n",
       "\t<li>5.6</li>\n",
       "\t<li>9.3</li>\n",
       "</ol>\n"
      ],
      "text/latex": [
       "\\begin{enumerate*}\n",
       "\\item 8.2\n",
       "\\item 5.6\n",
       "\\item 9.3\n",
       "\\end{enumerate*}\n"
      ],
      "text/markdown": [
       "1. 8.2\n",
       "2. 5.6\n",
       "3. 9.3\n",
       "\n",
       "\n"
      ],
      "text/plain": [
       "[1] 8.2 5.6 9.3"
      ]
     },
     "metadata": {},
     "output_type": "display_data"
    },
    {
     "data": {
      "text/html": [
       "<ol class=list-inline>\n",
       "\t<li>7.5</li>\n",
       "\t<li>8.2</li>\n",
       "\t<li>9.3</li>\n",
       "\t<li>6.5</li>\n",
       "\t<li>7</li>\n",
       "\t<li>9.3</li>\n",
       "\t<li>1.2</li>\n",
       "\t<li>14.5</li>\n",
       "\t<li>6.2</li>\n",
       "</ol>\n"
      ],
      "text/latex": [
       "\\begin{enumerate*}\n",
       "\\item 7.5\n",
       "\\item 8.2\n",
       "\\item 9.3\n",
       "\\item 6.5\n",
       "\\item 7\n",
       "\\item 9.3\n",
       "\\item 1.2\n",
       "\\item 14.5\n",
       "\\item 6.2\n",
       "\\end{enumerate*}\n"
      ],
      "text/markdown": [
       "1. 7.5\n",
       "2. 8.2\n",
       "3. 9.3\n",
       "4. 6.5\n",
       "5. 7\n",
       "6. 9.3\n",
       "7. 1.2\n",
       "8. 14.5\n",
       "9. 6.2\n",
       "\n",
       "\n"
      ],
      "text/plain": [
       "[1]  7.5  8.2  9.3  6.5  7.0  9.3  1.2 14.5  6.2"
      ]
     },
     "metadata": {},
     "output_type": "display_data"
    }
   ],
   "source": [
    "# Resúmenes y subscripting\n",
    "x<-c(7.5,8.2,3.1,5.6,8.2,9.3,6.5,7.0,9.3,1.2,14.5,6.2)\n",
    "x\n",
    "mean(x)\n",
    "var(x)\n",
    "summary(x)\n",
    "# Realice un resumen dado que\n",
    "# las primeras 6 observaciones pertenecen a la máquina 1\n",
    "# las últimas 6 observaciones pertenecen a la máquina 2\n",
    "x[1:6]\n",
    "x[7:12]\n",
    "summary(x[1:6])\n",
    "summary(x[7:12])\n",
    "# Podemos crear subconjuntos de la siguiente manera\n",
    "x[c(2,4,9)]\n",
    "# Índices negativos excluyen el elemento x[-(1:6)] \n",
    "# tiene el mismo efecto que x[7:12]\n",
    "x[-(2:4)]"
   ]
  },
  {
   "cell_type": "code",
   "execution_count": 35,
   "metadata": {
    "collapsed": true
   },
   "outputs": [],
   "source": [
    "# Ejercicios\n",
    "# Defina x<- c(5,9,2,3,4,6,7,0,8,12,2,9)\n",
    "# Cuál es el resultado de\n",
    "# (a) x[2]\n",
    "# (b) x[2:4]\n",
    "# (c) x[c(2,3,6)]\n",
    "# (d) x[c(1:5,10:12)]\n",
    "# (e) x[-(10:12)]\n",
    "# Los datos y <-c (33,44,29,16,25,45,33,19,54,22,21,49,11,24,56) \n",
    "# contienen las ventas de leche en litros durante 5 días en tres \n",
    "# tiendas diferentes (Los primeros 3 valores son para las \n",
    "#                     tiendas 1, 2 y 3 el lunes, etc.) \n",
    "# Producir un resumen estadístico de las ventas para cada día de \n",
    "# la semana y también para cada tienda."
   ]
  },
  {
   "cell_type": "code",
   "execution_count": 67,
   "metadata": {},
   "outputs": [
    {
     "data": {
      "text/html": [
       "<table>\n",
       "<thead><tr><th scope=col>x</th><th scope=col>y</th></tr></thead>\n",
       "<tbody>\n",
       "\t<tr><td>5</td><td>6</td></tr>\n",
       "\t<tr><td>7</td><td>3</td></tr>\n",
       "\t<tr><td>9</td><td>4</td></tr>\n",
       "</tbody>\n",
       "</table>\n"
      ],
      "text/latex": [
       "\\begin{tabular}{ll}\n",
       " x & y\\\\\n",
       "\\hline\n",
       "\t 5 & 6\\\\\n",
       "\t 7 & 3\\\\\n",
       "\t 9 & 4\\\\\n",
       "\\end{tabular}\n"
      ],
      "text/markdown": [
       "\n",
       "x | y | \n",
       "|---|---|---|\n",
       "| 5 | 6 | \n",
       "| 7 | 3 | \n",
       "| 9 | 4 | \n",
       "\n",
       "\n"
      ],
      "text/plain": [
       "     x y\n",
       "[1,] 5 6\n",
       "[2,] 7 3\n",
       "[3,] 9 4"
      ]
     },
     "metadata": {},
     "output_type": "display_data"
    },
    {
     "name": "stdout",
     "output_type": "stream",
     "text": [
      "[1] \"Dimensión de z:\"\n"
     ]
    },
    {
     "data": {
      "text/html": [
       "<ol class=list-inline>\n",
       "\t<li>3</li>\n",
       "\t<li>2</li>\n",
       "</ol>\n"
      ],
      "text/latex": [
       "\\begin{enumerate*}\n",
       "\\item 3\n",
       "\\item 2\n",
       "\\end{enumerate*}\n"
      ],
      "text/markdown": [
       "1. 3\n",
       "2. 2\n",
       "\n",
       "\n"
      ],
      "text/plain": [
       "[1] 3 2"
      ]
     },
     "metadata": {},
     "output_type": "display_data"
    },
    {
     "data": {
      "text/html": [
       "<table>\n",
       "<thead><tr><th scope=col>x</th><th scope=col>y</th></tr></thead>\n",
       "<tbody>\n",
       "\t<tr><td> 5</td><td>6 </td></tr>\n",
       "\t<tr><td> 7</td><td>3 </td></tr>\n",
       "\t<tr><td> 9</td><td>4 </td></tr>\n",
       "\t<tr><td> 7</td><td>8 </td></tr>\n",
       "\t<tr><td> 9</td><td>5 </td></tr>\n",
       "\t<tr><td>11</td><td>6 </td></tr>\n",
       "</tbody>\n",
       "</table>\n"
      ],
      "text/latex": [
       "\\begin{tabular}{ll}\n",
       " x & y\\\\\n",
       "\\hline\n",
       "\t  5 & 6 \\\\\n",
       "\t  7 & 3 \\\\\n",
       "\t  9 & 4 \\\\\n",
       "\t  7 & 8 \\\\\n",
       "\t  9 & 5 \\\\\n",
       "\t 11 & 6 \\\\\n",
       "\\end{tabular}\n"
      ],
      "text/markdown": [
       "\n",
       "x | y | \n",
       "|---|---|---|---|---|---|\n",
       "|  5 | 6  | \n",
       "|  7 | 3  | \n",
       "|  9 | 4  | \n",
       "|  7 | 8  | \n",
       "|  9 | 5  | \n",
       "| 11 | 6  | \n",
       "\n",
       "\n"
      ],
      "text/plain": [
       "     x  y\n",
       "[1,]  5 6\n",
       "[2,]  7 3\n",
       "[3,]  9 4\n",
       "[4,]  7 8\n",
       "[5,]  9 5\n",
       "[6,] 11 6"
      ]
     },
     "metadata": {},
     "output_type": "display_data"
    },
    {
     "name": "stdout",
     "output_type": "stream",
     "text": [
      "[1] \"Usando la función matrix\"\n"
     ]
    },
    {
     "data": {
      "text/html": [
       "<table>\n",
       "<tbody>\n",
       "\t<tr><td>5</td><td>6</td></tr>\n",
       "\t<tr><td>7</td><td>3</td></tr>\n",
       "\t<tr><td>9</td><td>4</td></tr>\n",
       "</tbody>\n",
       "</table>\n"
      ],
      "text/latex": [
       "\\begin{tabular}{ll}\n",
       "\t 5 & 6\\\\\n",
       "\t 7 & 3\\\\\n",
       "\t 9 & 4\\\\\n",
       "\\end{tabular}\n"
      ],
      "text/markdown": [
       "\n",
       "| 5 | 6 | \n",
       "| 7 | 3 | \n",
       "| 9 | 4 | \n",
       "\n",
       "\n"
      ],
      "text/plain": [
       "     [,1] [,2]\n",
       "[1,] 5    6   \n",
       "[2,] 7    3   \n",
       "[3,] 9    4   "
      ]
     },
     "metadata": {},
     "output_type": "display_data"
    },
    {
     "name": "stdout",
     "output_type": "stream",
     "text": [
      "[1] \"Construyendo por filas\"\n"
     ]
    },
    {
     "data": {
      "text/html": [
       "<table>\n",
       "<tbody>\n",
       "\t<tr><td>5</td><td>7</td></tr>\n",
       "\t<tr><td>9</td><td>6</td></tr>\n",
       "\t<tr><td>3</td><td>4</td></tr>\n",
       "</tbody>\n",
       "</table>\n"
      ],
      "text/latex": [
       "\\begin{tabular}{ll}\n",
       "\t 5 & 7\\\\\n",
       "\t 9 & 6\\\\\n",
       "\t 3 & 4\\\\\n",
       "\\end{tabular}\n"
      ],
      "text/markdown": [
       "\n",
       "| 5 | 7 | \n",
       "| 9 | 6 | \n",
       "| 3 | 4 | \n",
       "\n",
       "\n"
      ],
      "text/plain": [
       "     [,1] [,2]\n",
       "[1,] 5    7   \n",
       "[2,] 9    6   \n",
       "[3,] 3    4   "
      ]
     },
     "metadata": {},
     "output_type": "display_data"
    }
   ],
   "source": [
    "# Matrices\n",
    "# Podemos crear matrices construyendo las columnas individualmente\n",
    "# y pegándolas luego con el comando cbind\n",
    "x<-c(5,7,9)\n",
    "y<-c(6,3,4)\n",
    "z<-cbind(x,y)\n",
    "z\n",
    "print(\"Dimensión de z:\") \n",
    "dim(z)\n",
    "rbind(z,z+2)\n",
    "print(\"Usando la función matrix\")\n",
    "z<-matrix(c(5,7,9,6,3,4),nrow=3)\n",
    "z\n",
    "print(\"Construyendo por filas\")\n",
    "z<-matrix(c(5,7,9,6,3,4),nrow=3,byrow = T)\n",
    "z"
   ]
  },
  {
   "cell_type": "code",
   "execution_count": 69,
   "metadata": {},
   "outputs": [
    {
     "data": {
      "text/html": [
       "<table>\n",
       "<tbody>\n",
       "\t<tr><td>1 </td><td> 3</td></tr>\n",
       "\t<tr><td>0 </td><td> 9</td></tr>\n",
       "\t<tr><td>5 </td><td>-1</td></tr>\n",
       "</tbody>\n",
       "</table>\n"
      ],
      "text/latex": [
       "\\begin{tabular}{ll}\n",
       "\t 1  &  3\\\\\n",
       "\t 0  &  9\\\\\n",
       "\t 5  & -1\\\\\n",
       "\\end{tabular}\n"
      ],
      "text/markdown": [
       "\n",
       "| 1  |  3 | \n",
       "| 0  |  9 | \n",
       "| 5  | -1 | \n",
       "\n",
       "\n"
      ],
      "text/plain": [
       "     [,1] [,2]\n",
       "[1,] 1     3  \n",
       "[2,] 0     9  \n",
       "[3,] 5    -1  "
      ]
     },
     "metadata": {},
     "output_type": "display_data"
    },
    {
     "name": "stdout",
     "output_type": "stream",
     "text": [
      "[1] \"y+z devuleve\"\n"
     ]
    },
    {
     "data": {
      "text/html": [
       "<table>\n",
       "<tbody>\n",
       "\t<tr><td>6 </td><td>10</td></tr>\n",
       "\t<tr><td>9 </td><td>15</td></tr>\n",
       "\t<tr><td>8 </td><td> 3</td></tr>\n",
       "</tbody>\n",
       "</table>\n"
      ],
      "text/latex": [
       "\\begin{tabular}{ll}\n",
       "\t 6  & 10\\\\\n",
       "\t 9  & 15\\\\\n",
       "\t 8  &  3\\\\\n",
       "\\end{tabular}\n"
      ],
      "text/markdown": [
       "\n",
       "| 6  | 10 | \n",
       "| 9  | 15 | \n",
       "| 8  |  3 | \n",
       "\n",
       "\n"
      ],
      "text/plain": [
       "     [,1] [,2]\n",
       "[1,] 6    10  \n",
       "[2,] 9    15  \n",
       "[3,] 8     3  "
      ]
     },
     "metadata": {},
     "output_type": "display_data"
    },
    {
     "name": "stdout",
     "output_type": "stream",
     "text": [
      "[1] \"y*z devuleve\"\n"
     ]
    },
    {
     "data": {
      "text/html": [
       "<table>\n",
       "<tbody>\n",
       "\t<tr><td> 5</td><td>21</td></tr>\n",
       "\t<tr><td> 0</td><td>54</td></tr>\n",
       "\t<tr><td>15</td><td>-4</td></tr>\n",
       "</tbody>\n",
       "</table>\n"
      ],
      "text/latex": [
       "\\begin{tabular}{ll}\n",
       "\t  5 & 21\\\\\n",
       "\t  0 & 54\\\\\n",
       "\t 15 & -4\\\\\n",
       "\\end{tabular}\n"
      ],
      "text/markdown": [
       "\n",
       "|  5 | 21 | \n",
       "|  0 | 54 | \n",
       "| 15 | -4 | \n",
       "\n",
       "\n"
      ],
      "text/plain": [
       "     [,1] [,2]\n",
       "[1,]  5   21  \n",
       "[2,]  0   54  \n",
       "[3,] 15   -4  "
      ]
     },
     "metadata": {},
     "output_type": "display_data"
    },
    {
     "name": "stdout",
     "output_type": "stream",
     "text": [
      "[1] \"Matriz y\"\n"
     ]
    },
    {
     "data": {
      "text/html": [
       "<table>\n",
       "<tbody>\n",
       "\t<tr><td>1 </td><td> 3</td></tr>\n",
       "\t<tr><td>0 </td><td> 9</td></tr>\n",
       "\t<tr><td>5 </td><td>-1</td></tr>\n",
       "</tbody>\n",
       "</table>\n"
      ],
      "text/latex": [
       "\\begin{tabular}{ll}\n",
       "\t 1  &  3\\\\\n",
       "\t 0  &  9\\\\\n",
       "\t 5  & -1\\\\\n",
       "\\end{tabular}\n"
      ],
      "text/markdown": [
       "\n",
       "| 1  |  3 | \n",
       "| 0  |  9 | \n",
       "| 5  | -1 | \n",
       "\n",
       "\n"
      ],
      "text/plain": [
       "     [,1] [,2]\n",
       "[1,] 1     3  \n",
       "[2,] 0     9  \n",
       "[3,] 5    -1  "
      ]
     },
     "metadata": {},
     "output_type": "display_data"
    },
    {
     "name": "stdout",
     "output_type": "stream",
     "text": [
      "[1] \"Matriz x\"\n"
     ]
    },
    {
     "data": {
      "text/html": [
       "<table>\n",
       "<tbody>\n",
       "\t<tr><td> 3</td><td>4 </td></tr>\n",
       "\t<tr><td>-2</td><td>6 </td></tr>\n",
       "</tbody>\n",
       "</table>\n"
      ],
      "text/latex": [
       "\\begin{tabular}{ll}\n",
       "\t  3 & 4 \\\\\n",
       "\t -2 & 6 \\\\\n",
       "\\end{tabular}\n"
      ],
      "text/markdown": [
       "\n",
       "|  3 | 4  | \n",
       "| -2 | 6  | \n",
       "\n",
       "\n"
      ],
      "text/plain": [
       "     [,1] [,2]\n",
       "[1,]  3   4   \n",
       "[2,] -2   6   "
      ]
     },
     "metadata": {},
     "output_type": "display_data"
    },
    {
     "name": "stdout",
     "output_type": "stream",
     "text": [
      "[1] \"para multiplicar usamos y%*%x\"\n"
     ]
    },
    {
     "data": {
      "text/html": [
       "<table>\n",
       "<tbody>\n",
       "\t<tr><td> -3</td><td>22 </td></tr>\n",
       "\t<tr><td>-18</td><td>54 </td></tr>\n",
       "\t<tr><td> 17</td><td>14 </td></tr>\n",
       "</tbody>\n",
       "</table>\n"
      ],
      "text/latex": [
       "\\begin{tabular}{ll}\n",
       "\t  -3 & 22 \\\\\n",
       "\t -18 & 54 \\\\\n",
       "\t  17 & 14 \\\\\n",
       "\\end{tabular}\n"
      ],
      "text/markdown": [
       "\n",
       "|  -3 | 22  | \n",
       "| -18 | 54  | \n",
       "|  17 | 14  | \n",
       "\n",
       "\n"
      ],
      "text/plain": [
       "     [,1] [,2]\n",
       "[1,]  -3  22  \n",
       "[2,] -18  54  \n",
       "[3,]  17  14  "
      ]
     },
     "metadata": {},
     "output_type": "display_data"
    }
   ],
   "source": [
    "# Operaciones con matrices\n",
    "y<-matrix(c(1,3,0,9,5,-1),nrow = 3,byrow = T)\n",
    "y\n",
    "print(\"y+z devuleve\")\n",
    "y+z\n",
    "print(\"y*z devuleve\")\n",
    "y*z\n",
    "# Note que las operaciones han ocurrido elemento a elemento\n",
    "# Para realizar una multiplicación de matrices convencional\n",
    "# use %*%\n",
    "print(\"Matriz y\")\n",
    "y\n",
    "x<-matrix(c(3,4,-2,6), nrow = 2, byrow = T)\n",
    "print(\"Matriz x\")\n",
    "x\n",
    "print(\"para multiplicar usamos y%*%x\")\n",
    "y%*%x"
   ]
  },
  {
   "cell_type": "code",
   "execution_count": 72,
   "metadata": {},
   "outputs": [
    {
     "data": {
      "text/html": [
       "<table>\n",
       "<tbody>\n",
       "\t<tr><td>5</td><td>7</td></tr>\n",
       "\t<tr><td>9</td><td>6</td></tr>\n",
       "\t<tr><td>3</td><td>4</td></tr>\n",
       "</tbody>\n",
       "</table>\n"
      ],
      "text/latex": [
       "\\begin{tabular}{ll}\n",
       "\t 5 & 7\\\\\n",
       "\t 9 & 6\\\\\n",
       "\t 3 & 4\\\\\n",
       "\\end{tabular}\n"
      ],
      "text/markdown": [
       "\n",
       "| 5 | 7 | \n",
       "| 9 | 6 | \n",
       "| 3 | 4 | \n",
       "\n",
       "\n"
      ],
      "text/plain": [
       "     [,1] [,2]\n",
       "[1,] 5    7   \n",
       "[2,] 9    6   \n",
       "[3,] 3    4   "
      ]
     },
     "metadata": {},
     "output_type": "display_data"
    },
    {
     "name": "stdout",
     "output_type": "stream",
     "text": [
      "[1] \"Traspuesta de z\"\n"
     ]
    },
    {
     "data": {
      "text/html": [
       "<table>\n",
       "<tbody>\n",
       "\t<tr><td>5</td><td>9</td><td>3</td></tr>\n",
       "\t<tr><td>7</td><td>6</td><td>4</td></tr>\n",
       "</tbody>\n",
       "</table>\n"
      ],
      "text/latex": [
       "\\begin{tabular}{lll}\n",
       "\t 5 & 9 & 3\\\\\n",
       "\t 7 & 6 & 4\\\\\n",
       "\\end{tabular}\n"
      ],
      "text/markdown": [
       "\n",
       "| 5 | 9 | 3 | \n",
       "| 7 | 6 | 4 | \n",
       "\n",
       "\n"
      ],
      "text/plain": [
       "     [,1] [,2] [,3]\n",
       "[1,] 5    9    3   \n",
       "[2,] 7    6    4   "
      ]
     },
     "metadata": {},
     "output_type": "display_data"
    },
    {
     "name": "stdout",
     "output_type": "stream",
     "text": [
      "[1] \"Inversa de x\"\n"
     ]
    },
    {
     "data": {
      "text/html": [
       "<table>\n",
       "<tbody>\n",
       "\t<tr><td> 3</td><td>4 </td></tr>\n",
       "\t<tr><td>-2</td><td>6 </td></tr>\n",
       "</tbody>\n",
       "</table>\n"
      ],
      "text/latex": [
       "\\begin{tabular}{ll}\n",
       "\t  3 & 4 \\\\\n",
       "\t -2 & 6 \\\\\n",
       "\\end{tabular}\n"
      ],
      "text/markdown": [
       "\n",
       "|  3 | 4  | \n",
       "| -2 | 6  | \n",
       "\n",
       "\n"
      ],
      "text/plain": [
       "     [,1] [,2]\n",
       "[1,]  3   4   \n",
       "[2,] -2   6   "
      ]
     },
     "metadata": {},
     "output_type": "display_data"
    },
    {
     "data": {
      "text/html": [
       "<table>\n",
       "<tbody>\n",
       "\t<tr><td>0.23076923</td><td>-0.1538462</td></tr>\n",
       "\t<tr><td>0.07692308</td><td> 0.1153846</td></tr>\n",
       "</tbody>\n",
       "</table>\n"
      ],
      "text/latex": [
       "\\begin{tabular}{ll}\n",
       "\t 0.23076923 & -0.1538462\\\\\n",
       "\t 0.07692308 &  0.1153846\\\\\n",
       "\\end{tabular}\n"
      ],
      "text/markdown": [
       "\n",
       "| 0.23076923 | -0.1538462 | \n",
       "| 0.07692308 |  0.1153846 | \n",
       "\n",
       "\n"
      ],
      "text/plain": [
       "     [,1]       [,2]      \n",
       "[1,] 0.23076923 -0.1538462\n",
       "[2,] 0.07692308  0.1153846"
      ]
     },
     "metadata": {},
     "output_type": "display_data"
    },
    {
     "data": {
      "text/html": [
       "<table>\n",
       "<tbody>\n",
       "\t<tr><td>1</td><td>0</td></tr>\n",
       "\t<tr><td>0</td><td>1</td></tr>\n",
       "</tbody>\n",
       "</table>\n"
      ],
      "text/latex": [
       "\\begin{tabular}{ll}\n",
       "\t 1 & 0\\\\\n",
       "\t 0 & 1\\\\\n",
       "\\end{tabular}\n"
      ],
      "text/markdown": [
       "\n",
       "| 1 | 0 | \n",
       "| 0 | 1 | \n",
       "\n",
       "\n"
      ],
      "text/plain": [
       "     [,1] [,2]\n",
       "[1,] 1    0   \n",
       "[2,] 0    1   "
      ]
     },
     "metadata": {},
     "output_type": "display_data"
    }
   ],
   "source": [
    "# Otras funciones útiles\n",
    "z\n",
    "print(\"Traspuesta de z\")\n",
    "t(z)\n",
    "print(\"Inversa de x\")\n",
    "x\n",
    "solve(x)\n",
    "round(x%*%solve(x))"
   ]
  },
  {
   "cell_type": "code",
   "execution_count": 80,
   "metadata": {},
   "outputs": [
    {
     "data": {
      "text/html": [
       "<table>\n",
       "<tbody>\n",
       "\t<tr><td>5</td><td>7</td></tr>\n",
       "\t<tr><td>9</td><td>6</td></tr>\n",
       "\t<tr><td>3</td><td>4</td></tr>\n",
       "</tbody>\n",
       "</table>\n"
      ],
      "text/latex": [
       "\\begin{tabular}{ll}\n",
       "\t 5 & 7\\\\\n",
       "\t 9 & 6\\\\\n",
       "\t 3 & 4\\\\\n",
       "\\end{tabular}\n"
      ],
      "text/markdown": [
       "\n",
       "| 5 | 7 | \n",
       "| 9 | 6 | \n",
       "| 3 | 4 | \n",
       "\n",
       "\n"
      ],
      "text/plain": [
       "     [,1] [,2]\n",
       "[1,] 5    7   \n",
       "[2,] 9    6   \n",
       "[3,] 3    4   "
      ]
     },
     "metadata": {},
     "output_type": "display_data"
    },
    {
     "data": {
      "text/html": [
       "5"
      ],
      "text/latex": [
       "5"
      ],
      "text/markdown": [
       "5"
      ],
      "text/plain": [
       "[1] 5"
      ]
     },
     "metadata": {},
     "output_type": "display_data"
    },
    {
     "data": {
      "text/html": [
       "<ol class=list-inline>\n",
       "\t<li>7</li>\n",
       "\t<li>6</li>\n",
       "\t<li>4</li>\n",
       "</ol>\n"
      ],
      "text/latex": [
       "\\begin{enumerate*}\n",
       "\\item 7\n",
       "\\item 6\n",
       "\\item 4\n",
       "\\end{enumerate*}\n"
      ],
      "text/markdown": [
       "1. 7\n",
       "2. 6\n",
       "3. 4\n",
       "\n",
       "\n"
      ],
      "text/plain": [
       "[1] 7 6 4"
      ]
     },
     "metadata": {},
     "output_type": "display_data"
    },
    {
     "data": {
      "text/html": [
       "<ol class=list-inline>\n",
       "\t<li>6</li>\n",
       "\t<li>4</li>\n",
       "</ol>\n"
      ],
      "text/latex": [
       "\\begin{enumerate*}\n",
       "\\item 6\n",
       "\\item 4\n",
       "\\end{enumerate*}\n"
      ],
      "text/markdown": [
       "1. 6\n",
       "2. 4\n",
       "\n",
       "\n"
      ],
      "text/plain": [
       "[1] 6 4"
      ]
     },
     "metadata": {},
     "output_type": "display_data"
    },
    {
     "data": {
      "text/html": [
       "<table>\n",
       "<tbody>\n",
       "\t<tr><td>5</td><td>7</td></tr>\n",
       "\t<tr><td>9</td><td>6</td></tr>\n",
       "</tbody>\n",
       "</table>\n"
      ],
      "text/latex": [
       "\\begin{tabular}{ll}\n",
       "\t 5 & 7\\\\\n",
       "\t 9 & 6\\\\\n",
       "\\end{tabular}\n"
      ],
      "text/markdown": [
       "\n",
       "| 5 | 7 | \n",
       "| 9 | 6 | \n",
       "\n",
       "\n"
      ],
      "text/plain": [
       "     [,1] [,2]\n",
       "[1,] 5    7   \n",
       "[2,] 9    6   "
      ]
     },
     "metadata": {},
     "output_type": "display_data"
    }
   ],
   "source": [
    "# Subcomponentes de una matriz\n",
    "z\n",
    "z[1,1]\n",
    "z[,2]\n",
    "z[2:3,2]\n",
    "z[1:2,]"
   ]
  },
  {
   "cell_type": "code",
   "execution_count": 17,
   "metadata": {},
   "outputs": [
    {
     "data": {
      "text/html": [
       "<table>\n",
       "<thead><tr><th scope=col>year</th><th scope=col>carbon</th></tr></thead>\n",
       "<tbody>\n",
       "\t<tr><td>1800</td><td>   8</td></tr>\n",
       "\t<tr><td>1850</td><td>  54</td></tr>\n",
       "\t<tr><td>1900</td><td> 534</td></tr>\n",
       "\t<tr><td>1950</td><td>1630</td></tr>\n",
       "\t<tr><td>2000</td><td>6611</td></tr>\n",
       "</tbody>\n",
       "</table>\n"
      ],
      "text/latex": [
       "\\begin{tabular}{r|ll}\n",
       " year & carbon\\\\\n",
       "\\hline\n",
       "\t 1800 &    8\\\\\n",
       "\t 1850 &   54\\\\\n",
       "\t 1900 &  534\\\\\n",
       "\t 1950 & 1630\\\\\n",
       "\t 2000 & 6611\\\\\n",
       "\\end{tabular}\n"
      ],
      "text/markdown": [
       "\n",
       "year | carbon | \n",
       "|---|---|---|---|---|\n",
       "| 1800 |    8 | \n",
       "| 1850 |   54 | \n",
       "| 1900 |  534 | \n",
       "| 1950 | 1630 | \n",
       "| 2000 | 6611 | \n",
       "\n",
       "\n"
      ],
      "text/plain": [
       "  year carbon\n",
       "1 1800    8  \n",
       "2 1850   54  \n",
       "3 1900  534  \n",
       "4 1950 1630  \n",
       "5 2000 6611  "
      ]
     },
     "metadata": {},
     "output_type": "display_data"
    },
    {
     "data": {
      "text/html": [
       "<ol class=list-inline>\n",
       "\t<li>8</li>\n",
       "\t<li>6611</li>\n",
       "</ol>\n"
      ],
      "text/latex": [
       "\\begin{enumerate*}\n",
       "\\item 8\n",
       "\\item 6611\n",
       "\\end{enumerate*}\n"
      ],
      "text/markdown": [
       "1. 8\n",
       "2. 6611\n",
       "\n",
       "\n"
      ],
      "text/plain": [
       "[1]    8 6611"
      ]
     },
     "metadata": {},
     "output_type": "display_data"
    },
    {
     "data": {
      "image/png": "[encoded data removed]",
      "text/plain": [
       "plot without title"
      ]
     },
     "metadata": {},
     "output_type": "display_data"
    }
   ],
   "source": [
    "# More on data entry and a simple plot\n",
    "Year <- c(1800, 1850, 1900, 1950, 2000)\n",
    "Carbon <- c(8, 54, 534, 1630, 6611)\n",
    "plot(Carbon~Year, pch=16)\n",
    "\n",
    "# The plot() function interprets the construct Carbon~Year\n",
    "# as Plot Carbon as a function of Year\n",
    "# that is Plot Carbon on the y-axis against Year on the x-axis\n",
    "# pch=16 (where pch is \"plot character\") gives a solid black dot.\n",
    "# Take a look at: http://www.statmethods.net/advgraphs/parameters.html\n",
    "\n",
    "# Data frames in R\n",
    "fossilfuel <- data.frame(year=Year, carbon=Carbon)\n",
    "fossilfuel # Display the contents of the data frame.\n",
    "# Try the command below\n",
    "# plot(carbon ~ year, data=fossilfuel, pch=16)\n",
    "\n",
    "# Use the $ operator to access attributes of the dataframe\n",
    "range(fossilfuel$carbon) \n",
    "# Try mean(), sum(), length(), sort(), rev()"
   ]
  },
  {
   "cell_type": "code",
   "execution_count": 25,
   "metadata": {},
   "outputs": [
    {
     "name": "stdout",
     "output_type": "stream",
     "text": [
      "  Celsius Fahrenheit\n",
      "1       0         32\n",
      "2      10         50\n",
      "3      20         68\n",
      "4      30         86\n",
      "5      40        104\n",
      "  Celsius Fahrenheit\n",
      "1       0         32\n",
      "2      10         50\n",
      "3      20         68\n",
      "4      30         86\n",
      "5      40        104\n"
     ]
    }
   ],
   "source": [
    "# More on Dataframes in R\n",
    "celsius <- (0:4)*10\n",
    "fahrenheit <- 9/5*celsius+32\n",
    "# Mind the upper and lower cases\n",
    "conversion <- data.frame(Celsius=celsius, Fahrenheit=fahrenheit)\n",
    "print(conversion)\n",
    "\n",
    "# Add the first attribute\n",
    "conversion_df <- data.frame(Celsius=celsius) \n",
    "# Add/convert the second attribute on the fly\n",
    "conversion_df$Fahrenheit <- 9/5*conversion_df$Celsius+32\n",
    "print(conversion_df) # Same result as before"
   ]
  },
  {
   "cell_type": "code",
   "execution_count": 86,
   "metadata": {},
   "outputs": [
    {
     "data": {
      "text/html": [
       "<table>\n",
       "<thead><tr><th scope=col>Girth</th><th scope=col>Height</th><th scope=col>Volume</th></tr></thead>\n",
       "<tbody>\n",
       "\t<tr><td> 8.3</td><td>70  </td><td>10.3</td></tr>\n",
       "\t<tr><td> 8.6</td><td>65  </td><td>10.3</td></tr>\n",
       "\t<tr><td> 8.8</td><td>63  </td><td>10.2</td></tr>\n",
       "\t<tr><td>10.5</td><td>72  </td><td>16.4</td></tr>\n",
       "\t<tr><td>10.7</td><td>81  </td><td>18.8</td></tr>\n",
       "\t<tr><td>10.8</td><td>83  </td><td>19.7</td></tr>\n",
       "</tbody>\n",
       "</table>\n"
      ],
      "text/latex": [
       "\\begin{tabular}{r|lll}\n",
       " Girth & Height & Volume\\\\\n",
       "\\hline\n",
       "\t  8.3 & 70   & 10.3\\\\\n",
       "\t  8.6 & 65   & 10.3\\\\\n",
       "\t  8.8 & 63   & 10.2\\\\\n",
       "\t 10.5 & 72   & 16.4\\\\\n",
       "\t 10.7 & 81   & 18.8\\\\\n",
       "\t 10.8 & 83   & 19.7\\\\\n",
       "\\end{tabular}\n"
      ],
      "text/markdown": [
       "\n",
       "Girth | Height | Volume | \n",
       "|---|---|---|---|---|---|\n",
       "|  8.3 | 70   | 10.3 | \n",
       "|  8.6 | 65   | 10.3 | \n",
       "|  8.8 | 63   | 10.2 | \n",
       "| 10.5 | 72   | 16.4 | \n",
       "| 10.7 | 81   | 18.8 | \n",
       "| 10.8 | 83   | 19.7 | \n",
       "\n",
       "\n"
      ],
      "text/plain": [
       "  Girth Height Volume\n",
       "1  8.3  70     10.3  \n",
       "2  8.6  65     10.3  \n",
       "3  8.8  63     10.2  \n",
       "4 10.5  72     16.4  \n",
       "5 10.7  81     18.8  \n",
       "6 10.8  83     19.7  "
      ]
     },
     "metadata": {},
     "output_type": "display_data"
    },
    {
     "data": {
      "text/html": [
       "<table>\n",
       "<thead><tr><th></th><th scope=col>Girth</th><th scope=col>Height</th><th scope=col>Volume</th></tr></thead>\n",
       "<tbody>\n",
       "\t<tr><th scope=row>26</th><td>17.3</td><td>81  </td><td>55.4</td></tr>\n",
       "\t<tr><th scope=row>27</th><td>17.5</td><td>82  </td><td>55.7</td></tr>\n",
       "\t<tr><th scope=row>28</th><td>17.9</td><td>80  </td><td>58.3</td></tr>\n",
       "\t<tr><th scope=row>29</th><td>18.0</td><td>80  </td><td>51.5</td></tr>\n",
       "\t<tr><th scope=row>30</th><td>18.0</td><td>80  </td><td>51.0</td></tr>\n",
       "\t<tr><th scope=row>31</th><td>20.6</td><td>87  </td><td>77.0</td></tr>\n",
       "</tbody>\n",
       "</table>\n"
      ],
      "text/latex": [
       "\\begin{tabular}{r|lll}\n",
       "  & Girth & Height & Volume\\\\\n",
       "\\hline\n",
       "\t26 & 17.3 & 81   & 55.4\\\\\n",
       "\t27 & 17.5 & 82   & 55.7\\\\\n",
       "\t28 & 17.9 & 80   & 58.3\\\\\n",
       "\t29 & 18.0 & 80   & 51.5\\\\\n",
       "\t30 & 18.0 & 80   & 51.0\\\\\n",
       "\t31 & 20.6 & 87   & 77.0\\\\\n",
       "\\end{tabular}\n"
      ],
      "text/markdown": [
       "\n",
       "| <!--/--> | Girth | Height | Volume | \n",
       "|---|---|---|---|---|---|\n",
       "| 26 | 17.3 | 81   | 55.4 | \n",
       "| 27 | 17.5 | 82   | 55.7 | \n",
       "| 28 | 17.9 | 80   | 58.3 | \n",
       "| 29 | 18.0 | 80   | 51.5 | \n",
       "| 30 | 18.0 | 80   | 51.0 | \n",
       "| 31 | 20.6 | 87   | 77.0 | \n",
       "\n",
       "\n"
      ],
      "text/plain": [
       "   Girth Height Volume\n",
       "26 17.3  81     55.4  \n",
       "27 17.5  82     55.7  \n",
       "28 17.9  80     58.3  \n",
       "29 18.0  80     51.5  \n",
       "30 18.0  80     51.0  \n",
       "31 20.6  87     77.0  "
      ]
     },
     "metadata": {},
     "output_type": "display_data"
    },
    {
     "data": {
      "text/html": [
       "<dl>\n",
       "\t<dt>$names</dt>\n",
       "\t\t<dd><ol class=list-inline>\n",
       "\t<li>'Girth'</li>\n",
       "\t<li>'Height'</li>\n",
       "\t<li>'Volume'</li>\n",
       "</ol>\n",
       "</dd>\n",
       "\t<dt>$row.names</dt>\n",
       "\t\t<dd><ol class=list-inline>\n",
       "\t<li>1</li>\n",
       "\t<li>2</li>\n",
       "\t<li>3</li>\n",
       "\t<li>4</li>\n",
       "\t<li>5</li>\n",
       "\t<li>6</li>\n",
       "\t<li>7</li>\n",
       "\t<li>8</li>\n",
       "\t<li>9</li>\n",
       "\t<li>10</li>\n",
       "\t<li>11</li>\n",
       "\t<li>12</li>\n",
       "\t<li>13</li>\n",
       "\t<li>14</li>\n",
       "\t<li>15</li>\n",
       "\t<li>16</li>\n",
       "\t<li>17</li>\n",
       "\t<li>18</li>\n",
       "\t<li>19</li>\n",
       "\t<li>20</li>\n",
       "\t<li>21</li>\n",
       "\t<li>22</li>\n",
       "\t<li>23</li>\n",
       "\t<li>24</li>\n",
       "\t<li>25</li>\n",
       "\t<li>26</li>\n",
       "\t<li>27</li>\n",
       "\t<li>28</li>\n",
       "\t<li>29</li>\n",
       "\t<li>30</li>\n",
       "\t<li>31</li>\n",
       "</ol>\n",
       "</dd>\n",
       "\t<dt>$class</dt>\n",
       "\t\t<dd>'data.frame'</dd>\n",
       "</dl>\n"
      ],
      "text/latex": [
       "\\begin{description}\n",
       "\\item[\\$names] \\begin{enumerate*}\n",
       "\\item 'Girth'\n",
       "\\item 'Height'\n",
       "\\item 'Volume'\n",
       "\\end{enumerate*}\n",
       "\n",
       "\\item[\\$row.names] \\begin{enumerate*}\n",
       "\\item 1\n",
       "\\item 2\n",
       "\\item 3\n",
       "\\item 4\n",
       "\\item 5\n",
       "\\item 6\n",
       "\\item 7\n",
       "\\item 8\n",
       "\\item 9\n",
       "\\item 10\n",
       "\\item 11\n",
       "\\item 12\n",
       "\\item 13\n",
       "\\item 14\n",
       "\\item 15\n",
       "\\item 16\n",
       "\\item 17\n",
       "\\item 18\n",
       "\\item 19\n",
       "\\item 20\n",
       "\\item 21\n",
       "\\item 22\n",
       "\\item 23\n",
       "\\item 24\n",
       "\\item 25\n",
       "\\item 26\n",
       "\\item 27\n",
       "\\item 28\n",
       "\\item 29\n",
       "\\item 30\n",
       "\\item 31\n",
       "\\end{enumerate*}\n",
       "\n",
       "\\item[\\$class] 'data.frame'\n",
       "\\end{description}\n"
      ],
      "text/markdown": [
       "$names\n",
       ":   1. 'Girth'\n",
       "2. 'Height'\n",
       "3. 'Volume'\n",
       "\n",
       "\n",
       "\n",
       "$row.names\n",
       ":   1. 1\n",
       "2. 2\n",
       "3. 3\n",
       "4. 4\n",
       "5. 5\n",
       "6. 6\n",
       "7. 7\n",
       "8. 8\n",
       "9. 9\n",
       "10. 10\n",
       "11. 11\n",
       "12. 12\n",
       "13. 13\n",
       "14. 14\n",
       "15. 15\n",
       "16. 16\n",
       "17. 17\n",
       "18. 18\n",
       "19. 19\n",
       "20. 20\n",
       "21. 21\n",
       "22. 22\n",
       "23. 23\n",
       "24. 24\n",
       "25. 25\n",
       "26. 26\n",
       "27. 27\n",
       "28. 28\n",
       "29. 29\n",
       "30. 30\n",
       "31. 31\n",
       "\n",
       "\n",
       "\n",
       "$class\n",
       ":   'data.frame'\n",
       "\n",
       "\n"
      ],
      "text/plain": [
       "$names\n",
       "[1] \"Girth\"  \"Height\" \"Volume\"\n",
       "\n",
       "$row.names\n",
       " [1]  1  2  3  4  5  6  7  8  9 10 11 12 13 14 15 16 17 18 19 20 21 22 23 24 25\n",
       "[26] 26 27 28 29 30 31\n",
       "\n",
       "$class\n",
       "[1] \"data.frame\"\n"
      ]
     },
     "metadata": {},
     "output_type": "display_data"
    },
    {
     "name": "stdout",
     "output_type": "stream",
     "text": [
      "[1] \"Estructura de trees\"\n",
      "'data.frame':\t31 obs. of  3 variables:\n",
      " $ Girth : num  8.3 8.6 8.8 10.5 10.7 10.8 11 11 11.1 11.2 ...\n",
      " $ Height: num  70 65 63 72 81 83 66 75 80 75 ...\n",
      " $ Volume: num  10.3 10.3 10.2 16.4 18.8 19.7 15.6 18.2 22.6 19.9 ...\n"
     ]
    }
   ],
   "source": [
    "# Even more on Dataframes in R\n",
    "# Digite data() para ver los conjuntos de datos disponibles en R\n",
    "data(trees)\n",
    "head(trees)\n",
    "tail(trees)\n",
    "attributes(trees)\n",
    "print(\"Estructura de trees\")\n",
    "str(trees)"
   ]
  },
  {
   "cell_type": "code",
   "execution_count": 101,
   "metadata": {
    "scrolled": true
   },
   "outputs": [
    {
     "data": {
      "text/html": [
       "<ol class=list-inline>\n",
       "\t<li>8.3</li>\n",
       "\t<li>8.6</li>\n",
       "\t<li>8.8</li>\n",
       "\t<li>10.5</li>\n",
       "\t<li>10.7</li>\n",
       "\t<li>10.8</li>\n",
       "\t<li>11</li>\n",
       "\t<li>11</li>\n",
       "\t<li>11.1</li>\n",
       "\t<li>11.2</li>\n",
       "\t<li>11.3</li>\n",
       "\t<li>11.4</li>\n",
       "\t<li>11.4</li>\n",
       "\t<li>11.7</li>\n",
       "\t<li>12</li>\n",
       "\t<li>12.9</li>\n",
       "\t<li>12.9</li>\n",
       "\t<li>13.3</li>\n",
       "\t<li>13.7</li>\n",
       "\t<li>13.8</li>\n",
       "\t<li>14</li>\n",
       "\t<li>14.2</li>\n",
       "\t<li>14.5</li>\n",
       "\t<li>16</li>\n",
       "\t<li>16.3</li>\n",
       "\t<li>17.3</li>\n",
       "\t<li>17.5</li>\n",
       "\t<li>17.9</li>\n",
       "\t<li>18</li>\n",
       "\t<li>18</li>\n",
       "\t<li>20.6</li>\n",
       "</ol>\n"
      ],
      "text/latex": [
       "\\begin{enumerate*}\n",
       "\\item 8.3\n",
       "\\item 8.6\n",
       "\\item 8.8\n",
       "\\item 10.5\n",
       "\\item 10.7\n",
       "\\item 10.8\n",
       "\\item 11\n",
       "\\item 11\n",
       "\\item 11.1\n",
       "\\item 11.2\n",
       "\\item 11.3\n",
       "\\item 11.4\n",
       "\\item 11.4\n",
       "\\item 11.7\n",
       "\\item 12\n",
       "\\item 12.9\n",
       "\\item 12.9\n",
       "\\item 13.3\n",
       "\\item 13.7\n",
       "\\item 13.8\n",
       "\\item 14\n",
       "\\item 14.2\n",
       "\\item 14.5\n",
       "\\item 16\n",
       "\\item 16.3\n",
       "\\item 17.3\n",
       "\\item 17.5\n",
       "\\item 17.9\n",
       "\\item 18\n",
       "\\item 18\n",
       "\\item 20.6\n",
       "\\end{enumerate*}\n"
      ],
      "text/markdown": [
       "1. 8.3\n",
       "2. 8.6\n",
       "3. 8.8\n",
       "4. 10.5\n",
       "5. 10.7\n",
       "6. 10.8\n",
       "7. 11\n",
       "8. 11\n",
       "9. 11.1\n",
       "10. 11.2\n",
       "11. 11.3\n",
       "12. 11.4\n",
       "13. 11.4\n",
       "14. 11.7\n",
       "15. 12\n",
       "16. 12.9\n",
       "17. 12.9\n",
       "18. 13.3\n",
       "19. 13.7\n",
       "20. 13.8\n",
       "21. 14\n",
       "22. 14.2\n",
       "23. 14.5\n",
       "24. 16\n",
       "25. 16.3\n",
       "26. 17.3\n",
       "27. 17.5\n",
       "28. 17.9\n",
       "29. 18\n",
       "30. 18\n",
       "31. 20.6\n",
       "\n",
       "\n"
      ],
      "text/plain": [
       " [1]  8.3  8.6  8.8 10.5 10.7 10.8 11.0 11.0 11.1 11.2 11.3 11.4 11.4 11.7 12.0\n",
       "[16] 12.9 12.9 13.3 13.7 13.8 14.0 14.2 14.5 16.0 16.3 17.3 17.5 17.9 18.0 18.0\n",
       "[31] 20.6"
      ]
     },
     "metadata": {},
     "output_type": "display_data"
    },
    {
     "name": "stdout",
     "output_type": "stream",
     "text": [
      "[1] \"attach hace que los objetos de un dataframe sean accesible a R\"\n"
     ]
    },
    {
     "data": {
      "text/html": [
       "<ol class=list-inline>\n",
       "\t<li>8.3</li>\n",
       "\t<li>8.6</li>\n",
       "\t<li>8.8</li>\n",
       "\t<li>10.5</li>\n",
       "\t<li>10.7</li>\n",
       "\t<li>10.8</li>\n",
       "\t<li>11</li>\n",
       "\t<li>11</li>\n",
       "\t<li>11.1</li>\n",
       "\t<li>11.2</li>\n",
       "\t<li>11.3</li>\n",
       "\t<li>11.4</li>\n",
       "\t<li>11.4</li>\n",
       "\t<li>11.7</li>\n",
       "\t<li>12</li>\n",
       "\t<li>12.9</li>\n",
       "\t<li>12.9</li>\n",
       "\t<li>13.3</li>\n",
       "\t<li>13.7</li>\n",
       "\t<li>13.8</li>\n",
       "\t<li>14</li>\n",
       "\t<li>14.2</li>\n",
       "\t<li>14.5</li>\n",
       "\t<li>16</li>\n",
       "\t<li>16.3</li>\n",
       "\t<li>17.3</li>\n",
       "\t<li>17.5</li>\n",
       "\t<li>17.9</li>\n",
       "\t<li>18</li>\n",
       "\t<li>18</li>\n",
       "\t<li>20.6</li>\n",
       "</ol>\n"
      ],
      "text/latex": [
       "\\begin{enumerate*}\n",
       "\\item 8.3\n",
       "\\item 8.6\n",
       "\\item 8.8\n",
       "\\item 10.5\n",
       "\\item 10.7\n",
       "\\item 10.8\n",
       "\\item 11\n",
       "\\item 11\n",
       "\\item 11.1\n",
       "\\item 11.2\n",
       "\\item 11.3\n",
       "\\item 11.4\n",
       "\\item 11.4\n",
       "\\item 11.7\n",
       "\\item 12\n",
       "\\item 12.9\n",
       "\\item 12.9\n",
       "\\item 13.3\n",
       "\\item 13.7\n",
       "\\item 13.8\n",
       "\\item 14\n",
       "\\item 14.2\n",
       "\\item 14.5\n",
       "\\item 16\n",
       "\\item 16.3\n",
       "\\item 17.3\n",
       "\\item 17.5\n",
       "\\item 17.9\n",
       "\\item 18\n",
       "\\item 18\n",
       "\\item 20.6\n",
       "\\end{enumerate*}\n"
      ],
      "text/markdown": [
       "1. 8.3\n",
       "2. 8.6\n",
       "3. 8.8\n",
       "4. 10.5\n",
       "5. 10.7\n",
       "6. 10.8\n",
       "7. 11\n",
       "8. 11\n",
       "9. 11.1\n",
       "10. 11.2\n",
       "11. 11.3\n",
       "12. 11.4\n",
       "13. 11.4\n",
       "14. 11.7\n",
       "15. 12\n",
       "16. 12.9\n",
       "17. 12.9\n",
       "18. 13.3\n",
       "19. 13.7\n",
       "20. 13.8\n",
       "21. 14\n",
       "22. 14.2\n",
       "23. 14.5\n",
       "24. 16\n",
       "25. 16.3\n",
       "26. 17.3\n",
       "27. 17.5\n",
       "28. 17.9\n",
       "29. 18\n",
       "30. 18\n",
       "31. 20.6\n",
       "\n",
       "\n"
      ],
      "text/plain": [
       " [1]  8.3  8.6  8.8 10.5 10.7 10.8 11.0 11.0 11.1 11.2 11.3 11.4 11.4 11.7 12.0\n",
       "[16] 12.9 12.9 13.3 13.7 13.8 14.0 14.2 14.5 16.0 16.3 17.3 17.5 17.9 18.0 18.0\n",
       "[31] 20.6"
      ]
     },
     "metadata": {},
     "output_type": "display_data"
    },
    {
     "data": {
      "text/html": [
       "76"
      ],
      "text/latex": [
       "76"
      ],
      "text/markdown": [
       "76"
      ],
      "text/plain": [
       "[1] 76"
      ]
     },
     "metadata": {},
     "output_type": "display_data"
    }
   ],
   "source": [
    "# Función attach\n",
    "# Para acceder a los atributos de trees usamos el operador $\n",
    "trees$Girth\n",
    "print(\"attach hace que los objetos de un dataframe sean accesible a R\")\n",
    "attach(trees)\n",
    "Girth\n",
    "mean(Height)"
   ]
  },
  {
   "cell_type": "code",
   "execution_count": 4,
   "metadata": {},
   "outputs": [
    {
     "data": {
      "text/html": [
       "<dl class=dl-horizontal>\n",
       "\t<dt>Girth</dt>\n",
       "\t\t<dd>13.2483870967742</dd>\n",
       "\t<dt>Height</dt>\n",
       "\t\t<dd>76</dd>\n",
       "\t<dt>Volume</dt>\n",
       "\t\t<dd>30.1709677419355</dd>\n",
       "</dl>\n"
      ],
      "text/latex": [
       "\\begin{description*}\n",
       "\\item[Girth] 13.2483870967742\n",
       "\\item[Height] 76\n",
       "\\item[Volume] 30.1709677419355\n",
       "\\end{description*}\n"
      ],
      "text/markdown": [
       "Girth\n",
       ":   13.2483870967742Height\n",
       ":   76Volume\n",
       ":   30.1709677419355\n",
       "\n"
      ],
      "text/plain": [
       "   Girth   Height   Volume \n",
       "13.24839 76.00000 30.17097 "
      ]
     },
     "metadata": {},
     "output_type": "display_data"
    },
    {
     "data": {
      "text/html": [
       "<dl class=dl-horizontal>\n",
       "\t<dt>Girth</dt>\n",
       "\t\t<dd>13.2483870967742</dd>\n",
       "\t<dt>Height</dt>\n",
       "\t\t<dd>76</dd>\n",
       "\t<dt>Volume</dt>\n",
       "\t\t<dd>30.1709677419355</dd>\n",
       "</dl>\n"
      ],
      "text/latex": [
       "\\begin{description*}\n",
       "\\item[Girth] 13.2483870967742\n",
       "\\item[Height] 76\n",
       "\\item[Volume] 30.1709677419355\n",
       "\\end{description*}\n"
      ],
      "text/markdown": [
       "Girth\n",
       ":   13.2483870967742Height\n",
       ":   76Volume\n",
       ":   30.1709677419355\n",
       "\n"
      ],
      "text/plain": [
       "   Girth   Height   Volume \n",
       "13.24839 76.00000 30.17097 "
      ]
     },
     "metadata": {},
     "output_type": "display_data"
    },
    {
     "data": {
      "text/html": [
       "<dl>\n",
       "\t<dt>$Girth</dt>\n",
       "\t\t<dd>13.2483870967742</dd>\n",
       "\t<dt>$Height</dt>\n",
       "\t\t<dd>76</dd>\n",
       "\t<dt>$Volume</dt>\n",
       "\t\t<dd>30.1709677419355</dd>\n",
       "</dl>\n"
      ],
      "text/latex": [
       "\\begin{description}\n",
       "\\item[\\$Girth] 13.2483870967742\n",
       "\\item[\\$Height] 76\n",
       "\\item[\\$Volume] 30.1709677419355\n",
       "\\end{description}\n"
      ],
      "text/markdown": [
       "$Girth\n",
       ":   13.2483870967742\n",
       "$Height\n",
       ":   76\n",
       "$Volume\n",
       ":   30.1709677419355\n",
       "\n",
       "\n"
      ],
      "text/plain": [
       "$Girth\n",
       "[1] 13.24839\n",
       "\n",
       "$Height\n",
       "[1] 76\n",
       "\n",
       "$Volume\n",
       "[1] 30.17097\n"
      ]
     },
     "metadata": {},
     "output_type": "display_data"
    },
    {
     "data": {
      "text/html": [
       "<ol class=list-inline>\n",
       "\t<li>76</li>\n",
       "\t<li>30.1709677419355</li>\n",
       "</ol>\n"
      ],
      "text/latex": [
       "\\begin{enumerate*}\n",
       "\\item 76\n",
       "\\item 30.1709677419355\n",
       "\\end{enumerate*}\n"
      ],
      "text/markdown": [
       "1. 76\n",
       "2. 30.1709677419355\n",
       "\n",
       "\n"
      ],
      "text/plain": [
       "[1] 76.00000 30.17097"
      ]
     },
     "metadata": {},
     "output_type": "display_data"
    }
   ],
   "source": [
    "# Función apply, sapply and lapply\n",
    "# http://petewerner.blogspot.com.co/2012/12/using-apply-sapply-lapply-in-r.html\n",
    "apply(trees,2,mean)\n",
    "# Dim 2, aplica la función por columnas\n",
    "# Use 1, para hacerlo por filas\n",
    "\n",
    "sapply(trees, mean)\n",
    "lapply(trees, mean) # returns a list\n",
    "\n",
    "# We will learn functions in a moment\n",
    "sapply(2:3, function(x) mean(trees[,x])) \n",
    "# returns the mean for cols 2 and 3\n",
    "# We can avoid writing loops using the\n",
    "# functions above"
   ]
  },
  {
   "cell_type": "code",
   "execution_count": null,
   "metadata": {
    "collapsed": true
   },
   "outputs": [],
   "source": [
    "# Use the q() function to quit (exit) from R\n",
    "q()"
   ]
  }
 ],
 "metadata": {
  "kernelspec": {
   "display_name": "R",
   "language": "R",
   "name": "ir"
  },
  "language_info": {
   "codemirror_mode": "r",
   "file_extension": ".r",
   "mimetype": "text/x-r-source",
   "name": "R",
   "pygments_lexer": "r",
   "version": "3.3.2"
  }
 },
 "nbformat": 4,
 "nbformat_minor": 2
}
