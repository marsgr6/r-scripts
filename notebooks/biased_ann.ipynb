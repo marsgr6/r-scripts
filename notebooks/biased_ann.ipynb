{
 "cells": [
  {
   "cell_type": "code",
   "execution_count": 76,
   "id": "738059c2",
   "metadata": {},
   "outputs": [],
   "source": [
    "import numpy as np\n",
    "import matplotlib.pyplot as plt\n",
    "from scipy.stats import bernoulli\n",
    "from PIL import Image\n",
    "from matplotlib import colors\n",
    "cmap = colors.ListedColormap(['black', 'white'])"
   ]
  },
  {
   "cell_type": "code",
   "execution_count": 12,
   "id": "3baf5996",
   "metadata": {},
   "outputs": [
    {
     "data": {
      "text/plain": [
       "(0.0, 1.0)"
      ]
     },
     "execution_count": 12,
     "metadata": {},
     "output_type": "execute_result"
    }
   ],
   "source": [
    "p = 0.5\n",
    "x = bernoulli.rvs(p, size=10)*2-1\n",
    "x.mean(), x.var()"
   ]
  },
  {
   "cell_type": "code",
   "execution_count": 13,
   "id": "60280feb",
   "metadata": {},
   "outputs": [
    {
     "data": {
      "text/plain": [
       "array([-1,  1,  1,  1,  1, -1, -1,  1, -1, -1])"
      ]
     },
     "execution_count": 13,
     "metadata": {},
     "output_type": "execute_result"
    }
   ],
   "source": [
    "x"
   ]
  },
  {
   "cell_type": "code",
   "execution_count": 39,
   "id": "2af3f7f8",
   "metadata": {},
   "outputs": [
    {
     "data": {
      "text/plain": [
       "(0.100197, 0.09015756119100003)"
      ]
     },
     "execution_count": 39,
     "metadata": {},
     "output_type": "execute_result"
    }
   ],
   "source": [
    "a = 0.1\n",
    "tau = bernoulli.rvs(a, size=1000000)\n",
    "tau.mean(), tau.var()"
   ]
  },
  {
   "cell_type": "code",
   "execution_count": 40,
   "id": "290cc4f7",
   "metadata": {},
   "outputs": [
    {
     "data": {
      "text/plain": [
       "(0.0006566666666666565, 1.0017506798999996)"
      ]
     },
     "execution_count": 40,
     "metadata": {},
     "output_type": "execute_result"
    }
   ],
   "source": [
    "xi = (tau - a) / np.sqrt((a*(1-a)))\n",
    "xi.mean(), xi.var()"
   ]
  },
  {
   "cell_type": "code",
   "execution_count": 57,
   "id": "aaf72cb4",
   "metadata": {},
   "outputs": [
    {
     "data": {
      "text/plain": [
       "(0.09940592447916667, (9, 16384))"
      ]
     },
     "execution_count": 57,
     "metadata": {},
     "output_type": "execute_result"
    },
    {
     "data": {
      "image/png": "[encoded data removed]",
      "text/plain": [
       "<Figure size 288x288 with 1 Axes>"
      ]
     },
     "metadata": {
      "needs_background": "light"
     },
     "output_type": "display_data"
    }
   ],
   "source": [
    "N = 128*128  # nodes/neurons\n",
    "K = 100  # degree\n",
    "# if activity=0.5, patterns are unbiased\n",
    "activity = 0.1  # activity of the patterns/network \n",
    "np.random.seed(123)\n",
    "\n",
    "# Pattern generation, random with p(xi=1)=a\n",
    "\n",
    "P = 9  # random patterns to learn\n",
    "ap = 0.1  # pattern activity\n",
    "X = bernoulli.rvs(p=ap, size=(P, N))\n",
    "plt.matshow(X[0].reshape(128,128), cmap='gray')\n",
    "np.mean(X), np.shape(X)"
   ]
  },
  {
   "cell_type": "code",
   "execution_count": 58,
   "id": "dd5ee89e",
   "metadata": {},
   "outputs": [
    {
     "name": "stdout",
     "output_type": "stream",
     "text": [
      "activity: 0.1044921875\n"
     ]
    },
    {
     "data": {
      "text/plain": [
       "((10, 16384), 0.1044921875, 0.1044921875)"
      ]
     },
     "execution_count": 58,
     "metadata": {},
     "output_type": "execute_result"
    },
    {
     "data": {
      "image/png": "[encoded data removed]",
      "text/plain": [
       "<Figure size 288x288 with 1 Axes>"
      ]
     },
     "metadata": {
      "needs_background": "light"
     },
     "output_type": "display_data"
    }
   ],
   "source": [
    "img = Image.open('./lenna.png')\n",
    "img = img.resize((128,128), Image.ANTIALIAS)\n",
    "imggs = img.convert('L')\n",
    "th_value = 185\n",
    "imgbw = np.asarray(imggs)\n",
    "imgbw = (imgbw > th_value)*1\n",
    "imgbw = imgbw\n",
    "plt.matshow(imgbw, cmap='gray')\n",
    "print('activity:', np.mean(imgbw))\n",
    "lenna = imgbw.reshape(1, 128*128)\n",
    "X = np.concatenate((X, lenna))\n",
    "np.shape(X), np.mean(lenna), np.mean(X[-1])"
   ]
  },
  {
   "cell_type": "code",
   "execution_count": 95,
   "id": "8ccfed73",
   "metadata": {},
   "outputs": [
    {
     "data": {
      "text/plain": [
       "(array([array([   80,   185,   220,   353,   664,   778,  1020,  1054,  1296,\n",
       "                1378,  1421,  1982,  2173,  2190,  2233,  2274,  2380,  2468,\n",
       "                2471,  2645,  2648,  2923,  2925,  3020,  3362,  3365,  3509,\n",
       "                3975,  4094,  4384,  4722,  4830,  5114,  5344,  5381,  5441,\n",
       "                5499,  5824,  5985,  6003,  6397,  6954,  7028,  7483,  7646,\n",
       "                7748,  7756,  7789,  7822,  7835,  8212,  8219,  9176,  9218,\n",
       "                9261,  9354,  9383,  9510,  9567,  9618,  9857, 10049, 10125,\n",
       "               10174, 10176, 10182, 10514, 10923, 11151, 11355, 11454, 11502,\n",
       "               11519, 11892, 12149, 12674, 12921, 13051, 13068, 13460, 13767,\n",
       "               13776, 13779, 13941, 14004, 14170, 14308, 14406, 14584, 14659,\n",
       "               14685, 15145, 15274, 15614, 15861])                           ,\n",
       "        array([   67,   300,   631,   787,  1153,  1316,  1581,  1591,  1757,\n",
       "                2135,  2245,  2336,  2509,  2688,  2739,  2867,  2887,  3117,\n",
       "                3244,  3980,  4033,  4044,  4105,  4175,  4250,  4290,  5265,\n",
       "                5319,  5386,  5786,  5882,  6015,  6162,  6498,  6906,  6950,\n",
       "                7039,  7096,  7493,  7549,  7586,  7733,  7827,  7902,  8191,\n",
       "                8286,  8296,  8498,  8834,  8840,  9864,  9939, 10208, 10444,\n",
       "               10688, 10876, 11073, 11107, 11218, 11304, 11584, 11753, 12177,\n",
       "               12333, 12432, 12498, 12930, 13096, 13117, 13175, 13184, 13515,\n",
       "               13592, 13617, 13670, 13807, 13857, 14036, 14330, 14383, 14426,\n",
       "               14428, 14436, 14643, 14665, 14708, 14749, 14809, 15085, 15146,\n",
       "               15213, 15255, 15487, 15632, 16005, 16220])                    ,\n",
       "        array([  125,   205,   274,   578,   634,   857,   858,  1335,  1352,\n",
       "                1506,  1732,  1849,  1957,  2241,  2349,  2473,  2629,  2883,\n",
       "                2948,  3315,  3476,  3501,  3769,  3800,  3845,  4019,  4046,\n",
       "                4103,  4346,  4536,  4801,  5398,  5467,  5511,  5550,  5750,\n",
       "                5818,  6029,  6366,  6396,  6676,  7108,  7154,  7345,  7367,\n",
       "                7866,  7932,  7949,  7973,  8093,  8139,  8705,  9126, 10094,\n",
       "               10281, 10359, 10398, 10488, 10624, 10687, 10719, 10723, 11016,\n",
       "               11189, 11341, 11563, 11834, 11890, 12050, 12108, 12233, 12274,\n",
       "               12652, 12708, 13007, 13076, 13286, 13561, 13617, 13864, 13875,\n",
       "               14076, 14447, 14645, 15015, 15644, 15958, 16167, 16346])      ,\n",
       "        ...,\n",
       "        array([  506,   769,   942,  1005,  1052,  1133,  1459,  2231,  2390,\n",
       "                2491,  2722,  2838,  2875,  2957,  3081,  3119,  3190,  3284,\n",
       "                3455,  3884,  4054,  4057,  4403,  4705,  4833,  5150,  5264,\n",
       "                5543,  5656,  5812,  5991,  6001,  6105,  6254,  6808,  6864,\n",
       "                7189,  7342,  7552,  7632,  7815,  7994,  8007,  8046,  8503,\n",
       "                8856,  9060,  9180,  9425,  9464,  9544,  9597,  9601,  9646,\n",
       "                9865, 10063, 10191, 10601, 10870, 10943, 11118, 11307, 11422,\n",
       "               11455, 11510, 11788, 12223, 12390, 12601, 12607, 12731, 12934,\n",
       "               13326, 13408, 13647, 13719, 13974, 14032, 14193, 14328, 14430,\n",
       "               14463, 14538, 14640, 14758, 14798, 15046, 15060, 15079, 15086,\n",
       "               15598, 15724, 15818, 15830, 15937, 16171, 16251])             ,\n",
       "        array([  375,   789,   945,  1302,  1345,  1439,  1712,  1854,  2357,\n",
       "                2890,  2905,  3161,  3537,  3582,  3642,  3643,  3818,  4013,\n",
       "                4158,  4176,  4413,  4771,  5106,  5432,  5645,  5657,  5835,\n",
       "                5841,  6138,  6397,  6578,  6696,  7374,  7631,  7670,  7718,\n",
       "                8338,  8365,  8454,  8958,  9258,  9308,  9492,  9678, 10117,\n",
       "               10220, 10379, 10401, 10442, 10564, 11097, 11127, 11379, 11702,\n",
       "               11712, 11866, 11894, 12024, 12026, 12136, 12285, 12773, 12950,\n",
       "               13158, 13359, 13590, 13723, 13851, 13883, 14290, 14457, 14566,\n",
       "               14574, 15273, 15277, 15331, 15347, 15374, 15845, 15970, 16126,\n",
       "               16160, 16197, 16237, 16354])                                  ,\n",
       "        array([   24,   176,   186,   243,   439,   714,  1781,  2248,  2377,\n",
       "                2393,  3041,  3051,  3160,  3188,  3428,  3600,  3844,  3890,\n",
       "                3911,  4028,  4076,  4486,  4771,  4870,  4960,  5066,  5172,\n",
       "                5266,  5332,  5521,  5669,  5684,  5801,  6076,  6203,  6251,\n",
       "                6302,  6486,  6514,  6620,  6748,  7005,  7213,  7222,  7314,\n",
       "                8043,  8707,  8829,  9034,  9054,  9253,  9334,  9341,  9428,\n",
       "                9430,  9508,  9670,  9732,  9856,  9972, 10013, 10166, 10239,\n",
       "               10248, 10394, 10441, 10442, 10650, 10794, 11113, 11320, 11367,\n",
       "               11607, 11651, 11723, 11928, 12328, 13010, 13243, 13305, 13499,\n",
       "               13541, 13603, 13618, 13679, 14353, 14364, 14397, 14774, 14790,\n",
       "               14985, 15081, 15156, 15168, 15193, 15381, 15548, 15642, 15754])],\n",
       "       dtype=object),\n",
       " array([array([0., 0., 0., 0., 0., 0., 0., 0., 0., 0., 0., 0., 0., 0., 0., 0., 0.,\n",
       "               0., 0., 0., 0., 0., 0., 0., 0., 0., 0., 0., 0., 0., 0., 0., 0., 0.,\n",
       "               0., 0., 0., 0., 0., 0., 0., 0., 0., 0., 0., 0., 0., 0., 0., 0., 0.,\n",
       "               0., 0., 0., 0., 0., 0., 0., 0., 0., 0., 0., 0., 0., 0., 0., 0., 0.,\n",
       "               0., 0., 0., 0., 0., 0., 0., 0., 0., 0., 0., 0., 0., 0., 0., 0., 0.,\n",
       "               0., 0., 0., 0., 0., 0., 0., 0., 0., 0.])                           ,\n",
       "        array([0., 0., 0., 0., 0., 0., 0., 0., 0., 0., 0., 0., 0., 0., 0., 0., 0.,\n",
       "               0., 0., 0., 0., 0., 0., 0., 0., 0., 0., 0., 0., 0., 0., 0., 0., 0.,\n",
       "               0., 0., 0., 0., 0., 0., 0., 0., 0., 0., 0., 0., 0., 0., 0., 0., 0.,\n",
       "               0., 0., 0., 0., 0., 0., 0., 0., 0., 0., 0., 0., 0., 0., 0., 0., 0.,\n",
       "               0., 0., 0., 0., 0., 0., 0., 0., 0., 0., 0., 0., 0., 0., 0., 0., 0.,\n",
       "               0., 0., 0., 0., 0., 0., 0., 0., 0., 0., 0.])                       ,\n",
       "        array([0., 0., 0., 0., 0., 0., 0., 0., 0., 0., 0., 0., 0., 0., 0., 0., 0.,\n",
       "               0., 0., 0., 0., 0., 0., 0., 0., 0., 0., 0., 0., 0., 0., 0., 0., 0.,\n",
       "               0., 0., 0., 0., 0., 0., 0., 0., 0., 0., 0., 0., 0., 0., 0., 0., 0.,\n",
       "               0., 0., 0., 0., 0., 0., 0., 0., 0., 0., 0., 0., 0., 0., 0., 0., 0.,\n",
       "               0., 0., 0., 0., 0., 0., 0., 0., 0., 0., 0., 0., 0., 0., 0., 0., 0.,\n",
       "               0., 0., 0., 0.])                                                   ,\n",
       "        ...,\n",
       "        array([0., 0., 0., 0., 0., 0., 0., 0., 0., 0., 0., 0., 0., 0., 0., 0., 0.,\n",
       "               0., 0., 0., 0., 0., 0., 0., 0., 0., 0., 0., 0., 0., 0., 0., 0., 0.,\n",
       "               0., 0., 0., 0., 0., 0., 0., 0., 0., 0., 0., 0., 0., 0., 0., 0., 0.,\n",
       "               0., 0., 0., 0., 0., 0., 0., 0., 0., 0., 0., 0., 0., 0., 0., 0., 0.,\n",
       "               0., 0., 0., 0., 0., 0., 0., 0., 0., 0., 0., 0., 0., 0., 0., 0., 0.,\n",
       "               0., 0., 0., 0., 0., 0., 0., 0., 0., 0., 0., 0.])                   ,\n",
       "        array([0., 0., 0., 0., 0., 0., 0., 0., 0., 0., 0., 0., 0., 0., 0., 0., 0.,\n",
       "               0., 0., 0., 0., 0., 0., 0., 0., 0., 0., 0., 0., 0., 0., 0., 0., 0.,\n",
       "               0., 0., 0., 0., 0., 0., 0., 0., 0., 0., 0., 0., 0., 0., 0., 0., 0.,\n",
       "               0., 0., 0., 0., 0., 0., 0., 0., 0., 0., 0., 0., 0., 0., 0., 0., 0.,\n",
       "               0., 0., 0., 0., 0., 0., 0., 0., 0., 0., 0., 0., 0., 0., 0., 0., 0.]),\n",
       "        array([0., 0., 0., 0., 0., 0., 0., 0., 0., 0., 0., 0., 0., 0., 0., 0., 0.,\n",
       "               0., 0., 0., 0., 0., 0., 0., 0., 0., 0., 0., 0., 0., 0., 0., 0., 0.,\n",
       "               0., 0., 0., 0., 0., 0., 0., 0., 0., 0., 0., 0., 0., 0., 0., 0., 0.,\n",
       "               0., 0., 0., 0., 0., 0., 0., 0., 0., 0., 0., 0., 0., 0., 0., 0., 0.,\n",
       "               0., 0., 0., 0., 0., 0., 0., 0., 0., 0., 0., 0., 0., 0., 0., 0., 0.,\n",
       "               0., 0., 0., 0., 0., 0., 0., 0., 0., 0., 0., 0., 0., 0.])           ],\n",
       "       dtype=object))"
      ]
     },
     "execution_count": 95,
     "metadata": {},
     "output_type": "execute_result"
    }
   ],
   "source": [
    "def make_random(N, K):\n",
    "    p = K/N\n",
    "    C = []\n",
    "    for i in range(N):\n",
    "        C += np.where(np.insert(bernoulli.rvs(p, size=(N-1)), i, 0))\n",
    "    C = np.array(C, dtype=\"int\")\n",
    "    return C\n",
    "\n",
    "def make_ring(N, K):\n",
    "    Ring = []\n",
    "    for i in range(N):\n",
    "        Ring += [[]]\n",
    "        for k in range(K//2):\n",
    "            Ring[i] += [i-(k+1), i+(k+1)]\n",
    "    Ring = np.array(Ring)\n",
    "    # Correct borders\n",
    "    pos = np.where(Ring < 0)\n",
    "    Ring[pos] = Ring[pos] + N\n",
    "    pos = np.where(Ring >= N)\n",
    "    Ring[pos] = Ring[pos] - N\n",
    "    return Ring \n",
    "\n",
    "#C = make_ring(N, K)\n",
    "\n",
    "C = []\n",
    "for i in range(N):\n",
    "    C += np.where(np.insert(bernoulli.rvs(K/N, size=(N-1)), i, 0))\n",
    "C = np.array(C, dtype=\"object\")\n",
    "\n",
    "W = np.array([np.zeros(len(ci)) for ci in C], dtype=\"object\")\n",
    "C, W"
   ]
  },
  {
   "cell_type": "code",
   "execution_count": 60,
   "id": "9cd500c0",
   "metadata": {},
   "outputs": [
    {
     "data": {
      "text/plain": [
       "((10, 16384), 1.3877787807814457e-17, 1.0, 1.3333333333333333)"
      ]
     },
     "execution_count": 60,
     "metadata": {},
     "output_type": "execute_result"
    }
   ],
   "source": [
    "threshold = (1-2*ap)/(2*np.sqrt(ap*(1-ap)))\n",
    "\n",
    "normalized_X = np.array([(x - np.mean(x))/np.sqrt(np.mean(x)*(1-np.mean(x))) for x in X])\n",
    "np.shape(X), np.mean(normalized_X), np.std(normalized_X), threshold"
   ]
  },
  {
   "cell_type": "code",
   "execution_count": 97,
   "id": "129186e1",
   "metadata": {},
   "outputs": [],
   "source": [
    "# Weights initialization\n",
    "W = np.array([np.zeros(len(ci)) for ci in C], dtype='object')\n",
    "\n",
    "#for each pattern x in X\n",
    "for x in normalized_X:\n",
    "    # for each node i\n",
    "    for i in range(N):\n",
    "        W[i] = W[i] + x[C[i]]*x[i]"
   ]
  },
  {
   "cell_type": "code",
   "execution_count": 98,
   "id": "64476bb9",
   "metadata": {},
   "outputs": [],
   "source": [
    "def normalize_vector(vector):\n",
    "    av = np.mean(vector)\n",
    "    return (vector - av)/np.sqrt(av*(1-av))\n",
    "\n",
    "def act_threshold(neighbors, th):\n",
    "    threshold = th\n",
    "    if np.mean(neighbors) > 0.5:\n",
    "        threshold = -th\n",
    "    return threshold"
   ]
  },
  {
   "cell_type": "code",
   "execution_count": 99,
   "id": "0ee67d57",
   "metadata": {},
   "outputs": [
    {
     "data": {
      "text/plain": [
       "(0.0, 1.0)"
      ]
     },
     "execution_count": 99,
     "metadata": {},
     "output_type": "execute_result"
    },
    {
     "data": {
      "image/png": "[encoded data removed]",
      "text/plain": [
       "<Figure size 432x288 with 1 Axes>"
      ]
     },
     "metadata": {
      "needs_background": "light"
     },
     "output_type": "display_data"
    }
   ],
   "source": [
    "# Measure the quality of retrieval \n",
    "M = []  # M is 1, perfect retrieval, M is 0 no retrieval\n",
    "\n",
    "#for each pattern x in X\n",
    "for x in X:\n",
    "    xt = np.copy(x)  # pattern x in time 0\n",
    "    \n",
    "    m = [np.sum(normalize_vector(x)*normalize_vector(xt))/N]  # initianl overlap in time 0, x is equal to xt, so m=1\n",
    "    \n",
    "    # update network for 100 steps\n",
    "    for ti in range(100):\n",
    "        # update each neuron xt[nxi]\n",
    "        xt = np.array([(np.mean(normalize_vector(xt[C[nxi]])*W[nxi]) \n",
    "                        - act_threshold(xt[C[nxi]], threshold) >= 0)  # TH(local_field, threshod)\n",
    "                       if np.var(xt[C[nxi]])  # if variance is not zero\n",
    "                       else xt[nxi]  # state does not change otherwise\n",
    "                       for nxi in range(N)])\n",
    "        xt = xt.astype('int')\n",
    "        m += [np.sum(normalize_vector(x)*normalize_vector(xt))/N]  # calculate overlap\n",
    "        if m[-1] == m[-2]:\n",
    "            break\n",
    "    M += [m[-1]]\n",
    "plt.plot(np.array(range(1,len(X)+1))/K, M, ':o')\n",
    "plt.xlabel(r\"$\\alpha$\")\n",
    "plt.ylabel(\"m\")\n",
    "plt.ylim((0,1))"
   ]
  },
  {
   "cell_type": "code",
   "execution_count": 102,
   "id": "2721a0dc",
   "metadata": {},
   "outputs": [
    {
     "data": {
      "text/plain": [
       "<matplotlib.image.AxesImage at 0x7f0fa5a5d250>"
      ]
     },
     "execution_count": 102,
     "metadata": {},
     "output_type": "execute_result"
    },
    {
     "data": {
      "image/png": "[encoded data removed]",
      "text/plain": [
       "<Figure size 288x288 with 1 Axes>"
      ]
     },
     "metadata": {
      "needs_background": "light"
     },
     "output_type": "display_data"
    },
    {
     "data": {
      "image/png": "[encoded data removed]",
      "text/plain": [
       "<Figure size 288x288 with 1 Axes>"
      ]
     },
     "metadata": {
      "needs_background": "light"
     },
     "output_type": "display_data"
    }
   ],
   "source": [
    "noise_level = 0.8\n",
    "\n",
    "noisy_lenna = lenna.copy()\n",
    "\n",
    "for i in range(np.shape(noisy_lenna)[1]):\n",
    "    if np.random.random() < noise_level:\n",
    "        noisy_lenna[0, i] = bernoulli.rvs(ap)\n",
    "\n",
    "plt.matshow(X[-1].reshape((128,128)), cmap='gray')\n",
    "plt.matshow(noisy_lenna.reshape((128,128)), cmap='gray')"
   ]
  },
  {
   "cell_type": "code",
   "execution_count": 104,
   "id": "214bc5e4",
   "metadata": {},
   "outputs": [
    {
     "name": "stdout",
     "output_type": "stream",
     "text": [
      "0.00848388671875\n",
      "0.029052734375\n",
      "0.05865478515625\n",
      "0.10382080078125\n"
     ]
    },
    {
     "data": {
      "image/png": "[encoded data removed]",
      "text/plain": [
       "<Figure size 1152x2304 with 4 Axes>"
      ]
     },
     "metadata": {
      "needs_background": "light"
     },
     "output_type": "display_data"
    },
    {
     "data": {
      "image/png": "[encoded data removed]",
      "text/plain": [
       "<Figure size 432x288 with 1 Axes>"
      ]
     },
     "metadata": {
      "needs_background": "light"
     },
     "output_type": "display_data"
    },
    {
     "data": {
      "text/plain": [
       "0.9980423948343137"
      ]
     },
     "execution_count": 104,
     "metadata": {},
     "output_type": "execute_result"
    },
    {
     "data": {
      "image/png": "[encoded data removed]",
      "text/plain": [
       "<Figure size 432x288 with 1 Axes>"
      ]
     },
     "metadata": {
      "needs_background": "light"
     },
     "output_type": "display_data"
    }
   ],
   "source": [
    "x = X[-1]  # Learned Lenna is in X, last pattern\n",
    "\n",
    "xt = np.copy(noisy_lenna.flatten())  # init network in noisy lenna\n",
    "        \n",
    "m = [np.sum(normalize_vector(x)*normalize_vector(xt))/N]  # initial overlap\n",
    "\n",
    "fig, ax = plt.subplots(nrows=1, ncols=4, figsize=(16,32))\n",
    "ploti = 0\n",
    "\n",
    "a_net = []\n",
    "\n",
    "for ti in range(100):\n",
    "    # network update for t=100\n",
    "    a_net += [np.mean(xt)]\n",
    "    # update each neuron xt[nxi]\n",
    "    xt = np.array([(np.mean(normalize_vector(xt[C[nxi]])*W[nxi]) \n",
    "                    - act_threshold(xt[C[nxi]], threshold) >= 0)  # TH(local_field, threshod)\n",
    "                   if np.var(xt[C[nxi]])  # if variance is not zero\n",
    "                   else xt[nxi]  # state does not change otherwise\n",
    "                   for nxi in range(N)])\n",
    "    xt = xt.astype('int')\n",
    "    m += [np.sum(normalize_vector(x)*normalize_vector(xt))/N]  # test overlap x and xt (net state)\n",
    "    if not (ti % 2) and ploti < 4:\n",
    "        print(np.mean(xt))\n",
    "        ax[ploti].imshow(xt.reshape((128,128)), cmap=cmap)\n",
    "        ploti += 1\n",
    "    if m[-1] == m[-2]:\n",
    "        break\n",
    "plt.show()\n",
    "plt.plot(m)\n",
    "plt.show()\n",
    "plt.plot(a_net)\n",
    "m[-1]"
   ]
  }
 ],
 "metadata": {
  "kernelspec": {
   "display_name": "Python 3",
   "language": "python",
   "name": "python3"
  },
  "language_info": {
   "codemirror_mode": {
    "name": "ipython",
    "version": 3
   },
   "file_extension": ".py",
   "mimetype": "text/x-python",
   "name": "python",
   "nbconvert_exporter": "python",
   "pygments_lexer": "ipython3",
   "version": "3.8.8"
  }
 },
 "nbformat": 4,
 "nbformat_minor": 5
}
