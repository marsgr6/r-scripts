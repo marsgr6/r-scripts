{
 "cells": [
  {
   "cell_type": "code",
   "execution_count": 33,
   "id": "3779a77d",
   "metadata": {},
   "outputs": [],
   "source": [
    "import numpy as np\n",
    "import matplotlib.pyplot as plt\n",
    "import pandas as pd\n",
    "import sympy as sym\n",
    "from string import ascii_uppercase\n",
    "from collections import Counter"
   ]
  },
  {
   "cell_type": "markdown",
   "id": "98d88a2f",
   "metadata": {},
   "source": [
    "## 1D random walk with reflecting and absorbing barriers\n",
    "\n",
    "- Markov chain\n",
    "  - State transition diagram\n",
    "\n",
    "![](https://raw.githubusercontent.com/marsgr6/r-scripts/master/imgs/drunkards-walk.png)\n",
    "\n",
    "- Transition probability matrix $P$ below"
   ]
  },
  {
   "cell_type": "code",
   "execution_count": 34,
   "id": "a03ed0eb",
   "metadata": {},
   "outputs": [
    {
     "data": {
      "text/latex": [
       "$\\displaystyle \\left[\\begin{matrix}0 & 1.0 & 0 & 0 & 0\\\\0.5 & 0 & 0.5 & 0 & 0\\\\0 & 0.5 & 0 & 0.5 & 0\\\\0 & 0 & 0.5 & 0 & 0.5\\\\0 & 0 & 0 & 0 & 1.0\\end{matrix}\\right]$"
      ],
      "text/plain": [
       "Matrix([\n",
       "[  0, 1.0,   0,   0,   0],\n",
       "[0.5,   0, 0.5,   0,   0],\n",
       "[  0, 0.5,   0, 0.5,   0],\n",
       "[  0,   0, 0.5,   0, 0.5],\n",
       "[  0,   0,   0,   0, 1.0]])"
      ]
     },
     "execution_count": 34,
     "metadata": {},
     "output_type": "execute_result"
    }
   ],
   "source": [
    "# Transition probability matrix P\n",
    "n = 4\n",
    "ds = [1] + [0.5]*(n-1)\n",
    "Xs = np.diag(ds, 1)\n",
    "di = [0.5]*(n-1) + [0]\n",
    "Xi = np.diag(di, -1)\n",
    "dd = [0]*(n) + [1]\n",
    "Xd = np.diag(dd, 0)\n",
    "P = Xs+Xi+Xd\n",
    "\n",
    "sym.Matrix(P)"
   ]
  },
  {
   "cell_type": "markdown",
   "id": "d5154667",
   "metadata": {},
   "source": [
    "### Analytical solution\n",
    "\n",
    "- Check: https://en.wikipedia.org/wiki/Absorbing_Markov_chain"
   ]
  },
  {
   "cell_type": "code",
   "execution_count": 35,
   "id": "6281da25",
   "metadata": {},
   "outputs": [
    {
     "name": "stdout",
     "output_type": "stream",
     "text": [
      "From 0 the avg step to reach n is [[16.]]\n",
      "From 1 the avg step to reach n is [[15.]]\n",
      "From 2 the avg step to reach n is [[12.]]\n",
      "From 3 the avg step to reach n is [[7.]]\n"
     ]
    }
   ],
   "source": [
    "I = np.identity(n)\n",
    "Q = np.matrix(P[0:n,0:n])\n",
    "IV = np.matrix([1]*n).transpose()\n",
    "R = np.matrix([0, 0, 0, 0.5]).transpose()\n",
    "\n",
    "mean_step_from_state_i = np.linalg.inv(I - Q)*IV\n",
    "mssi = [print(\"From \"+str(i)+\" the avg step to reach n is \"+str(si)) \n",
    "       for i,si in enumerate(mean_step_from_state_i)]"
   ]
  },
  {
   "cell_type": "markdown",
   "id": "da394f2c",
   "metadata": {},
   "source": [
    "### Solution by simulation\n",
    "\n",
    "- Use the probability transition matrix"
   ]
  },
  {
   "cell_type": "code",
   "execution_count": 36,
   "id": "2c1049e6",
   "metadata": {},
   "outputs": [
    {
     "data": {
      "text/plain": [
       "<matplotlib.legend.Legend at 0x7fecb2cd02e0>"
      ]
     },
     "execution_count": 36,
     "metadata": {},
     "output_type": "execute_result"
    },
    {
     "data": {
      "image/png": "[encoded data removed]",
      "text/plain": [
       "<Figure size 864x288 with 1 Axes>"
      ]
     },
     "metadata": {
      "needs_background": "light"
     },
     "output_type": "display_data"
    }
   ],
   "source": [
    "states = list(range(n+1))\n",
    "start_ = 0\n",
    "\n",
    "\n",
    "def make_walk(start_, states, P):\n",
    "    walk = [start_]\n",
    "\n",
    "    while(True):\n",
    "        walk += [np.random.choice(states, p=P[walk[-1]])]\n",
    "        if walk[-1] == n: break\n",
    "            \n",
    "    return walk\n",
    "\n",
    "walk = make_walk(start_, states, P)\n",
    "plt.figure(figsize=(12,4))\n",
    "plt.step(range(len(walk)), walk)\n",
    "plt.hlines(n, 0, len(walk), color=\"tab:red\", label=\"Absorbing barrier\")\n",
    "plt.hlines(0, 0, len(walk), color=\"tab:green\", label=\"Reflecting barrier\")\n",
    "plt.legend()"
   ]
  },
  {
   "cell_type": "code",
   "execution_count": null,
   "id": "b5e55077",
   "metadata": {},
   "outputs": [],
   "source": [
    "len(make_walk(start_, states, P))-1 for i in range(10)~"
   ]
  },
  {
   "cell_type": "markdown",
   "id": "6366af76",
   "metadata": {},
   "source": [
    "## Random shortest path\n",
    "\n",
    "![](https://upload.wikimedia.org/wikipedia/commons/thumb/3/3b/Shortest_path_with_direct_weights.svg/1280px-Shortest_path_with_direct_weights.svg.png)\n",
    "\n",
    "- Find the most common random walks from origin A to target F.\n",
    "- Use the same logic as our markov chain."
   ]
  },
  {
   "cell_type": "code",
   "execution_count": 21,
   "id": "c0f86d1a",
   "metadata": {},
   "outputs": [
    {
     "data": {
      "text/plain": [
       "['A', 'B', 'C', 'D', 'E', 'F']"
      ]
     },
     "execution_count": 21,
     "metadata": {},
     "output_type": "execute_result"
    }
   ],
   "source": [
    "n = 6  # states\n",
    "states = list(ascii_uppercase[:n])\n",
    "states"
   ]
  },
  {
   "cell_type": "code",
   "execution_count": 22,
   "id": "35e4e0c6",
   "metadata": {},
   "outputs": [
    {
     "data": {
      "text/html": [
       "<div>\n",
       "<style scoped>\n",
       "    .dataframe tbody tr th:only-of-type {\n",
       "        vertical-align: middle;\n",
       "    }\n",
       "\n",
       "    .dataframe tbody tr th {\n",
       "        vertical-align: top;\n",
       "    }\n",
       "\n",
       "    .dataframe thead th {\n",
       "        text-align: right;\n",
       "    }\n",
       "</style>\n",
       "<table border=\"1\" class=\"dataframe\">\n",
       "  <thead>\n",
       "    <tr style=\"text-align: right;\">\n",
       "      <th></th>\n",
       "      <th>A</th>\n",
       "      <th>B</th>\n",
       "      <th>C</th>\n",
       "      <th>D</th>\n",
       "      <th>E</th>\n",
       "      <th>F</th>\n",
       "    </tr>\n",
       "  </thead>\n",
       "  <tbody>\n",
       "    <tr>\n",
       "      <th>A</th>\n",
       "      <td>0</td>\n",
       "      <td>4</td>\n",
       "      <td>2</td>\n",
       "      <td>0</td>\n",
       "      <td>0</td>\n",
       "      <td>0</td>\n",
       "    </tr>\n",
       "    <tr>\n",
       "      <th>B</th>\n",
       "      <td>0</td>\n",
       "      <td>0</td>\n",
       "      <td>5</td>\n",
       "      <td>10</td>\n",
       "      <td>0</td>\n",
       "      <td>0</td>\n",
       "    </tr>\n",
       "    <tr>\n",
       "      <th>C</th>\n",
       "      <td>0</td>\n",
       "      <td>0</td>\n",
       "      <td>0</td>\n",
       "      <td>0</td>\n",
       "      <td>3</td>\n",
       "      <td>0</td>\n",
       "    </tr>\n",
       "    <tr>\n",
       "      <th>D</th>\n",
       "      <td>0</td>\n",
       "      <td>0</td>\n",
       "      <td>0</td>\n",
       "      <td>0</td>\n",
       "      <td>0</td>\n",
       "      <td>11</td>\n",
       "    </tr>\n",
       "    <tr>\n",
       "      <th>E</th>\n",
       "      <td>0</td>\n",
       "      <td>0</td>\n",
       "      <td>0</td>\n",
       "      <td>4</td>\n",
       "      <td>0</td>\n",
       "      <td>0</td>\n",
       "    </tr>\n",
       "    <tr>\n",
       "      <th>F</th>\n",
       "      <td>0</td>\n",
       "      <td>0</td>\n",
       "      <td>0</td>\n",
       "      <td>0</td>\n",
       "      <td>0</td>\n",
       "      <td>1</td>\n",
       "    </tr>\n",
       "  </tbody>\n",
       "</table>\n",
       "</div>"
      ],
      "text/plain": [
       "   A  B  C   D  E   F\n",
       "A  0  4  2   0  0   0\n",
       "B  0  0  5  10  0   0\n",
       "C  0  0  0   0  3   0\n",
       "D  0  0  0   0  0  11\n",
       "E  0  0  0   4  0   0\n",
       "F  0  0  0   0  0   1"
      ]
     },
     "execution_count": 22,
     "metadata": {},
     "output_type": "execute_result"
    }
   ],
   "source": [
    "M = np.matrix('0 4 2 0 0 0; 0 0 5 10 0 0; 0 0 0 0 3 0; 0 0 0 0 0 11; 0 0 0 4 0 0; 0 0 0 0 0 1')\n",
    "M = np.array(M)\n",
    "MD = pd.DataFrame(M, index = states, columns = states)\n",
    "MD"
   ]
  },
  {
   "cell_type": "code",
   "execution_count": 23,
   "id": "e14de01c",
   "metadata": {},
   "outputs": [
    {
     "name": "stdout",
     "output_type": "stream",
     "text": [
      "[[0.         0.33333333 0.66666667 0.         0.         0.        ]\n",
      " [0.         0.         0.66666667 0.33333333 0.         0.        ]\n",
      " [0.         0.         0.         0.         1.         0.        ]\n",
      " [0.         0.         0.         0.         0.         1.        ]\n",
      " [0.         0.         0.         1.         0.         0.        ]\n",
      " [0.         0.         0.         0.         0.         1.        ]]\n"
     ]
    }
   ],
   "source": [
    "P = [mii/mi.sum() if mii else mii for mi in M for mii in mi]\n",
    "P = np.array([1-pi if (pi!=0 and pi!=1) else pi for pi in P])\n",
    "P = P.reshape(n,n)\n",
    "print(P)"
   ]
  },
  {
   "cell_type": "code",
   "execution_count": 24,
   "id": "a93a65a3",
   "metadata": {},
   "outputs": [
    {
     "data": {
      "text/html": [
       "<div>\n",
       "<style scoped>\n",
       "    .dataframe tbody tr th:only-of-type {\n",
       "        vertical-align: middle;\n",
       "    }\n",
       "\n",
       "    .dataframe tbody tr th {\n",
       "        vertical-align: top;\n",
       "    }\n",
       "\n",
       "    .dataframe thead th {\n",
       "        text-align: right;\n",
       "    }\n",
       "</style>\n",
       "<table border=\"1\" class=\"dataframe\">\n",
       "  <thead>\n",
       "    <tr style=\"text-align: right;\">\n",
       "      <th></th>\n",
       "      <th>A</th>\n",
       "      <th>B</th>\n",
       "      <th>C</th>\n",
       "      <th>D</th>\n",
       "      <th>E</th>\n",
       "      <th>F</th>\n",
       "    </tr>\n",
       "  </thead>\n",
       "  <tbody>\n",
       "    <tr>\n",
       "      <th>A</th>\n",
       "      <td>0.0</td>\n",
       "      <td>0.333333</td>\n",
       "      <td>0.666667</td>\n",
       "      <td>0.000000</td>\n",
       "      <td>0.0</td>\n",
       "      <td>0.0</td>\n",
       "    </tr>\n",
       "    <tr>\n",
       "      <th>B</th>\n",
       "      <td>0.0</td>\n",
       "      <td>0.000000</td>\n",
       "      <td>0.666667</td>\n",
       "      <td>0.333333</td>\n",
       "      <td>0.0</td>\n",
       "      <td>0.0</td>\n",
       "    </tr>\n",
       "    <tr>\n",
       "      <th>C</th>\n",
       "      <td>0.0</td>\n",
       "      <td>0.000000</td>\n",
       "      <td>0.000000</td>\n",
       "      <td>0.000000</td>\n",
       "      <td>1.0</td>\n",
       "      <td>0.0</td>\n",
       "    </tr>\n",
       "    <tr>\n",
       "      <th>D</th>\n",
       "      <td>0.0</td>\n",
       "      <td>0.000000</td>\n",
       "      <td>0.000000</td>\n",
       "      <td>0.000000</td>\n",
       "      <td>0.0</td>\n",
       "      <td>1.0</td>\n",
       "    </tr>\n",
       "    <tr>\n",
       "      <th>E</th>\n",
       "      <td>0.0</td>\n",
       "      <td>0.000000</td>\n",
       "      <td>0.000000</td>\n",
       "      <td>1.000000</td>\n",
       "      <td>0.0</td>\n",
       "      <td>0.0</td>\n",
       "    </tr>\n",
       "    <tr>\n",
       "      <th>F</th>\n",
       "      <td>0.0</td>\n",
       "      <td>0.000000</td>\n",
       "      <td>0.000000</td>\n",
       "      <td>0.000000</td>\n",
       "      <td>0.0</td>\n",
       "      <td>1.0</td>\n",
       "    </tr>\n",
       "  </tbody>\n",
       "</table>\n",
       "</div>"
      ],
      "text/plain": [
       "     A         B         C         D    E    F\n",
       "A  0.0  0.333333  0.666667  0.000000  0.0  0.0\n",
       "B  0.0  0.000000  0.666667  0.333333  0.0  0.0\n",
       "C  0.0  0.000000  0.000000  0.000000  1.0  0.0\n",
       "D  0.0  0.000000  0.000000  0.000000  0.0  1.0\n",
       "E  0.0  0.000000  0.000000  1.000000  0.0  0.0\n",
       "F  0.0  0.000000  0.000000  0.000000  0.0  1.0"
      ]
     },
     "execution_count": 24,
     "metadata": {},
     "output_type": "execute_result"
    }
   ],
   "source": [
    "PD = pd.DataFrame(P, index = states, columns = states)\n",
    "PD"
   ]
  },
  {
   "cell_type": "code",
   "execution_count": 25,
   "id": "367befd7",
   "metadata": {},
   "outputs": [
    {
     "data": {
      "text/plain": [
       "Counter({\"['A', 'C', 'E', 'D', 'F']\": 6612,\n",
       "         \"['A', 'B', 'C', 'E', 'D', 'F']\": 2271,\n",
       "         \"['A', 'B', 'D', 'F']\": 1117})"
      ]
     },
     "execution_count": 25,
     "metadata": {},
     "output_type": "execute_result"
    }
   ],
   "source": [
    "start_ = 'A'\n",
    "target = 'F'\n",
    "\n",
    "all_walks = []\n",
    "\n",
    "for i in range(10000):\n",
    "\n",
    "    walk = [start_]\n",
    "\n",
    "    while(True):\n",
    "        walk += [np.random.choice(states, p=PD.loc[walk[-1]])]\n",
    "        if walk[-1] == target: break\n",
    "    all_walks += [walk]\n",
    "C = Counter(str(wi) for wi in all_walks)\n",
    "C"
   ]
  },
  {
   "cell_type": "code",
   "execution_count": 26,
   "id": "9d0bf5c5",
   "metadata": {},
   "outputs": [
    {
     "data": {
      "text/plain": [
       "{'A-C-E-D-F': 20, 'A-B-C-E-D-F': 27, 'A-B-D-F': 25}"
      ]
     },
     "execution_count": 26,
     "metadata": {},
     "output_type": "execute_result"
    }
   ],
   "source": [
    "def get_cost(path):\n",
    "    return sum([MD[path[i]][path[i-1]] for i in range(1, len(path))])\n",
    "\n",
    "paths = [Ci[2:-2].split(\"', '\") for Ci in list(C.keys())]\n",
    "\n",
    "{'-'.join(pi): get_cost(pi) for pi in paths}"
   ]
  },
  {
   "cell_type": "markdown",
   "id": "13c6fe54",
   "metadata": {},
   "source": [
    "### Appendix: Another example of markov chain\n",
    "\n",
    "![](https://ds055uzetaobb.cloudfront.net/brioche/uploads/rtH8yftGTb-drunkards-walk.png)"
   ]
  },
  {
   "cell_type": "markdown",
   "id": "74964196",
   "metadata": {},
   "source": [
    "- Transition probability matrix P"
   ]
  },
  {
   "cell_type": "code",
   "execution_count": 27,
   "id": "c3c0d4e1",
   "metadata": {},
   "outputs": [
    {
     "data": {
      "text/plain": [
       "matrix([[1. , 0. , 0. , 0. , 0. ],\n",
       "        [0.5, 0. , 0.5, 0. , 0. ],\n",
       "        [0. , 0.5, 0. , 0.5, 0. ],\n",
       "        [0. , 0. , 0.5, 0. , 0.5],\n",
       "        [0. , 0. , 0. , 0. , 1. ]])"
      ]
     },
     "execution_count": 27,
     "metadata": {},
     "output_type": "execute_result"
    }
   ],
   "source": [
    "P = np.matrix(\"1 0 0 0 0; 0.5 0 0.5 0 0; 0 0.5 0 0.5 0; 0 0 0.5 0 0.5; 0 0 0 0 1\")\n",
    "P"
   ]
  },
  {
   "cell_type": "markdown",
   "id": "8994b61a",
   "metadata": {},
   "source": [
    "- Analytical solution\n",
    "\n",
    "- Check: https://en.wikipedia.org/wiki/Absorbing_Markov_chain"
   ]
  },
  {
   "cell_type": "code",
   "execution_count": 28,
   "id": "1d7d4318",
   "metadata": {},
   "outputs": [
    {
     "data": {
      "text/plain": [
       "(matrix([[0. , 0.5, 0. ],\n",
       "         [0.5, 0. , 0.5],\n",
       "         [0. , 0.5, 0. ]]),\n",
       " matrix([[0.5, 0. ],\n",
       "         [0. , 0. ],\n",
       "         [0. , 0.5]]),\n",
       " array([[1., 0., 0.],\n",
       "        [0., 1., 0.],\n",
       "        [0., 0., 1.]]),\n",
       " matrix([[1],\n",
       "         [1],\n",
       "         [1]]))"
      ]
     },
     "execution_count": 28,
     "metadata": {},
     "output_type": "execute_result"
    }
   ],
   "source": [
    "Q = np.matrix(P[1:4,1:4])\n",
    "R = np.matrix('0.5 0; 0 0; 0 0.5')\n",
    "I = np.identity(3)\n",
    "Isteps = np.matrix([1]*3).transpose()\n",
    "Q, R, I, Isteps"
   ]
  },
  {
   "cell_type": "code",
   "execution_count": 29,
   "id": "8315aaf8",
   "metadata": {},
   "outputs": [
    {
     "data": {
      "text/plain": [
       "matrix([[0.75, 0.25],\n",
       "        [0.5 , 0.5 ],\n",
       "        [0.25, 0.75]])"
      ]
     },
     "execution_count": 29,
     "metadata": {},
     "output_type": "execute_result"
    }
   ],
   "source": [
    "np.linalg.inv(I - Q)*R"
   ]
  },
  {
   "cell_type": "code",
   "execution_count": 30,
   "id": "b47a5f97",
   "metadata": {},
   "outputs": [
    {
     "data": {
      "text/plain": [
       "matrix([[3.],\n",
       "        [4.],\n",
       "        [3.]])"
      ]
     },
     "execution_count": 30,
     "metadata": {},
     "output_type": "execute_result"
    }
   ],
   "source": [
    "np.linalg.inv(I - Q)*Isteps"
   ]
  }
 ],
 "metadata": {
  "kernelspec": {
   "display_name": "Python 3 (ipykernel)",
   "language": "python",
   "name": "python3"
  },
  "language_info": {
   "codemirror_mode": {
    "name": "ipython",
    "version": 3
   },
   "file_extension": ".py",
   "mimetype": "text/x-python",
   "name": "python",
   "nbconvert_exporter": "python",
   "pygments_lexer": "ipython3",
   "version": "3.9.12"
  }
 },
 "nbformat": 4,
 "nbformat_minor": 5
}
