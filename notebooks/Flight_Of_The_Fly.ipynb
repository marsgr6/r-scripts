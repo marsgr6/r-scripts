{
 "cells": [
  {
   "cell_type": "markdown",
   "id": "00499534",
   "metadata": {},
   "source": [
    "### El vuelo de la mosca: Camino aleatorio 1D\n",
    "\n",
    "- Un caminante aleatorio en 1D es una partícula se mueve en un espacio unidimensional de la siguiente manera:\n",
    "  - En una dimensión, la partícula se mueve hacia arriba o hacia abajo de manera aleatoria con igual probabilidad, $P(\\text{paso}= \\text{arriba}) = 0.5$, $P(\\text{paso}= \\text{abajo}) = 0.5$, excepto cuando golpea una barrera (vea las siguientes instrucciones).\n",
    "  - El caminante realiza una cantidad dada de pasos hasta que golpea la barrera absorbente (línea roja). \n",
    "    - Este es el único criterio de parada; el caminante siempre golpeará la barrera absorbente. \n",
    "\n",
    "![](https://raw.githubusercontent.com/marsgr6/r-scripts/master/imgs/rwbarriers.png)\n",
    "\n",
    "- Hay dos tipos de barreras:\n",
    "  - **Barrera reflectante (verde):** Si la partícula choca con la barrera reflectante, el siguiente paso es siempre hacia arriba: $P(\\text{paso}= \\text{arriba}) = 1$.\n",
    "  - **Barrera absorbente (roja):** Si la partícula choca con la barrera absorbente, el caminante termina y la partícula desaparece.\n",
    "\n",
    "- Coloca la barrera reflectante en la posición 0 y la barrera absorbente en la posición 4, como se muestra en la figura.\n",
    "\n",
    "- **Todos los caminos comienzan en la posición 0 y terminan cuando alcanzan la barrera absorbente.**\n",
    "\n",
    "### Requerimientos de entrega (enumeración exacta de todos los caminos posibles):\n",
    "\n",
    "- Aunque el proceso descrito arriba es aleatorio, **debes encontrar todos los caminos posibles mediante enumeración exacta.** \n",
    "  - Este es un proceso de conteo.\n",
    "- Lista todos los caminos posibles que pueden ocurrir para una cantidad dada de pasos.\n",
    "  - Por ejemplo, para 4 pasos, solo puede ocurrir un camino: `arriba, arriba, arriba, arriba`.\n",
    "  - Para 6 pasos, son posibles tres caminos, como se ilustra en la figura a continuación:\n",
    "\n",
    "![](https://raw.githubusercontent.com/marsgr6/r-scripts/master/imgs/fws6.png)\n",
    "\n",
    "| Camino      | Probabilidades de pasos | Probabilidad del camino     |\n",
    "| :---        |    :----:   |          ---: |\n",
    "| [0 1 0 1 2 3 4]     | [1.0, 0.5, 1.0, 0.5, 0.5, 0.5]       | 0.06250   |\n",
    "| [0 1 2 1 2 3 4]   | [1.0, 0.5, 1.0, 0.5, 0.5, 0.5]        | 0.03125     |\n",
    "| [0 1 2 3 2 3 4]   | [1.0, 0.5, 1.0, 0.5, 0.5, 0.5]        | 0.03125      |\n",
    "\n",
    "- La probabilidad de alcanzar la barrera absorbente en 6 pasos es la suma de la última columna: \\( P = 0.125 \\).\n",
    "\n",
    "- Automatiza el proceso de encontrar todos los caminos posibles, sus probabilidades y la probabilidad de alcanzar la barrera absorbente para $ \\text{pasos} \\in \\{ 4, 6, 8, 10, 12, 14, 16, 18, 20\\}$.\n",
    "  - Esto significa generar una tabla similar a la mostrada arriba para todos los pasos en el rango dado.\n",
    "\n",
    "- Por ejemplo, para 8 pasos, tendrás los siguientes caminos posibles:\n",
    "\n",
    "![](https://raw.githubusercontent.com/marsgr6/r-scripts/master/imgs/fws8.png)\n",
    "\n",
    "- Deberías generar el siguiente resultado:\n",
    "\n",
    "![](https://raw.githubusercontent.com/marsgr6/r-scripts/master/imgs/uniquew_probwt.png)\n",
    "\n",
    "- El panel izquierdo de la figura muestra la cantidad de caminos únicos para alcanzar la barrera para cada cantidad de pasos. Por ejemplo, para 4 pasos, solo existe un camino posible, y para 6 pasos, tres caminos posibles pueden alcanzar la barrera.\n",
    "\n",
    "- Proporciona el código donde enumeras todos los caminos posibles para una cantidad de pasos, calculas la probabilidad de cada camino como se muestra en la tabla anterior y calculas la probabilidad total de los caminos.\n",
    "  - Automatiza el proceso para construir la figura proporcionada.\n",
    "  - **Nota:** Aunque existen otros métodos para calcular esto, como las Cadenas de Markov, se te pide específicamente que emplees un proceso de conteo exhaustivo.\n",
    "\n",
    "- Para orientación adicional sobre conteo, consulta: [Conteo y Probabilidad](https://web.northeastern.edu/dummit/docs/probstat_1_counting_and_probability.pdf)\n",
    "\n",
    "- [Golden random walk](https://sites.santafe.edu/~redner/projects/golden/index.html)"
   ]
  }
 ],
 "metadata": {
  "kernelspec": {
   "display_name": "Python 3 (ipykernel)",
   "language": "python",
   "name": "python3"
  },
  "language_info": {
   "codemirror_mode": {
    "name": "ipython",
    "version": 3
   },
   "file_extension": ".py",
   "mimetype": "text/x-python",
   "name": "python",
   "nbconvert_exporter": "python",
   "pygments_lexer": "ipython3",
   "version": "3.11.5"
  }
 },
 "nbformat": 4,
 "nbformat_minor": 5
}
