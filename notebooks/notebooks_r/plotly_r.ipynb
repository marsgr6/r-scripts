{
 "cells": [
  {
   "cell_type": "code",
   "execution_count": 4,
   "metadata": {},
   "outputs": [
    {
     "name": "stderr",
     "output_type": "stream",
     "text": [
      "IOPub data rate exceeded.\n",
      "The notebook server will temporarily stop sending output\n",
      "to the client in order to avoid crashing it.\n",
      "To change this limit, set the config variable\n",
      "`--NotebookApp.iopub_data_rate_limit`.\n"
     ]
    }
   ],
   "source": [
    "# La biblioteca gráfica Plotly de R crea gráficos \n",
    "# interactivos de calidad para publicación en línea.\n",
    "# Ver: https://plot.ly/r/\n",
    "\n",
    "# Algunos ejemplos del uso de plotly\n",
    "# Diagramas de dispersión en 2 y 3 dimensiones\n",
    "\n",
    "library(plotly)\n",
    "\n",
    "# descargar datos:\n",
    "# https://drive.google.com/open?id=0B-dmEvN59Z2ZeTg0NHlvQkhnYzg\n",
    "belisario <- read.csv(\"mulClassData.csv\")\n",
    "head(belisario)\n",
    "\n",
    "# Diagrama de dispersión\n",
    "plot_ly(belisario, x = ~X, y = ~Y, color = ~PRECIPITATION.mm.,\n",
    "        size = ~PRECIPITATION.mm.) %>% add_markers() %>%\n",
    "        layout(scene = list(xaxis = list(title = 'X'),\n",
    "            yaxis = list(title = 'Y'))\n",
    "        )\n",
    "\n",
    "\n",
    "# Descargar: https://drive.google.com/open?id=0B-dmEvN59Z2ZcnZmY2d5ekRESlk\n",
    "rbelisario <- read.csv(\"regressionData.csv\")\n",
    "\n",
    "# Diagrama de dispersión en 3D\n",
    "plot_ly(\n",
    "    rbelisario, x = ~X, y = ~Y, z=~PRECIPITATION.mm.,\n",
    "    color = ~PARTICULAS.microg.m3., size = ~PARTICULAS.microg.m3.,  \n",
    "    marker = list(size=~PARTICULAS.microg.m3./2,\n",
    "        sizemode = 'diameter')\n",
    "    )\n",
    "\n",
    "# Creamos la columna ms para asignar un tamaño en base a la clase\n",
    "belisario$ms[which(belisario$PL3 == \"M\")]<-100 # usaremos para tamaño de markers\n",
    "belisario$ms[which(belisario$PL3 == \"H\")]<-100\n",
    "belisario$ms[which(belisario$PL3 == \"L\")]<-100\n",
    "\n",
    "# Si descomenta la siguiente línea veremos solo las clases H y L\n",
    "# belisario<-belisario[belisario$PL3 == \"H\" | belisario$PL3 == \"L\",]\n",
    "\n",
    "# Diagrama de dispersión en 3D\n",
    "plot_ly(belisario, x = ~X, y = ~Y, z = ~PRECIPITATION.mm., color = ~PL3, colors = c(\"red\", \"blue\", \"green\"),\n",
    "        marker = list(size=~ms, symbol = \"circle\", sizemode = 'area')) %>% add_markers() %>%\n",
    "        layout(scene = list(xaxis = list(title = 'X'),\n",
    "            yaxis = list(title = 'Y'),\n",
    "            zaxis = list(title = 'Rain')),\n",
    "            annotations = list(\n",
    "                x = 1.13,\n",
    "                y = 1.05,\n",
    "                text = 'Belisario',\n",
    "                xref = 'paper',\n",
    "                yref = 'paper',\n",
    "                showarrow = FALSE)\n",
    "            )\n",
    "\n",
    "# Intente replicar para 2 clases\n",
    "# Archivo: https://drive.google.com/open?id=0B-dmEvN59Z2ZQWhFekd3ZnRVajA"
   ]
  },
  {
   "cell_type": "code",
   "execution_count": 1,
   "metadata": {},
   "outputs": [
    {
     "name": "stderr",
     "output_type": "stream",
     "text": [
      "Loading required package: ggplot2\n",
      "\n",
      "Attaching package: ‘plotly’\n",
      "\n",
      "The following object is masked from ‘package:ggplot2’:\n",
      "\n",
      "    last_plot\n",
      "\n",
      "The following object is masked from ‘package:stats’:\n",
      "\n",
      "    filter\n",
      "\n",
      "The following object is masked from ‘package:graphics’:\n",
      "\n",
      "    layout\n",
      "\n",
      "IOPub data rate exceeded.\n",
      "The notebook server will temporarily stop sending output\n",
      "to the client in order to avoid crashing it.\n",
      "To change this limit, set the config variable\n",
      "`--NotebookApp.iopub_data_rate_limit`.\n"
     ]
    }
   ],
   "source": [
    "# Heatmap\n",
    "# Descargar:https://drive.google.com/open?id=0B-dmEvN59Z2ZZFdXZnBEYThDZTg\n",
    "\n",
    "# Gráficos interactivos con plotly\n",
    "# Heatmap a partir de los missing values\n",
    "\n",
    "data <- read.csv(\"BELISARIO.csv\")\n",
    "dmv <- is.na(data)\n",
    "dmv <- 1 - dmv\n",
    "dmv <- dmv[,2:5]\n",
    "dmv <- t(dmv)\n",
    "plot_ly(z = dmv, type = \"heatmap\", y=c(\"Prec\",\"WD\",\"WS\",\"PM2.5\"), \n",
    "        x=as.POSIXct(data$Date_time, format=\"%d/%m/%Y %H:%M:%S\"))"
   ]
  },
  {
   "cell_type": "code",
   "execution_count": null,
   "metadata": {
    "collapsed": true
   },
   "outputs": [],
   "source": [
    "# Gráficos interactivos con plotly\n",
    "library(plotly)\n",
    "library(xts)\n",
    "\n",
    "datos <- read.csv(\"BELISARIO_nmv.csv\")\n",
    "\n",
    "for (i in 2:ncol(datos)) {\n",
    "    \n",
    "    # Lee cada variable y transforma el string fecha en un tipo de dato fecha hora (POSIXct)\n",
    "    dat.xts <- xts(datos[,i], as.POSIXct(datos$Date_time, format=\"%d/%m/%Y %H:%M:%S\"))\n",
    "    \n",
    "    # calcula puntos con intervalos de 1 mes a partir de los datos de fecha y hora\n",
    "    ep <- endpoints(dat.xts,'months') \n",
    "    \n",
    "    # calcula las medias para los periodos especificados (meses)\n",
    "    md <- period.apply(dat.xts,ep,mean) \n",
    "\n",
    "    serie_df <- data.frame(date=index(md), value=coredata(md))\n",
    "    \n",
    "    # imprime el gráfico usando en main el nombre de la variable (columna)\n",
    "    yl <- list(title = colnames(datos)[i])\n",
    "    p <- plot_ly(serie_df, x= ~date, y= ~value, mode='lines', type=\"scatter\") %>% layout(yaxis = yl)\n",
    "    print(p)\n",
    "}\n"
   ]
  }
 ],
 "metadata": {
  "kernelspec": {
   "display_name": "R",
   "language": "R",
   "name": "ir"
  },
  "language_info": {
   "codemirror_mode": "r",
   "file_extension": ".r",
   "mimetype": "text/x-r-source",
   "name": "R",
   "pygments_lexer": "r",
   "version": "3.3.2"
  }
 },
 "nbformat": 4,
 "nbformat_minor": 2
}
