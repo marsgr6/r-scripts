{
 "cells": [
  {
   "cell_type": "code",
   "execution_count": 1,
   "metadata": {},
   "outputs": [
    {
     "data": {
      "text/html": [
       "<ol class=list-inline>\n",
       "\t<li>'Canberra'</li>\n",
       "\t<li>'London'</li>\n",
       "\t<li>'New York'</li>\n",
       "\t<li>'Toronto'</li>\n",
       "</ol>\n"
      ],
      "text/latex": [
       "\\begin{enumerate*}\n",
       "\\item 'Canberra'\n",
       "\\item 'London'\n",
       "\\item 'New York'\n",
       "\\item 'Toronto'\n",
       "\\end{enumerate*}\n"
      ],
      "text/markdown": [
       "1. 'Canberra'\n",
       "2. 'London'\n",
       "3. 'New York'\n",
       "4. 'Toronto'\n",
       "\n",
       "\n"
      ],
      "text/plain": [
       "[1] \"Canberra\" \"London\"   \"New York\" \"Toronto\" "
      ]
     },
     "metadata": {},
     "output_type": "display_data"
    },
    {
     "data": {
      "text/html": [
       "7"
      ],
      "text/latex": [
       "7"
      ],
      "text/markdown": [
       "7"
      ],
      "text/plain": [
       "[1] 7"
      ]
     },
     "metadata": {},
     "output_type": "display_data"
    },
    {
     "data": {
      "text/html": [
       "<ol class=list-inline>\n",
       "\t<li>7</li>\n",
       "\t<li>8</li>\n",
       "\t<li>8</li>\n",
       "\t<li>6</li>\n",
       "</ol>\n"
      ],
      "text/latex": [
       "\\begin{enumerate*}\n",
       "\\item 7\n",
       "\\item 8\n",
       "\\item 8\n",
       "\\item 6\n",
       "\\end{enumerate*}\n"
      ],
      "text/markdown": [
       "1. 7\n",
       "2. 8\n",
       "3. 8\n",
       "4. 6\n",
       "\n",
       "\n"
      ],
      "text/plain": [
       "[1] 7 8 8 6"
      ]
     },
     "metadata": {},
     "output_type": "display_data"
    }
   ],
   "source": [
    "# Some string manipulation\n",
    "fourcities <- c(\"Toronto\", \"Canberra\", \"New York\", \"London\")\n",
    "# display in alphabetical order\n",
    "sort(fourcities)\n",
    "# Find the number of characters in \"Toronto\"\n",
    "nchar(\"Toronto\")\n",
    "# Find the number of characters in all four cities\n",
    "nchar(fourcities)"
   ]
  },
  {
   "cell_type": "code",
   "execution_count": 2,
   "metadata": {},
   "outputs": [
    {
     "data": {
      "text/html": [
       "<ol class=list-inline>\n",
       "\t<li>7</li>\n",
       "\t<li>8</li>\n",
       "\t<li>8</li>\n",
       "\t<li>6</li>\n",
       "</ol>\n"
      ],
      "text/latex": [
       "\\begin{enumerate*}\n",
       "\\item 7\n",
       "\\item 8\n",
       "\\item 8\n",
       "\\item 6\n",
       "\\end{enumerate*}\n"
      ],
      "text/markdown": [
       "1. 7\n",
       "2. 8\n",
       "3. 8\n",
       "4. 6\n",
       "\n",
       "\n"
      ],
      "text/plain": [
       "[1] 7 8 8 6"
      ]
     },
     "metadata": {},
     "output_type": "display_data"
    },
    {
     "data": {
      "text/html": [
       "<ol class=list-inline>\n",
       "\t<li>'c'</li>\n",
       "\t<li>'i'</li>\n",
       "</ol>\n"
      ],
      "text/latex": [
       "\\begin{enumerate*}\n",
       "\\item 'c'\n",
       "\\item 'i'\n",
       "\\end{enumerate*}\n"
      ],
      "text/markdown": [
       "1. 'c'\n",
       "2. 'i'\n",
       "\n",
       "\n"
      ],
      "text/plain": [
       "[1] \"c\" \"i\""
      ]
     },
     "metadata": {},
     "output_type": "display_data"
    },
    {
     "data": {
      "text/html": [
       "<ol class=list-inline>\n",
       "\t<li>'bcde'</li>\n",
       "\t<li>'hifj'</li>\n",
       "</ol>\n"
      ],
      "text/latex": [
       "\\begin{enumerate*}\n",
       "\\item 'bcde'\n",
       "\\item 'hifj'\n",
       "\\end{enumerate*}\n"
      ],
      "text/markdown": [
       "1. 'bcde'\n",
       "2. 'hifj'\n",
       "\n",
       "\n"
      ],
      "text/plain": [
       "[1] \"bcde\" \"hifj\""
      ]
     },
     "metadata": {},
     "output_type": "display_data"
    },
    {
     "data": {
      "text/html": [
       "<ol class=list-inline>\n",
       "\t<li>'abXdef'</li>\n",
       "\t<li>'ghXfjk'</li>\n",
       "</ol>\n"
      ],
      "text/latex": [
       "\\begin{enumerate*}\n",
       "\\item 'abXdef'\n",
       "\\item 'ghXfjk'\n",
       "\\end{enumerate*}\n"
      ],
      "text/markdown": [
       "1. 'abXdef'\n",
       "2. 'ghXfjk'\n",
       "\n",
       "\n"
      ],
      "text/plain": [
       "[1] \"abXdef\" \"ghXfjk\""
      ]
     },
     "metadata": {},
     "output_type": "display_data"
    },
    {
     "data": {
      "text/html": [
       "<ol class=list-inline>\n",
       "\t<li>'abXdefabXdef'</li>\n",
       "\t<li>'ghXfjkghXfjkghXfjk'</li>\n",
       "</ol>\n"
      ],
      "text/latex": [
       "\\begin{enumerate*}\n",
       "\\item 'abXdefabXdef'\n",
       "\\item 'ghXfjkghXfjkghXfjk'\n",
       "\\end{enumerate*}\n"
      ],
      "text/markdown": [
       "1. 'abXdefabXdef'\n",
       "2. 'ghXfjkghXfjkghXfjk'\n",
       "\n",
       "\n"
      ],
      "text/plain": [
       "[1] \"abXdefabXdef\"       \"ghXfjkghXfjkghXfjk\""
      ]
     },
     "metadata": {},
     "output_type": "display_data"
    }
   ],
   "source": [
    "# The example belows installs the stringr package\n",
    "# See: https://cran.r-project.org/web/packages/stringr/vignettes/stringr.html\n",
    "# which is probably in your installation of R by default\n",
    "# install.packages(\"stringr\", repos='http://cran.us.r-project.org')\n",
    "\n",
    "# The packages are loades with library(), see also require()\n",
    "library(\"stringr\")\n",
    "str_length(fourcities) # Get length of strings\n",
    "\n",
    "x <- c(\"abcdef\", \"ghifjk\")\n",
    "str_sub(x, 3, 3) # Get the 3rd letter\n",
    "\n",
    "# The 2nd to 2nd-to-last character\n",
    "str_sub(x, 2, -2)\n",
    "\n",
    "# str_sub also modifies strings, note the insertion of \"X\"\n",
    "str_sub(x, 3, 3) <- \"X\"\n",
    "x\n",
    "\n",
    "# To duplicate individual strings, you can use str_dup():\n",
    "\n",
    "str_dup(x, c(2, 3)) # interpret the result of this command"
   ]
  },
  {
   "cell_type": "code",
   "execution_count": 3,
   "metadata": {},
   "outputs": [
    {
     "data": {
      "text/html": [
       "<ol class=list-inline>\n",
       "\t<li><span style=white-space:pre-wrap>'       abc'</span></li>\n",
       "\t<li><span style=white-space:pre-wrap>'    defghi'</span></li>\n",
       "</ol>\n"
      ],
      "text/latex": [
       "\\begin{enumerate*}\n",
       "\\item '       abc'\n",
       "\\item '    defghi'\n",
       "\\end{enumerate*}\n"
      ],
      "text/markdown": [
       "1. <span style=white-space:pre-wrap>'       abc'</span>\n",
       "2. <span style=white-space:pre-wrap>'    defghi'</span>\n",
       "\n",
       "\n"
      ],
      "text/plain": [
       "[1] \"       abc\" \"    defghi\""
      ]
     },
     "metadata": {},
     "output_type": "display_data"
    },
    {
     "data": {
      "text/html": [
       "<ol class=list-inline>\n",
       "\t<li><span style=white-space:pre-wrap>'   abc    '</span></li>\n",
       "\t<li><span style=white-space:pre-wrap>'  defghi  '</span></li>\n",
       "</ol>\n"
      ],
      "text/latex": [
       "\\begin{enumerate*}\n",
       "\\item '   abc    '\n",
       "\\item '  defghi  '\n",
       "\\end{enumerate*}\n"
      ],
      "text/markdown": [
       "1. <span style=white-space:pre-wrap>'   abc    '</span>\n",
       "2. <span style=white-space:pre-wrap>'  defghi  '</span>\n",
       "\n",
       "\n"
      ],
      "text/plain": [
       "[1] \"   abc    \" \"  defghi  \""
      ]
     },
     "metadata": {},
     "output_type": "display_data"
    },
    {
     "data": {
      "text/html": [
       "<ol class=list-inline>\n",
       "\t<li>'abc0000000'</li>\n",
       "\t<li>'defghi0000'</li>\n",
       "</ol>\n"
      ],
      "text/latex": [
       "\\begin{enumerate*}\n",
       "\\item 'abc0000000'\n",
       "\\item 'defghi0000'\n",
       "\\end{enumerate*}\n"
      ],
      "text/markdown": [
       "1. 'abc0000000'\n",
       "2. 'defghi0000'\n",
       "\n",
       "\n"
      ],
      "text/plain": [
       "[1] \"abc0000000\" \"defghi0000\""
      ]
     },
     "metadata": {},
     "output_type": "display_data"
    },
    {
     "data": {
      "text/html": [
       "<ol class=list-inline>\n",
       "\t<li><span style=white-space:pre-wrap>'Short     '</span></li>\n",
       "\t<li>'This is...'</li>\n",
       "</ol>\n"
      ],
      "text/latex": [
       "\\begin{enumerate*}\n",
       "\\item 'Short     '\n",
       "\\item 'This is...'\n",
       "\\end{enumerate*}\n"
      ],
      "text/markdown": [
       "1. <span style=white-space:pre-wrap>'Short     '</span>\n",
       "2. 'This is...'\n",
       "\n",
       "\n"
      ],
      "text/plain": [
       "[1] \"Short     \" \"This is...\""
      ]
     },
     "metadata": {},
     "output_type": "display_data"
    }
   ],
   "source": [
    "# More on strings\n",
    "\n",
    "# str_pad() pads a string to a fixed length by adding \n",
    "# extra whitespace on the left, right, or both sides.\n",
    "# str_pad(string, width, side = c(\"left\", \"right\", \"both\"), pad = \" \")\n",
    "\n",
    "x <- c(\"abc\", \"defghi\")\n",
    "str_pad(x, 10)\n",
    "str_pad(x, 10, \"both\")\n",
    "str_pad(x, 10, \"right\", pad=\"0\") # You can pad with other characters\n",
    "\n",
    "x <- c(\"Short\", \"This is a long string\")\n",
    "\n",
    "x %>% \n",
    "  str_trunc(10) %>% \n",
    "  str_pad(10, \"right\")\n",
    "\n",
    "# The pipe operator, %>%, is used to insert an argument into a function.\n",
    "# It is not a base feature of the language and can only be used \n",
    "# after attaching a package that provides it\n",
    "# Try to get the same result doing a step by step usage of the functions.\n",
    "# Display the function help with\n",
    "# ?str_trunc\n",
    "# type the q letter to quit the help\n",
    "# What about that ellipsis (three dots)?"
   ]
  },
  {
   "cell_type": "code",
   "execution_count": 4,
   "metadata": {},
   "outputs": [
    {
     "data": {
      "text/html": [
       "<ol class=list-inline>\n",
       "\t<li>'a'</li>\n",
       "\t<li>'b'</li>\n",
       "\t<li>'c'</li>\n",
       "</ol>\n"
      ],
      "text/latex": [
       "\\begin{enumerate*}\n",
       "\\item 'a'\n",
       "\\item 'b'\n",
       "\\item 'c'\n",
       "\\end{enumerate*}\n"
      ],
      "text/markdown": [
       "1. 'a'\n",
       "2. 'b'\n",
       "3. 'c'\n",
       "\n",
       "\n"
      ],
      "text/plain": [
       "[1] \"a\" \"b\" \"c\""
      ]
     },
     "metadata": {},
     "output_type": "display_data"
    },
    {
     "data": {
      "text/html": [
       "<ol class=list-inline>\n",
       "\t<li><span style=white-space:pre-wrap>'a   '</span></li>\n",
       "\t<li><span style=white-space:pre-wrap>'b   '</span></li>\n",
       "\t<li>'c'</li>\n",
       "</ol>\n"
      ],
      "text/latex": [
       "\\begin{enumerate*}\n",
       "\\item 'a   '\n",
       "\\item 'b   '\n",
       "\\item 'c'\n",
       "\\end{enumerate*}\n"
      ],
      "text/markdown": [
       "1. <span style=white-space:pre-wrap>'a   '</span>\n",
       "2. <span style=white-space:pre-wrap>'b   '</span>\n",
       "3. 'c'\n",
       "\n",
       "\n"
      ],
      "text/plain": [
       "[1] \"a   \" \"b   \" \"c\"   "
      ]
     },
     "metadata": {},
     "output_type": "display_data"
    },
    {
     "name": "stdout",
     "output_type": "stream",
     "text": [
      "`Twas brillig, and\n",
      "the slithy toves did\n",
      "gyre and gimble in\n",
      "the wabe: All mimsy\n",
      "were the borogoves,\n",
      "and the mome raths\n",
      "outgrabe."
     ]
    },
    {
     "data": {
      "text/html": [
       "'I LIKE HORSES.'"
      ],
      "text/latex": [
       "'I LIKE HORSES.'"
      ],
      "text/markdown": [
       "'I LIKE HORSES.'"
      ],
      "text/plain": [
       "[1] \"I LIKE HORSES.\""
      ]
     },
     "metadata": {},
     "output_type": "display_data"
    },
    {
     "data": {
      "text/html": [
       "'I Like Horses.'"
      ],
      "text/latex": [
       "'I Like Horses.'"
      ],
      "text/markdown": [
       "'I Like Horses.'"
      ],
      "text/plain": [
       "[1] \"I Like Horses.\""
      ]
     },
     "metadata": {},
     "output_type": "display_data"
    },
    {
     "data": {
      "text/html": [
       "'i like horses.'"
      ],
      "text/latex": [
       "'i like horses.'"
      ],
      "text/markdown": [
       "'i like horses.'"
      ],
      "text/plain": [
       "[1] \"i like horses.\""
      ]
     },
     "metadata": {},
     "output_type": "display_data"
    },
    {
     "data": {
      "text/html": [
       "'ı like horses.'"
      ],
      "text/latex": [
       "'ı like horses.'"
      ],
      "text/markdown": [
       "'ı like horses.'"
      ],
      "text/plain": [
       "[1] \"ı like horses.\""
      ]
     },
     "metadata": {},
     "output_type": "display_data"
    },
    {
     "data": {
      "text/html": [
       "<ol class=list-inline>\n",
       "\t<li>2</li>\n",
       "\t<li>3</li>\n",
       "\t<li>1</li>\n",
       "</ol>\n"
      ],
      "text/latex": [
       "\\begin{enumerate*}\n",
       "\\item 2\n",
       "\\item 3\n",
       "\\item 1\n",
       "\\end{enumerate*}\n"
      ],
      "text/markdown": [
       "1. 2\n",
       "2. 3\n",
       "3. 1\n",
       "\n",
       "\n"
      ],
      "text/plain": [
       "[1] 2 3 1"
      ]
     },
     "metadata": {},
     "output_type": "display_data"
    },
    {
     "data": {
      "text/html": [
       "<ol class=list-inline>\n",
       "\t<li>'i'</li>\n",
       "\t<li>'k'</li>\n",
       "\t<li>'y'</li>\n",
       "</ol>\n"
      ],
      "text/latex": [
       "\\begin{enumerate*}\n",
       "\\item 'i'\n",
       "\\item 'k'\n",
       "\\item 'y'\n",
       "\\end{enumerate*}\n"
      ],
      "text/markdown": [
       "1. 'i'\n",
       "2. 'k'\n",
       "3. 'y'\n",
       "\n",
       "\n"
      ],
      "text/plain": [
       "[1] \"i\" \"k\" \"y\""
      ]
     },
     "metadata": {},
     "output_type": "display_data"
    },
    {
     "data": {
      "text/html": [
       "<ol class=list-inline>\n",
       "\t<li>'i'</li>\n",
       "\t<li>'y'</li>\n",
       "\t<li>'k'</li>\n",
       "</ol>\n"
      ],
      "text/latex": [
       "\\begin{enumerate*}\n",
       "\\item 'i'\n",
       "\\item 'y'\n",
       "\\item 'k'\n",
       "\\end{enumerate*}\n"
      ],
      "text/markdown": [
       "1. 'i'\n",
       "2. 'y'\n",
       "3. 'k'\n",
       "\n",
       "\n"
      ],
      "text/plain": [
       "[1] \"i\" \"y\" \"k\""
      ]
     },
     "metadata": {},
     "output_type": "display_data"
    }
   ],
   "source": [
    "# More on strings\n",
    "\n",
    "# str_trim() removes leading and trailing whitespaces\n",
    "\n",
    "x <- c(\"  a   \", \"b   \",  \"   c\")\n",
    "str_trim(x)\n",
    "str_trim(x, \"left\")\n",
    "\n",
    "# Use str_wrap() to modify existing whitespace in order \n",
    "# to wrap a paragraph of text so that the length of \n",
    "# each line as a similar as possible.\n",
    "\n",
    "jabberwocky <- str_c(\n",
    "  \"`Twas brillig, and the slithy toves \",\n",
    "  \"did gyre and gimble in the wabe: \",\n",
    "  \"All mimsy were the borogoves, \",\n",
    "  \"and the mome raths outgrabe. \"\n",
    ")\n",
    "cat(str_wrap(jabberwocky, width = 20)) \n",
    "\n",
    "# Some str functions are local sensitive (locale = language code)\n",
    "# You can see a complete list of available locales by running \n",
    "# stringi::stri_locale_list().\n",
    "\n",
    "x <- \"I like horses.\"\n",
    "str_to_upper(x)\n",
    "str_to_title(x)\n",
    "str_to_lower(x)\n",
    "\n",
    "# Turkish has two sorts of i: with and without the dot\n",
    "str_to_lower(x, \"tr\")\n",
    "\n",
    "# And string ordering and sorting:\n",
    "x <- c(\"y\", \"i\", \"k\")\n",
    "str_order(x)\n",
    "\n",
    "str_sort(x)\n",
    "# In Lithuanian, y comes between i and k\n",
    "str_sort(x, locale = \"lt\")"
   ]
  },
  {
   "cell_type": "code",
   "execution_count": 5,
   "metadata": {},
   "outputs": [
    {
     "data": {
      "text/html": [
       "<ol class=list-inline>\n",
       "\t<li>FALSE</li>\n",
       "\t<li>TRUE</li>\n",
       "\t<li>TRUE</li>\n",
       "\t<li>TRUE</li>\n",
       "</ol>\n"
      ],
      "text/latex": [
       "\\begin{enumerate*}\n",
       "\\item FALSE\n",
       "\\item TRUE\n",
       "\\item TRUE\n",
       "\\item TRUE\n",
       "\\end{enumerate*}\n"
      ],
      "text/markdown": [
       "1. FALSE\n",
       "2. TRUE\n",
       "3. TRUE\n",
       "4. TRUE\n",
       "\n",
       "\n"
      ],
      "text/plain": [
       "[1] FALSE  TRUE  TRUE  TRUE"
      ]
     },
     "metadata": {},
     "output_type": "display_data"
    },
    {
     "data": {
      "text/html": [
       "<ol class=list-inline>\n",
       "\t<li>'219 733 8965'</li>\n",
       "\t<li>'329-293-8753'</li>\n",
       "\t<li>'Work: 579-499-7527; Home: 543.355.3679'</li>\n",
       "</ol>\n"
      ],
      "text/latex": [
       "\\begin{enumerate*}\n",
       "\\item '219 733 8965'\n",
       "\\item '329-293-8753'\n",
       "\\item 'Work: 579-499-7527; Home: 543.355.3679'\n",
       "\\end{enumerate*}\n"
      ],
      "text/markdown": [
       "1. '219 733 8965'\n",
       "2. '329-293-8753'\n",
       "3. 'Work: 579-499-7527; Home: 543.355.3679'\n",
       "\n",
       "\n"
      ],
      "text/plain": [
       "[1] \"219 733 8965\"                          \n",
       "[2] \"329-293-8753\"                          \n",
       "[3] \"Work: 579-499-7527; Home: 543.355.3679\""
      ]
     },
     "metadata": {},
     "output_type": "display_data"
    },
    {
     "data": {
      "text/html": [
       "<ol class=list-inline>\n",
       "\t<li>0</li>\n",
       "\t<li>1</li>\n",
       "\t<li>1</li>\n",
       "\t<li>2</li>\n",
       "</ol>\n"
      ],
      "text/latex": [
       "\\begin{enumerate*}\n",
       "\\item 0\n",
       "\\item 1\n",
       "\\item 1\n",
       "\\item 2\n",
       "\\end{enumerate*}\n"
      ],
      "text/markdown": [
       "1. 0\n",
       "2. 1\n",
       "3. 1\n",
       "4. 2\n",
       "\n",
       "\n"
      ],
      "text/plain": [
       "[1] 0 1 1 2"
      ]
     },
     "metadata": {},
     "output_type": "display_data"
    },
    {
     "data": {
      "text/html": [
       "<table>\n",
       "<thead><tr><th scope=col>start</th><th scope=col>end</th></tr></thead>\n",
       "<tbody>\n",
       "\t<tr><td>NA</td><td>NA</td></tr>\n",
       "\t<tr><td> 1</td><td>12</td></tr>\n",
       "\t<tr><td> 1</td><td>12</td></tr>\n",
       "\t<tr><td> 7</td><td>18</td></tr>\n",
       "</tbody>\n",
       "</table>\n"
      ],
      "text/latex": [
       "\\begin{tabular}{ll}\n",
       " start & end\\\\\n",
       "\\hline\n",
       "\t NA & NA\\\\\n",
       "\t  1 & 12\\\\\n",
       "\t  1 & 12\\\\\n",
       "\t  7 & 18\\\\\n",
       "\\end{tabular}\n"
      ],
      "text/markdown": [
       "\n",
       "start | end | \n",
       "|---|---|---|---|\n",
       "| NA | NA | \n",
       "|  1 | 12 | \n",
       "|  1 | 12 | \n",
       "|  7 | 18 | \n",
       "\n",
       "\n"
      ],
      "text/plain": [
       "     start end\n",
       "[1,] NA    NA \n",
       "[2,]  1    12 \n",
       "[3,]  1    12 \n",
       "[4,]  7    18 "
      ]
     },
     "metadata": {},
     "output_type": "display_data"
    },
    {
     "data": {
      "text/html": [
       "<ol>\n",
       "\t<li><table>\n",
       "<thead><tr><th scope=col>start</th><th scope=col>end</th></tr></thead>\n",
       "<tbody>\n",
       "</tbody>\n",
       "</table>\n",
       "</li>\n",
       "\t<li><table>\n",
       "<thead><tr><th scope=col>start</th><th scope=col>end</th></tr></thead>\n",
       "<tbody>\n",
       "\t<tr><td>1 </td><td>12</td></tr>\n",
       "</tbody>\n",
       "</table>\n",
       "</li>\n",
       "\t<li><table>\n",
       "<thead><tr><th scope=col>start</th><th scope=col>end</th></tr></thead>\n",
       "<tbody>\n",
       "\t<tr><td>1 </td><td>12</td></tr>\n",
       "</tbody>\n",
       "</table>\n",
       "</li>\n",
       "\t<li><table>\n",
       "<thead><tr><th scope=col>start</th><th scope=col>end</th></tr></thead>\n",
       "<tbody>\n",
       "\t<tr><td> 7</td><td>18</td></tr>\n",
       "\t<tr><td>27</td><td>38</td></tr>\n",
       "</tbody>\n",
       "</table>\n",
       "</li>\n",
       "</ol>\n"
      ],
      "text/latex": [
       "\\begin{enumerate}\n",
       "\\item \\begin{tabular}{ll}\n",
       " start & end\\\\\n",
       "\\hline\n",
       "\\end{tabular}\n",
       "\n",
       "\\item \\begin{tabular}{ll}\n",
       " start & end\\\\\n",
       "\\hline\n",
       "\t 1  & 12\\\\\n",
       "\\end{tabular}\n",
       "\n",
       "\\item \\begin{tabular}{ll}\n",
       " start & end\\\\\n",
       "\\hline\n",
       "\t 1  & 12\\\\\n",
       "\\end{tabular}\n",
       "\n",
       "\\item \\begin{tabular}{ll}\n",
       " start & end\\\\\n",
       "\\hline\n",
       "\t  7 & 18\\\\\n",
       "\t 27 & 38\\\\\n",
       "\\end{tabular}\n",
       "\n",
       "\\end{enumerate}\n"
      ],
      "text/markdown": [
       "1. \n",
       "start | end | \n",
       "||\n",
       "\n",
       "\n",
       "\n",
       "2. \n",
       "start | end | \n",
       "|---|\n",
       "| 1  | 12 | \n",
       "\n",
       "\n",
       "\n",
       "3. \n",
       "start | end | \n",
       "|---|\n",
       "| 1  | 12 | \n",
       "\n",
       "\n",
       "\n",
       "4. \n",
       "start | end | \n",
       "|---|---|\n",
       "|  7 | 18 | \n",
       "| 27 | 38 | \n",
       "\n",
       "\n",
       "\n",
       "\n",
       "\n"
      ],
      "text/plain": [
       "[[1]]\n",
       "     start end\n",
       "\n",
       "[[2]]\n",
       "     start end\n",
       "[1,]     1  12\n",
       "\n",
       "[[3]]\n",
       "     start end\n",
       "[1,]     1  12\n",
       "\n",
       "[[4]]\n",
       "     start end\n",
       "[1,]     7  18\n",
       "[2,]    27  38\n"
      ]
     },
     "metadata": {},
     "output_type": "display_data"
    }
   ],
   "source": [
    "# Pattern matching\n",
    "\n",
    "strings <- c(\n",
    "  \"apple\", \n",
    "  \"219 733 8965\", \n",
    "  \"329-293-8753\", \n",
    "  \"Work: 579-499-7527; Home: 543.355.3679\"\n",
    ")\n",
    "phone <- \"([2-9][0-9]{2})[- .]([0-9]{3})[- .]([0-9]{4})\"\n",
    "\n",
    "# Which strings contain phone numbers?\n",
    "str_detect(strings, phone) # Returns a logical vector\n",
    "str_subset(strings, phone) # Returns the matching elements\n",
    "str_count(strings, phone) # How many phones  in each string\n",
    "str_locate(strings, phone) # Position of first occurence of the pattern\n",
    "str_locate_all(strings, phone) # All occurrences of the pattern"
   ]
  },
  {
   "cell_type": "code",
   "execution_count": 6,
   "metadata": {},
   "outputs": [
    {
     "data": {
      "text/html": [
       "<table>\n",
       "<tbody>\n",
       "\t<tr><td>NA          </td><td>NA          </td><td>NA          </td><td>NA          </td></tr>\n",
       "\t<tr><td>219 733 8965</td><td>219         </td><td>733         </td><td>8965        </td></tr>\n",
       "\t<tr><td>329-293-8753</td><td>329         </td><td>293         </td><td>8753        </td></tr>\n",
       "\t<tr><td>579-499-7527</td><td>579         </td><td>499         </td><td>7527        </td></tr>\n",
       "</tbody>\n",
       "</table>\n"
      ],
      "text/latex": [
       "\\begin{tabular}{llll}\n",
       "\t NA           & NA           & NA           & NA          \\\\\n",
       "\t 219 733 8965 & 219          & 733          & 8965        \\\\\n",
       "\t 329-293-8753 & 329          & 293          & 8753        \\\\\n",
       "\t 579-499-7527 & 579          & 499          & 7527        \\\\\n",
       "\\end{tabular}\n"
      ],
      "text/markdown": [
       "\n",
       "| NA           | NA           | NA           | NA           | \n",
       "| 219 733 8965 | 219          | 733          | 8965         | \n",
       "| 329-293-8753 | 329          | 293          | 8753         | \n",
       "| 579-499-7527 | 579          | 499          | 7527         | \n",
       "\n",
       "\n"
      ],
      "text/plain": [
       "     [,1]         [,2] [,3] [,4]\n",
       "[1,] NA           NA   NA   NA  \n",
       "[2,] 219 733 8965 219  733  8965\n",
       "[3,] 329-293-8753 329  293  8753\n",
       "[4,] 579-499-7527 579  499  7527"
      ]
     },
     "metadata": {},
     "output_type": "display_data"
    },
    {
     "data": {
      "text/html": [
       "<ol>\n",
       "\t<li></li>\n",
       "\t<li><table>\n",
       "<tbody>\n",
       "\t<tr><td>219 733 8965</td><td>219         </td><td>733         </td><td>8965        </td></tr>\n",
       "</tbody>\n",
       "</table>\n",
       "</li>\n",
       "\t<li><table>\n",
       "<tbody>\n",
       "\t<tr><td>329-293-8753</td><td>329         </td><td>293         </td><td>8753        </td></tr>\n",
       "</tbody>\n",
       "</table>\n",
       "</li>\n",
       "\t<li><table>\n",
       "<tbody>\n",
       "\t<tr><td>579-499-7527</td><td>579         </td><td>499         </td><td>7527        </td></tr>\n",
       "\t<tr><td>543.355.3679</td><td>543         </td><td>355         </td><td>3679        </td></tr>\n",
       "</tbody>\n",
       "</table>\n",
       "</li>\n",
       "</ol>\n"
      ],
      "text/latex": [
       "\\begin{enumerate}\n",
       "\\item \n",
       "\\item \\begin{tabular}{llll}\n",
       "\t 219 733 8965 & 219          & 733          & 8965        \\\\\n",
       "\\end{tabular}\n",
       "\n",
       "\\item \\begin{tabular}{llll}\n",
       "\t 329-293-8753 & 329          & 293          & 8753        \\\\\n",
       "\\end{tabular}\n",
       "\n",
       "\\item \\begin{tabular}{llll}\n",
       "\t 579-499-7527 & 579          & 499          & 7527        \\\\\n",
       "\t 543.355.3679 & 543          & 355          & 3679        \\\\\n",
       "\\end{tabular}\n",
       "\n",
       "\\end{enumerate}\n"
      ],
      "text/markdown": [
       "1. \n",
       "2. \n",
       "| 219 733 8965 | 219          | 733          | 8965         | \n",
       "\n",
       "\n",
       "\n",
       "3. \n",
       "| 329-293-8753 | 329          | 293          | 8753         | \n",
       "\n",
       "\n",
       "\n",
       "4. \n",
       "| 579-499-7527 | 579          | 499          | 7527         | \n",
       "| 543.355.3679 | 543          | 355          | 3679         | \n",
       "\n",
       "\n",
       "\n",
       "\n",
       "\n"
      ],
      "text/plain": [
       "[[1]]\n",
       "     [,1] [,2] [,3] [,4]\n",
       "\n",
       "[[2]]\n",
       "     [,1]           [,2]  [,3]  [,4]  \n",
       "[1,] \"219 733 8965\" \"219\" \"733\" \"8965\"\n",
       "\n",
       "[[3]]\n",
       "     [,1]           [,2]  [,3]  [,4]  \n",
       "[1,] \"329-293-8753\" \"329\" \"293\" \"8753\"\n",
       "\n",
       "[[4]]\n",
       "     [,1]           [,2]  [,3]  [,4]  \n",
       "[1,] \"579-499-7527\" \"579\" \"499\" \"7527\"\n",
       "[2,] \"543.355.3679\" \"543\" \"355\" \"3679\"\n"
      ]
     },
     "metadata": {},
     "output_type": "display_data"
    },
    {
     "data": {
      "text/html": [
       "<ol class=list-inline>\n",
       "\t<li>'apple'</li>\n",
       "\t<li>'XXX-XXX-XXXX'</li>\n",
       "\t<li>'XXX-XXX-XXXX'</li>\n",
       "\t<li>'Work: XXX-XXX-XXXX; Home: 543.355.3679'</li>\n",
       "</ol>\n"
      ],
      "text/latex": [
       "\\begin{enumerate*}\n",
       "\\item 'apple'\n",
       "\\item 'XXX-XXX-XXXX'\n",
       "\\item 'XXX-XXX-XXXX'\n",
       "\\item 'Work: XXX-XXX-XXXX; Home: 543.355.3679'\n",
       "\\end{enumerate*}\n"
      ],
      "text/markdown": [
       "1. 'apple'\n",
       "2. 'XXX-XXX-XXXX'\n",
       "3. 'XXX-XXX-XXXX'\n",
       "4. 'Work: XXX-XXX-XXXX; Home: 543.355.3679'\n",
       "\n",
       "\n"
      ],
      "text/plain": [
       "[1] \"apple\"                                 \n",
       "[2] \"XXX-XXX-XXXX\"                          \n",
       "[3] \"XXX-XXX-XXXX\"                          \n",
       "[4] \"Work: XXX-XXX-XXXX; Home: 543.355.3679\""
      ]
     },
     "metadata": {},
     "output_type": "display_data"
    },
    {
     "data": {
      "text/html": [
       "<ol class=list-inline>\n",
       "\t<li>'apple'</li>\n",
       "\t<li>'XXX-XXX-XXXX'</li>\n",
       "\t<li>'XXX-XXX-XXXX'</li>\n",
       "\t<li>'Work: XXX-XXX-XXXX; Home: XXX-XXX-XXXX'</li>\n",
       "</ol>\n"
      ],
      "text/latex": [
       "\\begin{enumerate*}\n",
       "\\item 'apple'\n",
       "\\item 'XXX-XXX-XXXX'\n",
       "\\item 'XXX-XXX-XXXX'\n",
       "\\item 'Work: XXX-XXX-XXXX; Home: XXX-XXX-XXXX'\n",
       "\\end{enumerate*}\n"
      ],
      "text/markdown": [
       "1. 'apple'\n",
       "2. 'XXX-XXX-XXXX'\n",
       "3. 'XXX-XXX-XXXX'\n",
       "4. 'Work: XXX-XXX-XXXX; Home: XXX-XXX-XXXX'\n",
       "\n",
       "\n"
      ],
      "text/plain": [
       "[1] \"apple\"                                 \n",
       "[2] \"XXX-XXX-XXXX\"                          \n",
       "[3] \"XXX-XXX-XXXX\"                          \n",
       "[4] \"Work: XXX-XXX-XXXX; Home: XXX-XXX-XXXX\""
      ]
     },
     "metadata": {},
     "output_type": "display_data"
    },
    {
     "data": {
      "text/html": [
       "<ol>\n",
       "\t<li><ol class=list-inline>\n",
       "\t<li>'a'</li>\n",
       "\t<li>'b'</li>\n",
       "\t<li>'c'</li>\n",
       "</ol>\n",
       "</li>\n",
       "</ol>\n"
      ],
      "text/latex": [
       "\\begin{enumerate}\n",
       "\\item \\begin{enumerate*}\n",
       "\\item 'a'\n",
       "\\item 'b'\n",
       "\\item 'c'\n",
       "\\end{enumerate*}\n",
       "\n",
       "\\end{enumerate}\n"
      ],
      "text/markdown": [
       "1. 1. 'a'\n",
       "2. 'b'\n",
       "3. 'c'\n",
       "\n",
       "\n",
       "\n",
       "\n",
       "\n"
      ],
      "text/plain": [
       "[[1]]\n",
       "[1] \"a\" \"b\" \"c\"\n"
      ]
     },
     "metadata": {},
     "output_type": "display_data"
    },
    {
     "data": {
      "text/html": [
       "<table>\n",
       "<tbody>\n",
       "\t<tr><td>a  </td><td>b-c</td></tr>\n",
       "</tbody>\n",
       "</table>\n"
      ],
      "text/latex": [
       "\\begin{tabular}{ll}\n",
       "\t a   & b-c\\\\\n",
       "\\end{tabular}\n"
      ],
      "text/markdown": [
       "\n",
       "| a   | b-c | \n",
       "\n",
       "\n"
      ],
      "text/plain": [
       "     [,1] [,2]\n",
       "[1,] a    b-c "
      ]
     },
     "metadata": {},
     "output_type": "display_data"
    }
   ],
   "source": [
    "# More on Pattern matching\n",
    "# Try to figure what the functions are doing\n",
    "# You can always ask for help with ?function\n",
    "\n",
    "str_match(strings, phone)\n",
    "str_match_all(strings, phone)\n",
    "str_replace(strings, phone, \"XXX-XXX-XXXX\")\n",
    "str_replace_all(strings, phone, \"XXX-XXX-XXXX\")\n",
    "str_split(\"a-b-c\", \"-\")\n",
    "str_split_fixed(\"a-b-c\", \"-\", n = 2)"
   ]
  },
  {
   "cell_type": "code",
   "execution_count": 7,
   "metadata": {},
   "outputs": [
    {
     "data": {
      "text/html": [
       "<ol class=list-inline>\n",
       "\t<li>'á'</li>\n",
       "\t<li>'á'</li>\n",
       "</ol>\n"
      ],
      "text/latex": [
       "\\begin{enumerate*}\n",
       "\\item 'á'\n",
       "\\item 'á'\n",
       "\\end{enumerate*}\n"
      ],
      "text/markdown": [
       "1. 'á'\n",
       "2. 'á'\n",
       "\n",
       "\n"
      ],
      "text/plain": [
       "[1] \"á\" \"á\""
      ]
     },
     "metadata": {},
     "output_type": "display_data"
    },
    {
     "data": {
      "text/html": [
       "FALSE"
      ],
      "text/latex": [
       "FALSE"
      ],
      "text/markdown": [
       "FALSE"
      ],
      "text/plain": [
       "[1] FALSE"
      ]
     },
     "metadata": {},
     "output_type": "display_data"
    },
    {
     "data": {
      "text/html": [
       "FALSE"
      ],
      "text/latex": [
       "FALSE"
      ],
      "text/markdown": [
       "FALSE"
      ],
      "text/plain": [
       "[1] FALSE"
      ]
     },
     "metadata": {},
     "output_type": "display_data"
    },
    {
     "data": {
      "text/html": [
       "TRUE"
      ],
      "text/latex": [
       "TRUE"
      ],
      "text/markdown": [
       "TRUE"
      ],
      "text/plain": [
       "[1] TRUE"
      ]
     },
     "metadata": {},
     "output_type": "display_data"
    },
    {
     "data": {
      "text/html": [
       "'i'"
      ],
      "text/latex": [
       "'i'"
      ],
      "text/markdown": [
       "'i'"
      ],
      "text/plain": [
       "[1] \"i\""
      ]
     },
     "metadata": {},
     "output_type": "display_data"
    },
    {
     "data": {
      "text/html": [
       "<ol class=list-inline>\n",
       "\t<li>'I'</li>\n",
       "\t<li>'i'</li>\n",
       "</ol>\n"
      ],
      "text/latex": [
       "\\begin{enumerate*}\n",
       "\\item 'I'\n",
       "\\item 'i'\n",
       "\\end{enumerate*}\n"
      ],
      "text/markdown": [
       "1. 'I'\n",
       "2. 'i'\n",
       "\n",
       "\n"
      ],
      "text/plain": [
       "[1] \"I\" \"i\""
      ]
     },
     "metadata": {},
     "output_type": "display_data"
    },
    {
     "data": {
      "text/html": [
       "<ol class=list-inline>\n",
       "\t<li>'İ'</li>\n",
       "\t<li>'i'</li>\n",
       "</ol>\n"
      ],
      "text/latex": [
       "\\begin{enumerate*}\n",
       "\\item 'İ'\n",
       "\\item 'i'\n",
       "\\end{enumerate*}\n"
      ],
      "text/markdown": [
       "1. 'İ'\n",
       "2. 'i'\n",
       "\n",
       "\n"
      ],
      "text/plain": [
       "[1] \"İ\" \"i\""
      ]
     },
     "metadata": {},
     "output_type": "display_data"
    }
   ],
   "source": [
    "# Engines to describe patterns\n",
    "# fixed vs collation rules\n",
    "\n",
    "a1 <- \"\\u00e1\" # single character\n",
    "a2 <- \"a\\u0301\" # a with accent\n",
    "c(a1, a2)\n",
    "a1 == a2 # Two different representations of á\n",
    "# fixed fails since the characters are bytewise different\n",
    "str_detect(a1, fixed(a2)) \n",
    "str_detect(a1, coll(a2)) # coll respect human comparison rules\n",
    "\n",
    "# Collation search\n",
    "i <- c(\"I\", \"İ\", \"i\", \"ı\")\n",
    "# Interpret the following result\n",
    "str_subset(i, coll(\"i\"))\n",
    "str_subset(i, coll(\"i\", ignore_case = TRUE))\n",
    "str_subset(i, coll(\"i\", ignore_case = TRUE, locale = \"tr\"))"
   ]
  },
  {
   "cell_type": "code",
   "execution_count": 8,
   "metadata": {},
   "outputs": [
    {
     "data": {
      "text/html": [
       "<ol>\n",
       "\t<li><ol class=list-inline>\n",
       "\t<li>'This'</li>\n",
       "\t<li>'is'</li>\n",
       "\t<li>'a'</li>\n",
       "\t<li>'sentence'</li>\n",
       "</ol>\n",
       "</li>\n",
       "</ol>\n"
      ],
      "text/latex": [
       "\\begin{enumerate}\n",
       "\\item \\begin{enumerate*}\n",
       "\\item 'This'\n",
       "\\item 'is'\n",
       "\\item 'a'\n",
       "\\item 'sentence'\n",
       "\\end{enumerate*}\n",
       "\n",
       "\\end{enumerate}\n"
      ],
      "text/markdown": [
       "1. 1. 'This'\n",
       "2. 'is'\n",
       "3. 'a'\n",
       "4. 'sentence'\n",
       "\n",
       "\n",
       "\n",
       "\n",
       "\n"
      ],
      "text/plain": [
       "[[1]]\n",
       "[1] \"This\"     \"is\"       \"a\"        \"sentence\"\n"
      ]
     },
     "metadata": {},
     "output_type": "display_data"
    },
    {
     "data": {
      "text/html": [
       "4"
      ],
      "text/latex": [
       "4"
      ],
      "text/markdown": [
       "4"
      ],
      "text/plain": [
       "[1] 4"
      ]
     },
     "metadata": {},
     "output_type": "display_data"
    },
    {
     "data": {
      "text/html": [
       "<ol>\n",
       "\t<li><ol class=list-inline>\n",
       "\t<li>'This'</li>\n",
       "\t<li>'is'</li>\n",
       "\t<li>'a'</li>\n",
       "\t<li>'sentence'</li>\n",
       "</ol>\n",
       "</li>\n",
       "</ol>\n"
      ],
      "text/latex": [
       "\\begin{enumerate}\n",
       "\\item \\begin{enumerate*}\n",
       "\\item 'This'\n",
       "\\item 'is'\n",
       "\\item 'a'\n",
       "\\item 'sentence'\n",
       "\\end{enumerate*}\n",
       "\n",
       "\\end{enumerate}\n"
      ],
      "text/markdown": [
       "1. 1. 'This'\n",
       "2. 'is'\n",
       "3. 'a'\n",
       "4. 'sentence'\n",
       "\n",
       "\n",
       "\n",
       "\n",
       "\n"
      ],
      "text/plain": [
       "[[1]]\n",
       "[1] \"This\"     \"is\"       \"a\"        \"sentence\"\n"
      ]
     },
     "metadata": {},
     "output_type": "display_data"
    },
    {
     "data": {
      "text/html": [
       "<ol>\n",
       "\t<li><ol class=list-inline>\n",
       "\t<li>'T'</li>\n",
       "\t<li>'h'</li>\n",
       "\t<li>'i'</li>\n",
       "\t<li>'s'</li>\n",
       "\t<li>' '</li>\n",
       "\t<li>'i'</li>\n",
       "\t<li>'s'</li>\n",
       "\t<li>' '</li>\n",
       "\t<li>'a'</li>\n",
       "\t<li>' '</li>\n",
       "\t<li>'s'</li>\n",
       "\t<li>'e'</li>\n",
       "\t<li>'n'</li>\n",
       "\t<li>'t'</li>\n",
       "\t<li>'e'</li>\n",
       "\t<li>'n'</li>\n",
       "\t<li>'c'</li>\n",
       "\t<li>'e'</li>\n",
       "\t<li>'.'</li>\n",
       "</ol>\n",
       "</li>\n",
       "</ol>\n"
      ],
      "text/latex": [
       "\\begin{enumerate}\n",
       "\\item \\begin{enumerate*}\n",
       "\\item 'T'\n",
       "\\item 'h'\n",
       "\\item 'i'\n",
       "\\item 's'\n",
       "\\item ' '\n",
       "\\item 'i'\n",
       "\\item 's'\n",
       "\\item ' '\n",
       "\\item 'a'\n",
       "\\item ' '\n",
       "\\item 's'\n",
       "\\item 'e'\n",
       "\\item 'n'\n",
       "\\item 't'\n",
       "\\item 'e'\n",
       "\\item 'n'\n",
       "\\item 'c'\n",
       "\\item 'e'\n",
       "\\item '.'\n",
       "\\end{enumerate*}\n",
       "\n",
       "\\end{enumerate}\n"
      ],
      "text/markdown": [
       "1. 1. 'T'\n",
       "2. 'h'\n",
       "3. 'i'\n",
       "4. 's'\n",
       "5. ' '\n",
       "6. 'i'\n",
       "7. 's'\n",
       "8. ' '\n",
       "9. 'a'\n",
       "10. ' '\n",
       "11. 's'\n",
       "12. 'e'\n",
       "13. 'n'\n",
       "14. 't'\n",
       "15. 'e'\n",
       "16. 'n'\n",
       "17. 'c'\n",
       "18. 'e'\n",
       "19. '.'\n",
       "\n",
       "\n",
       "\n",
       "\n",
       "\n"
      ],
      "text/plain": [
       "[[1]]\n",
       " [1] \"T\" \"h\" \"i\" \"s\" \" \" \"i\" \"s\" \" \" \"a\" \" \" \"s\" \"e\" \"n\" \"t\" \"e\" \"n\" \"c\" \"e\" \".\"\n"
      ]
     },
     "metadata": {},
     "output_type": "display_data"
    },
    {
     "data": {
      "text/html": [
       "19"
      ],
      "text/latex": [
       "19"
      ],
      "text/markdown": [
       "19"
      ],
      "text/plain": [
       "[1] 19"
      ]
     },
     "metadata": {},
     "output_type": "display_data"
    },
    {
     "data": {
      "text/html": [
       "<ol>\n",
       "\t<li><ol class=list-inline>\n",
       "\t<li>'This'</li>\n",
       "\t<li>'is'</li>\n",
       "\t<li>'a'</li>\n",
       "\t<li>'sentence.'</li>\n",
       "</ol>\n",
       "</li>\n",
       "</ol>\n"
      ],
      "text/latex": [
       "\\begin{enumerate}\n",
       "\\item \\begin{enumerate*}\n",
       "\\item 'This'\n",
       "\\item 'is'\n",
       "\\item 'a'\n",
       "\\item 'sentence.'\n",
       "\\end{enumerate*}\n",
       "\n",
       "\\end{enumerate}\n"
      ],
      "text/markdown": [
       "1. 1. 'This'\n",
       "2. 'is'\n",
       "3. 'a'\n",
       "4. 'sentence.'\n",
       "\n",
       "\n",
       "\n",
       "\n",
       "\n"
      ],
      "text/plain": [
       "[[1]]\n",
       "[1] \"This\"      \"is\"        \"a\"         \"sentence.\"\n"
      ]
     },
     "metadata": {},
     "output_type": "display_data"
    },
    {
     "data": {
      "text/html": [
       "<ol>\n",
       "\t<li><ol class=list-inline>\n",
       "\t<li>'Thi'</li>\n",
       "\t<li>' i'</li>\n",
       "\t<li>' a '</li>\n",
       "\t<li>'entence.'</li>\n",
       "</ol>\n",
       "</li>\n",
       "</ol>\n"
      ],
      "text/latex": [
       "\\begin{enumerate}\n",
       "\\item \\begin{enumerate*}\n",
       "\\item 'Thi'\n",
       "\\item ' i'\n",
       "\\item ' a '\n",
       "\\item 'entence.'\n",
       "\\end{enumerate*}\n",
       "\n",
       "\\end{enumerate}\n"
      ],
      "text/markdown": [
       "1. 1. 'Thi'\n",
       "2. ' i'\n",
       "3. ' a '\n",
       "4. 'entence.'\n",
       "\n",
       "\n",
       "\n",
       "\n",
       "\n"
      ],
      "text/plain": [
       "[[1]]\n",
       "[1] \"Thi\"      \" i\"       \" a \"      \"entence.\"\n"
      ]
     },
     "metadata": {},
     "output_type": "display_data"
    },
    {
     "data": {
      "text/html": [
       "<ol>\n",
       "\t<li><ol class=list-inline>\n",
       "\t<li>'This is a s'</li>\n",
       "\t<li>'nt'</li>\n",
       "\t<li>'nc'</li>\n",
       "\t<li>'.'</li>\n",
       "</ol>\n",
       "</li>\n",
       "</ol>\n"
      ],
      "text/latex": [
       "\\begin{enumerate}\n",
       "\\item \\begin{enumerate*}\n",
       "\\item 'This is a s'\n",
       "\\item 'nt'\n",
       "\\item 'nc'\n",
       "\\item '.'\n",
       "\\end{enumerate*}\n",
       "\n",
       "\\end{enumerate}\n"
      ],
      "text/markdown": [
       "1. 1. 'This is a s'\n",
       "2. 'nt'\n",
       "3. 'nc'\n",
       "4. '.'\n",
       "\n",
       "\n",
       "\n",
       "\n",
       "\n"
      ],
      "text/plain": [
       "[[1]]\n",
       "[1] \"This is a s\" \"nt\"          \"nc\"          \".\"          \n"
      ]
     },
     "metadata": {},
     "output_type": "display_data"
    }
   ],
   "source": [
    "# Boundaries\n",
    "\n",
    "x <- \"This is a sentence.\"\n",
    "str_split(x, boundary(\"word\"))\n",
    "str_count(x, boundary(\"word\"))\n",
    "str_extract_all(x, boundary(\"word\"))\n",
    "\n",
    "# By convention, \"\" is treated as boundary(\"character\"):\n",
    "\n",
    "str_split(x, \"\")\n",
    "str_count(x, \"\")\n",
    "\n",
    "str_split(x, \" \") # separated by space\n",
    "str_split(x, \"s\") # Figure out\n",
    "str_split(x, \"e\") # Figure out"
   ]
  },
  {
   "cell_type": "code",
   "execution_count": null,
   "metadata": {
    "collapsed": true
   },
   "outputs": [],
   "source": []
  }
 ],
 "metadata": {
  "kernelspec": {
   "display_name": "R",
   "language": "R",
   "name": "ir"
  },
  "language_info": {
   "codemirror_mode": "r",
   "file_extension": ".r",
   "mimetype": "text/x-r-source",
   "name": "R",
   "pygments_lexer": "r",
   "version": "3.3.2"
  }
 },
 "nbformat": 4,
 "nbformat_minor": 2
}
