{
 "cells": [
  {
   "cell_type": "code",
   "execution_count": 62,
   "metadata": {},
   "outputs": [
    {
     "data": {
      "text/html": [
       "<table>\n",
       "<thead><tr><th scope=col>ESTACION</th><th scope=col>MAGNITUD</th><th scope=col>ANO</th><th scope=col>MES</th><th scope=col>DIA</th><th scope=col>HORA1</th><th scope=col>HORA2</th><th scope=col>HORA3</th><th scope=col>HORA4</th><th scope=col>HORA5</th><th scope=col>⋯</th><th scope=col>HORA15</th><th scope=col>HORA16</th><th scope=col>HORA17</th><th scope=col>HORA18</th><th scope=col>HORA19</th><th scope=col>HORA20</th><th scope=col>HORA21</th><th scope=col>HORA22</th><th scope=col>HORA23</th><th scope=col>HORA24</th></tr></thead>\n",
       "<tbody>\n",
       "\t<tr><td>COTOCOLLAO</td><td>LLU       </td><td>2008      </td><td>1         </td><td>1         </td><td>0         </td><td>0         </td><td>0         </td><td>0.0       </td><td>0.0       </td><td>⋯         </td><td>0         </td><td>0         </td><td>0         </td><td>0         </td><td>0         </td><td>0.2       </td><td>0.2       </td><td>0         </td><td>0.0       </td><td>0.0       </td></tr>\n",
       "\t<tr><td>COTOCOLLAO</td><td>LLU       </td><td>2008      </td><td>1         </td><td>2         </td><td>0         </td><td>0         </td><td>0         </td><td>0.0       </td><td>0.0       </td><td>⋯         </td><td>0         </td><td>0         </td><td>0         </td><td>0         </td><td>0         </td><td>0.0       </td><td>0.0       </td><td>0         </td><td>0.6       </td><td>0.7       </td></tr>\n",
       "\t<tr><td>COTOCOLLAO</td><td>LLU       </td><td>2008      </td><td>1         </td><td>3         </td><td>0         </td><td>0         </td><td>1         </td><td>0.2       </td><td>0.1       </td><td>⋯         </td><td>0         </td><td>0         </td><td>0         </td><td>0         </td><td>0         </td><td>0.0       </td><td>0.0       </td><td>0         </td><td>0.0       </td><td>0.0       </td></tr>\n",
       "\t<tr><td>COTOCOLLAO</td><td>LLU       </td><td>2008      </td><td>1         </td><td>4         </td><td>0         </td><td>0         </td><td>0         </td><td>0.0       </td><td>0.0       </td><td>⋯         </td><td>0         </td><td>0         </td><td>0         </td><td>0         </td><td>0         </td><td>0.0       </td><td>0.0       </td><td>0         </td><td>0.0       </td><td>0.0       </td></tr>\n",
       "\t<tr><td>COTOCOLLAO</td><td>LLU       </td><td>2008      </td><td>1         </td><td>5         </td><td>0         </td><td>0         </td><td>0         </td><td>0.0       </td><td>0.0       </td><td>⋯         </td><td>0         </td><td>0         </td><td>0         </td><td>0         </td><td>0         </td><td>0.0       </td><td>0.0       </td><td>0         </td><td>0.0       </td><td>0.0       </td></tr>\n",
       "\t<tr><td>COTOCOLLAO</td><td>LLU       </td><td>2008      </td><td>1         </td><td>6         </td><td>0         </td><td>0         </td><td>0         </td><td>0.0       </td><td>0.0       </td><td>⋯         </td><td>0         </td><td>0         </td><td>0         </td><td>0         </td><td>0         </td><td>0.0       </td><td>0.0       </td><td>0         </td><td>0.0       </td><td>0.0       </td></tr>\n",
       "</tbody>\n",
       "</table>\n"
      ],
      "text/latex": [
       "\\begin{tabular}{r|lllllllllllllllllllllllllllll}\n",
       " ESTACION & MAGNITUD & ANO & MES & DIA & HORA1 & HORA2 & HORA3 & HORA4 & HORA5 & ⋯ & HORA15 & HORA16 & HORA17 & HORA18 & HORA19 & HORA20 & HORA21 & HORA22 & HORA23 & HORA24\\\\\n",
       "\\hline\n",
       "\t COTOCOLLAO & LLU        & 2008       & 1          & 1          & 0          & 0          & 0          & 0.0        & 0.0        & ⋯          & 0          & 0          & 0          & 0          & 0          & 0.2        & 0.2        & 0          & 0.0        & 0.0       \\\\\n",
       "\t COTOCOLLAO & LLU        & 2008       & 1          & 2          & 0          & 0          & 0          & 0.0        & 0.0        & ⋯          & 0          & 0          & 0          & 0          & 0          & 0.0        & 0.0        & 0          & 0.6        & 0.7       \\\\\n",
       "\t COTOCOLLAO & LLU        & 2008       & 1          & 3          & 0          & 0          & 1          & 0.2        & 0.1        & ⋯          & 0          & 0          & 0          & 0          & 0          & 0.0        & 0.0        & 0          & 0.0        & 0.0       \\\\\n",
       "\t COTOCOLLAO & LLU        & 2008       & 1          & 4          & 0          & 0          & 0          & 0.0        & 0.0        & ⋯          & 0          & 0          & 0          & 0          & 0          & 0.0        & 0.0        & 0          & 0.0        & 0.0       \\\\\n",
       "\t COTOCOLLAO & LLU        & 2008       & 1          & 5          & 0          & 0          & 0          & 0.0        & 0.0        & ⋯          & 0          & 0          & 0          & 0          & 0          & 0.0        & 0.0        & 0          & 0.0        & 0.0       \\\\\n",
       "\t COTOCOLLAO & LLU        & 2008       & 1          & 6          & 0          & 0          & 0          & 0.0        & 0.0        & ⋯          & 0          & 0          & 0          & 0          & 0          & 0.0        & 0.0        & 0          & 0.0        & 0.0       \\\\\n",
       "\\end{tabular}\n"
      ],
      "text/markdown": [
       "\n",
       "ESTACION | MAGNITUD | ANO | MES | DIA | HORA1 | HORA2 | HORA3 | HORA4 | HORA5 | ⋯ | HORA15 | HORA16 | HORA17 | HORA18 | HORA19 | HORA20 | HORA21 | HORA22 | HORA23 | HORA24 | \n",
       "|---|---|---|---|---|---|\n",
       "| COTOCOLLAO | LLU        | 2008       | 1          | 1          | 0          | 0          | 0          | 0.0        | 0.0        | ⋯          | 0          | 0          | 0          | 0          | 0          | 0.2        | 0.2        | 0          | 0.0        | 0.0        | \n",
       "| COTOCOLLAO | LLU        | 2008       | 1          | 2          | 0          | 0          | 0          | 0.0        | 0.0        | ⋯          | 0          | 0          | 0          | 0          | 0          | 0.0        | 0.0        | 0          | 0.6        | 0.7        | \n",
       "| COTOCOLLAO | LLU        | 2008       | 1          | 3          | 0          | 0          | 1          | 0.2        | 0.1        | ⋯          | 0          | 0          | 0          | 0          | 0          | 0.0        | 0.0        | 0          | 0.0        | 0.0        | \n",
       "| COTOCOLLAO | LLU        | 2008       | 1          | 4          | 0          | 0          | 0          | 0.0        | 0.0        | ⋯          | 0          | 0          | 0          | 0          | 0          | 0.0        | 0.0        | 0          | 0.0        | 0.0        | \n",
       "| COTOCOLLAO | LLU        | 2008       | 1          | 5          | 0          | 0          | 0          | 0.0        | 0.0        | ⋯          | 0          | 0          | 0          | 0          | 0          | 0.0        | 0.0        | 0          | 0.0        | 0.0        | \n",
       "| COTOCOLLAO | LLU        | 2008       | 1          | 6          | 0          | 0          | 0          | 0.0        | 0.0        | ⋯          | 0          | 0          | 0          | 0          | 0          | 0.0        | 0.0        | 0          | 0.0        | 0.0        | \n",
       "\n",
       "\n"
      ],
      "text/plain": [
       "  ESTACION   MAGNITUD ANO  MES DIA HORA1 HORA2 HORA3 HORA4 HORA5 ⋯ HORA15\n",
       "1 COTOCOLLAO LLU      2008 1   1   0     0     0     0.0   0.0   ⋯ 0     \n",
       "2 COTOCOLLAO LLU      2008 1   2   0     0     0     0.0   0.0   ⋯ 0     \n",
       "3 COTOCOLLAO LLU      2008 1   3   0     0     1     0.2   0.1   ⋯ 0     \n",
       "4 COTOCOLLAO LLU      2008 1   4   0     0     0     0.0   0.0   ⋯ 0     \n",
       "5 COTOCOLLAO LLU      2008 1   5   0     0     0     0.0   0.0   ⋯ 0     \n",
       "6 COTOCOLLAO LLU      2008 1   6   0     0     0     0.0   0.0   ⋯ 0     \n",
       "  HORA16 HORA17 HORA18 HORA19 HORA20 HORA21 HORA22 HORA23 HORA24\n",
       "1 0      0      0      0      0.2    0.2    0      0.0    0.0   \n",
       "2 0      0      0      0      0.0    0.0    0      0.6    0.7   \n",
       "3 0      0      0      0      0.0    0.0    0      0.0    0.0   \n",
       "4 0      0      0      0      0.0    0.0    0      0.0    0.0   \n",
       "5 0      0      0      0      0.0    0.0    0      0.0    0.0   \n",
       "6 0      0      0      0      0.0    0.0    0      0.0    0.0   "
      ]
     },
     "metadata": {},
     "output_type": "display_data"
    },
    {
     "data": {
      "text/html": [
       "<table>\n",
       "<thead><tr><th></th><th scope=col>ESTACION</th><th scope=col>MAGNITUD</th><th scope=col>ANO</th><th scope=col>MES</th><th scope=col>DIA</th><th scope=col>time</th><th scope=col>HORA</th><th scope=col>id</th></tr></thead>\n",
       "<tbody>\n",
       "\t<tr><th scope=row>6278.1</th><td>BELISARIO</td><td>LLU      </td><td>2008     </td><td>1        </td><td>1        </td><td>1        </td><td>0        </td><td>6278     </td></tr>\n",
       "\t<tr><th scope=row>6278.2</th><td>BELISARIO</td><td>LLU      </td><td>2008     </td><td>1        </td><td>1        </td><td>2        </td><td>0        </td><td>6278     </td></tr>\n",
       "\t<tr><th scope=row>6278.3</th><td>BELISARIO</td><td>LLU      </td><td>2008     </td><td>1        </td><td>1        </td><td>3        </td><td>0        </td><td>6278     </td></tr>\n",
       "\t<tr><th scope=row>6278.4</th><td>BELISARIO</td><td>LLU      </td><td>2008     </td><td>1        </td><td>1        </td><td>4        </td><td>0        </td><td>6278     </td></tr>\n",
       "\t<tr><th scope=row>6278.5</th><td>BELISARIO</td><td>LLU      </td><td>2008     </td><td>1        </td><td>1        </td><td>5        </td><td>0        </td><td>6278     </td></tr>\n",
       "\t<tr><th scope=row>6278.6</th><td>BELISARIO</td><td>LLU      </td><td>2008     </td><td>1        </td><td>1        </td><td>6        </td><td>0        </td><td>6278     </td></tr>\n",
       "</tbody>\n",
       "</table>\n"
      ],
      "text/latex": [
       "\\begin{tabular}{r|llllllll}\n",
       "  & ESTACION & MAGNITUD & ANO & MES & DIA & time & HORA & id\\\\\n",
       "\\hline\n",
       "\t6278.1 & BELISARIO & LLU       & 2008      & 1         & 1         & 1         & 0         & 6278     \\\\\n",
       "\t6278.2 & BELISARIO & LLU       & 2008      & 1         & 1         & 2         & 0         & 6278     \\\\\n",
       "\t6278.3 & BELISARIO & LLU       & 2008      & 1         & 1         & 3         & 0         & 6278     \\\\\n",
       "\t6278.4 & BELISARIO & LLU       & 2008      & 1         & 1         & 4         & 0         & 6278     \\\\\n",
       "\t6278.5 & BELISARIO & LLU       & 2008      & 1         & 1         & 5         & 0         & 6278     \\\\\n",
       "\t6278.6 & BELISARIO & LLU       & 2008      & 1         & 1         & 6         & 0         & 6278     \\\\\n",
       "\\end{tabular}\n"
      ],
      "text/markdown": [
       "\n",
       "| <!--/--> | ESTACION | MAGNITUD | ANO | MES | DIA | time | HORA | id | \n",
       "|---|---|---|---|---|---|\n",
       "| 6278.1 | BELISARIO | LLU       | 2008      | 1         | 1         | 1         | 0         | 6278      | \n",
       "| 6278.2 | BELISARIO | LLU       | 2008      | 1         | 1         | 2         | 0         | 6278      | \n",
       "| 6278.3 | BELISARIO | LLU       | 2008      | 1         | 1         | 3         | 0         | 6278      | \n",
       "| 6278.4 | BELISARIO | LLU       | 2008      | 1         | 1         | 4         | 0         | 6278      | \n",
       "| 6278.5 | BELISARIO | LLU       | 2008      | 1         | 1         | 5         | 0         | 6278      | \n",
       "| 6278.6 | BELISARIO | LLU       | 2008      | 1         | 1         | 6         | 0         | 6278      | \n",
       "\n",
       "\n"
      ],
      "text/plain": [
       "       ESTACION  MAGNITUD ANO  MES DIA time HORA id  \n",
       "6278.1 BELISARIO LLU      2008 1   1   1    0    6278\n",
       "6278.2 BELISARIO LLU      2008 1   1   2    0    6278\n",
       "6278.3 BELISARIO LLU      2008 1   1   3    0    6278\n",
       "6278.4 BELISARIO LLU      2008 1   1   4    0    6278\n",
       "6278.5 BELISARIO LLU      2008 1   1   5    0    6278\n",
       "6278.6 BELISARIO LLU      2008 1   1   6    0    6278"
      ]
     },
     "metadata": {},
     "output_type": "display_data"
    }
   ],
   "source": [
    "# TRANSFORMATION\n",
    "\n",
    "# It is often said that 80% of data analysis is spent on the cleaning and preparing data.\n",
    "\n",
    "# Happy families are all alike; every unhappy family is unhappy in its own way - Leo Tolstoy\n",
    "\n",
    "# Like families, tidy datasets are all alike but every messy dataset is messy in its own way. \n",
    "\n",
    "# Tidy data is a standard way of mapping the meaning of a dataset to its structure. \n",
    "# A dataset is messy or tidy depending on how rows, columns and tables are matched \n",
    "# up with observations, variables and types. In tidy data:\n",
    "\n",
    "# 1. Each variable forms a column.\n",
    "# 2. Each observation forms a row.\n",
    "# 3. Each type of observational unit forms a table.\n",
    "\n",
    "# Source: https://cran.r-project.org/web/packages/tidyr/vignettes/tidy-data.html\n",
    "\n",
    "# Let us work an example \n",
    "# Data: http://www.quitoambiente.gob.ec/ambiente/index.php/datos-horarios-historicos\n",
    "# Data is en excel files (xls)\n",
    "# We need to work on the file column names, no spaces, no special characters\n",
    "# Here you can download a zip file with the data to be used\n",
    "# https://drive.google.com/file/d/0B-dmEvN59Z2ZYWhJWXhvMExFRjQ/view?usp=sharing\n",
    "# Open a file to see its content\n",
    "\n",
    "# To read an xls file install\n",
    "# install.packages(\"gdata\") # read xls\n",
    "# install addtiontal libraries\n",
    "# install.packages(\"tidyr\") # drop_na\n",
    "# install.packages(\"plyr\") # join_all\n",
    "# install.packages(\"stringr\")\n",
    "# install.packages(\"dplyr\") # filter data\n",
    "\n",
    "library(gdata) # load gdata package, install first see above\n",
    "\n",
    "# Read data\n",
    "data <- read.xls(\"00precipitation.mm.xls\")\n",
    "head(data)\n",
    "\n",
    "# Reshape data\n",
    "r_data <- reshape(data, direction=\"long\", sep='', varying=paste0('HORA', 1:24))\n",
    "\n",
    "# Attach data\n",
    "attach(r_data)\n",
    "\n",
    "# Sort data\n",
    "ord_data<-r_data[order(ESTACION, ANO, MES, DIA, time),]\n",
    "\n",
    "head(ord_data)\n",
    "\n",
    "# detach the database, important if you want to attach a similar data.frame\n",
    "detach(r_data)"
   ]
  },
  {
   "cell_type": "code",
   "execution_count": 63,
   "metadata": {},
   "outputs": [
    {
     "data": {
      "text/html": [
       "<table>\n",
       "<thead><tr><th></th><th scope=col>ESTACION</th><th scope=col>MAGNITUD</th><th scope=col>ANO</th><th scope=col>MES</th><th scope=col>DIA</th><th scope=col>time</th><th scope=col>HORA</th><th scope=col>id</th><th scope=col>fecha</th><th scope=col>hora</th><th scope=col>fh</th></tr></thead>\n",
       "<tbody>\n",
       "\t<tr><th scope=row>6278.1</th><td>BELISARIO         </td><td>LLU               </td><td>2008              </td><td>1                 </td><td>1                 </td><td>1                 </td><td>0                 </td><td>6278              </td><td>1/01/2008         </td><td>00:00:00          </td><td>1/01/2008 00:00:00</td></tr>\n",
       "\t<tr><th scope=row>6278.2</th><td>BELISARIO         </td><td>LLU               </td><td>2008              </td><td>1                 </td><td>1                 </td><td>2                 </td><td>0                 </td><td>6278              </td><td>1/01/2008         </td><td>01:00:00          </td><td>1/01/2008 01:00:00</td></tr>\n",
       "\t<tr><th scope=row>6278.3</th><td>BELISARIO         </td><td>LLU               </td><td>2008              </td><td>1                 </td><td>1                 </td><td>3                 </td><td>0                 </td><td>6278              </td><td>1/01/2008         </td><td>02:00:00          </td><td>1/01/2008 02:00:00</td></tr>\n",
       "\t<tr><th scope=row>6278.4</th><td>BELISARIO         </td><td>LLU               </td><td>2008              </td><td>1                 </td><td>1                 </td><td>4                 </td><td>0                 </td><td>6278              </td><td>1/01/2008         </td><td>03:00:00          </td><td>1/01/2008 03:00:00</td></tr>\n",
       "\t<tr><th scope=row>6278.5</th><td>BELISARIO         </td><td>LLU               </td><td>2008              </td><td>1                 </td><td>1                 </td><td>5                 </td><td>0                 </td><td>6278              </td><td>1/01/2008         </td><td>04:00:00          </td><td>1/01/2008 04:00:00</td></tr>\n",
       "\t<tr><th scope=row>6278.6</th><td>BELISARIO         </td><td>LLU               </td><td>2008              </td><td>1                 </td><td>1                 </td><td>6                 </td><td>0                 </td><td>6278              </td><td>1/01/2008         </td><td>05:00:00          </td><td>1/01/2008 05:00:00</td></tr>\n",
       "</tbody>\n",
       "</table>\n"
      ],
      "text/latex": [
       "\\begin{tabular}{r|lllllllllll}\n",
       "  & ESTACION & MAGNITUD & ANO & MES & DIA & time & HORA & id & fecha & hora & fh\\\\\n",
       "\\hline\n",
       "\t6278.1 & BELISARIO          & LLU                & 2008               & 1                  & 1                  & 1                  & 0                  & 6278               & 1/01/2008          & 00:00:00           & 1/01/2008 00:00:00\\\\\n",
       "\t6278.2 & BELISARIO          & LLU                & 2008               & 1                  & 1                  & 2                  & 0                  & 6278               & 1/01/2008          & 01:00:00           & 1/01/2008 01:00:00\\\\\n",
       "\t6278.3 & BELISARIO          & LLU                & 2008               & 1                  & 1                  & 3                  & 0                  & 6278               & 1/01/2008          & 02:00:00           & 1/01/2008 02:00:00\\\\\n",
       "\t6278.4 & BELISARIO          & LLU                & 2008               & 1                  & 1                  & 4                  & 0                  & 6278               & 1/01/2008          & 03:00:00           & 1/01/2008 03:00:00\\\\\n",
       "\t6278.5 & BELISARIO          & LLU                & 2008               & 1                  & 1                  & 5                  & 0                  & 6278               & 1/01/2008          & 04:00:00           & 1/01/2008 04:00:00\\\\\n",
       "\t6278.6 & BELISARIO          & LLU                & 2008               & 1                  & 1                  & 6                  & 0                  & 6278               & 1/01/2008          & 05:00:00           & 1/01/2008 05:00:00\\\\\n",
       "\\end{tabular}\n"
      ],
      "text/markdown": [
       "\n",
       "| <!--/--> | ESTACION | MAGNITUD | ANO | MES | DIA | time | HORA | id | fecha | hora | fh | \n",
       "|---|---|---|---|---|---|\n",
       "| 6278.1 | BELISARIO          | LLU                | 2008               | 1                  | 1                  | 1                  | 0                  | 6278               | 1/01/2008          | 00:00:00           | 1/01/2008 00:00:00 | \n",
       "| 6278.2 | BELISARIO          | LLU                | 2008               | 1                  | 1                  | 2                  | 0                  | 6278               | 1/01/2008          | 01:00:00           | 1/01/2008 01:00:00 | \n",
       "| 6278.3 | BELISARIO          | LLU                | 2008               | 1                  | 1                  | 3                  | 0                  | 6278               | 1/01/2008          | 02:00:00           | 1/01/2008 02:00:00 | \n",
       "| 6278.4 | BELISARIO          | LLU                | 2008               | 1                  | 1                  | 4                  | 0                  | 6278               | 1/01/2008          | 03:00:00           | 1/01/2008 03:00:00 | \n",
       "| 6278.5 | BELISARIO          | LLU                | 2008               | 1                  | 1                  | 5                  | 0                  | 6278               | 1/01/2008          | 04:00:00           | 1/01/2008 04:00:00 | \n",
       "| 6278.6 | BELISARIO          | LLU                | 2008               | 1                  | 1                  | 6                  | 0                  | 6278               | 1/01/2008          | 05:00:00           | 1/01/2008 05:00:00 | \n",
       "\n",
       "\n"
      ],
      "text/plain": [
       "       ESTACION  MAGNITUD ANO  MES DIA time HORA id   fecha     hora    \n",
       "6278.1 BELISARIO LLU      2008 1   1   1    0    6278 1/01/2008 00:00:00\n",
       "6278.2 BELISARIO LLU      2008 1   1   2    0    6278 1/01/2008 01:00:00\n",
       "6278.3 BELISARIO LLU      2008 1   1   3    0    6278 1/01/2008 02:00:00\n",
       "6278.4 BELISARIO LLU      2008 1   1   4    0    6278 1/01/2008 03:00:00\n",
       "6278.5 BELISARIO LLU      2008 1   1   5    0    6278 1/01/2008 04:00:00\n",
       "6278.6 BELISARIO LLU      2008 1   1   6    0    6278 1/01/2008 05:00:00\n",
       "       fh                \n",
       "6278.1 1/01/2008 00:00:00\n",
       "6278.2 1/01/2008 01:00:00\n",
       "6278.3 1/01/2008 02:00:00\n",
       "6278.4 1/01/2008 03:00:00\n",
       "6278.5 1/01/2008 04:00:00\n",
       "6278.6 1/01/2008 05:00:00"
      ]
     },
     "metadata": {},
     "output_type": "display_data"
    },
    {
     "data": {
      "text/html": [
       "<table>\n",
       "<thead><tr><th></th><th scope=col>Station</th><th scope=col>Date_time</th><th scope=col>precipitation.mm</th></tr></thead>\n",
       "<tbody>\n",
       "\t<tr><th scope=row>6278.1</th><td>BELISARIO         </td><td>1/01/2008 00:00:00</td><td>0                 </td></tr>\n",
       "\t<tr><th scope=row>6278.2</th><td>BELISARIO         </td><td>1/01/2008 01:00:00</td><td>0                 </td></tr>\n",
       "\t<tr><th scope=row>6278.3</th><td>BELISARIO         </td><td>1/01/2008 02:00:00</td><td>0                 </td></tr>\n",
       "\t<tr><th scope=row>6278.4</th><td>BELISARIO         </td><td>1/01/2008 03:00:00</td><td>0                 </td></tr>\n",
       "\t<tr><th scope=row>6278.5</th><td>BELISARIO         </td><td>1/01/2008 04:00:00</td><td>0                 </td></tr>\n",
       "\t<tr><th scope=row>6278.6</th><td>BELISARIO         </td><td>1/01/2008 05:00:00</td><td>0                 </td></tr>\n",
       "</tbody>\n",
       "</table>\n"
      ],
      "text/latex": [
       "\\begin{tabular}{r|lll}\n",
       "  & Station & Date\\_time & precipitation.mm\\\\\n",
       "\\hline\n",
       "\t6278.1 & BELISARIO          & 1/01/2008 00:00:00 & 0                 \\\\\n",
       "\t6278.2 & BELISARIO          & 1/01/2008 01:00:00 & 0                 \\\\\n",
       "\t6278.3 & BELISARIO          & 1/01/2008 02:00:00 & 0                 \\\\\n",
       "\t6278.4 & BELISARIO          & 1/01/2008 03:00:00 & 0                 \\\\\n",
       "\t6278.5 & BELISARIO          & 1/01/2008 04:00:00 & 0                 \\\\\n",
       "\t6278.6 & BELISARIO          & 1/01/2008 05:00:00 & 0                 \\\\\n",
       "\\end{tabular}\n"
      ],
      "text/markdown": [
       "\n",
       "| <!--/--> | Station | Date_time | precipitation.mm | \n",
       "|---|---|---|---|---|---|\n",
       "| 6278.1 | BELISARIO          | 1/01/2008 00:00:00 | 0                  | \n",
       "| 6278.2 | BELISARIO          | 1/01/2008 01:00:00 | 0                  | \n",
       "| 6278.3 | BELISARIO          | 1/01/2008 02:00:00 | 0                  | \n",
       "| 6278.4 | BELISARIO          | 1/01/2008 03:00:00 | 0                  | \n",
       "| 6278.5 | BELISARIO          | 1/01/2008 04:00:00 | 0                  | \n",
       "| 6278.6 | BELISARIO          | 1/01/2008 05:00:00 | 0                  | \n",
       "\n",
       "\n"
      ],
      "text/plain": [
       "       Station   Date_time          precipitation.mm\n",
       "6278.1 BELISARIO 1/01/2008 00:00:00 0               \n",
       "6278.2 BELISARIO 1/01/2008 01:00:00 0               \n",
       "6278.3 BELISARIO 1/01/2008 02:00:00 0               \n",
       "6278.4 BELISARIO 1/01/2008 03:00:00 0               \n",
       "6278.5 BELISARIO 1/01/2008 04:00:00 0               \n",
       "6278.6 BELISARIO 1/01/2008 05:00:00 0               "
      ]
     },
     "metadata": {},
     "output_type": "display_data"
    }
   ],
   "source": [
    "# We will do some string concatenations to build a date column\n",
    "\n",
    "# import package to manipulate strings\n",
    "library(stringr)\n",
    "\n",
    "# Create column with date\n",
    "ord_data$fecha<-paste(as.character(ord_data$DIA), str_pad(as.character(ord_data$MES), 2, pad='0'), \n",
    "                       str_pad(as.character(ord_data$ANO), 2, pad='0'), sep='/')\n",
    "\n",
    "# Create column with time\n",
    "ord_data$hora<-paste(str_pad(as.character(ord_data$time-1), 2, pad='0'), ':00:00', sep=\"\")\n",
    "\n",
    "# Create column with both date and time\n",
    "ord_data$fh<-paste(ord_data$fecha, ord_data$hora, sep=\" \")\n",
    "head(ord_data)\n",
    "\n",
    "# Create dataframe with Statation, Date_time, and Value\n",
    "final_data<-ord_data[,c(1,11,7)]\n",
    "# Assign the proper column names\n",
    "colnames(final_data) <- c(\"Station\", \"Date_time\", \"precipitation.mm\") # AUTOMATIZAR VAR colname\n",
    "head(final_data)\n",
    "\n",
    "# Write the result in a csv file\n",
    "write.csv(final_data, file=\"00precipitation.mm.csv\", row.names=F) # AUTOMATIZAR file name"
   ]
  },
  {
   "cell_type": "code",
   "execution_count": 20,
   "metadata": {
    "collapsed": true
   },
   "outputs": [],
   "source": [
    "# Repeat the process above for wind_direction.deg, wind_speed.ms and pm25ugm3\n",
    "# You will end with 4 csv files"
   ]
  },
  {
   "cell_type": "code",
   "execution_count": 55,
   "metadata": {},
   "outputs": [
    {
     "data": {
      "text/html": [
       "<ol class=list-inline>\n",
       "\t<li>'00precipitation.mm.csv'</li>\n",
       "\t<li>'00wind_speed.ms.csv'</li>\n",
       "\t<li>'01wind_direction.deg.csv'</li>\n",
       "\t<li>'02wind_speed.ms.csv'</li>\n",
       "\t<li>'03pm25ugm3.csv'</li>\n",
       "</ol>\n"
      ],
      "text/latex": [
       "\\begin{enumerate*}\n",
       "\\item '00precipitation.mm.csv'\n",
       "\\item '00wind\\_speed.ms.csv'\n",
       "\\item '01wind\\_direction.deg.csv'\n",
       "\\item '02wind\\_speed.ms.csv'\n",
       "\\item '03pm25ugm3.csv'\n",
       "\\end{enumerate*}\n"
      ],
      "text/markdown": [
       "1. '00precipitation.mm.csv'\n",
       "2. '00wind_speed.ms.csv'\n",
       "3. '01wind_direction.deg.csv'\n",
       "4. '02wind_speed.ms.csv'\n",
       "5. '03pm25ugm3.csv'\n",
       "\n",
       "\n"
      ],
      "text/plain": [
       "[1] \"00precipitation.mm.csv\"   \"00wind_speed.ms.csv\"     \n",
       "[3] \"01wind_direction.deg.csv\" \"02wind_speed.ms.csv\"     \n",
       "[5] \"03pm25ugm3.csv\"          "
      ]
     },
     "metadata": {},
     "output_type": "display_data"
    },
    {
     "data": {
      "text/html": [
       "<ol class=list-inline>\n",
       "\t<li>'BELISARIO'</li>\n",
       "\t<li>'CARAPUNGO'</li>\n",
       "\t<li>'COTOCOLLAO'</li>\n",
       "\t<li>'EL CAMAL'</li>\n",
       "\t<li>'GUAMANI'</li>\n",
       "\t<li>'LOS CHILLOS'</li>\n",
       "\t<li>'TUMBACO'</li>\n",
       "</ol>\n"
      ],
      "text/latex": [
       "\\begin{enumerate*}\n",
       "\\item 'BELISARIO'\n",
       "\\item 'CARAPUNGO'\n",
       "\\item 'COTOCOLLAO'\n",
       "\\item 'EL CAMAL'\n",
       "\\item 'GUAMANI'\n",
       "\\item 'LOS CHILLOS'\n",
       "\\item 'TUMBACO'\n",
       "\\end{enumerate*}\n"
      ],
      "text/markdown": [
       "1. 'BELISARIO'\n",
       "2. 'CARAPUNGO'\n",
       "3. 'COTOCOLLAO'\n",
       "4. 'EL CAMAL'\n",
       "5. 'GUAMANI'\n",
       "6. 'LOS CHILLOS'\n",
       "7. 'TUMBACO'\n",
       "\n",
       "\n"
      ],
      "text/plain": [
       "[1] \"BELISARIO\"   \"CARAPUNGO\"   \"COTOCOLLAO\"  \"EL CAMAL\"    \"GUAMANI\"    \n",
       "[6] \"LOS CHILLOS\" \"TUMBACO\"    "
      ]
     },
     "metadata": {},
     "output_type": "display_data"
    },
    {
     "data": {
      "text/html": [
       "'BELISARIO'"
      ],
      "text/latex": [
       "'BELISARIO'"
      ],
      "text/markdown": [
       "'BELISARIO'"
      ],
      "text/plain": [
       "[1] \"BELISARIO\""
      ]
     },
     "metadata": {},
     "output_type": "display_data"
    }
   ],
   "source": [
    "# If you have not generated all csv files from the xls files above\n",
    "# Download from here: \n",
    "# https://drive.google.com/open?id=0B-dmEvN59Z2ZWTJBeENxMkE4WDg\n",
    "\n",
    "# Read all csv files to join\n",
    "# csv_list<-list.files(pattern=\"*.csv\")\n",
    "# I have more csv files in my directory and need better discrimination\n",
    "csv_list<-list.files(pattern='0.*.csv')\n",
    "csv_list\n",
    "\n",
    "# Create a list, here we will store a dataframe for each file\n",
    "my.data <- list()\n",
    "for (i in 1:length(csv_list)){\n",
    "    my.data[[i]] <- read.csv(csv_list[i]) \n",
    "}\n",
    "\n",
    "estaciones <- levels(factor(my.data[[1]]$Station)) # Get all station in first file/dataframe\n",
    "estaciones\n",
    "e1 <- estaciones[1] # Get the first station\n",
    "e1"
   ]
  },
  {
   "cell_type": "code",
   "execution_count": 65,
   "metadata": {},
   "outputs": [
    {
     "data": {
      "text/html": [
       "<table>\n",
       "<thead><tr><th scope=col>Date_time</th><th scope=col>rain.mm</th><th scope=col>wind_speed.ms</th><th scope=col>wind_direction.deg</th><th scope=col>velocidad</th><th scope=col>pm25ugm3</th></tr></thead>\n",
       "<tbody>\n",
       "\t<tr><td>1/01/2008 00:00:00</td><td>0                 </td><td>1.57              </td><td> 87.96            </td><td>1.57              </td><td>48.68             </td></tr>\n",
       "\t<tr><td>1/01/2008 01:00:00</td><td>0                 </td><td>1.53              </td><td> 72.26            </td><td>1.53              </td><td>97.01             </td></tr>\n",
       "\t<tr><td>1/01/2008 02:00:00</td><td>0                 </td><td>2.22              </td><td> 86.11            </td><td>2.22              </td><td>93.51             </td></tr>\n",
       "\t<tr><td>1/01/2008 03:00:00</td><td>0                 </td><td>1.85              </td><td> 76.69            </td><td>1.85              </td><td>61.88             </td></tr>\n",
       "\t<tr><td>1/01/2008 04:00:00</td><td>0                 </td><td>1.23              </td><td>107.54            </td><td>1.23              </td><td>41.20             </td></tr>\n",
       "\t<tr><td>1/01/2008 05:00:00</td><td>0                 </td><td>1.96              </td><td>103.30            </td><td>1.96              </td><td>37.75             </td></tr>\n",
       "</tbody>\n",
       "</table>\n"
      ],
      "text/latex": [
       "\\begin{tabular}{r|llllll}\n",
       " Date\\_time & rain.mm & wind\\_speed.ms & wind\\_direction.deg & velocidad & pm25ugm3\\\\\n",
       "\\hline\n",
       "\t 1/01/2008 00:00:00 & 0                  & 1.57               &  87.96             & 1.57               & 48.68             \\\\\n",
       "\t 1/01/2008 01:00:00 & 0                  & 1.53               &  72.26             & 1.53               & 97.01             \\\\\n",
       "\t 1/01/2008 02:00:00 & 0                  & 2.22               &  86.11             & 2.22               & 93.51             \\\\\n",
       "\t 1/01/2008 03:00:00 & 0                  & 1.85               &  76.69             & 1.85               & 61.88             \\\\\n",
       "\t 1/01/2008 04:00:00 & 0                  & 1.23               & 107.54             & 1.23               & 41.20             \\\\\n",
       "\t 1/01/2008 05:00:00 & 0                  & 1.96               & 103.30             & 1.96               & 37.75             \\\\\n",
       "\\end{tabular}\n"
      ],
      "text/markdown": [
       "\n",
       "Date_time | rain.mm | wind_speed.ms | wind_direction.deg | velocidad | pm25ugm3 | \n",
       "|---|---|---|---|---|---|\n",
       "| 1/01/2008 00:00:00 | 0                  | 1.57               |  87.96             | 1.57               | 48.68              | \n",
       "| 1/01/2008 01:00:00 | 0                  | 1.53               |  72.26             | 1.53               | 97.01              | \n",
       "| 1/01/2008 02:00:00 | 0                  | 2.22               |  86.11             | 2.22               | 93.51              | \n",
       "| 1/01/2008 03:00:00 | 0                  | 1.85               |  76.69             | 1.85               | 61.88              | \n",
       "| 1/01/2008 04:00:00 | 0                  | 1.23               | 107.54             | 1.23               | 41.20              | \n",
       "| 1/01/2008 05:00:00 | 0                  | 1.96               | 103.30             | 1.96               | 37.75              | \n",
       "\n",
       "\n"
      ],
      "text/plain": [
       "  Date_time          rain.mm wind_speed.ms wind_direction.deg velocidad\n",
       "1 1/01/2008 00:00:00 0       1.57           87.96             1.57     \n",
       "2 1/01/2008 01:00:00 0       1.53           72.26             1.53     \n",
       "3 1/01/2008 02:00:00 0       2.22           86.11             2.22     \n",
       "4 1/01/2008 03:00:00 0       1.85           76.69             1.85     \n",
       "5 1/01/2008 04:00:00 0       1.23          107.54             1.23     \n",
       "6 1/01/2008 05:00:00 0       1.96          103.30             1.96     \n",
       "  pm25ugm3\n",
       "1 48.68   \n",
       "2 97.01   \n",
       "3 93.51   \n",
       "4 61.88   \n",
       "5 41.20   \n",
       "6 37.75   "
      ]
     },
     "metadata": {},
     "output_type": "display_data"
    }
   ],
   "source": [
    "# Use the Station e1 to build names of files\n",
    "file_name<-paste(e1, \".csv\", sep=\"\")\n",
    "file_name_nmv <- paste(e1, \"_nmv.csv\", sep=\"\")\n",
    "\n",
    "library(dplyr) # filter data\n",
    "\n",
    "# Create new list to store data from a single station e1\n",
    "# We are filtering the data by station e1\n",
    "my.data.f <- list() \n",
    "# Loop through original data and filter by estation e1\n",
    "for (i in 1:length(my.data)) {\n",
    "    # my.data.t[[i]] <- my.data[[i]][my.data[[i]]$Station==e1,2:3]\n",
    "    my.data.f[[i]] <- filter(my.data[[i]], my.data[[i]]$Station == e1)[,2:3]\n",
    "}\n",
    "\n",
    "# load library to perform join \n",
    "library(plyr) # Do not forget to install\n",
    "\n",
    "# Perform a left join of filtered data using as key Date_time\n",
    "# if there are duplicated keys will keep the first match only\n",
    "j_data<-join_all(my.data.f, by='Date_time', type='left', match=\"first\")\n",
    "head(j_data)\n",
    "\n",
    "# Write file (the file names are taken from the Station name)\n",
    "write.csv(j_data, file=file_name, row.names=F)\n",
    "\n",
    "# load library to remove missing values\n",
    "library(tidyr)\n",
    "# Remove all missing values (not the best solution)\n",
    "rmv_data<-j_data %>% drop_na()\n",
    "\n",
    "# Write csv file without missing vales\n",
    "write.csv(rmv_data, file=file_name_nmv, row.names=F)\n",
    "\n",
    "# We will end up with the following files in the working directory\n",
    "# BELISARIO.csv\n",
    "# BELISARIO_nmv.csv\n",
    "\n",
    "# We have EXTRACTED data, and TRANSFORMED it\n",
    "# Now you have a nice csv file to \"LOAD\" \n",
    "# and perform analysis on your tidy data."
   ]
  },
  {
   "cell_type": "code",
   "execution_count": null,
   "metadata": {
    "collapsed": true
   },
   "outputs": [],
   "source": [
    "# Taller 0: Automatizar el proceso presentado en este notebook\n",
    "# Input: archivos xls con variables meteorológicas de Quito y PM2.5\n",
    "# Escriba un script que \n",
    "# 1. Liste los archivos xls\n",
    "# 2. Para cada archvio en 1\n",
    "#    Cargue y Transforme los datos según los pasos arriba\n",
    "#    Guarde un archivo csv con los datos transformados\n",
    "# 3. Liste y cargue los archivos csv generados en 2\n",
    "# 4. Para cada estación\n",
    "#    Cargue los datos\n",
    "#    Una los datos para cada estacion\n",
    "#    Escriba un archivo csv con los datos unidos\n",
    "#    Escriba un archivo csv con los datos sin valores faltantes\n",
    "# \n",
    "# Output:\n",
    "# 2 csv files por cada estación (con y sin valores faltantes)\n",
    "# Nota en el paso 2, puede usar el nombre del archivo xls para \n",
    "# indicar el nombre del archivo csv a generar así como el nombre\n",
    "# de la columna (variable) asociada a ese archivo.\n",
    "# Ej. 02wind_speed.ms.xls genera\n",
    "#     wind_speed.ms -> nombre de la columna\n",
    "#     02wind_speed.ms.csv -> nombre del archivo\n",
    "\n",
    "# Entrega: Domingo 3 de septiembre a las 23:59 por medio de SICUA."
   ]
  }
 ],
 "metadata": {
  "kernelspec": {
   "display_name": "R",
   "language": "R",
   "name": "ir"
  },
  "language_info": {
   "codemirror_mode": "r",
   "file_extension": ".r",
   "mimetype": "text/x-r-source",
   "name": "R",
   "pygments_lexer": "r",
   "version": "3.3.2"
  }
 },
 "nbformat": 4,
 "nbformat_minor": 2
}
