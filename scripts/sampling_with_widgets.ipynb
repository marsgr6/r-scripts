{
 "cells": [
  {
   "cell_type": "code",
   "execution_count": 1,
   "metadata": {},
   "outputs": [],
   "source": [
    "import ipywidgets as widgets\n",
    "from ipywidgets import interact\n",
    "\n",
    "import numpy as np\n",
    "import matplotlib.pyplot as plt\n",
    "from scipy.stats import uniform\n",
    "from scipy.stats import norm\n",
    "\n",
    "%matplotlib inline\n",
    "\n",
    "size = 10000\n",
    "\n",
    "n = [i+1 for i in range(10)]\n",
    "n += [10+(i+1)*10 for i in range(9)]\n",
    "n += [(i+2)*100 for i in range(4)] + [1000]\n",
    "\n",
    "\n",
    "def sample_uniform(sample_size):\n",
    "    a, b = 0, 1\n",
    "    m = (a+b)/2\n",
    "    v = (b-a)**2 / (12 * sample_size)\n",
    "    \n",
    "    U = uniform.rvs(a, b-a, size=(size,sample_size))  # uniform rvs\n",
    "    Um = np.mean(U, axis=1)  # mean of sample of size n\n",
    "\n",
    "    x = np.linspace(min(Um), max(Um), 100)  # normal rvs support\n",
    "    fx = norm.pdf(x, m, np.sqrt(v))  # evaluate normal pdf\n",
    "    \n",
    "    plt.figure(figsize=(10,7.5))\n",
    "\n",
    "    plt.hist(Um, bins=80, normed=True, facecolor='green', edgecolor='blue')\n",
    "    plt.plot(x, fx, '-r', linewidth=3, \n",
    "             label=r\"$\\mu=\"+str(round(m,2)) + \n",
    "             \", \\sigma=$\" + str(round(np.sqrt(v),4)))\n",
    "        \n",
    "    plt.legend()"
   ]
  },
  {
   "cell_type": "code",
   "execution_count": 2,
   "metadata": {},
   "outputs": [
    {
     "data": {
      "application/vnd.jupyter.widget-view+json": {
       "model_id": "bcd06d5271204a50b5295437168dcc8b",
       "version_major": 2,
       "version_minor": 0
      },
      "text/plain": [
       "A Jupyter Widget"
      ]
     },
     "metadata": {},
     "output_type": "display_data"
    },
    {
     "data": {
      "text/plain": [
       "<function __main__.sample_uniform>"
      ]
     },
     "execution_count": 2,
     "metadata": {},
     "output_type": "execute_result"
    }
   ],
   "source": [
    "interact(sample_uniform, sample_size=n)"
   ]
  }
 ],
 "metadata": {
  "kernelspec": {
   "display_name": "Python 3",
   "language": "python",
   "name": "python3"
  },
  "language_info": {
   "codemirror_mode": {
    "name": "ipython",
    "version": 3
   },
   "file_extension": ".py",
   "mimetype": "text/x-python",
   "name": "python",
   "nbconvert_exporter": "python",
   "pygments_lexer": "ipython3",
   "version": "3.6.3"
  }
 },
 "nbformat": 4,
 "nbformat_minor": 2
}
